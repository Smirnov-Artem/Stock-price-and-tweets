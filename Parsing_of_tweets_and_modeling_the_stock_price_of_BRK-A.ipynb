{
 "cells": [
  {
   "cell_type": "code",
   "execution_count": 1,
   "metadata": {},
   "outputs": [],
   "source": [
    "#Packages for Twitter data downloading\n",
    "import pandas as pd\n",
    "import numpy as np\n",
    "from sklearn.cluster import MiniBatchKMeans\n",
    "from sklearn.feature_extraction.text import TfidfVectorizer\n",
    "from sklearn.decomposition import PCA\n",
    "import matplotlib.pyplot as plt\n",
    "from bs4 import BeautifulSoup\n",
    "from urllib.request import urlopen\n",
    "import os\n",
    "import tweepy as tw\n",
    "import pandas as pd\n",
    "import re\n",
    "import time\n",
    "import datetime\n",
    "from datetime import datetime\n",
    "\n",
    "#Packages for text processing\n",
    "import en_core_web_sm\n",
    "from nltk.tokenize import RegexpTokenizer, WhitespaceTokenizer\n",
    "from nltk.stem import WordNetLemmatizer\n",
    "from nltk.corpus import stopwords\n",
    "import string\n",
    "\n",
    "#Data Source\n",
    "import yfinance as yf\n",
    "\n",
    "#Data Visualization\n",
    "import plotly.graph_objs as go\n",
    "import plotly.graph_objects as go\n",
    "from plotly.subplots import make_subplots\n",
    "import plotly.express as px\n",
    "import requests\n",
    "import os\n",
    "import json\n",
    "import dateutil.parser\n",
    "import unicodedata\n",
    "import dateutil.parser\n",
    "import matplotlib.pyplot as plt\n",
    "from statsmodels.graphics.tsaplots import plot_acf\n",
    "from statsmodels.graphics.tsaplots import plot_pacf\n",
    "plt.style.use('fivethirtyeight')\n",
    "plt.rcParams['lines.linewidth'] = 1.5\n",
    "%matplotlib inline\n",
    "\n",
    "#Modeling using Catboost\n",
    "from catboost import CatBoostRegressor\n",
    "from skforecast.ForecasterAutoreg import ForecasterAutoreg\n",
    "from skforecast.ForecasterAutoregMultiOutput import ForecasterAutoregMultiOutput\n",
    "from skforecast.model_selection import grid_search_forecaster\n",
    "from skforecast.model_selection import backtesting_forecaster\n",
    "import skforecast\n",
    "from sklearn.preprocessing import OneHotEncoder\n",
    "from sklearn.preprocessing import StandardScaler\n",
    "from sklearn.compose import ColumnTransformer\n",
    "from sklearn.pipeline import make_pipeline\n",
    "from sklearn.metrics import r2_score\n",
    "from joblib import dump, load\n",
    "import warnings\n",
    "warnings.filterwarnings('ignore')\n",
    "%config Completer.use_jedi = False"
   ]
  },
  {
   "cell_type": "code",
   "execution_count": 2,
   "metadata": {},
   "outputs": [],
   "source": [
    "consumer_key= 'your consumer_key'\n",
    "consumer_secret= 'your consumer_secret'"
   ]
  },
  {
   "cell_type": "code",
   "execution_count": 3,
   "metadata": {},
   "outputs": [],
   "source": [
    "auth = tw.OAuthHandler(consumer_key, consumer_secret)\n",
    "api = tw.API(auth, wait_on_rate_limit=True)"
   ]
  },
  {
   "cell_type": "code",
   "execution_count": 4,
   "metadata": {},
   "outputs": [],
   "source": [
    "auth = tw.OAuthHandler(consumer_key, consumer_secret)\n",
    "api = tw.API(auth)"
   ]
  },
  {
   "cell_type": "code",
   "execution_count": 5,
   "metadata": {},
   "outputs": [],
   "source": [
    "os.environ['TOKEN'] = ''"
   ]
  },
  {
   "cell_type": "code",
   "execution_count": 6,
   "metadata": {},
   "outputs": [],
   "source": [
    "def auth():\n",
    "    return os.getenv('TOKEN')"
   ]
  },
  {
   "cell_type": "code",
   "execution_count": 7,
   "metadata": {},
   "outputs": [],
   "source": [
    "def create_headers(bearer_token):\n",
    "    headers = {\"Authorization\": \"Bearer {}\".format(bearer_token)}\n",
    "    return headers"
   ]
  },
  {
   "cell_type": "code",
   "execution_count": 11,
   "metadata": {},
   "outputs": [],
   "source": [
    "def create_url(keyword, start_date, end_date, max_results = 10):\n",
    "    search_url = \"https://api.twitter.com/2/tweets/search/recent\"\n",
    "    query_params = {'query': keyword,\n",
    "                    'start_time': start_date,\n",
    "                    'end_time': end_date,\n",
    "                    'max_results': max_results,\n",
    "                    'expansions': 'author_id,in_reply_to_user_id,geo.place_id',\n",
    "                    'tweet.fields': 'id,text,author_id,in_reply_to_user_id,geo,conversation_id,created_at,lang,public_metrics,referenced_tweets,reply_settings,source',\n",
    "                    'user.fields': 'id,name,username,created_at,description,public_metrics,verified',\n",
    "                    'place.fields': 'full_name,id,country,country_code,geo,name,place_type',\n",
    "                    'next_token': {}}\n",
    "    return (search_url, query_params)"
   ]
  },
  {
   "cell_type": "code",
   "execution_count": 12,
   "metadata": {},
   "outputs": [],
   "source": [
    "def connect_to_endpoint(url, headers, params, next_token = None):\n",
    "    params['next_token'] = next_token\n",
    "    response = requests.request(\"GET\", url, headers = headers, params = params)\n",
    "    print(\"Endpoint Response Code: \" + str(response.status_code))\n",
    "    if response.status_code != 200:\n",
    "        raise Exception(response.status_code, response.text)\n",
    "    return response.json()"
   ]
  },
  {
   "cell_type": "code",
   "execution_count": 13,
   "metadata": {},
   "outputs": [],
   "source": [
    "bearer_token = auth()\n",
    "headers = create_headers(bearer_token)\n",
    "keyword = \"xbox lang:eng\"\n",
    "max_results = 100\n",
    "start_time = \"2022-04-04T14:30:00.000Z\"\n",
    "key_word = 'Berkshire Hathaway'"
   ]
  },
  {
   "cell_type": "code",
   "execution_count": 15,
   "metadata": {},
   "outputs": [],
   "source": [
    "def current_time(end):\n",
    "    end_time = end\n",
    "    return (end_time)"
   ]
  },
  {
   "cell_type": "code",
   "execution_count": 16,
   "metadata": {},
   "outputs": [],
   "source": [
    "def json(end):\n",
    "    url = create_url(key_word, start_time,current_time(end), max_results)\n",
    "    json_response = connect_to_endpoint(url[0], headers, url[1])\n",
    "    return json_response"
   ]
  },
  {
   "cell_type": "code",
   "execution_count": 17,
   "metadata": {},
   "outputs": [],
   "source": [
    "def create_df(end):\n",
    "    list_of_lists = []\n",
    "    json_response = json(end)\n",
    "    for i in range(0,len(json_response['data'])):\n",
    "        list_of_lists.append([json_response['data'][i]['created_at'], json_response['data'][i]['public_metrics'].get('retweet_count'), json_response['data'][i]['public_metrics'].get('reply_count'), json_response['data'][i]['public_metrics'].get('like_count'), json_response['data'][i]['public_metrics'].get('quote_count'), json_response['data'][i]['text']])\n",
    "    \n",
    "    df_temporary = pd.DataFrame(list_of_lists, columns=['created_at', 'retweet_count', 'reply_count', 'like_count', 'quote_count', 'text'])\n",
    "    end = df_temporary['created_at'].iloc[-1]\n",
    "    return df_temporary, end;"
   ]
  },
  {
   "cell_type": "code",
   "execution_count": null,
   "metadata": {},
   "outputs": [],
   "source": [
    "end = \"2022-04-05T09:00:00.000Z\"\n",
    "df1, end = create_df(end)\n",
    "q=0\n",
    "dataframes_list = []\n",
    "\n",
    "while(q<500):\n",
    "    df2, end = create_df(end)\n",
    "    dataframes_list.append(df2)\n",
    "    q+=1"
   ]
  },
  {
   "cell_type": "code",
   "execution_count": 79,
   "metadata": {},
   "outputs": [],
   "source": [
    "df_monday = pd.concat(dataframes_list)"
   ]
  },
  {
   "cell_type": "code",
   "execution_count": 17,
   "metadata": {},
   "outputs": [],
   "source": [
    "df_ = []\n",
    "frames = [df_monday, df_thuesday, df_wednesday, df_thursday, df_friday]\n",
    "df_ = pd.concat(frames)"
   ]
  },
  {
   "cell_type": "code",
   "execution_count": 24,
   "metadata": {},
   "outputs": [
    {
     "data": {
      "text/html": [
       "<div>\n",
       "<style scoped>\n",
       "    .dataframe tbody tr th:only-of-type {\n",
       "        vertical-align: middle;\n",
       "    }\n",
       "\n",
       "    .dataframe tbody tr th {\n",
       "        vertical-align: top;\n",
       "    }\n",
       "\n",
       "    .dataframe thead th {\n",
       "        text-align: right;\n",
       "    }\n",
       "</style>\n",
       "<table border=\"1\" class=\"dataframe\">\n",
       "  <thead>\n",
       "    <tr style=\"text-align: right;\">\n",
       "      <th></th>\n",
       "      <th>created_at</th>\n",
       "      <th>retweet_count</th>\n",
       "      <th>reply_count</th>\n",
       "      <th>like_count</th>\n",
       "      <th>quote_count</th>\n",
       "      <th>text</th>\n",
       "    </tr>\n",
       "  </thead>\n",
       "  <tbody>\n",
       "    <tr>\n",
       "      <th>0</th>\n",
       "      <td>2022-04-04T20:59:11.000Z</td>\n",
       "      <td>388</td>\n",
       "      <td>0</td>\n",
       "      <td>0</td>\n",
       "      <td>0</td>\n",
       "      <td>RT @BetteMidler: Take a look at the subsidies ...</td>\n",
       "    </tr>\n",
       "    <tr>\n",
       "      <th>1</th>\n",
       "      <td>2022-04-04T20:58:39.000Z</td>\n",
       "      <td>388</td>\n",
       "      <td>0</td>\n",
       "      <td>0</td>\n",
       "      <td>0</td>\n",
       "      <td>RT @BetteMidler: Take a look at the subsidies ...</td>\n",
       "    </tr>\n",
       "    <tr>\n",
       "      <th>2</th>\n",
       "      <td>2022-04-04T20:56:59.000Z</td>\n",
       "      <td>2797</td>\n",
       "      <td>0</td>\n",
       "      <td>0</td>\n",
       "      <td>0</td>\n",
       "      <td>RT @Legit_airdropz: New airdrop: ⭕️Crypto's “B...</td>\n",
       "    </tr>\n",
       "    <tr>\n",
       "      <th>3</th>\n",
       "      <td>2022-04-04T20:56:54.000Z</td>\n",
       "      <td>388</td>\n",
       "      <td>0</td>\n",
       "      <td>0</td>\n",
       "      <td>0</td>\n",
       "      <td>RT @BetteMidler: Take a look at the subsidies ...</td>\n",
       "    </tr>\n",
       "    <tr>\n",
       "      <th>4</th>\n",
       "      <td>2022-04-04T20:56:45.000Z</td>\n",
       "      <td>388</td>\n",
       "      <td>0</td>\n",
       "      <td>0</td>\n",
       "      <td>0</td>\n",
       "      <td>RT @BetteMidler: Take a look at the subsidies ...</td>\n",
       "    </tr>\n",
       "    <tr>\n",
       "      <th>...</th>\n",
       "      <td>...</td>\n",
       "      <td>...</td>\n",
       "      <td>...</td>\n",
       "      <td>...</td>\n",
       "      <td>...</td>\n",
       "      <td>...</td>\n",
       "    </tr>\n",
       "    <tr>\n",
       "      <th>846</th>\n",
       "      <td>2022-04-01T14:49:05.000Z</td>\n",
       "      <td>0</td>\n",
       "      <td>0</td>\n",
       "      <td>0</td>\n",
       "      <td>0</td>\n",
       "      <td>Check out this property just listed in 32960\\n...</td>\n",
       "    </tr>\n",
       "    <tr>\n",
       "      <th>847</th>\n",
       "      <td>2022-04-01T14:39:29.000Z</td>\n",
       "      <td>1</td>\n",
       "      <td>0</td>\n",
       "      <td>0</td>\n",
       "      <td>0</td>\n",
       "      <td>RT @LaMonicaBuzz: Some 4/1 humor in a report f...</td>\n",
       "    </tr>\n",
       "    <tr>\n",
       "      <th>848</th>\n",
       "      <td>2022-04-01T14:39:10.000Z</td>\n",
       "      <td>2797</td>\n",
       "      <td>0</td>\n",
       "      <td>0</td>\n",
       "      <td>0</td>\n",
       "      <td>RT @Legit_airdropz: New airdrop: ⭕️Crypto's “B...</td>\n",
       "    </tr>\n",
       "    <tr>\n",
       "      <th>849</th>\n",
       "      <td>2022-04-01T14:32:42.000Z</td>\n",
       "      <td>0</td>\n",
       "      <td>0</td>\n",
       "      <td>0</td>\n",
       "      <td>0</td>\n",
       "      <td>Berkshire Hathaway HomeServices Simon &amp;amp; Sa...</td>\n",
       "    </tr>\n",
       "    <tr>\n",
       "      <th>850</th>\n",
       "      <td>2022-04-01T14:31:30.000Z</td>\n",
       "      <td>0</td>\n",
       "      <td>0</td>\n",
       "      <td>0</td>\n",
       "      <td>0</td>\n",
       "      <td>Ready to start searching for your dream home? ...</td>\n",
       "    </tr>\n",
       "  </tbody>\n",
       "</table>\n",
       "<p>851 rows × 6 columns</p>\n",
       "</div>"
      ],
      "text/plain": [
       "                   created_at  retweet_count  reply_count  like_count  \\\n",
       "0    2022-04-04T20:59:11.000Z            388            0           0   \n",
       "1    2022-04-04T20:58:39.000Z            388            0           0   \n",
       "2    2022-04-04T20:56:59.000Z           2797            0           0   \n",
       "3    2022-04-04T20:56:54.000Z            388            0           0   \n",
       "4    2022-04-04T20:56:45.000Z            388            0           0   \n",
       "..                        ...            ...          ...         ...   \n",
       "846  2022-04-01T14:49:05.000Z              0            0           0   \n",
       "847  2022-04-01T14:39:29.000Z              1            0           0   \n",
       "848  2022-04-01T14:39:10.000Z           2797            0           0   \n",
       "849  2022-04-01T14:32:42.000Z              0            0           0   \n",
       "850  2022-04-01T14:31:30.000Z              0            0           0   \n",
       "\n",
       "     quote_count                                               text  \n",
       "0              0  RT @BetteMidler: Take a look at the subsidies ...  \n",
       "1              0  RT @BetteMidler: Take a look at the subsidies ...  \n",
       "2              0  RT @Legit_airdropz: New airdrop: ⭕️Crypto's “B...  \n",
       "3              0  RT @BetteMidler: Take a look at the subsidies ...  \n",
       "4              0  RT @BetteMidler: Take a look at the subsidies ...  \n",
       "..           ...                                                ...  \n",
       "846            0  Check out this property just listed in 32960\\n...  \n",
       "847            0  RT @LaMonicaBuzz: Some 4/1 humor in a report f...  \n",
       "848            0  RT @Legit_airdropz: New airdrop: ⭕️Crypto's “B...  \n",
       "849            0  Berkshire Hathaway HomeServices Simon &amp; Sa...  \n",
       "850            0  Ready to start searching for your dream home? ...  \n",
       "\n",
       "[851 rows x 6 columns]"
      ]
     },
     "execution_count": 24,
     "metadata": {},
     "output_type": "execute_result"
    }
   ],
   "source": [
    "df_.index = list(range(0, len(df_)))"
   ]
  },
  {
   "cell_type": "code",
   "execution_count": 25,
   "metadata": {},
   "outputs": [
    {
     "data": {
      "text/html": [
       "<div>\n",
       "<style scoped>\n",
       "    .dataframe tbody tr th:only-of-type {\n",
       "        vertical-align: middle;\n",
       "    }\n",
       "\n",
       "    .dataframe tbody tr th {\n",
       "        vertical-align: top;\n",
       "    }\n",
       "\n",
       "    .dataframe thead th {\n",
       "        text-align: right;\n",
       "    }\n",
       "</style>\n",
       "<table border=\"1\" class=\"dataframe\">\n",
       "  <thead>\n",
       "    <tr style=\"text-align: right;\">\n",
       "      <th></th>\n",
       "      <th>time_stamp</th>\n",
       "    </tr>\n",
       "  </thead>\n",
       "  <tbody>\n",
       "    <tr>\n",
       "      <th>0</th>\n",
       "      <td>2022-04-04 20:59:11</td>\n",
       "    </tr>\n",
       "    <tr>\n",
       "      <th>1</th>\n",
       "      <td>2022-04-04 20:58:39</td>\n",
       "    </tr>\n",
       "    <tr>\n",
       "      <th>2</th>\n",
       "      <td>2022-04-04 20:56:59</td>\n",
       "    </tr>\n",
       "    <tr>\n",
       "      <th>3</th>\n",
       "      <td>2022-04-04 20:56:54</td>\n",
       "    </tr>\n",
       "    <tr>\n",
       "      <th>4</th>\n",
       "      <td>2022-04-04 20:56:45</td>\n",
       "    </tr>\n",
       "    <tr>\n",
       "      <th>...</th>\n",
       "      <td>...</td>\n",
       "    </tr>\n",
       "    <tr>\n",
       "      <th>846</th>\n",
       "      <td>2022-04-01 14:49:05</td>\n",
       "    </tr>\n",
       "    <tr>\n",
       "      <th>847</th>\n",
       "      <td>2022-04-01 14:39:29</td>\n",
       "    </tr>\n",
       "    <tr>\n",
       "      <th>848</th>\n",
       "      <td>2022-04-01 14:39:10</td>\n",
       "    </tr>\n",
       "    <tr>\n",
       "      <th>849</th>\n",
       "      <td>2022-04-01 14:32:42</td>\n",
       "    </tr>\n",
       "    <tr>\n",
       "      <th>850</th>\n",
       "      <td>2022-04-01 14:31:30</td>\n",
       "    </tr>\n",
       "  </tbody>\n",
       "</table>\n",
       "<p>851 rows × 1 columns</p>\n",
       "</div>"
      ],
      "text/plain": [
       "             time_stamp\n",
       "0   2022-04-04 20:59:11\n",
       "1   2022-04-04 20:58:39\n",
       "2   2022-04-04 20:56:59\n",
       "3   2022-04-04 20:56:54\n",
       "4   2022-04-04 20:56:45\n",
       "..                  ...\n",
       "846 2022-04-01 14:49:05\n",
       "847 2022-04-01 14:39:29\n",
       "848 2022-04-01 14:39:10\n",
       "849 2022-04-01 14:32:42\n",
       "850 2022-04-01 14:31:30\n",
       "\n",
       "[851 rows x 1 columns]"
      ]
     },
     "execution_count": 25,
     "metadata": {},
     "output_type": "execute_result"
    }
   ],
   "source": [
    "datasettime = []\n",
    "\n",
    "for i in range(0,len(df_)):\n",
    "    orig_time=df_['created_at'].iloc[i][:-5]\n",
    "    d = datetime.datetime.strptime(orig_time, '%Y-%m-%dT%H:%M:%S')\n",
    "    datasettime.append(d)\n",
    "\n",
    "datasettime = pd.DataFrame(datasettime)\n",
    "\n",
    "datasettime.rename(\n",
    "    columns={0:\"time_stamp\"}\n",
    "          ,inplace=True)"
   ]
  },
  {
   "cell_type": "code",
   "execution_count": 28,
   "metadata": {},
   "outputs": [],
   "source": [
    "df_ = pd.concat([df_, datasettime], axis=1)\n",
    "df_ = df_.drop('created_at', axis=1)"
   ]
  },
  {
   "cell_type": "code",
   "execution_count": 30,
   "metadata": {},
   "outputs": [],
   "source": [
    "df_['time_stamp'] = pd.DataFrame(df_['time_stamp'].dt.strftime('%Y-%m-%d %H:%M'))"
   ]
  },
  {
   "cell_type": "code",
   "execution_count": 32,
   "metadata": {},
   "outputs": [
    {
     "data": {
      "text/html": [
       "<div>\n",
       "<style scoped>\n",
       "    .dataframe tbody tr th:only-of-type {\n",
       "        vertical-align: middle;\n",
       "    }\n",
       "\n",
       "    .dataframe tbody tr th {\n",
       "        vertical-align: top;\n",
       "    }\n",
       "\n",
       "    .dataframe thead th {\n",
       "        text-align: right;\n",
       "    }\n",
       "</style>\n",
       "<table border=\"1\" class=\"dataframe\">\n",
       "  <thead>\n",
       "    <tr style=\"text-align: right;\">\n",
       "      <th></th>\n",
       "      <th>retweet_count</th>\n",
       "      <th>reply_count</th>\n",
       "      <th>like_count</th>\n",
       "      <th>quote_count</th>\n",
       "      <th>text</th>\n",
       "      <th>time_stamp</th>\n",
       "    </tr>\n",
       "  </thead>\n",
       "  <tbody>\n",
       "    <tr>\n",
       "      <th>0</th>\n",
       "      <td>388</td>\n",
       "      <td>0</td>\n",
       "      <td>0</td>\n",
       "      <td>0</td>\n",
       "      <td>RT @BetteMidler: Take a look at the subsidies ...</td>\n",
       "      <td>2022-04-04 20:59</td>\n",
       "    </tr>\n",
       "    <tr>\n",
       "      <th>1</th>\n",
       "      <td>388</td>\n",
       "      <td>0</td>\n",
       "      <td>0</td>\n",
       "      <td>0</td>\n",
       "      <td>RT @BetteMidler: Take a look at the subsidies ...</td>\n",
       "      <td>2022-04-04 20:58</td>\n",
       "    </tr>\n",
       "    <tr>\n",
       "      <th>4</th>\n",
       "      <td>388</td>\n",
       "      <td>0</td>\n",
       "      <td>0</td>\n",
       "      <td>0</td>\n",
       "      <td>RT @BetteMidler: Take a look at the subsidies ...</td>\n",
       "      <td>2022-04-04 20:56</td>\n",
       "    </tr>\n",
       "    <tr>\n",
       "      <th>5</th>\n",
       "      <td>388</td>\n",
       "      <td>0</td>\n",
       "      <td>0</td>\n",
       "      <td>0</td>\n",
       "      <td>RT @BetteMidler: Take a look at the subsidies ...</td>\n",
       "      <td>2022-04-04 20:55</td>\n",
       "    </tr>\n",
       "    <tr>\n",
       "      <th>7</th>\n",
       "      <td>2797</td>\n",
       "      <td>0</td>\n",
       "      <td>0</td>\n",
       "      <td>0</td>\n",
       "      <td>RT @Legit_airdropz: New airdrop: ⭕️Crypto's “B...</td>\n",
       "      <td>2022-04-04 20:54</td>\n",
       "    </tr>\n",
       "    <tr>\n",
       "      <th>...</th>\n",
       "      <td>...</td>\n",
       "      <td>...</td>\n",
       "      <td>...</td>\n",
       "      <td>...</td>\n",
       "      <td>...</td>\n",
       "      <td>...</td>\n",
       "    </tr>\n",
       "    <tr>\n",
       "      <th>845</th>\n",
       "      <td>1</td>\n",
       "      <td>0</td>\n",
       "      <td>0</td>\n",
       "      <td>0</td>\n",
       "      <td>RT @CanDivStocks: @MillennialMojo @dividend_sn...</td>\n",
       "      <td>2022-04-01 14:50</td>\n",
       "    </tr>\n",
       "    <tr>\n",
       "      <th>846</th>\n",
       "      <td>0</td>\n",
       "      <td>0</td>\n",
       "      <td>0</td>\n",
       "      <td>0</td>\n",
       "      <td>Check out this property just listed in 32960\\n...</td>\n",
       "      <td>2022-04-01 14:49</td>\n",
       "    </tr>\n",
       "    <tr>\n",
       "      <th>848</th>\n",
       "      <td>2797</td>\n",
       "      <td>0</td>\n",
       "      <td>0</td>\n",
       "      <td>0</td>\n",
       "      <td>RT @Legit_airdropz: New airdrop: ⭕️Crypto's “B...</td>\n",
       "      <td>2022-04-01 14:39</td>\n",
       "    </tr>\n",
       "    <tr>\n",
       "      <th>849</th>\n",
       "      <td>0</td>\n",
       "      <td>0</td>\n",
       "      <td>0</td>\n",
       "      <td>0</td>\n",
       "      <td>Berkshire Hathaway HomeServices Simon &amp;amp; Sa...</td>\n",
       "      <td>2022-04-01 14:32</td>\n",
       "    </tr>\n",
       "    <tr>\n",
       "      <th>850</th>\n",
       "      <td>0</td>\n",
       "      <td>0</td>\n",
       "      <td>0</td>\n",
       "      <td>0</td>\n",
       "      <td>Ready to start searching for your dream home? ...</td>\n",
       "      <td>2022-04-01 14:31</td>\n",
       "    </tr>\n",
       "  </tbody>\n",
       "</table>\n",
       "<p>579 rows × 6 columns</p>\n",
       "</div>"
      ],
      "text/plain": [
       "     retweet_count  reply_count  like_count  quote_count  \\\n",
       "0              388            0           0            0   \n",
       "1              388            0           0            0   \n",
       "4              388            0           0            0   \n",
       "5              388            0           0            0   \n",
       "7             2797            0           0            0   \n",
       "..             ...          ...         ...          ...   \n",
       "845              1            0           0            0   \n",
       "846              0            0           0            0   \n",
       "848           2797            0           0            0   \n",
       "849              0            0           0            0   \n",
       "850              0            0           0            0   \n",
       "\n",
       "                                                  text        time_stamp  \n",
       "0    RT @BetteMidler: Take a look at the subsidies ...  2022-04-04 20:59  \n",
       "1    RT @BetteMidler: Take a look at the subsidies ...  2022-04-04 20:58  \n",
       "4    RT @BetteMidler: Take a look at the subsidies ...  2022-04-04 20:56  \n",
       "5    RT @BetteMidler: Take a look at the subsidies ...  2022-04-04 20:55  \n",
       "7    RT @Legit_airdropz: New airdrop: ⭕️Crypto's “B...  2022-04-04 20:54  \n",
       "..                                                 ...               ...  \n",
       "845  RT @CanDivStocks: @MillennialMojo @dividend_sn...  2022-04-01 14:50  \n",
       "846  Check out this property just listed in 32960\\n...  2022-04-01 14:49  \n",
       "848  RT @Legit_airdropz: New airdrop: ⭕️Crypto's “B...  2022-04-01 14:39  \n",
       "849  Berkshire Hathaway HomeServices Simon &amp; Sa...  2022-04-01 14:32  \n",
       "850  Ready to start searching for your dream home? ...  2022-04-01 14:31  \n",
       "\n",
       "[579 rows x 6 columns]"
      ]
     },
     "execution_count": 32,
     "metadata": {},
     "output_type": "execute_result"
    }
   ],
   "source": [
    "df_ = df_.drop_duplicates(subset=['time_stamp'], keep='last')"
   ]
  },
  {
   "cell_type": "code",
   "execution_count": 33,
   "metadata": {},
   "outputs": [],
   "source": [
    "df_ = df_.sort_values(by=['time_stamp'])"
   ]
  },
  {
   "cell_type": "code",
   "execution_count": 38,
   "metadata": {},
   "outputs": [
    {
     "data": {
      "text/html": [
       "<div>\n",
       "<style scoped>\n",
       "    .dataframe tbody tr th:only-of-type {\n",
       "        vertical-align: middle;\n",
       "    }\n",
       "\n",
       "    .dataframe tbody tr th {\n",
       "        vertical-align: top;\n",
       "    }\n",
       "\n",
       "    .dataframe thead th {\n",
       "        text-align: right;\n",
       "    }\n",
       "</style>\n",
       "<table border=\"1\" class=\"dataframe\">\n",
       "  <thead>\n",
       "    <tr style=\"text-align: right;\">\n",
       "      <th></th>\n",
       "      <th>Unnamed: 0</th>\n",
       "      <th>retweet_count</th>\n",
       "      <th>reply_count</th>\n",
       "      <th>like_count</th>\n",
       "      <th>quote_count</th>\n",
       "      <th>text</th>\n",
       "      <th>time_stamp</th>\n",
       "    </tr>\n",
       "  </thead>\n",
       "  <tbody>\n",
       "    <tr>\n",
       "      <th>0</th>\n",
       "      <td>438</td>\n",
       "      <td>0</td>\n",
       "      <td>0</td>\n",
       "      <td>0</td>\n",
       "      <td>0</td>\n",
       "      <td>berkshire hathaway stock split?</td>\n",
       "      <td>2022-03-29 14:33</td>\n",
       "    </tr>\n",
       "    <tr>\n",
       "      <th>1</th>\n",
       "      <td>436</td>\n",
       "      <td>1</td>\n",
       "      <td>0</td>\n",
       "      <td>0</td>\n",
       "      <td>0</td>\n",
       "      <td>we love this creative use of storefront wind...</td>\n",
       "      <td>2022-03-29 14:36</td>\n",
       "    </tr>\n",
       "    <tr>\n",
       "      <th>2</th>\n",
       "      <td>435</td>\n",
       "      <td>0</td>\n",
       "      <td>1</td>\n",
       "      <td>1</td>\n",
       "      <td>0</td>\n",
       "      <td>la universidad de berkshire hathaway: 30 año...</td>\n",
       "      <td>2022-03-29 14:43</td>\n",
       "    </tr>\n",
       "    <tr>\n",
       "      <th>3</th>\n",
       "      <td>433</td>\n",
       "      <td>0</td>\n",
       "      <td>0</td>\n",
       "      <td>0</td>\n",
       "      <td>0</td>\n",
       "      <td>la universidad de berkshire hathaway: 30 año...</td>\n",
       "      <td>2022-03-29 14:44</td>\n",
       "    </tr>\n",
       "    <tr>\n",
       "      <th>4</th>\n",
       "      <td>432</td>\n",
       "      <td>2796</td>\n",
       "      <td>0</td>\n",
       "      <td>0</td>\n",
       "      <td>0</td>\n",
       "      <td>new airdrop: ⭕️crypto's “berkshire hathaway“...</td>\n",
       "      <td>2022-03-29 14:46</td>\n",
       "    </tr>\n",
       "    <tr>\n",
       "      <th>...</th>\n",
       "      <td>...</td>\n",
       "      <td>...</td>\n",
       "      <td>...</td>\n",
       "      <td>...</td>\n",
       "      <td>...</td>\n",
       "      <td>...</td>\n",
       "      <td>...</td>\n",
       "    </tr>\n",
       "    <tr>\n",
       "      <th>574</th>\n",
       "      <td>7</td>\n",
       "      <td>2797</td>\n",
       "      <td>0</td>\n",
       "      <td>0</td>\n",
       "      <td>0</td>\n",
       "      <td>new airdrop: ⭕️crypto's “berkshire hathaway“...</td>\n",
       "      <td>2022-04-04 20:54</td>\n",
       "    </tr>\n",
       "    <tr>\n",
       "      <th>575</th>\n",
       "      <td>5</td>\n",
       "      <td>388</td>\n",
       "      <td>0</td>\n",
       "      <td>0</td>\n",
       "      <td>0</td>\n",
       "      <td>take a look at the subsidies these corporati...</td>\n",
       "      <td>2022-04-04 20:55</td>\n",
       "    </tr>\n",
       "    <tr>\n",
       "      <th>576</th>\n",
       "      <td>4</td>\n",
       "      <td>388</td>\n",
       "      <td>0</td>\n",
       "      <td>0</td>\n",
       "      <td>0</td>\n",
       "      <td>take a look at the subsidies these corporati...</td>\n",
       "      <td>2022-04-04 20:56</td>\n",
       "    </tr>\n",
       "    <tr>\n",
       "      <th>577</th>\n",
       "      <td>1</td>\n",
       "      <td>388</td>\n",
       "      <td>0</td>\n",
       "      <td>0</td>\n",
       "      <td>0</td>\n",
       "      <td>take a look at the subsidies these corporati...</td>\n",
       "      <td>2022-04-04 20:58</td>\n",
       "    </tr>\n",
       "    <tr>\n",
       "      <th>578</th>\n",
       "      <td>0</td>\n",
       "      <td>388</td>\n",
       "      <td>0</td>\n",
       "      <td>0</td>\n",
       "      <td>0</td>\n",
       "      <td>take a look at the subsidies these corporati...</td>\n",
       "      <td>2022-04-04 20:59</td>\n",
       "    </tr>\n",
       "  </tbody>\n",
       "</table>\n",
       "<p>579 rows × 7 columns</p>\n",
       "</div>"
      ],
      "text/plain": [
       "     Unnamed: 0  retweet_count  reply_count  like_count  quote_count  \\\n",
       "0           438              0            0           0            0   \n",
       "1           436              1            0           0            0   \n",
       "2           435              0            1           1            0   \n",
       "3           433              0            0           0            0   \n",
       "4           432           2796            0           0            0   \n",
       "..          ...            ...          ...         ...          ...   \n",
       "574           7           2797            0           0            0   \n",
       "575           5            388            0           0            0   \n",
       "576           4            388            0           0            0   \n",
       "577           1            388            0           0            0   \n",
       "578           0            388            0           0            0   \n",
       "\n",
       "                                                  text        time_stamp  \n",
       "0                      berkshire hathaway stock split?  2022-03-29 14:33  \n",
       "1      we love this creative use of storefront wind...  2022-03-29 14:36  \n",
       "2      la universidad de berkshire hathaway: 30 año...  2022-03-29 14:43  \n",
       "3      la universidad de berkshire hathaway: 30 año...  2022-03-29 14:44  \n",
       "4      new airdrop: ⭕️crypto's “berkshire hathaway“...  2022-03-29 14:46  \n",
       "..                                                 ...               ...  \n",
       "574    new airdrop: ⭕️crypto's “berkshire hathaway“...  2022-04-04 20:54  \n",
       "575    take a look at the subsidies these corporati...  2022-04-04 20:55  \n",
       "576    take a look at the subsidies these corporati...  2022-04-04 20:56  \n",
       "577    take a look at the subsidies these corporati...  2022-04-04 20:58  \n",
       "578    take a look at the subsidies these corporati...  2022-04-04 20:59  \n",
       "\n",
       "[579 rows x 7 columns]"
      ]
     },
     "execution_count": 38,
     "metadata": {},
     "output_type": "execute_result"
    }
   ],
   "source": [
    "#We would like to clean the tweets, remove all the unwanted symbols\n",
    "def clean_text(df_, text):\n",
    "    df_[text]=df_[text].apply(str)\n",
    "    df_[text] = df_[text].str.lower()\n",
    "    df_[text] = df_[text].apply(lambda elem: re.sub(r\" rt : @[^\\s]+|@[^\\s]+|@[A-Za-z0–9]+|@[0–9]|(@[A-Za-z0–9]+)|\\n|rt|(@[A-Za-z0–9]+)|http.+|://+\", \"\",   elem)) \n",
    "    return df_\n",
    "\n",
    "df_ = clean_text(df_, \"text\")\n",
    "\n"
   ]
  },
  {
   "cell_type": "code",
   "execution_count": 40,
   "metadata": {},
   "outputs": [],
   "source": [
    "#I used here functons from https://github.com/ada-k/TweetsClassification/blob/master/analysis.ipynb\n",
    "w_tokenizer = WhitespaceTokenizer()\n",
    "nlp = en_core_web_sm.load() \n",
    "tokenizer = RegexpTokenizer(r'\\w+')\n",
    "lemmatizer = WordNetLemmatizer()\n",
    "stop = set(stopwords.words('english'))\n",
    "punctuation = list(string.punctuation)\n",
    "stop.update(punctuation)\n",
    "\n",
    "\n",
    "def furnished(text):\n",
    "    final_text = []\n",
    "    for i in w_tokenizer.tokenize(text):\n",
    "       if i.lower() not in stop:\n",
    "           word = lemmatizer.lemmatize(i)\n",
    "           final_text.append(word.lower())\n",
    "    return \" \".join(final_text)\n",
    "\n",
    "bear_words = '''acquisition hits hit record highs good rise rises increase increased increasing grown rose risen profitable success growth grow grows growing outperforming luck broader perky upturn gain gaining gained huge positive optimistic monster blowout excellent buy buyng bought purchase purchases purchasd acquire acquired acquires acquiring up stonks'''\n",
    "bull_words = '''low poor falls fall falling crisis doesnt didnt slump recession downturn decrease decreased decreasing reduction reducing reduced reduce reduces drop drops dropping degradation degrade degrading degrades degraded recess depression decline problem promlems trouble troubles ban banned bans negative pessimistic sell short down plunge plunged plunges plunging broken stinks crash worry'''\n",
    "neutral_or_spam_words = '''remains remained remaining continue continues contining stable stabilizes stabilized stabilizing stabilises stabilised stabilising stready what expect announcement tomorrow unlimited airdrop'''\n",
    "\n",
    "negative = furnished(bear_words)\n",
    "positive = furnished(bull_words)\n",
    "neutral = furnished(neutral_or_spam_words)\n",
    "\n",
    "df_.text = df_.text.apply(furnished)\n",
    "\n",
    "s = negative\n",
    "words = s.split()\n",
    "negatives = \" \".join(sorted(set(words), key=words.index))\n",
    "\n",
    "s = positive\n",
    "words = s.split()\n",
    "positive = \" \".join(sorted(set(words), key=words.index))\n",
    "\n",
    "s = neutral\n",
    "words = s.split()\n",
    "neutral = \" \".join(sorted(set(words), key=words.index))\n",
    "neutral\n",
    "\n",
    "def get_vectors(*strs):\n",
    "    text = [t for t in strs]\n",
    "    vectorizer = TfidfVectorizer(text)\n",
    "    vectorizer.fit(text)\n",
    "    return vectorizer.transform(text).toarray()\n",
    "def jaccard_similarity(query, document):\n",
    "    intersection = set(query).intersection(set(document))\n",
    "    union = set(query).union(set(document))\n",
    "    return len(intersection)/len(union)\n",
    "def get_scores(group,tweets):\n",
    "    scores = []\n",
    "    for tweet in tweets:\n",
    "        s = jaccard_similarity(group, tweet)\n",
    "        scores.append(s)\n",
    "    return scores\n",
    "\n",
    "negative_scores = get_scores(negative, df_.text.to_list())\n",
    "positive_scores = get_scores(positive, df_.text.to_list())\n",
    "neutral_scores = get_scores(neutral, df_.text.to_list())\n",
    "\n",
    "negative_scores = pd.DataFrame(negative_scores, columns=['Negative'])\n",
    "positive_scores = pd.DataFrame(positive_scores, columns=['Positive'])\n",
    "neutral_scores = pd.DataFrame(neutral_scores, columns=['Neutral'])\n",
    "\n",
    "frames = pd.concat([negative_scores, positive_scores, neutral_scores], axis=1)\n",
    "\n",
    "df_ = pd.concat([df_, frames], axis=1)\n",
    "\n",
    "df_without_text = df_.drop('text', axis = 1)"
   ]
  },
  {
   "cell_type": "code",
   "execution_count": null,
   "metadata": {},
   "outputs": [],
   "source": [
    "newd = []\n",
    "\n",
    "for i in range(0,len(df_without_text)):\n",
    "    s = datetime.fromtimestamp(time.mktime(datetime.strptime(df_without_text['time_stamp'][i], \"%Y-%m-%d %H:%M\").timetuple()))\n",
    "    newd.append(s)\n",
    "    \n",
    "newd = pd.DataFrame(newd)"
   ]
  },
  {
   "cell_type": "code",
   "execution_count": 61,
   "metadata": {},
   "outputs": [
    {
     "data": {
      "text/html": [
       "<div>\n",
       "<style scoped>\n",
       "    .dataframe tbody tr th:only-of-type {\n",
       "        vertical-align: middle;\n",
       "    }\n",
       "\n",
       "    .dataframe tbody tr th {\n",
       "        vertical-align: top;\n",
       "    }\n",
       "\n",
       "    .dataframe thead th {\n",
       "        text-align: right;\n",
       "    }\n",
       "</style>\n",
       "<table border=\"1\" class=\"dataframe\">\n",
       "  <thead>\n",
       "    <tr style=\"text-align: right;\">\n",
       "      <th></th>\n",
       "      <th>Unnamed: 0</th>\n",
       "      <th>retweet_count</th>\n",
       "      <th>reply_count</th>\n",
       "      <th>like_count</th>\n",
       "      <th>quote_count</th>\n",
       "      <th>time_stamp</th>\n",
       "      <th>Negative</th>\n",
       "      <th>Positive</th>\n",
       "      <th>Neutral</th>\n",
       "    </tr>\n",
       "    <tr>\n",
       "      <th>0</th>\n",
       "      <th></th>\n",
       "      <th></th>\n",
       "      <th></th>\n",
       "      <th></th>\n",
       "      <th></th>\n",
       "      <th></th>\n",
       "      <th></th>\n",
       "      <th></th>\n",
       "      <th></th>\n",
       "    </tr>\n",
       "  </thead>\n",
       "  <tbody>\n",
       "    <tr>\n",
       "      <th>2022-03-29 14:33:00</th>\n",
       "      <td>438</td>\n",
       "      <td>0</td>\n",
       "      <td>0</td>\n",
       "      <td>0</td>\n",
       "      <td>0</td>\n",
       "      <td>2022-03-29 14:33</td>\n",
       "      <td>0.615385</td>\n",
       "      <td>0.666667</td>\n",
       "      <td>0.583333</td>\n",
       "    </tr>\n",
       "    <tr>\n",
       "      <th>2022-03-29 14:36:00</th>\n",
       "      <td>436</td>\n",
       "      <td>1</td>\n",
       "      <td>0</td>\n",
       "      <td>0</td>\n",
       "      <td>0</td>\n",
       "      <td>2022-03-29 14:36</td>\n",
       "      <td>0.724138</td>\n",
       "      <td>0.777778</td>\n",
       "      <td>0.586207</td>\n",
       "    </tr>\n",
       "    <tr>\n",
       "      <th>2022-03-29 14:43:00</th>\n",
       "      <td>435</td>\n",
       "      <td>0</td>\n",
       "      <td>1</td>\n",
       "      <td>1</td>\n",
       "      <td>0</td>\n",
       "      <td>2022-03-29 14:43</td>\n",
       "      <td>0.696970</td>\n",
       "      <td>0.741935</td>\n",
       "      <td>0.625000</td>\n",
       "    </tr>\n",
       "    <tr>\n",
       "      <th>2022-03-29 14:44:00</th>\n",
       "      <td>433</td>\n",
       "      <td>0</td>\n",
       "      <td>0</td>\n",
       "      <td>0</td>\n",
       "      <td>0</td>\n",
       "      <td>2022-03-29 14:44</td>\n",
       "      <td>0.696970</td>\n",
       "      <td>0.741935</td>\n",
       "      <td>0.625000</td>\n",
       "    </tr>\n",
       "    <tr>\n",
       "      <th>2022-03-29 14:46:00</th>\n",
       "      <td>432</td>\n",
       "      <td>2796</td>\n",
       "      <td>0</td>\n",
       "      <td>0</td>\n",
       "      <td>0</td>\n",
       "      <td>2022-03-29 14:46</td>\n",
       "      <td>0.500000</td>\n",
       "      <td>0.526316</td>\n",
       "      <td>0.513514</td>\n",
       "    </tr>\n",
       "    <tr>\n",
       "      <th>...</th>\n",
       "      <td>...</td>\n",
       "      <td>...</td>\n",
       "      <td>...</td>\n",
       "      <td>...</td>\n",
       "      <td>...</td>\n",
       "      <td>...</td>\n",
       "      <td>...</td>\n",
       "      <td>...</td>\n",
       "      <td>...</td>\n",
       "    </tr>\n",
       "    <tr>\n",
       "      <th>2022-04-04 20:54:00</th>\n",
       "      <td>7</td>\n",
       "      <td>2797</td>\n",
       "      <td>0</td>\n",
       "      <td>0</td>\n",
       "      <td>0</td>\n",
       "      <td>2022-04-04 20:54</td>\n",
       "      <td>0.500000</td>\n",
       "      <td>0.526316</td>\n",
       "      <td>0.513514</td>\n",
       "    </tr>\n",
       "    <tr>\n",
       "      <th>2022-04-04 20:55:00</th>\n",
       "      <td>5</td>\n",
       "      <td>388</td>\n",
       "      <td>0</td>\n",
       "      <td>0</td>\n",
       "      <td>0</td>\n",
       "      <td>2022-04-04 20:55</td>\n",
       "      <td>0.714286</td>\n",
       "      <td>0.769231</td>\n",
       "      <td>0.760000</td>\n",
       "    </tr>\n",
       "    <tr>\n",
       "      <th>2022-04-04 20:56:00</th>\n",
       "      <td>4</td>\n",
       "      <td>388</td>\n",
       "      <td>0</td>\n",
       "      <td>0</td>\n",
       "      <td>0</td>\n",
       "      <td>2022-04-04 20:56</td>\n",
       "      <td>0.714286</td>\n",
       "      <td>0.769231</td>\n",
       "      <td>0.760000</td>\n",
       "    </tr>\n",
       "    <tr>\n",
       "      <th>2022-04-04 20:58:00</th>\n",
       "      <td>1</td>\n",
       "      <td>388</td>\n",
       "      <td>0</td>\n",
       "      <td>0</td>\n",
       "      <td>0</td>\n",
       "      <td>2022-04-04 20:58</td>\n",
       "      <td>0.714286</td>\n",
       "      <td>0.769231</td>\n",
       "      <td>0.760000</td>\n",
       "    </tr>\n",
       "    <tr>\n",
       "      <th>2022-04-04 20:59:00</th>\n",
       "      <td>0</td>\n",
       "      <td>388</td>\n",
       "      <td>0</td>\n",
       "      <td>0</td>\n",
       "      <td>0</td>\n",
       "      <td>2022-04-04 20:59</td>\n",
       "      <td>0.714286</td>\n",
       "      <td>0.769231</td>\n",
       "      <td>0.760000</td>\n",
       "    </tr>\n",
       "  </tbody>\n",
       "</table>\n",
       "<p>579 rows × 9 columns</p>\n",
       "</div>"
      ],
      "text/plain": [
       "                     Unnamed: 0  retweet_count  reply_count  like_count  \\\n",
       "0                                                                         \n",
       "2022-03-29 14:33:00         438              0            0           0   \n",
       "2022-03-29 14:36:00         436              1            0           0   \n",
       "2022-03-29 14:43:00         435              0            1           1   \n",
       "2022-03-29 14:44:00         433              0            0           0   \n",
       "2022-03-29 14:46:00         432           2796            0           0   \n",
       "...                         ...            ...          ...         ...   \n",
       "2022-04-04 20:54:00           7           2797            0           0   \n",
       "2022-04-04 20:55:00           5            388            0           0   \n",
       "2022-04-04 20:56:00           4            388            0           0   \n",
       "2022-04-04 20:58:00           1            388            0           0   \n",
       "2022-04-04 20:59:00           0            388            0           0   \n",
       "\n",
       "                     quote_count        time_stamp  Negative  Positive  \\\n",
       "0                                                                        \n",
       "2022-03-29 14:33:00            0  2022-03-29 14:33  0.615385  0.666667   \n",
       "2022-03-29 14:36:00            0  2022-03-29 14:36  0.724138  0.777778   \n",
       "2022-03-29 14:43:00            0  2022-03-29 14:43  0.696970  0.741935   \n",
       "2022-03-29 14:44:00            0  2022-03-29 14:44  0.696970  0.741935   \n",
       "2022-03-29 14:46:00            0  2022-03-29 14:46  0.500000  0.526316   \n",
       "...                          ...               ...       ...       ...   \n",
       "2022-04-04 20:54:00            0  2022-04-04 20:54  0.500000  0.526316   \n",
       "2022-04-04 20:55:00            0  2022-04-04 20:55  0.714286  0.769231   \n",
       "2022-04-04 20:56:00            0  2022-04-04 20:56  0.714286  0.769231   \n",
       "2022-04-04 20:58:00            0  2022-04-04 20:58  0.714286  0.769231   \n",
       "2022-04-04 20:59:00            0  2022-04-04 20:59  0.714286  0.769231   \n",
       "\n",
       "                      Neutral  \n",
       "0                              \n",
       "2022-03-29 14:33:00  0.583333  \n",
       "2022-03-29 14:36:00  0.586207  \n",
       "2022-03-29 14:43:00  0.625000  \n",
       "2022-03-29 14:44:00  0.625000  \n",
       "2022-03-29 14:46:00  0.513514  \n",
       "...                       ...  \n",
       "2022-04-04 20:54:00  0.513514  \n",
       "2022-04-04 20:55:00  0.760000  \n",
       "2022-04-04 20:56:00  0.760000  \n",
       "2022-04-04 20:58:00  0.760000  \n",
       "2022-04-04 20:59:00  0.760000  \n",
       "\n",
       "[579 rows x 9 columns]"
      ]
     },
     "execution_count": 61,
     "metadata": {},
     "output_type": "execute_result"
    }
   ],
   "source": [
    "df_without_text.index = newd[0]"
   ]
  },
  {
   "cell_type": "code",
   "execution_count": 63,
   "metadata": {},
   "outputs": [],
   "source": [
    "corrected_tz = []\n",
    "\n",
    "for i in range(0,len(df_without_text)):\n",
    "    cr_date = datetime(int(df_without_text['time_stamp'][i][0:4]), \n",
    "                       int(df_without_text['time_stamp'][i][5:7]), \n",
    "                       int(df_without_text['time_stamp'][i][8:10]),\n",
    "                       int(df_without_text['time_stamp'][i][11:13])-5,\n",
    "                       int(df_without_text['time_stamp'][i][14:16])\n",
    "                      )\n",
    "\n",
    "    corrected_tz.append(cr_date.strftime('%Y-%m-%d %H:%M'))"
   ]
  },
  {
   "cell_type": "code",
   "execution_count": 65,
   "metadata": {},
   "outputs": [],
   "source": [
    "df_without_text['time_stamp'] = corrected_tz"
   ]
  },
  {
   "cell_type": "code",
   "execution_count": 66,
   "metadata": {},
   "outputs": [],
   "source": [
    "df_without_text = df_without_text.drop(['Unnamed: 0'], axis=1)"
   ]
  },
  {
   "cell_type": "code",
   "execution_count": 67,
   "metadata": {},
   "outputs": [
    {
     "data": {
      "text/html": [
       "<div>\n",
       "<style scoped>\n",
       "    .dataframe tbody tr th:only-of-type {\n",
       "        vertical-align: middle;\n",
       "    }\n",
       "\n",
       "    .dataframe tbody tr th {\n",
       "        vertical-align: top;\n",
       "    }\n",
       "\n",
       "    .dataframe thead th {\n",
       "        text-align: right;\n",
       "    }\n",
       "</style>\n",
       "<table border=\"1\" class=\"dataframe\">\n",
       "  <thead>\n",
       "    <tr style=\"text-align: right;\">\n",
       "      <th></th>\n",
       "      <th>retweet_count</th>\n",
       "      <th>reply_count</th>\n",
       "      <th>like_count</th>\n",
       "      <th>quote_count</th>\n",
       "      <th>time_stamp</th>\n",
       "      <th>Negative</th>\n",
       "      <th>Positive</th>\n",
       "      <th>Neutral</th>\n",
       "    </tr>\n",
       "    <tr>\n",
       "      <th>0</th>\n",
       "      <th></th>\n",
       "      <th></th>\n",
       "      <th></th>\n",
       "      <th></th>\n",
       "      <th></th>\n",
       "      <th></th>\n",
       "      <th></th>\n",
       "      <th></th>\n",
       "    </tr>\n",
       "  </thead>\n",
       "  <tbody>\n",
       "    <tr>\n",
       "      <th>2022-03-29 14:33:00</th>\n",
       "      <td>0</td>\n",
       "      <td>0</td>\n",
       "      <td>0</td>\n",
       "      <td>0</td>\n",
       "      <td>2022-03-29 09:33</td>\n",
       "      <td>0.615385</td>\n",
       "      <td>0.666667</td>\n",
       "      <td>0.583333</td>\n",
       "    </tr>\n",
       "    <tr>\n",
       "      <th>2022-03-29 14:36:00</th>\n",
       "      <td>1</td>\n",
       "      <td>0</td>\n",
       "      <td>0</td>\n",
       "      <td>0</td>\n",
       "      <td>2022-03-29 09:36</td>\n",
       "      <td>0.724138</td>\n",
       "      <td>0.777778</td>\n",
       "      <td>0.586207</td>\n",
       "    </tr>\n",
       "    <tr>\n",
       "      <th>2022-03-29 14:43:00</th>\n",
       "      <td>0</td>\n",
       "      <td>1</td>\n",
       "      <td>1</td>\n",
       "      <td>0</td>\n",
       "      <td>2022-03-29 09:43</td>\n",
       "      <td>0.696970</td>\n",
       "      <td>0.741935</td>\n",
       "      <td>0.625000</td>\n",
       "    </tr>\n",
       "    <tr>\n",
       "      <th>2022-03-29 14:44:00</th>\n",
       "      <td>0</td>\n",
       "      <td>0</td>\n",
       "      <td>0</td>\n",
       "      <td>0</td>\n",
       "      <td>2022-03-29 09:44</td>\n",
       "      <td>0.696970</td>\n",
       "      <td>0.741935</td>\n",
       "      <td>0.625000</td>\n",
       "    </tr>\n",
       "    <tr>\n",
       "      <th>2022-03-29 14:46:00</th>\n",
       "      <td>2796</td>\n",
       "      <td>0</td>\n",
       "      <td>0</td>\n",
       "      <td>0</td>\n",
       "      <td>2022-03-29 09:46</td>\n",
       "      <td>0.500000</td>\n",
       "      <td>0.526316</td>\n",
       "      <td>0.513514</td>\n",
       "    </tr>\n",
       "    <tr>\n",
       "      <th>...</th>\n",
       "      <td>...</td>\n",
       "      <td>...</td>\n",
       "      <td>...</td>\n",
       "      <td>...</td>\n",
       "      <td>...</td>\n",
       "      <td>...</td>\n",
       "      <td>...</td>\n",
       "      <td>...</td>\n",
       "    </tr>\n",
       "    <tr>\n",
       "      <th>2022-04-04 20:54:00</th>\n",
       "      <td>2797</td>\n",
       "      <td>0</td>\n",
       "      <td>0</td>\n",
       "      <td>0</td>\n",
       "      <td>2022-04-04 15:54</td>\n",
       "      <td>0.500000</td>\n",
       "      <td>0.526316</td>\n",
       "      <td>0.513514</td>\n",
       "    </tr>\n",
       "    <tr>\n",
       "      <th>2022-04-04 20:55:00</th>\n",
       "      <td>388</td>\n",
       "      <td>0</td>\n",
       "      <td>0</td>\n",
       "      <td>0</td>\n",
       "      <td>2022-04-04 15:55</td>\n",
       "      <td>0.714286</td>\n",
       "      <td>0.769231</td>\n",
       "      <td>0.760000</td>\n",
       "    </tr>\n",
       "    <tr>\n",
       "      <th>2022-04-04 20:56:00</th>\n",
       "      <td>388</td>\n",
       "      <td>0</td>\n",
       "      <td>0</td>\n",
       "      <td>0</td>\n",
       "      <td>2022-04-04 15:56</td>\n",
       "      <td>0.714286</td>\n",
       "      <td>0.769231</td>\n",
       "      <td>0.760000</td>\n",
       "    </tr>\n",
       "    <tr>\n",
       "      <th>2022-04-04 20:58:00</th>\n",
       "      <td>388</td>\n",
       "      <td>0</td>\n",
       "      <td>0</td>\n",
       "      <td>0</td>\n",
       "      <td>2022-04-04 15:58</td>\n",
       "      <td>0.714286</td>\n",
       "      <td>0.769231</td>\n",
       "      <td>0.760000</td>\n",
       "    </tr>\n",
       "    <tr>\n",
       "      <th>2022-04-04 20:59:00</th>\n",
       "      <td>388</td>\n",
       "      <td>0</td>\n",
       "      <td>0</td>\n",
       "      <td>0</td>\n",
       "      <td>2022-04-04 15:59</td>\n",
       "      <td>0.714286</td>\n",
       "      <td>0.769231</td>\n",
       "      <td>0.760000</td>\n",
       "    </tr>\n",
       "  </tbody>\n",
       "</table>\n",
       "<p>579 rows × 8 columns</p>\n",
       "</div>"
      ],
      "text/plain": [
       "                     retweet_count  reply_count  like_count  quote_count  \\\n",
       "0                                                                          \n",
       "2022-03-29 14:33:00              0            0           0            0   \n",
       "2022-03-29 14:36:00              1            0           0            0   \n",
       "2022-03-29 14:43:00              0            1           1            0   \n",
       "2022-03-29 14:44:00              0            0           0            0   \n",
       "2022-03-29 14:46:00           2796            0           0            0   \n",
       "...                            ...          ...         ...          ...   \n",
       "2022-04-04 20:54:00           2797            0           0            0   \n",
       "2022-04-04 20:55:00            388            0           0            0   \n",
       "2022-04-04 20:56:00            388            0           0            0   \n",
       "2022-04-04 20:58:00            388            0           0            0   \n",
       "2022-04-04 20:59:00            388            0           0            0   \n",
       "\n",
       "                           time_stamp  Negative  Positive   Neutral  \n",
       "0                                                                    \n",
       "2022-03-29 14:33:00  2022-03-29 09:33  0.615385  0.666667  0.583333  \n",
       "2022-03-29 14:36:00  2022-03-29 09:36  0.724138  0.777778  0.586207  \n",
       "2022-03-29 14:43:00  2022-03-29 09:43  0.696970  0.741935  0.625000  \n",
       "2022-03-29 14:44:00  2022-03-29 09:44  0.696970  0.741935  0.625000  \n",
       "2022-03-29 14:46:00  2022-03-29 09:46  0.500000  0.526316  0.513514  \n",
       "...                               ...       ...       ...       ...  \n",
       "2022-04-04 20:54:00  2022-04-04 15:54  0.500000  0.526316  0.513514  \n",
       "2022-04-04 20:55:00  2022-04-04 15:55  0.714286  0.769231  0.760000  \n",
       "2022-04-04 20:56:00  2022-04-04 15:56  0.714286  0.769231  0.760000  \n",
       "2022-04-04 20:58:00  2022-04-04 15:58  0.714286  0.769231  0.760000  \n",
       "2022-04-04 20:59:00  2022-04-04 15:59  0.714286  0.769231  0.760000  \n",
       "\n",
       "[579 rows x 8 columns]"
      ]
     },
     "execution_count": 67,
     "metadata": {},
     "output_type": "execute_result"
    }
   ],
   "source": [
    "df_without_text"
   ]
  },
  {
   "cell_type": "code",
   "execution_count": 72,
   "metadata": {},
   "outputs": [
    {
     "name": "stdout",
     "output_type": "stream",
     "text": [
      "[*********************100%***********************]  1 of 1 completed\n"
     ]
    },
    {
     "data": {
      "text/html": [
       "<div>\n",
       "<style scoped>\n",
       "    .dataframe tbody tr th:only-of-type {\n",
       "        vertical-align: middle;\n",
       "    }\n",
       "\n",
       "    .dataframe tbody tr th {\n",
       "        vertical-align: top;\n",
       "    }\n",
       "\n",
       "    .dataframe thead th {\n",
       "        text-align: right;\n",
       "    }\n",
       "</style>\n",
       "<table border=\"1\" class=\"dataframe\">\n",
       "  <thead>\n",
       "    <tr style=\"text-align: right;\">\n",
       "      <th></th>\n",
       "      <th>Open</th>\n",
       "      <th>High</th>\n",
       "      <th>Low</th>\n",
       "      <th>Close</th>\n",
       "      <th>Adj Close</th>\n",
       "      <th>Volume</th>\n",
       "    </tr>\n",
       "    <tr>\n",
       "      <th>Datetime</th>\n",
       "      <th></th>\n",
       "      <th></th>\n",
       "      <th></th>\n",
       "      <th></th>\n",
       "      <th></th>\n",
       "      <th></th>\n",
       "    </tr>\n",
       "  </thead>\n",
       "  <tbody>\n",
       "    <tr>\n",
       "      <th>2022-03-29 09:30:00-04:00</th>\n",
       "      <td>544389.2500</td>\n",
       "      <td>544389.2500</td>\n",
       "      <td>541051.0000</td>\n",
       "      <td>542216.0000</td>\n",
       "      <td>542216.0000</td>\n",
       "      <td>0</td>\n",
       "    </tr>\n",
       "    <tr>\n",
       "      <th>2022-03-29 09:31:00-04:00</th>\n",
       "      <td>542700.0000</td>\n",
       "      <td>543670.0000</td>\n",
       "      <td>541415.0000</td>\n",
       "      <td>541500.0000</td>\n",
       "      <td>541500.0000</td>\n",
       "      <td>17</td>\n",
       "    </tr>\n",
       "    <tr>\n",
       "      <th>2022-03-29 09:32:00-04:00</th>\n",
       "      <td>543340.0000</td>\n",
       "      <td>543340.0000</td>\n",
       "      <td>541176.0625</td>\n",
       "      <td>541176.0625</td>\n",
       "      <td>541176.0625</td>\n",
       "      <td>22</td>\n",
       "    </tr>\n",
       "    <tr>\n",
       "      <th>2022-03-29 09:33:00-04:00</th>\n",
       "      <td>540781.3125</td>\n",
       "      <td>541598.8125</td>\n",
       "      <td>540745.0000</td>\n",
       "      <td>541095.0000</td>\n",
       "      <td>541095.0000</td>\n",
       "      <td>12</td>\n",
       "    </tr>\n",
       "    <tr>\n",
       "      <th>2022-03-29 09:34:00-04:00</th>\n",
       "      <td>541016.3125</td>\n",
       "      <td>541016.3125</td>\n",
       "      <td>540001.5625</td>\n",
       "      <td>540525.0000</td>\n",
       "      <td>540525.0000</td>\n",
       "      <td>12</td>\n",
       "    </tr>\n",
       "    <tr>\n",
       "      <th>...</th>\n",
       "      <td>...</td>\n",
       "      <td>...</td>\n",
       "      <td>...</td>\n",
       "      <td>...</td>\n",
       "      <td>...</td>\n",
       "      <td>...</td>\n",
       "    </tr>\n",
       "    <tr>\n",
       "      <th>2022-04-04 15:55:00-04:00</th>\n",
       "      <td>518360.0000</td>\n",
       "      <td>518360.0000</td>\n",
       "      <td>517800.0000</td>\n",
       "      <td>517800.0000</td>\n",
       "      <td>517800.0000</td>\n",
       "      <td>10</td>\n",
       "    </tr>\n",
       "    <tr>\n",
       "      <th>2022-04-04 15:56:00-04:00</th>\n",
       "      <td>517934.2500</td>\n",
       "      <td>518040.0000</td>\n",
       "      <td>517925.0000</td>\n",
       "      <td>517925.0000</td>\n",
       "      <td>517925.0000</td>\n",
       "      <td>9</td>\n",
       "    </tr>\n",
       "    <tr>\n",
       "      <th>2022-04-04 15:57:00-04:00</th>\n",
       "      <td>517990.0000</td>\n",
       "      <td>518119.5000</td>\n",
       "      <td>517802.1875</td>\n",
       "      <td>517824.6875</td>\n",
       "      <td>517824.6875</td>\n",
       "      <td>8</td>\n",
       "    </tr>\n",
       "    <tr>\n",
       "      <th>2022-04-04 15:58:00-04:00</th>\n",
       "      <td>517850.0000</td>\n",
       "      <td>518071.8125</td>\n",
       "      <td>517500.0000</td>\n",
       "      <td>517960.0000</td>\n",
       "      <td>517960.0000</td>\n",
       "      <td>11</td>\n",
       "    </tr>\n",
       "    <tr>\n",
       "      <th>2022-04-04 15:59:00-04:00</th>\n",
       "      <td>518349.3125</td>\n",
       "      <td>518714.0000</td>\n",
       "      <td>518239.6875</td>\n",
       "      <td>518714.0000</td>\n",
       "      <td>518714.0000</td>\n",
       "      <td>10</td>\n",
       "    </tr>\n",
       "  </tbody>\n",
       "</table>\n",
       "<p>1920 rows × 6 columns</p>\n",
       "</div>"
      ],
      "text/plain": [
       "                                  Open         High          Low        Close  \\\n",
       "Datetime                                                                        \n",
       "2022-03-29 09:30:00-04:00  544389.2500  544389.2500  541051.0000  542216.0000   \n",
       "2022-03-29 09:31:00-04:00  542700.0000  543670.0000  541415.0000  541500.0000   \n",
       "2022-03-29 09:32:00-04:00  543340.0000  543340.0000  541176.0625  541176.0625   \n",
       "2022-03-29 09:33:00-04:00  540781.3125  541598.8125  540745.0000  541095.0000   \n",
       "2022-03-29 09:34:00-04:00  541016.3125  541016.3125  540001.5625  540525.0000   \n",
       "...                                ...          ...          ...          ...   \n",
       "2022-04-04 15:55:00-04:00  518360.0000  518360.0000  517800.0000  517800.0000   \n",
       "2022-04-04 15:56:00-04:00  517934.2500  518040.0000  517925.0000  517925.0000   \n",
       "2022-04-04 15:57:00-04:00  517990.0000  518119.5000  517802.1875  517824.6875   \n",
       "2022-04-04 15:58:00-04:00  517850.0000  518071.8125  517500.0000  517960.0000   \n",
       "2022-04-04 15:59:00-04:00  518349.3125  518714.0000  518239.6875  518714.0000   \n",
       "\n",
       "                             Adj Close  Volume  \n",
       "Datetime                                        \n",
       "2022-03-29 09:30:00-04:00  542216.0000       0  \n",
       "2022-03-29 09:31:00-04:00  541500.0000      17  \n",
       "2022-03-29 09:32:00-04:00  541176.0625      22  \n",
       "2022-03-29 09:33:00-04:00  541095.0000      12  \n",
       "2022-03-29 09:34:00-04:00  540525.0000      12  \n",
       "...                                ...     ...  \n",
       "2022-04-04 15:55:00-04:00  517800.0000      10  \n",
       "2022-04-04 15:56:00-04:00  517925.0000       9  \n",
       "2022-04-04 15:57:00-04:00  517824.6875       8  \n",
       "2022-04-04 15:58:00-04:00  517960.0000      11  \n",
       "2022-04-04 15:59:00-04:00  518714.0000      10  \n",
       "\n",
       "[1920 rows x 6 columns]"
      ]
     },
     "execution_count": 72,
     "metadata": {},
     "output_type": "execute_result"
    }
   ],
   "source": [
    "#Now we import financial data about the selected asset\n",
    "stock = yf.download(tickers='BRK-A',start=\"2022-03-29\", end = \"2022-04-05\", interval='1m')"
   ]
  },
  {
   "cell_type": "code",
   "execution_count": 74,
   "metadata": {},
   "outputs": [
    {
     "name": "stdout",
     "output_type": "stream",
     "text": [
      "[*********************100%***********************]  1 of 1 completed\n"
     ]
    },
    {
     "data": {
      "text/html": [
       "<div>\n",
       "<style scoped>\n",
       "    .dataframe tbody tr th:only-of-type {\n",
       "        vertical-align: middle;\n",
       "    }\n",
       "\n",
       "    .dataframe tbody tr th {\n",
       "        vertical-align: top;\n",
       "    }\n",
       "\n",
       "    .dataframe thead th {\n",
       "        text-align: right;\n",
       "    }\n",
       "</style>\n",
       "<table border=\"1\" class=\"dataframe\">\n",
       "  <thead>\n",
       "    <tr style=\"text-align: right;\">\n",
       "      <th></th>\n",
       "      <th>Close_SP500</th>\n",
       "      <th>Close_raw_Close_SP500</th>\n",
       "    </tr>\n",
       "    <tr>\n",
       "      <th>Datetime</th>\n",
       "      <th></th>\n",
       "      <th></th>\n",
       "    </tr>\n",
       "  </thead>\n",
       "  <tbody>\n",
       "    <tr>\n",
       "      <th>2022-03-29 09:30:00-04:00</th>\n",
       "      <td>4617.959961</td>\n",
       "      <td>4617.959961</td>\n",
       "    </tr>\n",
       "    <tr>\n",
       "      <th>2022-03-29 09:31:00-04:00</th>\n",
       "      <td>4623.459961</td>\n",
       "      <td>4623.459961</td>\n",
       "    </tr>\n",
       "    <tr>\n",
       "      <th>2022-03-29 09:32:00-04:00</th>\n",
       "      <td>4625.500000</td>\n",
       "      <td>4625.500000</td>\n",
       "    </tr>\n",
       "    <tr>\n",
       "      <th>2022-03-29 09:33:00-04:00</th>\n",
       "      <td>4625.399902</td>\n",
       "      <td>4625.399902</td>\n",
       "    </tr>\n",
       "    <tr>\n",
       "      <th>2022-03-29 09:34:00-04:00</th>\n",
       "      <td>4623.629883</td>\n",
       "      <td>4623.629883</td>\n",
       "    </tr>\n",
       "    <tr>\n",
       "      <th>...</th>\n",
       "      <td>...</td>\n",
       "      <td>...</td>\n",
       "    </tr>\n",
       "    <tr>\n",
       "      <th>2022-04-04 15:56:00-04:00</th>\n",
       "      <td>4578.509766</td>\n",
       "      <td>4578.509766</td>\n",
       "    </tr>\n",
       "    <tr>\n",
       "      <th>2022-04-04 15:57:00-04:00</th>\n",
       "      <td>4577.750000</td>\n",
       "      <td>4577.750000</td>\n",
       "    </tr>\n",
       "    <tr>\n",
       "      <th>2022-04-04 15:58:00-04:00</th>\n",
       "      <td>4579.839844</td>\n",
       "      <td>4579.839844</td>\n",
       "    </tr>\n",
       "    <tr>\n",
       "      <th>2022-04-04 15:59:00-04:00</th>\n",
       "      <td>4582.839844</td>\n",
       "      <td>4582.839844</td>\n",
       "    </tr>\n",
       "    <tr>\n",
       "      <th>2022-04-04 16:00:00-04:00</th>\n",
       "      <td>4582.640137</td>\n",
       "      <td>4582.640137</td>\n",
       "    </tr>\n",
       "  </tbody>\n",
       "</table>\n",
       "<p>1947 rows × 2 columns</p>\n",
       "</div>"
      ],
      "text/plain": [
       "                           Close_SP500  Close_raw_Close_SP500\n",
       "Datetime                                                     \n",
       "2022-03-29 09:30:00-04:00  4617.959961            4617.959961\n",
       "2022-03-29 09:31:00-04:00  4623.459961            4623.459961\n",
       "2022-03-29 09:32:00-04:00  4625.500000            4625.500000\n",
       "2022-03-29 09:33:00-04:00  4625.399902            4625.399902\n",
       "2022-03-29 09:34:00-04:00  4623.629883            4623.629883\n",
       "...                                ...                    ...\n",
       "2022-04-04 15:56:00-04:00  4578.509766            4578.509766\n",
       "2022-04-04 15:57:00-04:00  4577.750000            4577.750000\n",
       "2022-04-04 15:58:00-04:00  4579.839844            4579.839844\n",
       "2022-04-04 15:59:00-04:00  4582.839844            4582.839844\n",
       "2022-04-04 16:00:00-04:00  4582.640137            4582.640137\n",
       "\n",
       "[1947 rows x 2 columns]"
      ]
     },
     "execution_count": 74,
     "metadata": {},
     "output_type": "execute_result"
    }
   ],
   "source": [
    "#Now we import financial data about the SP500 index\n",
    "stock2 = yf.download(\"^GSPC\",start=\"2022-03-29\", end = \"2022-04-05\", interval='1m')\n",
    "stock2 = stock2['Close']\n",
    "stock2 = pd.DataFrame(stock2)\n",
    "stock2['Close_SP500'] = stock2['Close']\n",
    "stock2[\"Close_raw_Close_SP500\"] = stock2['Close']\n",
    "stock2 = stock2.drop(['Close'], axis=1)"
   ]
  },
  {
   "cell_type": "code",
   "execution_count": 75,
   "metadata": {},
   "outputs": [],
   "source": [
    "stock = pd.concat([stock, stock2], axis=1).dropna()"
   ]
  },
  {
   "cell_type": "code",
   "execution_count": 76,
   "metadata": {},
   "outputs": [],
   "source": [
    "data = stock\n",
    "data['D'] = data.index\n",
    "data['D'] = data['D'].dt.dayofweek\n",
    "data['D'] = data['D'].dt.dayofweek\n",
    "data['M'] = data['M'].dt.month\n",
    "data['H'] = data.index.hour"
   ]
  },
  {
   "cell_type": "code",
   "execution_count": 83,
   "metadata": {},
   "outputs": [
    {
     "data": {
      "text/html": [
       "<div>\n",
       "<style scoped>\n",
       "    .dataframe tbody tr th:only-of-type {\n",
       "        vertical-align: middle;\n",
       "    }\n",
       "\n",
       "    .dataframe tbody tr th {\n",
       "        vertical-align: top;\n",
       "    }\n",
       "\n",
       "    .dataframe thead th {\n",
       "        text-align: right;\n",
       "    }\n",
       "</style>\n",
       "<table border=\"1\" class=\"dataframe\">\n",
       "  <thead>\n",
       "    <tr style=\"text-align: right;\">\n",
       "      <th></th>\n",
       "      <th>Open</th>\n",
       "      <th>High</th>\n",
       "      <th>Low</th>\n",
       "      <th>Close</th>\n",
       "      <th>Adj Close</th>\n",
       "      <th>Volume</th>\n",
       "      <th>Close_SP500</th>\n",
       "      <th>Close_raw_Close_SP500</th>\n",
       "      <th>D</th>\n",
       "      <th>M</th>\n",
       "      <th>H</th>\n",
       "    </tr>\n",
       "    <tr>\n",
       "      <th>Datetime</th>\n",
       "      <th></th>\n",
       "      <th></th>\n",
       "      <th></th>\n",
       "      <th></th>\n",
       "      <th></th>\n",
       "      <th></th>\n",
       "      <th></th>\n",
       "      <th></th>\n",
       "      <th></th>\n",
       "      <th></th>\n",
       "      <th></th>\n",
       "    </tr>\n",
       "  </thead>\n",
       "  <tbody>\n",
       "    <tr>\n",
       "      <th>2022-03-29 09:30:00-04:00</th>\n",
       "      <td>544389.2500</td>\n",
       "      <td>544389.2500</td>\n",
       "      <td>541051.0000</td>\n",
       "      <td>542216.0000</td>\n",
       "      <td>542216.0000</td>\n",
       "      <td>0.0</td>\n",
       "      <td>4617.959961</td>\n",
       "      <td>4617.959961</td>\n",
       "      <td>1</td>\n",
       "      <td>3</td>\n",
       "      <td>9</td>\n",
       "    </tr>\n",
       "    <tr>\n",
       "      <th>2022-03-29 09:31:00-04:00</th>\n",
       "      <td>542700.0000</td>\n",
       "      <td>543670.0000</td>\n",
       "      <td>541415.0000</td>\n",
       "      <td>541500.0000</td>\n",
       "      <td>541500.0000</td>\n",
       "      <td>17.0</td>\n",
       "      <td>4623.459961</td>\n",
       "      <td>4623.459961</td>\n",
       "      <td>1</td>\n",
       "      <td>3</td>\n",
       "      <td>9</td>\n",
       "    </tr>\n",
       "    <tr>\n",
       "      <th>2022-03-29 09:32:00-04:00</th>\n",
       "      <td>543340.0000</td>\n",
       "      <td>543340.0000</td>\n",
       "      <td>541176.0625</td>\n",
       "      <td>541176.0625</td>\n",
       "      <td>541176.0625</td>\n",
       "      <td>22.0</td>\n",
       "      <td>4625.500000</td>\n",
       "      <td>4625.500000</td>\n",
       "      <td>1</td>\n",
       "      <td>3</td>\n",
       "      <td>9</td>\n",
       "    </tr>\n",
       "    <tr>\n",
       "      <th>2022-03-29 09:33:00-04:00</th>\n",
       "      <td>540781.3125</td>\n",
       "      <td>541598.8125</td>\n",
       "      <td>540745.0000</td>\n",
       "      <td>541095.0000</td>\n",
       "      <td>541095.0000</td>\n",
       "      <td>12.0</td>\n",
       "      <td>4625.399902</td>\n",
       "      <td>4625.399902</td>\n",
       "      <td>1</td>\n",
       "      <td>3</td>\n",
       "      <td>9</td>\n",
       "    </tr>\n",
       "    <tr>\n",
       "      <th>2022-03-29 09:34:00-04:00</th>\n",
       "      <td>541016.3125</td>\n",
       "      <td>541016.3125</td>\n",
       "      <td>540001.5625</td>\n",
       "      <td>540525.0000</td>\n",
       "      <td>540525.0000</td>\n",
       "      <td>12.0</td>\n",
       "      <td>4623.629883</td>\n",
       "      <td>4623.629883</td>\n",
       "      <td>1</td>\n",
       "      <td>3</td>\n",
       "      <td>9</td>\n",
       "    </tr>\n",
       "    <tr>\n",
       "      <th>...</th>\n",
       "      <td>...</td>\n",
       "      <td>...</td>\n",
       "      <td>...</td>\n",
       "      <td>...</td>\n",
       "      <td>...</td>\n",
       "      <td>...</td>\n",
       "      <td>...</td>\n",
       "      <td>...</td>\n",
       "      <td>...</td>\n",
       "      <td>...</td>\n",
       "      <td>...</td>\n",
       "    </tr>\n",
       "    <tr>\n",
       "      <th>2022-04-04 15:55:00-04:00</th>\n",
       "      <td>518360.0000</td>\n",
       "      <td>518360.0000</td>\n",
       "      <td>517800.0000</td>\n",
       "      <td>517800.0000</td>\n",
       "      <td>517800.0000</td>\n",
       "      <td>10.0</td>\n",
       "      <td>4578.410156</td>\n",
       "      <td>4578.410156</td>\n",
       "      <td>0</td>\n",
       "      <td>4</td>\n",
       "      <td>15</td>\n",
       "    </tr>\n",
       "    <tr>\n",
       "      <th>2022-04-04 15:56:00-04:00</th>\n",
       "      <td>517934.2500</td>\n",
       "      <td>518040.0000</td>\n",
       "      <td>517925.0000</td>\n",
       "      <td>517925.0000</td>\n",
       "      <td>517925.0000</td>\n",
       "      <td>9.0</td>\n",
       "      <td>4578.509766</td>\n",
       "      <td>4578.509766</td>\n",
       "      <td>0</td>\n",
       "      <td>4</td>\n",
       "      <td>15</td>\n",
       "    </tr>\n",
       "    <tr>\n",
       "      <th>2022-04-04 15:57:00-04:00</th>\n",
       "      <td>517990.0000</td>\n",
       "      <td>518119.5000</td>\n",
       "      <td>517802.1875</td>\n",
       "      <td>517824.6875</td>\n",
       "      <td>517824.6875</td>\n",
       "      <td>8.0</td>\n",
       "      <td>4577.750000</td>\n",
       "      <td>4577.750000</td>\n",
       "      <td>0</td>\n",
       "      <td>4</td>\n",
       "      <td>15</td>\n",
       "    </tr>\n",
       "    <tr>\n",
       "      <th>2022-04-04 15:58:00-04:00</th>\n",
       "      <td>517850.0000</td>\n",
       "      <td>518071.8125</td>\n",
       "      <td>517500.0000</td>\n",
       "      <td>517960.0000</td>\n",
       "      <td>517960.0000</td>\n",
       "      <td>11.0</td>\n",
       "      <td>4579.839844</td>\n",
       "      <td>4579.839844</td>\n",
       "      <td>0</td>\n",
       "      <td>4</td>\n",
       "      <td>15</td>\n",
       "    </tr>\n",
       "    <tr>\n",
       "      <th>2022-04-04 15:59:00-04:00</th>\n",
       "      <td>518349.3125</td>\n",
       "      <td>518714.0000</td>\n",
       "      <td>518239.6875</td>\n",
       "      <td>518714.0000</td>\n",
       "      <td>518714.0000</td>\n",
       "      <td>10.0</td>\n",
       "      <td>4582.839844</td>\n",
       "      <td>4582.839844</td>\n",
       "      <td>0</td>\n",
       "      <td>4</td>\n",
       "      <td>15</td>\n",
       "    </tr>\n",
       "  </tbody>\n",
       "</table>\n",
       "<p>1916 rows × 11 columns</p>\n",
       "</div>"
      ],
      "text/plain": [
       "                                  Open         High          Low        Close  \\\n",
       "Datetime                                                                        \n",
       "2022-03-29 09:30:00-04:00  544389.2500  544389.2500  541051.0000  542216.0000   \n",
       "2022-03-29 09:31:00-04:00  542700.0000  543670.0000  541415.0000  541500.0000   \n",
       "2022-03-29 09:32:00-04:00  543340.0000  543340.0000  541176.0625  541176.0625   \n",
       "2022-03-29 09:33:00-04:00  540781.3125  541598.8125  540745.0000  541095.0000   \n",
       "2022-03-29 09:34:00-04:00  541016.3125  541016.3125  540001.5625  540525.0000   \n",
       "...                                ...          ...          ...          ...   \n",
       "2022-04-04 15:55:00-04:00  518360.0000  518360.0000  517800.0000  517800.0000   \n",
       "2022-04-04 15:56:00-04:00  517934.2500  518040.0000  517925.0000  517925.0000   \n",
       "2022-04-04 15:57:00-04:00  517990.0000  518119.5000  517802.1875  517824.6875   \n",
       "2022-04-04 15:58:00-04:00  517850.0000  518071.8125  517500.0000  517960.0000   \n",
       "2022-04-04 15:59:00-04:00  518349.3125  518714.0000  518239.6875  518714.0000   \n",
       "\n",
       "                             Adj Close  Volume  Close_SP500  \\\n",
       "Datetime                                                      \n",
       "2022-03-29 09:30:00-04:00  542216.0000     0.0  4617.959961   \n",
       "2022-03-29 09:31:00-04:00  541500.0000    17.0  4623.459961   \n",
       "2022-03-29 09:32:00-04:00  541176.0625    22.0  4625.500000   \n",
       "2022-03-29 09:33:00-04:00  541095.0000    12.0  4625.399902   \n",
       "2022-03-29 09:34:00-04:00  540525.0000    12.0  4623.629883   \n",
       "...                                ...     ...          ...   \n",
       "2022-04-04 15:55:00-04:00  517800.0000    10.0  4578.410156   \n",
       "2022-04-04 15:56:00-04:00  517925.0000     9.0  4578.509766   \n",
       "2022-04-04 15:57:00-04:00  517824.6875     8.0  4577.750000   \n",
       "2022-04-04 15:58:00-04:00  517960.0000    11.0  4579.839844   \n",
       "2022-04-04 15:59:00-04:00  518714.0000    10.0  4582.839844   \n",
       "\n",
       "                           Close_raw_Close_SP500  D  M   H  \n",
       "Datetime                                                    \n",
       "2022-03-29 09:30:00-04:00            4617.959961  1  3   9  \n",
       "2022-03-29 09:31:00-04:00            4623.459961  1  3   9  \n",
       "2022-03-29 09:32:00-04:00            4625.500000  1  3   9  \n",
       "2022-03-29 09:33:00-04:00            4625.399902  1  3   9  \n",
       "2022-03-29 09:34:00-04:00            4623.629883  1  3   9  \n",
       "...                                          ... .. ..  ..  \n",
       "2022-04-04 15:55:00-04:00            4578.410156  0  4  15  \n",
       "2022-04-04 15:56:00-04:00            4578.509766  0  4  15  \n",
       "2022-04-04 15:57:00-04:00            4577.750000  0  4  15  \n",
       "2022-04-04 15:58:00-04:00            4579.839844  0  4  15  \n",
       "2022-04-04 15:59:00-04:00            4582.839844  0  4  15  \n",
       "\n",
       "[1916 rows x 11 columns]"
      ]
     },
     "execution_count": 83,
     "metadata": {},
     "output_type": "execute_result"
    }
   ],
   "source": [
    "data"
   ]
  },
  {
   "cell_type": "code",
   "execution_count": 84,
   "metadata": {},
   "outputs": [
    {
     "data": {
      "text/html": [
       "<div>\n",
       "<style scoped>\n",
       "    .dataframe tbody tr th:only-of-type {\n",
       "        vertical-align: middle;\n",
       "    }\n",
       "\n",
       "    .dataframe tbody tr th {\n",
       "        vertical-align: top;\n",
       "    }\n",
       "\n",
       "    .dataframe thead th {\n",
       "        text-align: right;\n",
       "    }\n",
       "</style>\n",
       "<table border=\"1\" class=\"dataframe\">\n",
       "  <thead>\n",
       "    <tr style=\"text-align: right;\">\n",
       "      <th></th>\n",
       "      <th>Close_SP500</th>\n",
       "      <th>Open_</th>\n",
       "      <th>High_</th>\n",
       "      <th>Low_</th>\n",
       "      <th>Close_</th>\n",
       "      <th>Adj Close_</th>\n",
       "    </tr>\n",
       "    <tr>\n",
       "      <th>Datetime</th>\n",
       "      <th></th>\n",
       "      <th></th>\n",
       "      <th></th>\n",
       "      <th></th>\n",
       "      <th></th>\n",
       "      <th></th>\n",
       "    </tr>\n",
       "  </thead>\n",
       "  <tbody>\n",
       "    <tr>\n",
       "      <th>2022-03-29 09:31:00-04:00</th>\n",
       "      <td>0.001191</td>\n",
       "      <td>-0.003103</td>\n",
       "      <td>-0.001321</td>\n",
       "      <td>0.000673</td>\n",
       "      <td>-0.001321</td>\n",
       "      <td>-0.001321</td>\n",
       "    </tr>\n",
       "    <tr>\n",
       "      <th>2022-03-29 09:32:00-04:00</th>\n",
       "      <td>0.000441</td>\n",
       "      <td>0.001179</td>\n",
       "      <td>-0.000607</td>\n",
       "      <td>-0.000441</td>\n",
       "      <td>-0.000598</td>\n",
       "      <td>-0.000598</td>\n",
       "    </tr>\n",
       "    <tr>\n",
       "      <th>2022-03-29 09:33:00-04:00</th>\n",
       "      <td>-0.000022</td>\n",
       "      <td>-0.004709</td>\n",
       "      <td>-0.003205</td>\n",
       "      <td>-0.000797</td>\n",
       "      <td>-0.000150</td>\n",
       "      <td>-0.000150</td>\n",
       "    </tr>\n",
       "    <tr>\n",
       "      <th>2022-03-29 09:34:00-04:00</th>\n",
       "      <td>-0.000383</td>\n",
       "      <td>0.000435</td>\n",
       "      <td>-0.001076</td>\n",
       "      <td>-0.001375</td>\n",
       "      <td>-0.001053</td>\n",
       "      <td>-0.001053</td>\n",
       "    </tr>\n",
       "    <tr>\n",
       "      <th>2022-03-29 09:35:00-04:00</th>\n",
       "      <td>-0.000002</td>\n",
       "      <td>-0.000400</td>\n",
       "      <td>0.001254</td>\n",
       "      <td>0.000793</td>\n",
       "      <td>0.000957</td>\n",
       "      <td>0.000957</td>\n",
       "    </tr>\n",
       "    <tr>\n",
       "      <th>...</th>\n",
       "      <td>...</td>\n",
       "      <td>...</td>\n",
       "      <td>...</td>\n",
       "      <td>...</td>\n",
       "      <td>...</td>\n",
       "      <td>...</td>\n",
       "    </tr>\n",
       "    <tr>\n",
       "      <th>2022-04-04 15:55:00-04:00</th>\n",
       "      <td>-0.000596</td>\n",
       "      <td>0.000425</td>\n",
       "      <td>-0.000154</td>\n",
       "      <td>-0.000656</td>\n",
       "      <td>-0.001234</td>\n",
       "      <td>-0.001234</td>\n",
       "    </tr>\n",
       "    <tr>\n",
       "      <th>2022-04-04 15:56:00-04:00</th>\n",
       "      <td>0.000022</td>\n",
       "      <td>-0.000821</td>\n",
       "      <td>-0.000617</td>\n",
       "      <td>0.000241</td>\n",
       "      <td>0.000241</td>\n",
       "      <td>0.000241</td>\n",
       "    </tr>\n",
       "    <tr>\n",
       "      <th>2022-04-04 15:57:00-04:00</th>\n",
       "      <td>-0.000166</td>\n",
       "      <td>0.000108</td>\n",
       "      <td>0.000153</td>\n",
       "      <td>-0.000237</td>\n",
       "      <td>-0.000194</td>\n",
       "      <td>-0.000194</td>\n",
       "    </tr>\n",
       "    <tr>\n",
       "      <th>2022-04-04 15:58:00-04:00</th>\n",
       "      <td>0.000457</td>\n",
       "      <td>-0.000270</td>\n",
       "      <td>-0.000092</td>\n",
       "      <td>-0.000584</td>\n",
       "      <td>0.000261</td>\n",
       "      <td>0.000261</td>\n",
       "    </tr>\n",
       "    <tr>\n",
       "      <th>2022-04-04 15:59:00-04:00</th>\n",
       "      <td>0.000655</td>\n",
       "      <td>0.000964</td>\n",
       "      <td>0.001240</td>\n",
       "      <td>0.001429</td>\n",
       "      <td>0.001456</td>\n",
       "      <td>0.001456</td>\n",
       "    </tr>\n",
       "  </tbody>\n",
       "</table>\n",
       "<p>1915 rows × 6 columns</p>\n",
       "</div>"
      ],
      "text/plain": [
       "                           Close_SP500     Open_     High_      Low_  \\\n",
       "Datetime                                                               \n",
       "2022-03-29 09:31:00-04:00     0.001191 -0.003103 -0.001321  0.000673   \n",
       "2022-03-29 09:32:00-04:00     0.000441  0.001179 -0.000607 -0.000441   \n",
       "2022-03-29 09:33:00-04:00    -0.000022 -0.004709 -0.003205 -0.000797   \n",
       "2022-03-29 09:34:00-04:00    -0.000383  0.000435 -0.001076 -0.001375   \n",
       "2022-03-29 09:35:00-04:00    -0.000002 -0.000400  0.001254  0.000793   \n",
       "...                                ...       ...       ...       ...   \n",
       "2022-04-04 15:55:00-04:00    -0.000596  0.000425 -0.000154 -0.000656   \n",
       "2022-04-04 15:56:00-04:00     0.000022 -0.000821 -0.000617  0.000241   \n",
       "2022-04-04 15:57:00-04:00    -0.000166  0.000108  0.000153 -0.000237   \n",
       "2022-04-04 15:58:00-04:00     0.000457 -0.000270 -0.000092 -0.000584   \n",
       "2022-04-04 15:59:00-04:00     0.000655  0.000964  0.001240  0.001429   \n",
       "\n",
       "                             Close_  Adj Close_  \n",
       "Datetime                                         \n",
       "2022-03-29 09:31:00-04:00 -0.001321   -0.001321  \n",
       "2022-03-29 09:32:00-04:00 -0.000598   -0.000598  \n",
       "2022-03-29 09:33:00-04:00 -0.000150   -0.000150  \n",
       "2022-03-29 09:34:00-04:00 -0.001053   -0.001053  \n",
       "2022-03-29 09:35:00-04:00  0.000957    0.000957  \n",
       "...                             ...         ...  \n",
       "2022-04-04 15:55:00-04:00 -0.001234   -0.001234  \n",
       "2022-04-04 15:56:00-04:00  0.000241    0.000241  \n",
       "2022-04-04 15:57:00-04:00 -0.000194   -0.000194  \n",
       "2022-04-04 15:58:00-04:00  0.000261    0.000261  \n",
       "2022-04-04 15:59:00-04:00  0.001456    0.001456  \n",
       "\n",
       "[1915 rows x 6 columns]"
      ]
     },
     "execution_count": 84,
     "metadata": {},
     "output_type": "execute_result"
    }
   ],
   "source": [
    "returns = data[['Open', 'High', 'Low', 'Close', 'Adj Close', 'Close_SP500']].pct_change().dropna()\n",
    "returns[['Open_', 'High_', 'Low_', 'Close_', 'Adj Close_']] = returns[['Open', 'High', 'Low', 'Close', 'Adj Close']]\n",
    "returns = returns.drop(['Open', 'High', 'Low', 'Close', 'Adj Close'], axis=1)\n",
    "returns"
   ]
  },
  {
   "cell_type": "code",
   "execution_count": 85,
   "metadata": {},
   "outputs": [],
   "source": [
    "data[['Open', 'High', 'Low', 'Close', 'Adj Close', 'Close_SP500']] = returns\n",
    "data = data[-(len(data)-1):]"
   ]
  },
  {
   "cell_type": "code",
   "execution_count": 92,
   "metadata": {},
   "outputs": [],
   "source": [
    "data['lag_Close_raw_Close_SP500'] = \"\"\n",
    "data['lag_Close_SP500'] = \"\"\n",
    "\n",
    "for i in range (0, len(data)):\n",
    "    if(pd.isna(data['Close_raw_Close_SP500'].iloc[i])==False):\n",
    "        data['lag_Close_raw_Close_SP500'].iloc[i] = data['Close_raw_Close_SP500'].iloc[i-1]\n",
    "    else:\n",
    "        data['lag_Close_raw_Close_SP500'].iloc[i] = 0\n",
    "        \n",
    "for i in range (0, len(data)):\n",
    "    if(pd.isna(data['Close_SP500'].iloc[i])==False):\n",
    "        data['lag_Close_SP500'].iloc[i] = data['Close_SP500'].iloc[i-1]\n",
    "    else:\n",
    "        data['lag_Close_SP500'].iloc[i] = 0\n",
    "        \n",
    "data['lag_Close_raw_Close_SP500'].iloc[0] = np.nan\n",
    "data['lag_Close_SP500'].iloc[0] = np.nan\n",
    "l = len(data)-1\n",
    "data = data[-l:]"
   ]
  },
  {
   "cell_type": "code",
   "execution_count": 93,
   "metadata": {},
   "outputs": [],
   "source": [
    "data['time_stamp'] = data.index\n",
    "data.index = data['time_stamp'].dt.strftime('%Y-%m-%d %H:%M')\n",
    "data = data.drop(['time_stamp'], axis = 1)"
   ]
  },
  {
   "cell_type": "code",
   "execution_count": 97,
   "metadata": {},
   "outputs": [],
   "source": [
    "df_without_text['time_stamp_key'] = df_without_text['time_stamp']"
   ]
  },
  {
   "cell_type": "code",
   "execution_count": 98,
   "metadata": {},
   "outputs": [],
   "source": [
    "df_without_text = df_without_text.drop('time_stamp', axis=1)"
   ]
  },
  {
   "cell_type": "code",
   "execution_count": 99,
   "metadata": {},
   "outputs": [],
   "source": [
    "data['time_stamp_key'] = data.index"
   ]
  },
  {
   "cell_type": "code",
   "execution_count": 100,
   "metadata": {},
   "outputs": [],
   "source": [
    "data = pd.merge(data, df_without_text, on=[\"time_stamp_key\"], how='outer')[:-10]"
   ]
  },
  {
   "cell_type": "code",
   "execution_count": 101,
   "metadata": {},
   "outputs": [],
   "source": [
    "data = data.fillna(0)"
   ]
  },
  {
   "cell_type": "code",
   "execution_count": 102,
   "metadata": {},
   "outputs": [],
   "source": [
    "data = data[:-10]"
   ]
  },
  {
   "cell_type": "code",
   "execution_count": 103,
   "metadata": {},
   "outputs": [],
   "source": [
    "data.index= data['time_stamp_key']"
   ]
  },
  {
   "cell_type": "code",
   "execution_count": 105,
   "metadata": {},
   "outputs": [
    {
     "data": {
      "text/html": [
       "<div>\n",
       "<style scoped>\n",
       "    .dataframe tbody tr th:only-of-type {\n",
       "        vertical-align: middle;\n",
       "    }\n",
       "\n",
       "    .dataframe tbody tr th {\n",
       "        vertical-align: top;\n",
       "    }\n",
       "\n",
       "    .dataframe thead th {\n",
       "        text-align: right;\n",
       "    }\n",
       "</style>\n",
       "<table border=\"1\" class=\"dataframe\">\n",
       "  <thead>\n",
       "    <tr style=\"text-align: right;\">\n",
       "      <th></th>\n",
       "      <th>Open</th>\n",
       "      <th>High</th>\n",
       "      <th>Low</th>\n",
       "      <th>Close</th>\n",
       "      <th>Adj Close</th>\n",
       "      <th>Volume</th>\n",
       "      <th>Close_SP500</th>\n",
       "      <th>Close_raw_Close_SP500</th>\n",
       "      <th>D</th>\n",
       "      <th>M</th>\n",
       "      <th>...</th>\n",
       "      <th>lag_Close_raw_Close_SP500</th>\n",
       "      <th>lag_Close_SP500</th>\n",
       "      <th>time_stamp_key</th>\n",
       "      <th>retweet_count</th>\n",
       "      <th>reply_count</th>\n",
       "      <th>like_count</th>\n",
       "      <th>quote_count</th>\n",
       "      <th>Negative</th>\n",
       "      <th>Positive</th>\n",
       "      <th>Neutral</th>\n",
       "    </tr>\n",
       "    <tr>\n",
       "      <th>time_stamp_key</th>\n",
       "      <th></th>\n",
       "      <th></th>\n",
       "      <th></th>\n",
       "      <th></th>\n",
       "      <th></th>\n",
       "      <th></th>\n",
       "      <th></th>\n",
       "      <th></th>\n",
       "      <th></th>\n",
       "      <th></th>\n",
       "      <th></th>\n",
       "      <th></th>\n",
       "      <th></th>\n",
       "      <th></th>\n",
       "      <th></th>\n",
       "      <th></th>\n",
       "      <th></th>\n",
       "      <th></th>\n",
       "      <th></th>\n",
       "      <th></th>\n",
       "      <th></th>\n",
       "    </tr>\n",
       "  </thead>\n",
       "  <tbody>\n",
       "    <tr>\n",
       "      <th>2022-03-29 09:32</th>\n",
       "      <td>0.000441</td>\n",
       "      <td>0.001179</td>\n",
       "      <td>-0.000607</td>\n",
       "      <td>-0.000441</td>\n",
       "      <td>-0.000598</td>\n",
       "      <td>22.0</td>\n",
       "      <td>-0.000598</td>\n",
       "      <td>4625.500000</td>\n",
       "      <td>1.0</td>\n",
       "      <td>3.0</td>\n",
       "      <td>...</td>\n",
       "      <td>4623.459961</td>\n",
       "      <td>-0.001321</td>\n",
       "      <td>2022-03-29 09:32</td>\n",
       "      <td>0.0</td>\n",
       "      <td>0.0</td>\n",
       "      <td>0.0</td>\n",
       "      <td>0.0</td>\n",
       "      <td>0.000000</td>\n",
       "      <td>0.000000</td>\n",
       "      <td>0.000000</td>\n",
       "    </tr>\n",
       "    <tr>\n",
       "      <th>2022-03-29 09:33</th>\n",
       "      <td>-0.000022</td>\n",
       "      <td>-0.004709</td>\n",
       "      <td>-0.003205</td>\n",
       "      <td>-0.000797</td>\n",
       "      <td>-0.000150</td>\n",
       "      <td>12.0</td>\n",
       "      <td>-0.000150</td>\n",
       "      <td>4625.399902</td>\n",
       "      <td>1.0</td>\n",
       "      <td>3.0</td>\n",
       "      <td>...</td>\n",
       "      <td>4625.500000</td>\n",
       "      <td>-0.000598</td>\n",
       "      <td>2022-03-29 09:33</td>\n",
       "      <td>0.0</td>\n",
       "      <td>0.0</td>\n",
       "      <td>0.0</td>\n",
       "      <td>0.0</td>\n",
       "      <td>0.615385</td>\n",
       "      <td>0.666667</td>\n",
       "      <td>0.583333</td>\n",
       "    </tr>\n",
       "    <tr>\n",
       "      <th>2022-03-29 09:34</th>\n",
       "      <td>-0.000383</td>\n",
       "      <td>0.000435</td>\n",
       "      <td>-0.001076</td>\n",
       "      <td>-0.001375</td>\n",
       "      <td>-0.001053</td>\n",
       "      <td>12.0</td>\n",
       "      <td>-0.001053</td>\n",
       "      <td>4623.629883</td>\n",
       "      <td>1.0</td>\n",
       "      <td>3.0</td>\n",
       "      <td>...</td>\n",
       "      <td>4625.399902</td>\n",
       "      <td>-0.000150</td>\n",
       "      <td>2022-03-29 09:34</td>\n",
       "      <td>0.0</td>\n",
       "      <td>0.0</td>\n",
       "      <td>0.0</td>\n",
       "      <td>0.0</td>\n",
       "      <td>0.000000</td>\n",
       "      <td>0.000000</td>\n",
       "      <td>0.000000</td>\n",
       "    </tr>\n",
       "    <tr>\n",
       "      <th>2022-03-29 09:35</th>\n",
       "      <td>-0.000002</td>\n",
       "      <td>-0.000400</td>\n",
       "      <td>0.001254</td>\n",
       "      <td>0.000793</td>\n",
       "      <td>0.000957</td>\n",
       "      <td>14.0</td>\n",
       "      <td>0.000957</td>\n",
       "      <td>4623.620117</td>\n",
       "      <td>1.0</td>\n",
       "      <td>3.0</td>\n",
       "      <td>...</td>\n",
       "      <td>4623.629883</td>\n",
       "      <td>-0.001053</td>\n",
       "      <td>2022-03-29 09:35</td>\n",
       "      <td>0.0</td>\n",
       "      <td>0.0</td>\n",
       "      <td>0.0</td>\n",
       "      <td>0.0</td>\n",
       "      <td>0.000000</td>\n",
       "      <td>0.000000</td>\n",
       "      <td>0.000000</td>\n",
       "    </tr>\n",
       "    <tr>\n",
       "      <th>2022-03-29 09:36</th>\n",
       "      <td>-0.000882</td>\n",
       "      <td>-0.000250</td>\n",
       "      <td>-0.001274</td>\n",
       "      <td>-0.000130</td>\n",
       "      <td>-0.001261</td>\n",
       "      <td>12.0</td>\n",
       "      <td>-0.001261</td>\n",
       "      <td>4619.540039</td>\n",
       "      <td>1.0</td>\n",
       "      <td>3.0</td>\n",
       "      <td>...</td>\n",
       "      <td>4623.620117</td>\n",
       "      <td>0.000957</td>\n",
       "      <td>2022-03-29 09:36</td>\n",
       "      <td>1.0</td>\n",
       "      <td>0.0</td>\n",
       "      <td>0.0</td>\n",
       "      <td>0.0</td>\n",
       "      <td>0.724138</td>\n",
       "      <td>0.777778</td>\n",
       "      <td>0.586207</td>\n",
       "    </tr>\n",
       "    <tr>\n",
       "      <th>...</th>\n",
       "      <td>...</td>\n",
       "      <td>...</td>\n",
       "      <td>...</td>\n",
       "      <td>...</td>\n",
       "      <td>...</td>\n",
       "      <td>...</td>\n",
       "      <td>...</td>\n",
       "      <td>...</td>\n",
       "      <td>...</td>\n",
       "      <td>...</td>\n",
       "      <td>...</td>\n",
       "      <td>...</td>\n",
       "      <td>...</td>\n",
       "      <td>...</td>\n",
       "      <td>...</td>\n",
       "      <td>...</td>\n",
       "      <td>...</td>\n",
       "      <td>...</td>\n",
       "      <td>...</td>\n",
       "      <td>...</td>\n",
       "      <td>...</td>\n",
       "    </tr>\n",
       "    <tr>\n",
       "      <th>2022-04-04 15:45</th>\n",
       "      <td>0.000112</td>\n",
       "      <td>0.000435</td>\n",
       "      <td>0.000290</td>\n",
       "      <td>0.000046</td>\n",
       "      <td>0.000702</td>\n",
       "      <td>11.0</td>\n",
       "      <td>0.000702</td>\n",
       "      <td>4575.720215</td>\n",
       "      <td>0.0</td>\n",
       "      <td>4.0</td>\n",
       "      <td>...</td>\n",
       "      <td>4575.209961</td>\n",
       "      <td>0.000196</td>\n",
       "      <td>2022-04-04 15:45</td>\n",
       "      <td>0.0</td>\n",
       "      <td>0.0</td>\n",
       "      <td>0.0</td>\n",
       "      <td>0.0</td>\n",
       "      <td>0.000000</td>\n",
       "      <td>0.000000</td>\n",
       "      <td>0.000000</td>\n",
       "    </tr>\n",
       "    <tr>\n",
       "      <th>2022-04-04 15:46</th>\n",
       "      <td>0.000310</td>\n",
       "      <td>0.000415</td>\n",
       "      <td>0.000122</td>\n",
       "      <td>0.000717</td>\n",
       "      <td>-0.000098</td>\n",
       "      <td>7.0</td>\n",
       "      <td>-0.000098</td>\n",
       "      <td>4577.140137</td>\n",
       "      <td>0.0</td>\n",
       "      <td>4.0</td>\n",
       "      <td>...</td>\n",
       "      <td>4575.720215</td>\n",
       "      <td>0.000702</td>\n",
       "      <td>2022-04-04 15:46</td>\n",
       "      <td>388.0</td>\n",
       "      <td>0.0</td>\n",
       "      <td>0.0</td>\n",
       "      <td>0.0</td>\n",
       "      <td>0.714286</td>\n",
       "      <td>0.769231</td>\n",
       "      <td>0.760000</td>\n",
       "    </tr>\n",
       "    <tr>\n",
       "      <th>2022-04-04 15:47</th>\n",
       "      <td>0.000350</td>\n",
       "      <td>0.000188</td>\n",
       "      <td>0.000147</td>\n",
       "      <td>0.000275</td>\n",
       "      <td>0.000159</td>\n",
       "      <td>7.0</td>\n",
       "      <td>0.000159</td>\n",
       "      <td>4578.740234</td>\n",
       "      <td>0.0</td>\n",
       "      <td>4.0</td>\n",
       "      <td>...</td>\n",
       "      <td>4577.140137</td>\n",
       "      <td>-0.000098</td>\n",
       "      <td>2022-04-04 15:47</td>\n",
       "      <td>0.0</td>\n",
       "      <td>0.0</td>\n",
       "      <td>0.0</td>\n",
       "      <td>0.0</td>\n",
       "      <td>0.000000</td>\n",
       "      <td>0.000000</td>\n",
       "      <td>0.000000</td>\n",
       "    </tr>\n",
       "    <tr>\n",
       "      <th>2022-04-04 15:48</th>\n",
       "      <td>0.000116</td>\n",
       "      <td>0.000640</td>\n",
       "      <td>0.000851</td>\n",
       "      <td>0.000640</td>\n",
       "      <td>0.000999</td>\n",
       "      <td>11.0</td>\n",
       "      <td>0.000999</td>\n",
       "      <td>4579.270020</td>\n",
       "      <td>0.0</td>\n",
       "      <td>4.0</td>\n",
       "      <td>...</td>\n",
       "      <td>4578.740234</td>\n",
       "      <td>0.000159</td>\n",
       "      <td>2022-04-04 15:48</td>\n",
       "      <td>388.0</td>\n",
       "      <td>0.0</td>\n",
       "      <td>0.0</td>\n",
       "      <td>0.0</td>\n",
       "      <td>0.714286</td>\n",
       "      <td>0.769231</td>\n",
       "      <td>0.760000</td>\n",
       "    </tr>\n",
       "    <tr>\n",
       "      <th>2022-04-04 15:49</th>\n",
       "      <td>-0.000408</td>\n",
       "      <td>0.000305</td>\n",
       "      <td>-0.000038</td>\n",
       "      <td>0.000232</td>\n",
       "      <td>-0.000260</td>\n",
       "      <td>5.0</td>\n",
       "      <td>-0.000260</td>\n",
       "      <td>4577.399902</td>\n",
       "      <td>0.0</td>\n",
       "      <td>4.0</td>\n",
       "      <td>...</td>\n",
       "      <td>4579.270020</td>\n",
       "      <td>0.000999</td>\n",
       "      <td>2022-04-04 15:49</td>\n",
       "      <td>388.0</td>\n",
       "      <td>0.0</td>\n",
       "      <td>0.0</td>\n",
       "      <td>0.0</td>\n",
       "      <td>0.714286</td>\n",
       "      <td>0.769231</td>\n",
       "      <td>0.760000</td>\n",
       "    </tr>\n",
       "  </tbody>\n",
       "</table>\n",
       "<p>1904 rows × 21 columns</p>\n",
       "</div>"
      ],
      "text/plain": [
       "                      Open      High       Low     Close  Adj Close  Volume  \\\n",
       "time_stamp_key                                                                \n",
       "2022-03-29 09:32  0.000441  0.001179 -0.000607 -0.000441  -0.000598    22.0   \n",
       "2022-03-29 09:33 -0.000022 -0.004709 -0.003205 -0.000797  -0.000150    12.0   \n",
       "2022-03-29 09:34 -0.000383  0.000435 -0.001076 -0.001375  -0.001053    12.0   \n",
       "2022-03-29 09:35 -0.000002 -0.000400  0.001254  0.000793   0.000957    14.0   \n",
       "2022-03-29 09:36 -0.000882 -0.000250 -0.001274 -0.000130  -0.001261    12.0   \n",
       "...                    ...       ...       ...       ...        ...     ...   \n",
       "2022-04-04 15:45  0.000112  0.000435  0.000290  0.000046   0.000702    11.0   \n",
       "2022-04-04 15:46  0.000310  0.000415  0.000122  0.000717  -0.000098     7.0   \n",
       "2022-04-04 15:47  0.000350  0.000188  0.000147  0.000275   0.000159     7.0   \n",
       "2022-04-04 15:48  0.000116  0.000640  0.000851  0.000640   0.000999    11.0   \n",
       "2022-04-04 15:49 -0.000408  0.000305 -0.000038  0.000232  -0.000260     5.0   \n",
       "\n",
       "                  Close_SP500  Close_raw_Close_SP500    D    M  ...  \\\n",
       "time_stamp_key                                                  ...   \n",
       "2022-03-29 09:32    -0.000598            4625.500000  1.0  3.0  ...   \n",
       "2022-03-29 09:33    -0.000150            4625.399902  1.0  3.0  ...   \n",
       "2022-03-29 09:34    -0.001053            4623.629883  1.0  3.0  ...   \n",
       "2022-03-29 09:35     0.000957            4623.620117  1.0  3.0  ...   \n",
       "2022-03-29 09:36    -0.001261            4619.540039  1.0  3.0  ...   \n",
       "...                       ...                    ...  ...  ...  ...   \n",
       "2022-04-04 15:45     0.000702            4575.720215  0.0  4.0  ...   \n",
       "2022-04-04 15:46    -0.000098            4577.140137  0.0  4.0  ...   \n",
       "2022-04-04 15:47     0.000159            4578.740234  0.0  4.0  ...   \n",
       "2022-04-04 15:48     0.000999            4579.270020  0.0  4.0  ...   \n",
       "2022-04-04 15:49    -0.000260            4577.399902  0.0  4.0  ...   \n",
       "\n",
       "                  lag_Close_raw_Close_SP500  lag_Close_SP500  \\\n",
       "time_stamp_key                                                 \n",
       "2022-03-29 09:32                4623.459961        -0.001321   \n",
       "2022-03-29 09:33                4625.500000        -0.000598   \n",
       "2022-03-29 09:34                4625.399902        -0.000150   \n",
       "2022-03-29 09:35                4623.629883        -0.001053   \n",
       "2022-03-29 09:36                4623.620117         0.000957   \n",
       "...                                     ...              ...   \n",
       "2022-04-04 15:45                4575.209961         0.000196   \n",
       "2022-04-04 15:46                4575.720215         0.000702   \n",
       "2022-04-04 15:47                4577.140137        -0.000098   \n",
       "2022-04-04 15:48                4578.740234         0.000159   \n",
       "2022-04-04 15:49                4579.270020         0.000999   \n",
       "\n",
       "                    time_stamp_key retweet_count  reply_count  like_count  \\\n",
       "time_stamp_key                                                              \n",
       "2022-03-29 09:32  2022-03-29 09:32           0.0          0.0         0.0   \n",
       "2022-03-29 09:33  2022-03-29 09:33           0.0          0.0         0.0   \n",
       "2022-03-29 09:34  2022-03-29 09:34           0.0          0.0         0.0   \n",
       "2022-03-29 09:35  2022-03-29 09:35           0.0          0.0         0.0   \n",
       "2022-03-29 09:36  2022-03-29 09:36           1.0          0.0         0.0   \n",
       "...                            ...           ...          ...         ...   \n",
       "2022-04-04 15:45  2022-04-04 15:45           0.0          0.0         0.0   \n",
       "2022-04-04 15:46  2022-04-04 15:46         388.0          0.0         0.0   \n",
       "2022-04-04 15:47  2022-04-04 15:47           0.0          0.0         0.0   \n",
       "2022-04-04 15:48  2022-04-04 15:48         388.0          0.0         0.0   \n",
       "2022-04-04 15:49  2022-04-04 15:49         388.0          0.0         0.0   \n",
       "\n",
       "                  quote_count  Negative  Positive   Neutral  \n",
       "time_stamp_key                                               \n",
       "2022-03-29 09:32          0.0  0.000000  0.000000  0.000000  \n",
       "2022-03-29 09:33          0.0  0.615385  0.666667  0.583333  \n",
       "2022-03-29 09:34          0.0  0.000000  0.000000  0.000000  \n",
       "2022-03-29 09:35          0.0  0.000000  0.000000  0.000000  \n",
       "2022-03-29 09:36          0.0  0.724138  0.777778  0.586207  \n",
       "...                       ...       ...       ...       ...  \n",
       "2022-04-04 15:45          0.0  0.000000  0.000000  0.000000  \n",
       "2022-04-04 15:46          0.0  0.714286  0.769231  0.760000  \n",
       "2022-04-04 15:47          0.0  0.000000  0.000000  0.000000  \n",
       "2022-04-04 15:48          0.0  0.714286  0.769231  0.760000  \n",
       "2022-04-04 15:49          0.0  0.714286  0.769231  0.760000  \n",
       "\n",
       "[1904 rows x 21 columns]"
      ]
     },
     "execution_count": 105,
     "metadata": {},
     "output_type": "execute_result"
    }
   ],
   "source": [
    "data"
   ]
  },
  {
   "cell_type": "code",
   "execution_count": 131,
   "metadata": {},
   "outputs": [
    {
     "name": "stdout",
     "output_type": "stream",
     "text": [
      "Dates train      : 2022-03-29 09:32 --- 2022-04-04 12:00  (n=1675)\n",
      "Dates validacion : 2022-04-04 12:01 --- 2022-04-04 15:35  (n=215)\n",
      "Dates test       : 2022-04-04 15:36 --- 2022-04-04 15:49  (n=14)\n"
     ]
    }
   ],
   "source": [
    "# Split train-val-test sets\n",
    "end_train = '2022-04-04 12:00:00'\n",
    "end_validation = '2022-04-04 15:35:00'\n",
    "data_train = data.loc[: end_train, :]\n",
    "data_val   = data.loc[end_train:end_validation, :]\n",
    "data_test  = data.loc[end_validation:, :]\n",
    "\n",
    "print(f\"Dates train      : {data_train.index.min()} --- {data_train.index.max()}  (n={len(data_train)})\")\n",
    "print(f\"Dates validacion : {data_val.index.min()} --- {data_val.index.max()}  (n={len(data_val)})\")\n",
    "print(f\"Dates test       : {data_test.index.min()} --- {data_test.index.max()}  (n={len(data_test)})\")"
   ]
  },
  {
   "cell_type": "code",
   "execution_count": 153,
   "metadata": {},
   "outputs": [
    {
     "data": {
      "image/png": "[encoded data removed]",
      "text/plain": [
       "<Figure size 792x288 with 1 Axes>"
      ]
     },
     "metadata": {
      "needs_background": "light"
     },
     "output_type": "display_data"
    }
   ],
   "source": [
    "fig, ax = plt.subplots(figsize=(11, 4))\n",
    "data_train['Close'].plot(ax=ax, label='train')\n",
    "ax.set_title('Train')\n",
    "ax.legend();"
   ]
  },
  {
   "cell_type": "code",
   "execution_count": 154,
   "metadata": {},
   "outputs": [
    {
     "data": {
      "image/png": "[encoded data removed]",
      "text/plain": [
       "<Figure size 792x288 with 1 Axes>"
      ]
     },
     "metadata": {
      "needs_background": "light"
     },
     "output_type": "display_data"
    }
   ],
   "source": [
    "fig, ax = plt.subplots(figsize=(11, 4))\n",
    "data_val['Close'].plot(ax=ax, label='validation')\n",
    "ax.set_title('Validation')\n",
    "ax.legend();"
   ]
  },
  {
   "cell_type": "code",
   "execution_count": 155,
   "metadata": {},
   "outputs": [
    {
     "data": {
      "image/png": "[encoded data removed]",
      "text/plain": [
       "<Figure size 792x288 with 1 Axes>"
      ]
     },
     "metadata": {
      "needs_background": "light"
     },
     "output_type": "display_data"
    }
   ],
   "source": [
    "# Plot time series\n",
    "# ==============================================================================\n",
    "fig, ax = plt.subplots(figsize=(11, 4))\n",
    "data_test['Close'].plot(ax=ax, label='test')\n",
    "ax.set_title('Test')\n",
    "ax.legend();"
   ]
  },
  {
   "cell_type": "code",
   "execution_count": null,
   "metadata": {},
   "outputs": [],
   "source": [
    "data = data.drop('time_stamp_key', axis=1)"
   ]
  },
  {
   "cell_type": "code",
   "execution_count": 135,
   "metadata": {},
   "outputs": [
    {
     "data": {
      "application/vnd.plotly.v1+json": {
       "config": {
        "plotlyServerURL": "https://plot.ly"
       },
       "data": [
        {
         "hovertemplate": "partition=train<br>x=%{x}<br>Close=%{y}<extra></extra>",
         "legendgroup": "train",
         "line": {
          "color": "#636efa",
          "dash": "solid"
         },
         "mode": "lines",
         "name": "train",
         "showlegend": true,
         "type": "scattergl",
         "x": [
          "2022-03-29 09:32",
          "2022-03-29 09:33",
          "2022-03-29 09:34",
          "2022-03-29 09:35",
          "2022-03-29 09:36",
          "2022-03-29 09:37",
          "2022-03-29 09:38",
          "2022-03-29 09:39",
          "2022-03-29 09:40",
          "2022-03-29 09:41",
          "2022-03-29 09:42",
          "2022-03-29 09:43",
          "2022-03-29 09:44",
          "2022-03-29 09:45",
          "2022-03-29 09:46",
          "2022-03-29 09:47",
          "2022-03-29 09:48",
          "2022-03-29 09:49",
          "2022-03-29 09:50",
          "2022-03-29 09:51",
          "2022-03-29 09:52",
          "2022-03-29 09:53",
          "2022-03-29 09:54",
          "2022-03-29 09:55",
          "2022-03-29 09:56",
          "2022-03-29 09:57",
          "2022-03-29 09:58",
          "2022-03-29 09:59",
          "2022-03-29 10:00",
          "2022-03-29 10:01",
          "2022-03-29 10:02",
          "2022-03-29 10:03",
          "2022-03-29 10:04",
          "2022-03-29 10:05",
          "2022-03-29 10:06",
          "2022-03-29 10:07",
          "2022-03-29 10:08",
          "2022-03-29 10:09",
          "2022-03-29 10:10",
          "2022-03-29 10:11",
          "2022-03-29 10:12",
          "2022-03-29 10:13",
          "2022-03-29 10:14",
          "2022-03-29 10:15",
          "2022-03-29 10:16",
          "2022-03-29 10:17",
          "2022-03-29 10:18",
          "2022-03-29 10:19",
          "2022-03-29 10:20",
          "2022-03-29 10:21",
          "2022-03-29 10:22",
          "2022-03-29 10:23",
          "2022-03-29 10:24",
          "2022-03-29 10:25",
          "2022-03-29 10:26",
          "2022-03-29 10:27",
          "2022-03-29 10:28",
          "2022-03-29 10:29",
          "2022-03-29 10:30",
          "2022-03-29 10:31",
          "2022-03-29 10:32",
          "2022-03-29 10:33",
          "2022-03-29 10:34",
          "2022-03-29 10:35",
          "2022-03-29 10:36",
          "2022-03-29 10:37",
          "2022-03-29 10:38",
          "2022-03-29 10:39",
          "2022-03-29 10:40",
          "2022-03-29 10:41",
          "2022-03-29 10:42",
          "2022-03-29 10:43",
          "2022-03-29 10:44",
          "2022-03-29 10:45",
          "2022-03-29 10:46",
          "2022-03-29 10:47",
          "2022-03-29 10:48",
          "2022-03-29 10:49",
          "2022-03-29 10:50",
          "2022-03-29 10:51",
          "2022-03-29 10:52",
          "2022-03-29 10:53",
          "2022-03-29 10:54",
          "2022-03-29 10:55",
          "2022-03-29 10:56",
          "2022-03-29 10:57",
          "2022-03-29 10:58",
          "2022-03-29 10:59",
          "2022-03-29 11:00",
          "2022-03-29 11:01",
          "2022-03-29 11:02",
          "2022-03-29 11:03",
          "2022-03-29 11:04",
          "2022-03-29 11:05",
          "2022-03-29 11:06",
          "2022-03-29 11:07",
          "2022-03-29 11:08",
          "2022-03-29 11:09",
          "2022-03-29 11:10",
          "2022-03-29 11:11",
          "2022-03-29 11:12",
          "2022-03-29 11:13",
          "2022-03-29 11:14",
          "2022-03-29 11:15",
          "2022-03-29 11:16",
          "2022-03-29 11:17",
          "2022-03-29 11:18",
          "2022-03-29 11:19",
          "2022-03-29 11:20",
          "2022-03-29 11:21",
          "2022-03-29 11:22",
          "2022-03-29 11:23",
          "2022-03-29 11:24",
          "2022-03-29 11:25",
          "2022-03-29 11:26",
          "2022-03-29 11:27",
          "2022-03-29 11:28",
          "2022-03-29 11:29",
          "2022-03-29 11:30",
          "2022-03-29 11:31",
          "2022-03-29 11:32",
          "2022-03-29 11:33",
          "2022-03-29 11:34",
          "2022-03-29 11:35",
          "2022-03-29 11:36",
          "2022-03-29 11:37",
          "2022-03-29 11:38",
          "2022-03-29 11:39",
          "2022-03-29 11:40",
          "2022-03-29 11:41",
          "2022-03-29 11:43",
          "2022-03-29 11:44",
          "2022-03-29 11:45",
          "2022-03-29 11:46",
          "2022-03-29 11:47",
          "2022-03-29 11:48",
          "2022-03-29 11:49",
          "2022-03-29 11:50",
          "2022-03-29 11:51",
          "2022-03-29 11:52",
          "2022-03-29 11:53",
          "2022-03-29 11:54",
          "2022-03-29 11:55",
          "2022-03-29 11:56",
          "2022-03-29 11:58",
          "2022-03-29 11:59",
          "2022-03-29 12:00",
          "2022-03-29 12:01",
          "2022-03-29 12:02",
          "2022-03-29 12:03",
          "2022-03-29 12:04",
          "2022-03-29 12:05",
          "2022-03-29 12:06",
          "2022-03-29 12:07",
          "2022-03-29 12:08",
          "2022-03-29 12:09",
          "2022-03-29 12:10",
          "2022-03-29 12:11",
          "2022-03-29 12:12",
          "2022-03-29 12:13",
          "2022-03-29 12:14",
          "2022-03-29 12:15",
          "2022-03-29 12:16",
          "2022-03-29 12:17",
          "2022-03-29 12:18",
          "2022-03-29 12:19",
          "2022-03-29 12:20",
          "2022-03-29 12:22",
          "2022-03-29 12:23",
          "2022-03-29 12:24",
          "2022-03-29 12:25",
          "2022-03-29 12:26",
          "2022-03-29 12:27",
          "2022-03-29 12:28",
          "2022-03-29 12:29",
          "2022-03-29 12:30",
          "2022-03-29 12:31",
          "2022-03-29 12:32",
          "2022-03-29 12:33",
          "2022-03-29 12:34",
          "2022-03-29 12:35",
          "2022-03-29 12:36",
          "2022-03-29 12:37",
          "2022-03-29 12:38",
          "2022-03-29 12:39",
          "2022-03-29 12:40",
          "2022-03-29 12:41",
          "2022-03-29 12:42",
          "2022-03-29 12:43",
          "2022-03-29 12:44",
          "2022-03-29 12:45",
          "2022-03-29 12:46",
          "2022-03-29 12:47",
          "2022-03-29 12:48",
          "2022-03-29 12:49",
          "2022-03-29 12:50",
          "2022-03-29 12:51",
          "2022-03-29 12:52",
          "2022-03-29 12:53",
          "2022-03-29 12:54",
          "2022-03-29 12:55",
          "2022-03-29 12:56",
          "2022-03-29 12:57",
          "2022-03-29 12:58",
          "2022-03-29 12:59",
          "2022-03-29 13:00",
          "2022-03-29 13:01",
          "2022-03-29 13:02",
          "2022-03-29 13:03",
          "2022-03-29 13:04",
          "2022-03-29 13:05",
          "2022-03-29 13:06",
          "2022-03-29 13:07",
          "2022-03-29 13:08",
          "2022-03-29 13:09",
          "2022-03-29 13:10",
          "2022-03-29 13:11",
          "2022-03-29 13:12",
          "2022-03-29 13:13",
          "2022-03-29 13:14",
          "2022-03-29 13:15",
          "2022-03-29 13:16",
          "2022-03-29 13:17",
          "2022-03-29 13:18",
          "2022-03-29 13:19",
          "2022-03-29 13:20",
          "2022-03-29 13:21",
          "2022-03-29 13:22",
          "2022-03-29 13:23",
          "2022-03-29 13:24",
          "2022-03-29 13:25",
          "2022-03-29 13:26",
          "2022-03-29 13:27",
          "2022-03-29 13:28",
          "2022-03-29 13:29",
          "2022-03-29 13:30",
          "2022-03-29 13:31",
          "2022-03-29 13:32",
          "2022-03-29 13:33",
          "2022-03-29 13:34",
          "2022-03-29 13:35",
          "2022-03-29 13:36",
          "2022-03-29 13:37",
          "2022-03-29 13:38",
          "2022-03-29 13:39",
          "2022-03-29 13:40",
          "2022-03-29 13:41",
          "2022-03-29 13:42",
          "2022-03-29 13:43",
          "2022-03-29 13:44",
          "2022-03-29 13:45",
          "2022-03-29 13:46",
          "2022-03-29 13:47",
          "2022-03-29 13:48",
          "2022-03-29 13:49",
          "2022-03-29 13:50",
          "2022-03-29 13:51",
          "2022-03-29 13:52",
          "2022-03-29 13:53",
          "2022-03-29 13:54",
          "2022-03-29 13:55",
          "2022-03-29 13:56",
          "2022-03-29 13:57",
          "2022-03-29 13:58",
          "2022-03-29 13:59",
          "2022-03-29 14:00",
          "2022-03-29 14:01",
          "2022-03-29 14:02",
          "2022-03-29 14:03",
          "2022-03-29 14:04",
          "2022-03-29 14:05",
          "2022-03-29 14:06",
          "2022-03-29 14:07",
          "2022-03-29 14:08",
          "2022-03-29 14:09",
          "2022-03-29 14:10",
          "2022-03-29 14:11",
          "2022-03-29 14:12",
          "2022-03-29 14:13",
          "2022-03-29 14:14",
          "2022-03-29 14:15",
          "2022-03-29 14:16",
          "2022-03-29 14:17",
          "2022-03-29 14:18",
          "2022-03-29 14:19",
          "2022-03-29 14:20",
          "2022-03-29 14:21",
          "2022-03-29 14:22",
          "2022-03-29 14:23",
          "2022-03-29 14:24",
          "2022-03-29 14:25",
          "2022-03-29 14:26",
          "2022-03-29 14:27",
          "2022-03-29 14:28",
          "2022-03-29 14:29",
          "2022-03-29 14:30",
          "2022-03-29 14:31",
          "2022-03-29 14:32",
          "2022-03-29 14:33",
          "2022-03-29 14:34",
          "2022-03-29 14:35",
          "2022-03-29 14:36",
          "2022-03-29 14:37",
          "2022-03-29 14:38",
          "2022-03-29 14:39",
          "2022-03-29 14:40",
          "2022-03-29 14:41",
          "2022-03-29 14:42",
          "2022-03-29 14:43",
          "2022-03-29 14:44",
          "2022-03-29 14:45",
          "2022-03-29 14:46",
          "2022-03-29 14:47",
          "2022-03-29 14:48",
          "2022-03-29 14:49",
          "2022-03-29 14:50",
          "2022-03-29 14:51",
          "2022-03-29 14:52",
          "2022-03-29 14:53",
          "2022-03-29 14:54",
          "2022-03-29 14:55",
          "2022-03-29 14:56",
          "2022-03-29 14:57",
          "2022-03-29 14:58",
          "2022-03-29 14:59",
          "2022-03-29 15:00",
          "2022-03-29 15:01",
          "2022-03-29 15:02",
          "2022-03-29 15:03",
          "2022-03-29 15:04",
          "2022-03-29 15:05",
          "2022-03-29 15:06",
          "2022-03-29 15:07",
          "2022-03-29 15:08",
          "2022-03-29 15:09",
          "2022-03-29 15:10",
          "2022-03-29 15:11",
          "2022-03-29 15:12",
          "2022-03-29 15:13",
          "2022-03-29 15:14",
          "2022-03-29 15:15",
          "2022-03-29 15:16",
          "2022-03-29 15:17",
          "2022-03-29 15:18",
          "2022-03-29 15:19",
          "2022-03-29 15:20",
          "2022-03-29 15:21",
          "2022-03-29 15:22",
          "2022-03-29 15:23",
          "2022-03-29 15:24",
          "2022-03-29 15:25",
          "2022-03-29 15:26",
          "2022-03-29 15:27",
          "2022-03-29 15:28",
          "2022-03-29 15:29",
          "2022-03-29 15:30",
          "2022-03-29 15:31",
          "2022-03-29 15:32",
          "2022-03-29 15:33",
          "2022-03-29 15:34",
          "2022-03-29 15:35",
          "2022-03-29 15:36",
          "2022-03-29 15:37",
          "2022-03-29 15:38",
          "2022-03-29 15:39",
          "2022-03-29 15:40",
          "2022-03-29 15:41",
          "2022-03-29 15:42",
          "2022-03-29 15:43",
          "2022-03-29 15:44",
          "2022-03-29 15:45",
          "2022-03-29 15:46",
          "2022-03-29 15:47",
          "2022-03-29 15:48",
          "2022-03-29 15:49",
          "2022-03-29 15:50",
          "2022-03-29 15:51",
          "2022-03-29 15:52",
          "2022-03-29 15:53",
          "2022-03-29 15:54",
          "2022-03-29 15:55",
          "2022-03-29 15:56",
          "2022-03-29 15:57",
          "2022-03-29 15:58",
          "2022-03-29 15:59",
          "2022-03-30 09:30",
          "2022-03-30 09:31",
          "2022-03-30 09:32",
          "2022-03-30 09:33",
          "2022-03-30 09:34",
          "2022-03-30 09:35",
          "2022-03-30 09:36",
          "2022-03-30 09:37",
          "2022-03-30 09:38",
          "2022-03-30 09:39",
          "2022-03-30 09:40",
          "2022-03-30 09:41",
          "2022-03-30 09:42",
          "2022-03-30 09:43",
          "2022-03-30 09:44",
          "2022-03-30 09:45",
          "2022-03-30 09:46",
          "2022-03-30 09:47",
          "2022-03-30 09:48",
          "2022-03-30 09:49",
          "2022-03-30 09:50",
          "2022-03-30 09:51",
          "2022-03-30 09:52",
          "2022-03-30 09:53",
          "2022-03-30 09:54",
          "2022-03-30 09:55",
          "2022-03-30 09:56",
          "2022-03-30 09:57",
          "2022-03-30 09:58",
          "2022-03-30 09:59",
          "2022-03-30 10:00",
          "2022-03-30 10:01",
          "2022-03-30 10:02",
          "2022-03-30 10:03",
          "2022-03-30 10:04",
          "2022-03-30 10:05",
          "2022-03-30 10:06",
          "2022-03-30 10:07",
          "2022-03-30 10:08",
          "2022-03-30 10:09",
          "2022-03-30 10:10",
          "2022-03-30 10:11",
          "2022-03-30 10:12",
          "2022-03-30 10:13",
          "2022-03-30 10:14",
          "2022-03-30 10:15",
          "2022-03-30 10:16",
          "2022-03-30 10:17",
          "2022-03-30 10:18",
          "2022-03-30 10:19",
          "2022-03-30 10:20",
          "2022-03-30 10:21",
          "2022-03-30 10:22",
          "2022-03-30 10:23",
          "2022-03-30 10:24",
          "2022-03-30 10:25",
          "2022-03-30 10:26",
          "2022-03-30 10:27",
          "2022-03-30 10:28",
          "2022-03-30 10:29",
          "2022-03-30 10:30",
          "2022-03-30 10:31",
          "2022-03-30 10:32",
          "2022-03-30 10:33",
          "2022-03-30 10:34",
          "2022-03-30 10:35",
          "2022-03-30 10:36",
          "2022-03-30 10:37",
          "2022-03-30 10:38",
          "2022-03-30 10:39",
          "2022-03-30 10:40",
          "2022-03-30 10:41",
          "2022-03-30 10:42",
          "2022-03-30 10:43",
          "2022-03-30 10:44",
          "2022-03-30 10:45",
          "2022-03-30 10:46",
          "2022-03-30 10:47",
          "2022-03-30 10:48",
          "2022-03-30 10:49",
          "2022-03-30 10:50",
          "2022-03-30 10:51",
          "2022-03-30 10:52",
          "2022-03-30 10:53",
          "2022-03-30 10:54",
          "2022-03-30 10:56",
          "2022-03-30 10:57",
          "2022-03-30 10:58",
          "2022-03-30 10:59",
          "2022-03-30 11:00",
          "2022-03-30 11:01",
          "2022-03-30 11:02",
          "2022-03-30 11:03",
          "2022-03-30 11:04",
          "2022-03-30 11:05",
          "2022-03-30 11:06",
          "2022-03-30 11:07",
          "2022-03-30 11:08",
          "2022-03-30 11:09",
          "2022-03-30 11:11",
          "2022-03-30 11:12",
          "2022-03-30 11:13",
          "2022-03-30 11:14",
          "2022-03-30 11:16",
          "2022-03-30 11:17",
          "2022-03-30 11:18",
          "2022-03-30 11:19",
          "2022-03-30 11:20",
          "2022-03-30 11:21",
          "2022-03-30 11:22",
          "2022-03-30 11:23",
          "2022-03-30 11:24",
          "2022-03-30 11:25",
          "2022-03-30 11:26",
          "2022-03-30 11:27",
          "2022-03-30 11:28",
          "2022-03-30 11:29",
          "2022-03-30 11:30",
          "2022-03-30 11:31",
          "2022-03-30 11:32",
          "2022-03-30 11:33",
          "2022-03-30 11:34",
          "2022-03-30 11:35",
          "2022-03-30 11:36",
          "2022-03-30 11:37",
          "2022-03-30 11:38",
          "2022-03-30 11:39",
          "2022-03-30 11:40",
          "2022-03-30 11:41",
          "2022-03-30 11:42",
          "2022-03-30 11:43",
          "2022-03-30 11:44",
          "2022-03-30 11:45",
          "2022-03-30 11:46",
          "2022-03-30 11:47",
          "2022-03-30 11:48",
          "2022-03-30 11:49",
          "2022-03-30 11:50",
          "2022-03-30 11:51",
          "2022-03-30 11:52",
          "2022-03-30 11:53",
          "2022-03-30 11:54",
          "2022-03-30 11:55",
          "2022-03-30 11:56",
          "2022-03-30 11:57",
          "2022-03-30 11:58",
          "2022-03-30 11:59",
          "2022-03-30 12:00",
          "2022-03-30 12:01",
          "2022-03-30 12:02",
          "2022-03-30 12:03",
          "2022-03-30 12:05",
          "2022-03-30 12:06",
          "2022-03-30 12:07",
          "2022-03-30 12:08",
          "2022-03-30 12:09",
          "2022-03-30 12:10",
          "2022-03-30 12:11",
          "2022-03-30 12:12",
          "2022-03-30 12:13",
          "2022-03-30 12:14",
          "2022-03-30 12:15",
          "2022-03-30 12:16",
          "2022-03-30 12:17",
          "2022-03-30 12:18",
          "2022-03-30 12:19",
          "2022-03-30 12:20",
          "2022-03-30 12:22",
          "2022-03-30 12:23",
          "2022-03-30 12:24",
          "2022-03-30 12:25",
          "2022-03-30 12:26",
          "2022-03-30 12:27",
          "2022-03-30 12:28",
          "2022-03-30 12:29",
          "2022-03-30 12:30",
          "2022-03-30 12:31",
          "2022-03-30 12:32",
          "2022-03-30 12:33",
          "2022-03-30 12:34",
          "2022-03-30 12:35",
          "2022-03-30 12:36",
          "2022-03-30 12:37",
          "2022-03-30 12:38",
          "2022-03-30 12:39",
          "2022-03-30 12:40",
          "2022-03-30 12:41",
          "2022-03-30 12:42",
          "2022-03-30 12:43",
          "2022-03-30 12:44",
          "2022-03-30 12:45",
          "2022-03-30 12:46",
          "2022-03-30 12:47",
          "2022-03-30 12:48",
          "2022-03-30 12:49",
          "2022-03-30 12:50",
          "2022-03-30 12:51",
          "2022-03-30 12:52",
          "2022-03-30 12:53",
          "2022-03-30 12:54",
          "2022-03-30 12:55",
          "2022-03-30 12:56",
          "2022-03-30 12:57",
          "2022-03-30 12:58",
          "2022-03-30 12:59",
          "2022-03-30 13:00",
          "2022-03-30 13:01",
          "2022-03-30 13:02",
          "2022-03-30 13:03",
          "2022-03-30 13:04",
          "2022-03-30 13:05",
          "2022-03-30 13:06",
          "2022-03-30 13:07",
          "2022-03-30 13:08",
          "2022-03-30 13:09",
          "2022-03-30 13:10",
          "2022-03-30 13:11",
          "2022-03-30 13:12",
          "2022-03-30 13:13",
          "2022-03-30 13:14",
          "2022-03-30 13:15",
          "2022-03-30 13:16",
          "2022-03-30 13:17",
          "2022-03-30 13:18",
          "2022-03-30 13:19",
          "2022-03-30 13:20",
          "2022-03-30 13:21",
          "2022-03-30 13:22",
          "2022-03-30 13:23",
          "2022-03-30 13:24",
          "2022-03-30 13:25",
          "2022-03-30 13:26",
          "2022-03-30 13:27",
          "2022-03-30 13:28",
          "2022-03-30 13:29",
          "2022-03-30 13:30",
          "2022-03-30 13:31",
          "2022-03-30 13:32",
          "2022-03-30 13:33",
          "2022-03-30 13:34",
          "2022-03-30 13:35",
          "2022-03-30 13:36",
          "2022-03-30 13:37",
          "2022-03-30 13:38",
          "2022-03-30 13:39",
          "2022-03-30 13:40",
          "2022-03-30 13:41",
          "2022-03-30 13:42",
          "2022-03-30 13:43",
          "2022-03-30 13:44",
          "2022-03-30 13:45",
          "2022-03-30 13:46",
          "2022-03-30 13:47",
          "2022-03-30 13:48",
          "2022-03-30 13:49",
          "2022-03-30 13:51",
          "2022-03-30 13:52",
          "2022-03-30 13:53",
          "2022-03-30 13:54",
          "2022-03-30 13:55",
          "2022-03-30 13:57",
          "2022-03-30 13:58",
          "2022-03-30 13:59",
          "2022-03-30 14:00",
          "2022-03-30 14:01",
          "2022-03-30 14:02",
          "2022-03-30 14:03",
          "2022-03-30 14:04",
          "2022-03-30 14:05",
          "2022-03-30 14:06",
          "2022-03-30 14:07",
          "2022-03-30 14:08",
          "2022-03-30 14:09",
          "2022-03-30 14:10",
          "2022-03-30 14:11",
          "2022-03-30 14:12",
          "2022-03-30 14:13",
          "2022-03-30 14:14",
          "2022-03-30 14:15",
          "2022-03-30 14:16",
          "2022-03-30 14:17",
          "2022-03-30 14:18",
          "2022-03-30 14:19",
          "2022-03-30 14:20",
          "2022-03-30 14:21",
          "2022-03-30 14:22",
          "2022-03-30 14:23",
          "2022-03-30 14:24",
          "2022-03-30 14:25",
          "2022-03-30 14:26",
          "2022-03-30 14:27",
          "2022-03-30 14:28",
          "2022-03-30 14:29",
          "2022-03-30 14:30",
          "2022-03-30 14:31",
          "2022-03-30 14:32",
          "2022-03-30 14:33",
          "2022-03-30 14:34",
          "2022-03-30 14:35",
          "2022-03-30 14:36",
          "2022-03-30 14:37",
          "2022-03-30 14:38",
          "2022-03-30 14:39",
          "2022-03-30 14:40",
          "2022-03-30 14:41",
          "2022-03-30 14:42",
          "2022-03-30 14:43",
          "2022-03-30 14:44",
          "2022-03-30 14:45",
          "2022-03-30 14:46",
          "2022-03-30 14:48",
          "2022-03-30 14:49",
          "2022-03-30 14:50",
          "2022-03-30 14:51",
          "2022-03-30 14:52",
          "2022-03-30 14:54",
          "2022-03-30 14:56",
          "2022-03-30 14:57",
          "2022-03-30 14:58",
          "2022-03-30 15:00",
          "2022-03-30 15:01",
          "2022-03-30 15:02",
          "2022-03-30 15:03",
          "2022-03-30 15:04",
          "2022-03-30 15:05",
          "2022-03-30 15:07",
          "2022-03-30 15:08",
          "2022-03-30 15:09",
          "2022-03-30 15:10",
          "2022-03-30 15:12",
          "2022-03-30 15:13",
          "2022-03-30 15:14",
          "2022-03-30 15:15",
          "2022-03-30 15:16",
          "2022-03-30 15:17",
          "2022-03-30 15:18",
          "2022-03-30 15:19",
          "2022-03-30 15:20",
          "2022-03-30 15:21",
          "2022-03-30 15:22",
          "2022-03-30 15:23",
          "2022-03-30 15:24",
          "2022-03-30 15:25",
          "2022-03-30 15:26",
          "2022-03-30 15:27",
          "2022-03-30 15:28",
          "2022-03-30 15:29",
          "2022-03-30 15:30",
          "2022-03-30 15:31",
          "2022-03-30 15:32",
          "2022-03-30 15:33",
          "2022-03-30 15:34",
          "2022-03-30 15:35",
          "2022-03-30 15:36",
          "2022-03-30 15:37",
          "2022-03-30 15:38",
          "2022-03-30 15:39",
          "2022-03-30 15:41",
          "2022-03-30 15:42",
          "2022-03-30 15:43",
          "2022-03-30 15:44",
          "2022-03-30 15:45",
          "2022-03-30 15:46",
          "2022-03-30 15:47",
          "2022-03-30 15:48",
          "2022-03-30 15:49",
          "2022-03-30 15:50",
          "2022-03-30 15:51",
          "2022-03-30 15:52",
          "2022-03-30 15:53",
          "2022-03-30 15:54",
          "2022-03-30 15:55",
          "2022-03-30 15:56",
          "2022-03-30 15:57",
          "2022-03-30 15:58",
          "2022-03-30 15:59",
          "2022-03-31 09:30",
          "2022-03-31 09:31",
          "2022-03-31 09:32",
          "2022-03-31 09:33",
          "2022-03-31 09:34",
          "2022-03-31 09:35",
          "2022-03-31 09:36",
          "2022-03-31 09:37",
          "2022-03-31 09:38",
          "2022-03-31 09:39",
          "2022-03-31 09:40",
          "2022-03-31 09:41",
          "2022-03-31 09:42",
          "2022-03-31 09:43",
          "2022-03-31 09:44",
          "2022-03-31 09:45",
          "2022-03-31 09:46",
          "2022-03-31 09:47",
          "2022-03-31 09:48",
          "2022-03-31 09:49",
          "2022-03-31 09:50",
          "2022-03-31 09:51",
          "2022-03-31 09:52",
          "2022-03-31 09:53",
          "2022-03-31 09:54",
          "2022-03-31 09:55",
          "2022-03-31 09:56",
          "2022-03-31 09:57",
          "2022-03-31 09:58",
          "2022-03-31 09:59",
          "2022-03-31 10:00",
          "2022-03-31 10:01",
          "2022-03-31 10:02",
          "2022-03-31 10:03",
          "2022-03-31 10:04",
          "2022-03-31 10:05",
          "2022-03-31 10:06",
          "2022-03-31 10:07",
          "2022-03-31 10:08",
          "2022-03-31 10:09",
          "2022-03-31 10:10",
          "2022-03-31 10:11",
          "2022-03-31 10:12",
          "2022-03-31 10:13",
          "2022-03-31 10:14",
          "2022-03-31 10:15",
          "2022-03-31 10:16",
          "2022-03-31 10:17",
          "2022-03-31 10:18",
          "2022-03-31 10:19",
          "2022-03-31 10:20",
          "2022-03-31 10:21",
          "2022-03-31 10:22",
          "2022-03-31 10:23",
          "2022-03-31 10:24",
          "2022-03-31 10:25",
          "2022-03-31 10:26",
          "2022-03-31 10:27",
          "2022-03-31 10:28",
          "2022-03-31 10:29",
          "2022-03-31 10:30",
          "2022-03-31 10:31",
          "2022-03-31 10:32",
          "2022-03-31 10:33",
          "2022-03-31 10:34",
          "2022-03-31 10:35",
          "2022-03-31 10:36",
          "2022-03-31 10:37",
          "2022-03-31 10:38",
          "2022-03-31 10:39",
          "2022-03-31 10:40",
          "2022-03-31 10:41",
          "2022-03-31 10:42",
          "2022-03-31 10:43",
          "2022-03-31 10:44",
          "2022-03-31 10:45",
          "2022-03-31 10:46",
          "2022-03-31 10:47",
          "2022-03-31 10:48",
          "2022-03-31 10:49",
          "2022-03-31 10:50",
          "2022-03-31 10:51",
          "2022-03-31 10:52",
          "2022-03-31 10:53",
          "2022-03-31 10:54",
          "2022-03-31 10:55",
          "2022-03-31 10:56",
          "2022-03-31 10:57",
          "2022-03-31 10:58",
          "2022-03-31 10:59",
          "2022-03-31 11:00",
          "2022-03-31 11:01",
          "2022-03-31 11:02",
          "2022-03-31 11:03",
          "2022-03-31 11:04",
          "2022-03-31 11:05",
          "2022-03-31 11:06",
          "2022-03-31 11:07",
          "2022-03-31 11:08",
          "2022-03-31 11:09",
          "2022-03-31 11:12",
          "2022-03-31 11:13",
          "2022-03-31 11:15",
          "2022-03-31 11:16",
          "2022-03-31 11:17",
          "2022-03-31 11:18",
          "2022-03-31 11:19",
          "2022-03-31 11:20",
          "2022-03-31 11:21",
          "2022-03-31 11:22",
          "2022-03-31 11:23",
          "2022-03-31 11:24",
          "2022-03-31 11:25",
          "2022-03-31 11:27",
          "2022-03-31 11:28",
          "2022-03-31 11:29",
          "2022-03-31 11:30",
          "2022-03-31 11:31",
          "2022-03-31 11:32",
          "2022-03-31 11:33",
          "2022-03-31 11:34",
          "2022-03-31 11:35",
          "2022-03-31 11:36",
          "2022-03-31 11:38",
          "2022-03-31 11:39",
          "2022-03-31 11:40",
          "2022-03-31 11:41",
          "2022-03-31 11:42",
          "2022-03-31 11:43",
          "2022-03-31 11:44",
          "2022-03-31 11:45",
          "2022-03-31 11:46",
          "2022-03-31 11:47",
          "2022-03-31 11:48",
          "2022-03-31 11:49",
          "2022-03-31 11:50",
          "2022-03-31 11:51",
          "2022-03-31 11:53",
          "2022-03-31 11:54",
          "2022-03-31 11:55",
          "2022-03-31 11:56",
          "2022-03-31 11:57",
          "2022-03-31 11:58",
          "2022-03-31 11:59",
          "2022-03-31 12:00",
          "2022-03-31 12:01",
          "2022-03-31 12:02",
          "2022-03-31 12:03",
          "2022-03-31 12:04",
          "2022-03-31 12:05",
          "2022-03-31 12:07",
          "2022-03-31 12:09",
          "2022-03-31 12:10",
          "2022-03-31 12:11",
          "2022-03-31 12:12",
          "2022-03-31 12:13",
          "2022-03-31 12:14",
          "2022-03-31 12:15",
          "2022-03-31 12:16",
          "2022-03-31 12:17",
          "2022-03-31 12:18",
          "2022-03-31 12:19",
          "2022-03-31 12:20",
          "2022-03-31 12:21",
          "2022-03-31 12:22",
          "2022-03-31 12:23",
          "2022-03-31 12:24",
          "2022-03-31 12:25",
          "2022-03-31 12:26",
          "2022-03-31 12:27",
          "2022-03-31 12:28",
          "2022-03-31 12:29",
          "2022-03-31 12:30",
          "2022-03-31 12:31",
          "2022-03-31 12:32",
          "2022-03-31 12:33",
          "2022-03-31 12:34",
          "2022-03-31 12:35",
          "2022-03-31 12:36",
          "2022-03-31 12:37",
          "2022-03-31 12:38",
          "2022-03-31 12:39",
          "2022-03-31 12:40",
          "2022-03-31 12:41",
          "2022-03-31 12:42",
          "2022-03-31 12:43",
          "2022-03-31 12:44",
          "2022-03-31 12:45",
          "2022-03-31 12:46",
          "2022-03-31 12:47",
          "2022-03-31 12:48",
          "2022-03-31 12:49",
          "2022-03-31 12:50",
          "2022-03-31 12:52",
          "2022-03-31 12:53",
          "2022-03-31 12:54",
          "2022-03-31 12:55",
          "2022-03-31 12:56",
          "2022-03-31 12:57",
          "2022-03-31 12:58",
          "2022-03-31 12:59",
          "2022-03-31 13:00",
          "2022-03-31 13:01",
          "2022-03-31 13:02",
          "2022-03-31 13:03",
          "2022-03-31 13:04",
          "2022-03-31 13:05",
          "2022-03-31 13:06",
          "2022-03-31 13:07",
          "2022-03-31 13:08",
          "2022-03-31 13:09",
          "2022-03-31 13:10",
          "2022-03-31 13:11",
          "2022-03-31 13:12",
          "2022-03-31 13:13",
          "2022-03-31 13:14",
          "2022-03-31 13:15",
          "2022-03-31 13:16",
          "2022-03-31 13:17",
          "2022-03-31 13:18",
          "2022-03-31 13:19",
          "2022-03-31 13:20",
          "2022-03-31 13:21",
          "2022-03-31 13:22",
          "2022-03-31 13:23",
          "2022-03-31 13:24",
          "2022-03-31 13:25",
          "2022-03-31 13:26",
          "2022-03-31 13:27",
          "2022-03-31 13:28",
          "2022-03-31 13:29",
          "2022-03-31 13:30",
          "2022-03-31 13:31",
          "2022-03-31 13:32",
          "2022-03-31 13:33",
          "2022-03-31 13:34",
          "2022-03-31 13:35",
          "2022-03-31 13:36",
          "2022-03-31 13:37",
          "2022-03-31 13:38",
          "2022-03-31 13:39",
          "2022-03-31 13:40",
          "2022-03-31 13:41",
          "2022-03-31 13:42",
          "2022-03-31 13:43",
          "2022-03-31 13:44",
          "2022-03-31 13:45",
          "2022-03-31 13:46",
          "2022-03-31 13:47",
          "2022-03-31 13:48",
          "2022-03-31 13:50",
          "2022-03-31 13:51",
          "2022-03-31 13:52",
          "2022-03-31 13:53",
          "2022-03-31 13:54",
          "2022-03-31 13:55",
          "2022-03-31 13:56",
          "2022-03-31 13:57",
          "2022-03-31 13:58",
          "2022-03-31 14:00",
          "2022-03-31 14:01",
          "2022-03-31 14:02",
          "2022-03-31 14:03",
          "2022-03-31 14:04",
          "2022-03-31 14:05",
          "2022-03-31 14:06",
          "2022-03-31 14:08",
          "2022-03-31 14:09",
          "2022-03-31 14:10",
          "2022-03-31 14:11",
          "2022-03-31 14:12",
          "2022-03-31 14:13",
          "2022-03-31 14:14",
          "2022-03-31 14:15",
          "2022-03-31 14:16",
          "2022-03-31 14:17",
          "2022-03-31 14:18",
          "2022-03-31 14:19",
          "2022-03-31 14:20",
          "2022-03-31 14:21",
          "2022-03-31 14:22",
          "2022-03-31 14:23",
          "2022-03-31 14:24",
          "2022-03-31 14:25",
          "2022-03-31 14:26",
          "2022-03-31 14:27",
          "2022-03-31 14:28",
          "2022-03-31 14:29",
          "2022-03-31 14:30",
          "2022-03-31 14:31",
          "2022-03-31 14:32",
          "2022-03-31 14:33",
          "2022-03-31 14:34",
          "2022-03-31 14:35",
          "2022-03-31 14:36",
          "2022-03-31 14:37",
          "2022-03-31 14:38",
          "2022-03-31 14:39",
          "2022-03-31 14:40",
          "2022-03-31 14:41",
          "2022-03-31 14:42",
          "2022-03-31 14:43",
          "2022-03-31 14:44",
          "2022-03-31 14:45",
          "2022-03-31 14:46",
          "2022-03-31 14:47",
          "2022-03-31 14:48",
          "2022-03-31 14:49",
          "2022-03-31 14:50",
          "2022-03-31 14:51",
          "2022-03-31 14:52",
          "2022-03-31 14:53",
          "2022-03-31 14:54",
          "2022-03-31 14:55",
          "2022-03-31 14:56",
          "2022-03-31 14:57",
          "2022-03-31 14:58",
          "2022-03-31 14:59",
          "2022-03-31 15:00",
          "2022-03-31 15:01",
          "2022-03-31 15:02",
          "2022-03-31 15:03",
          "2022-03-31 15:04",
          "2022-03-31 15:05",
          "2022-03-31 15:06",
          "2022-03-31 15:07",
          "2022-03-31 15:08",
          "2022-03-31 15:09",
          "2022-03-31 15:10",
          "2022-03-31 15:11",
          "2022-03-31 15:12",
          "2022-03-31 15:13",
          "2022-03-31 15:14",
          "2022-03-31 15:15",
          "2022-03-31 15:16",
          "2022-03-31 15:17",
          "2022-03-31 15:18",
          "2022-03-31 15:19",
          "2022-03-31 15:20",
          "2022-03-31 15:21",
          "2022-03-31 15:22",
          "2022-03-31 15:23",
          "2022-03-31 15:24",
          "2022-03-31 15:25",
          "2022-03-31 15:26",
          "2022-03-31 15:27",
          "2022-03-31 15:28",
          "2022-03-31 15:29",
          "2022-03-31 15:30",
          "2022-03-31 15:31",
          "2022-03-31 15:32",
          "2022-03-31 15:33",
          "2022-03-31 15:34",
          "2022-03-31 15:35",
          "2022-03-31 15:36",
          "2022-03-31 15:37",
          "2022-03-31 15:38",
          "2022-03-31 15:39",
          "2022-03-31 15:40",
          "2022-03-31 15:41",
          "2022-03-31 15:42",
          "2022-03-31 15:43",
          "2022-03-31 15:44",
          "2022-03-31 15:45",
          "2022-03-31 15:46",
          "2022-03-31 15:47",
          "2022-03-31 15:48",
          "2022-03-31 15:49",
          "2022-03-31 15:50",
          "2022-03-31 15:51",
          "2022-03-31 15:52",
          "2022-03-31 15:53",
          "2022-03-31 15:54",
          "2022-03-31 15:55",
          "2022-03-31 15:56",
          "2022-03-31 15:57",
          "2022-03-31 15:58",
          "2022-03-31 15:59",
          "2022-04-01 09:30",
          "2022-04-01 09:31",
          "2022-04-01 09:32",
          "2022-04-01 09:33",
          "2022-04-01 09:34",
          "2022-04-01 09:35",
          "2022-04-01 09:36",
          "2022-04-01 09:37",
          "2022-04-01 09:38",
          "2022-04-01 09:39",
          "2022-04-01 09:40",
          "2022-04-01 09:41",
          "2022-04-01 09:42",
          "2022-04-01 09:43",
          "2022-04-01 09:44",
          "2022-04-01 09:45",
          "2022-04-01 09:46",
          "2022-04-01 09:47",
          "2022-04-01 09:48",
          "2022-04-01 09:49",
          "2022-04-01 09:50",
          "2022-04-01 09:51",
          "2022-04-01 09:52",
          "2022-04-01 09:53",
          "2022-04-01 09:54",
          "2022-04-01 09:55",
          "2022-04-01 09:56",
          "2022-04-01 09:57",
          "2022-04-01 09:58",
          "2022-04-01 09:59",
          "2022-04-01 10:00",
          "2022-04-01 10:01",
          "2022-04-01 10:02",
          "2022-04-01 10:03",
          "2022-04-01 10:04",
          "2022-04-01 10:05",
          "2022-04-01 10:06",
          "2022-04-01 10:07",
          "2022-04-01 10:08",
          "2022-04-01 10:09",
          "2022-04-01 10:10",
          "2022-04-01 10:11",
          "2022-04-01 10:12",
          "2022-04-01 10:13",
          "2022-04-01 10:14",
          "2022-04-01 10:15",
          "2022-04-01 10:16",
          "2022-04-01 10:17",
          "2022-04-01 10:18",
          "2022-04-01 10:19",
          "2022-04-01 10:20",
          "2022-04-01 10:21",
          "2022-04-01 10:22",
          "2022-04-01 10:23",
          "2022-04-01 10:24",
          "2022-04-01 10:25",
          "2022-04-01 10:26",
          "2022-04-01 10:27",
          "2022-04-01 10:28",
          "2022-04-01 10:29",
          "2022-04-01 10:30",
          "2022-04-01 10:31",
          "2022-04-01 10:32",
          "2022-04-01 10:33",
          "2022-04-01 10:34",
          "2022-04-01 10:35",
          "2022-04-01 10:36",
          "2022-04-01 10:37",
          "2022-04-01 10:38",
          "2022-04-01 10:39",
          "2022-04-01 10:40",
          "2022-04-01 10:41",
          "2022-04-01 10:42",
          "2022-04-01 10:43",
          "2022-04-01 10:45",
          "2022-04-01 10:46",
          "2022-04-01 10:47",
          "2022-04-01 10:48",
          "2022-04-01 10:49",
          "2022-04-01 10:50",
          "2022-04-01 10:51",
          "2022-04-01 10:52",
          "2022-04-01 10:53",
          "2022-04-01 10:54",
          "2022-04-01 10:55",
          "2022-04-01 10:56",
          "2022-04-01 10:57",
          "2022-04-01 10:58",
          "2022-04-01 10:59",
          "2022-04-01 11:00",
          "2022-04-01 11:01",
          "2022-04-01 11:02",
          "2022-04-01 11:03",
          "2022-04-01 11:04",
          "2022-04-01 11:05",
          "2022-04-01 11:06",
          "2022-04-01 11:07",
          "2022-04-01 11:08",
          "2022-04-01 11:09",
          "2022-04-01 11:10",
          "2022-04-01 11:11",
          "2022-04-01 11:12",
          "2022-04-01 11:13",
          "2022-04-01 11:14",
          "2022-04-01 11:15",
          "2022-04-01 11:16",
          "2022-04-01 11:17",
          "2022-04-01 11:18",
          "2022-04-01 11:19",
          "2022-04-01 11:20",
          "2022-04-01 11:21",
          "2022-04-01 11:22",
          "2022-04-01 11:23",
          "2022-04-01 11:24",
          "2022-04-01 11:25",
          "2022-04-01 11:26",
          "2022-04-01 11:27",
          "2022-04-01 11:28",
          "2022-04-01 11:29",
          "2022-04-01 11:30",
          "2022-04-01 11:31",
          "2022-04-01 11:32",
          "2022-04-01 11:33",
          "2022-04-01 11:34",
          "2022-04-01 11:35",
          "2022-04-01 11:36",
          "2022-04-01 11:37",
          "2022-04-01 11:38",
          "2022-04-01 11:39",
          "2022-04-01 11:40",
          "2022-04-01 11:41",
          "2022-04-01 11:42",
          "2022-04-01 11:43",
          "2022-04-01 11:44",
          "2022-04-01 11:45",
          "2022-04-01 11:46",
          "2022-04-01 11:47",
          "2022-04-01 11:48",
          "2022-04-01 11:49",
          "2022-04-01 11:50",
          "2022-04-01 11:51",
          "2022-04-01 11:52",
          "2022-04-01 11:54",
          "2022-04-01 11:55",
          "2022-04-01 11:56",
          "2022-04-01 11:57",
          "2022-04-01 11:58",
          "2022-04-01 11:59",
          "2022-04-01 12:00",
          "2022-04-01 12:01",
          "2022-04-01 12:02",
          "2022-04-01 12:03",
          "2022-04-01 12:04",
          "2022-04-01 12:05",
          "2022-04-01 12:06",
          "2022-04-01 12:07",
          "2022-04-01 12:08",
          "2022-04-01 12:09",
          "2022-04-01 12:10",
          "2022-04-01 12:11",
          "2022-04-01 12:12",
          "2022-04-01 12:13",
          "2022-04-01 12:14",
          "2022-04-01 12:15",
          "2022-04-01 12:16",
          "2022-04-01 12:17",
          "2022-04-01 12:18",
          "2022-04-01 12:19",
          "2022-04-01 12:20",
          "2022-04-01 12:21",
          "2022-04-01 12:22",
          "2022-04-01 12:23",
          "2022-04-01 12:24",
          "2022-04-01 12:25",
          "2022-04-01 12:26",
          "2022-04-01 12:27",
          "2022-04-01 12:28",
          "2022-04-01 12:29",
          "2022-04-01 12:30",
          "2022-04-01 12:31",
          "2022-04-01 12:32",
          "2022-04-01 12:33",
          "2022-04-01 12:34",
          "2022-04-01 12:35",
          "2022-04-01 12:36",
          "2022-04-01 12:37",
          "2022-04-01 12:38",
          "2022-04-01 12:39",
          "2022-04-01 12:40",
          "2022-04-01 12:41",
          "2022-04-01 12:42",
          "2022-04-01 12:43",
          "2022-04-01 12:44",
          "2022-04-01 12:45",
          "2022-04-01 12:46",
          "2022-04-01 12:47",
          "2022-04-01 12:48",
          "2022-04-01 12:49",
          "2022-04-01 12:50",
          "2022-04-01 12:51",
          "2022-04-01 12:52",
          "2022-04-01 12:53",
          "2022-04-01 12:54",
          "2022-04-01 12:55",
          "2022-04-01 12:56",
          "2022-04-01 12:57",
          "2022-04-01 12:58",
          "2022-04-01 12:59",
          "2022-04-01 13:00",
          "2022-04-01 13:01",
          "2022-04-01 13:02",
          "2022-04-01 13:03",
          "2022-04-01 13:04",
          "2022-04-01 13:05",
          "2022-04-01 13:06",
          "2022-04-01 13:07",
          "2022-04-01 13:08",
          "2022-04-01 13:09",
          "2022-04-01 13:10",
          "2022-04-01 13:11",
          "2022-04-01 13:12",
          "2022-04-01 13:13",
          "2022-04-01 13:14",
          "2022-04-01 13:15",
          "2022-04-01 13:16",
          "2022-04-01 13:17",
          "2022-04-01 13:18",
          "2022-04-01 13:19",
          "2022-04-01 13:20",
          "2022-04-01 13:21",
          "2022-04-01 13:22",
          "2022-04-01 13:23",
          "2022-04-01 13:24",
          "2022-04-01 13:25",
          "2022-04-01 13:26",
          "2022-04-01 13:27",
          "2022-04-01 13:28",
          "2022-04-01 13:29",
          "2022-04-01 13:30",
          "2022-04-01 13:31",
          "2022-04-01 13:32",
          "2022-04-01 13:33",
          "2022-04-01 13:34",
          "2022-04-01 13:35",
          "2022-04-01 13:36",
          "2022-04-01 13:37",
          "2022-04-01 13:38",
          "2022-04-01 13:39",
          "2022-04-01 13:40",
          "2022-04-01 13:41",
          "2022-04-01 13:42",
          "2022-04-01 13:43",
          "2022-04-01 13:44",
          "2022-04-01 13:45",
          "2022-04-01 13:46",
          "2022-04-01 13:47",
          "2022-04-01 13:48",
          "2022-04-01 13:49",
          "2022-04-01 13:50",
          "2022-04-01 13:51",
          "2022-04-01 13:52",
          "2022-04-01 13:53",
          "2022-04-01 13:54",
          "2022-04-01 13:55",
          "2022-04-01 13:56",
          "2022-04-01 13:57",
          "2022-04-01 13:58",
          "2022-04-01 13:59",
          "2022-04-01 14:00",
          "2022-04-01 14:01",
          "2022-04-01 14:02",
          "2022-04-01 14:03",
          "2022-04-01 14:04",
          "2022-04-01 14:05",
          "2022-04-01 14:06",
          "2022-04-01 14:07",
          "2022-04-01 14:08",
          "2022-04-01 14:09",
          "2022-04-01 14:10",
          "2022-04-01 14:11",
          "2022-04-01 14:12",
          "2022-04-01 14:13",
          "2022-04-01 14:14",
          "2022-04-01 14:15",
          "2022-04-01 14:16",
          "2022-04-01 14:17",
          "2022-04-01 14:18",
          "2022-04-01 14:19",
          "2022-04-01 14:20",
          "2022-04-01 14:21",
          "2022-04-01 14:22",
          "2022-04-01 14:23",
          "2022-04-01 14:24",
          "2022-04-01 14:25",
          "2022-04-01 14:26",
          "2022-04-01 14:27",
          "2022-04-01 14:28",
          "2022-04-01 14:29",
          "2022-04-01 14:30",
          "2022-04-01 14:31",
          "2022-04-01 14:32",
          "2022-04-01 14:33",
          "2022-04-01 14:34",
          "2022-04-01 14:35",
          "2022-04-01 14:36",
          "2022-04-01 14:37",
          "2022-04-01 14:38",
          "2022-04-01 14:39",
          "2022-04-01 14:40",
          "2022-04-01 14:41",
          "2022-04-01 14:42",
          "2022-04-01 14:43",
          "2022-04-01 14:44",
          "2022-04-01 14:45",
          "2022-04-01 14:46",
          "2022-04-01 14:47",
          "2022-04-01 14:48",
          "2022-04-01 14:49",
          "2022-04-01 14:50",
          "2022-04-01 14:51",
          "2022-04-01 14:52",
          "2022-04-01 14:53",
          "2022-04-01 14:54",
          "2022-04-01 14:55",
          "2022-04-01 14:56",
          "2022-04-01 14:57",
          "2022-04-01 14:58",
          "2022-04-01 14:59",
          "2022-04-01 15:00",
          "2022-04-01 15:01",
          "2022-04-01 15:02",
          "2022-04-01 15:03",
          "2022-04-01 15:04",
          "2022-04-01 15:05",
          "2022-04-01 15:06",
          "2022-04-01 15:07",
          "2022-04-01 15:08",
          "2022-04-01 15:09",
          "2022-04-01 15:10",
          "2022-04-01 15:11",
          "2022-04-01 15:12",
          "2022-04-01 15:13",
          "2022-04-01 15:14",
          "2022-04-01 15:15",
          "2022-04-01 15:16",
          "2022-04-01 15:17",
          "2022-04-01 15:18",
          "2022-04-01 15:19",
          "2022-04-01 15:20",
          "2022-04-01 15:21",
          "2022-04-01 15:22",
          "2022-04-01 15:23",
          "2022-04-01 15:24",
          "2022-04-01 15:25",
          "2022-04-01 15:26",
          "2022-04-01 15:27",
          "2022-04-01 15:28",
          "2022-04-01 15:29",
          "2022-04-01 15:30",
          "2022-04-01 15:31",
          "2022-04-01 15:32",
          "2022-04-01 15:33",
          "2022-04-01 15:34",
          "2022-04-01 15:35",
          "2022-04-01 15:36",
          "2022-04-01 15:37",
          "2022-04-01 15:39",
          "2022-04-01 15:40",
          "2022-04-01 15:41",
          "2022-04-01 15:42",
          "2022-04-01 15:43",
          "2022-04-01 15:44",
          "2022-04-01 15:45",
          "2022-04-01 15:46",
          "2022-04-01 15:47",
          "2022-04-01 15:48",
          "2022-04-01 15:49",
          "2022-04-01 15:50",
          "2022-04-01 15:51",
          "2022-04-01 15:52",
          "2022-04-01 15:53",
          "2022-04-01 15:54",
          "2022-04-01 15:55",
          "2022-04-01 15:56",
          "2022-04-01 15:57",
          "2022-04-01 15:58",
          "2022-04-01 15:59",
          "2022-04-04 09:30",
          "2022-04-04 09:31",
          "2022-04-04 09:32",
          "2022-04-04 09:33",
          "2022-04-04 09:34",
          "2022-04-04 09:35",
          "2022-04-04 09:36",
          "2022-04-04 09:37",
          "2022-04-04 09:38",
          "2022-04-04 09:39",
          "2022-04-04 09:40",
          "2022-04-04 09:41",
          "2022-04-04 09:42",
          "2022-04-04 09:43",
          "2022-04-04 09:44",
          "2022-04-04 09:45",
          "2022-04-04 09:46",
          "2022-04-04 09:47",
          "2022-04-04 09:48",
          "2022-04-04 09:49",
          "2022-04-04 09:50",
          "2022-04-04 09:51",
          "2022-04-04 09:52",
          "2022-04-04 09:53",
          "2022-04-04 09:54",
          "2022-04-04 09:55",
          "2022-04-04 09:56",
          "2022-04-04 09:57",
          "2022-04-04 09:58",
          "2022-04-04 09:59",
          "2022-04-04 10:00",
          "2022-04-04 10:01",
          "2022-04-04 10:02",
          "2022-04-04 10:03",
          "2022-04-04 10:04",
          "2022-04-04 10:05",
          "2022-04-04 10:06",
          "2022-04-04 10:07",
          "2022-04-04 10:08",
          "2022-04-04 10:09",
          "2022-04-04 10:10",
          "2022-04-04 10:11",
          "2022-04-04 10:12",
          "2022-04-04 10:13",
          "2022-04-04 10:14",
          "2022-04-04 10:15",
          "2022-04-04 10:16",
          "2022-04-04 10:17",
          "2022-04-04 10:18",
          "2022-04-04 10:19",
          "2022-04-04 10:20",
          "2022-04-04 10:21",
          "2022-04-04 10:22",
          "2022-04-04 10:23",
          "2022-04-04 10:24",
          "2022-04-04 10:25",
          "2022-04-04 10:26",
          "2022-04-04 10:27",
          "2022-04-04 10:28",
          "2022-04-04 10:29",
          "2022-04-04 10:30",
          "2022-04-04 10:31",
          "2022-04-04 10:32",
          "2022-04-04 10:33",
          "2022-04-04 10:34",
          "2022-04-04 10:35",
          "2022-04-04 10:36",
          "2022-04-04 10:37",
          "2022-04-04 10:38",
          "2022-04-04 10:39",
          "2022-04-04 10:40",
          "2022-04-04 10:41",
          "2022-04-04 10:42",
          "2022-04-04 10:43",
          "2022-04-04 10:44",
          "2022-04-04 10:45",
          "2022-04-04 10:46",
          "2022-04-04 10:47",
          "2022-04-04 10:48",
          "2022-04-04 10:49",
          "2022-04-04 10:50",
          "2022-04-04 10:51",
          "2022-04-04 10:52",
          "2022-04-04 10:53",
          "2022-04-04 10:54",
          "2022-04-04 10:55",
          "2022-04-04 10:56",
          "2022-04-04 10:57",
          "2022-04-04 10:58",
          "2022-04-04 10:59",
          "2022-04-04 11:00",
          "2022-04-04 11:01",
          "2022-04-04 11:02",
          "2022-04-04 11:03",
          "2022-04-04 11:04",
          "2022-04-04 11:05",
          "2022-04-04 11:06",
          "2022-04-04 11:07",
          "2022-04-04 11:09",
          "2022-04-04 11:10",
          "2022-04-04 11:11",
          "2022-04-04 11:12",
          "2022-04-04 11:13",
          "2022-04-04 11:14",
          "2022-04-04 11:15",
          "2022-04-04 11:16",
          "2022-04-04 11:17",
          "2022-04-04 11:18",
          "2022-04-04 11:19",
          "2022-04-04 11:20",
          "2022-04-04 11:21",
          "2022-04-04 11:22",
          "2022-04-04 11:24",
          "2022-04-04 11:25",
          "2022-04-04 11:26",
          "2022-04-04 11:27",
          "2022-04-04 11:28",
          "2022-04-04 11:29",
          "2022-04-04 11:30",
          "2022-04-04 11:31",
          "2022-04-04 11:32",
          "2022-04-04 11:33",
          "2022-04-04 11:34",
          "2022-04-04 11:35",
          "2022-04-04 11:36",
          "2022-04-04 11:37",
          "2022-04-04 11:38",
          "2022-04-04 11:39",
          "2022-04-04 11:40",
          "2022-04-04 11:41",
          "2022-04-04 11:42",
          "2022-04-04 11:43",
          "2022-04-04 11:44",
          "2022-04-04 11:45",
          "2022-04-04 11:46",
          "2022-04-04 11:47",
          "2022-04-04 11:48",
          "2022-04-04 11:49",
          "2022-04-04 11:50",
          "2022-04-04 11:51",
          "2022-04-04 11:52",
          "2022-04-04 11:53",
          "2022-04-04 11:54",
          "2022-04-04 11:55",
          "2022-04-04 11:56",
          "2022-04-04 11:57",
          "2022-04-04 11:58",
          "2022-04-04 11:59",
          "2022-04-04 12:00"
         ],
         "xaxis": "x",
         "y": [
          -0.0004413204288762351,
          -0.0007965291332522328,
          -0.0013748393420188743,
          0.0007934004820588925,
          -0.0001295264881667757,
          -0.0010593632023095934,
          -0.002542666958911255,
          -0.0003140003164380234,
          0.0004907142830601341,
          -0.00021831065850430598,
          -0.0015184087911689348,
          -0.0004186624635327263,
          -0.0005406159858565296,
          -0.00036681224333612317,
          -0.0015464853663648137,
          -0.0013715359476971223,
          -0.00030088433373387513,
          0.0007035594689948077,
          0.0015265750099204833,
          -0.001230585646896487,
          0.00021900143745212652,
          -0.0010308428122772773,
          -0.0005175296832232723,
          -0.00013213654156030152,
          -0.0003875816366460949,
          0.0009240340016458681,
          -0.00032524464879124526,
          0.0005789719626168033,
          0.00021529591045177376,
          -0.00035660923565394853,
          -7.006280546650867e-05,
          -0.00013371255537542037,
          0.00019621583742113202,
          0.0003193720456626803,
          -0.0007488546842523425,
          -0.00034579439252335753,
          0.0005376859287791191,
          0.0006119154026664742,
          -0.0005743047643950172,
          -0.0011212385949012083,
          -6.536207549734385e-05,
          0.00032262210030387095,
          -1.5781057120412e-05,
          8.124450211433043e-05,
          0.0003040284648256897,
          -0.0006502899545334229,
          -0.0013329971997704249,
          -1.2879421915634737e-06,
          -0.000999912771075584,
          0.0005385477728208077,
          0.00026719613906855955,
          -4.2276212159131354e-05,
          0.0002268489890755454,
          0.0013914620385762078,
          0.00020157751947635916,
          0.0011526414016866937,
          0.00038486126720482794,
          -0.0001143868148886229,
          0.0003945629229220593,
          0.00030572400520378906,
          0.0006993340636580747,
          0.00019164332519361338,
          3.2633728356934455e-05,
          0.00022621428471536476,
          -0.00030760981233357576,
          0.00016072896120244984,
          -0.0004008838089555322,
          -0.00011191941801902416,
          0.0003497873293036857,
          -0.0006030556060627745,
          -0.0005837098193637313,
          0.0005535937441105698,
          -0.0005977230542073553,
          -0.0003639830646930964,
          -0.00045307234062819113,
          0.0003690691981388383,
          -0.0007612162648098497,
          -0.00010749270919019338,
          0.00028523685994064074,
          0.000256885290963238,
          0.00015416166419846,
          -0.00017971078124556783,
          -8.654296589638566e-05,
          0.0007196185706208613,
          -5.147274494810006e-05,
          2.801382015138465e-05,
          0.00032681874632323193,
          0.0002616029422746191,
          8.212324038714414e-05,
          0.0003218173500494359,
          -0.00025944662658172746,
          6.368297541792245e-05,
          -0.0003504673169691941,
          -0.0008375663744226713,
          0.0004808454659821493,
          0.0010130482481733871,
          -4.663700553075856e-06,
          -0.00011659305758293659,
          -0.0003934308475904702,
          -0.00041808273138677077,
          1.855551284291046e-05,
          -0.0006067190015779378,
          -0.0005739246473720483,
          -0.0004352181061948457,
          0.00028508970331730943,
          -0.00022915193567951686,
          -0.0005329792605613948,
          0.0001948282798043266,
          0.00014194205256634618,
          -0.0002787000233809289,
          0.0001432477791332154,
          0.00023196970456940136,
          -0.00020865418053550577,
          0.0003928427787078803,
          -0.0005440372119115411,
          0.00048820445417874225,
          0.00036769862270791265,
          -0.0007040487828928743,
          0.0005641269069243116,
          0.0007291538251654739,
          8.115267152852823e-05,
          -9.795908836163214e-05,
          0.0003884884576190739,
          0.00034935209368480713,
          -9.719634630411811e-05,
          -0.0003741197799438378,
          6.420551742536418e-05,
          -0.00013435601097822047,
          2.3349099034231102e-05,
          0.0001260821908788401,
          3.280058261312391e-05,
          -0.00013084785441030977,
          0.0006686838473743961,
          -0.0005766577393406802,
          -1.400745616897403e-05,
          -7.29565228150264e-05,
          0.0002837923956480193,
          -0.00011752277397625299,
          -0.00016329065093911854,
          -0.0005132996799260825,
          -1.4015827840774264e-05,
          -0.00019003392929084484,
          -0.0004485980260284794,
          0.00019915471446196875,
          2.968029646632786e-05,
          -0.00045932985281815775,
          0.000562999017206689,
          -0.00038824606364873393,
          -0.00016830920083288348,
          -0.00019639378918667738,
          -0.000383744660371943,
          -6.257836917256121e-05,
          -0.00161415506018725,
          0.00010064504215967496,
          -0.0025057976371297697,
          -0.0012195786534273667,
          0,
          -9.407302324904165e-07,
          0.00010547947653960499,
          -0.00010452771989299947,
          0.0001468715075390037,
          0.00011287105035084899,
          0.00022853808162737188,
          -0.0002568115291333717,
          0,
          7.347754526221273e-05,
          6.759437497239063e-05,
          0,
          -0.00018031784841077148,
          -0.00021456285727650126,
          6.408868651242017e-05,
          4.221351194555467e-05,
          -0.00016919966442263679,
          -6.409271876139933e-05,
          -1.4113062803966514e-05,
          -0.0002682695882373354,
          -0.0003397503164571658,
          -0.0009452222967019086,
          -0.000394254509131331,
          -1.555486134785511e-05,
          -0.0002687968987837852,
          0.0012146851366388045,
          -0.00016753031704197507,
          0.00028248248290685396,
          0.00010264908808887974,
          0.0007023443139713148,
          0.00015255592933272055,
          -0.00015241505536156552,
          9.4097709415486e-06,
          0.0006375059824996754,
          -0.0003804967051241892,
          0.00046754116620006947,
          -0.0005386669550213607,
          0.00027153662328149863,
          -0.00032613170877260345,
          1.4583102042164953e-05,
          -0.0003799783514655264,
          2.7765081527464375e-05,
          -0.00016658586389539654,
          -0.00046407070253640104,
          0.0004492180533390844,
          -1.4120010914941972e-06,
          -0.0003959491984822927,
          -1.4125623881700022e-06,
          -7.863275068187292e-05,
          -0.00031490890597707377,
          0.00021608967191455442,
          -0.00029374782190993987,
          -0.0002714579884903756,
          8.48168427400875e-05,
          -0.00018846588767429395,
          0,
          -9.425070688029447e-05,
          4.194551795655421e-05,
          -0.00043781743531357,
          0.00021641143633077675,
          -0.00038606234789073657,
          0.0004924313873431174,
          -0.00046390906486792893,
          -2.5345882885496884e-05,
          -0.0002858852273966983,
          0.0005660377358489566,
          0.00022216198378277596,
          -0.0001938330455295567,
          -0.0001131403034045908,
          -0.0008769365682549379,
          8.493931557795875e-05,
          0.00028310700501088526,
          0.00022936969914244543,
          -0.00020102090322637878,
          0.0003425707547168866,
          -0.000101851900970229,
          -0.00019052018258336467,
          -0.0003162577347244344,
          0.0005493207331244143,
          -5.6587758181625425e-05,
          -5.659096053722834e-05,
          0.0003579580825896489,
          0.0002532861192605651,
          -5.6559586408044815e-05,
          -0.0003281819954761289,
          0.0003064823371872194,
          -0.0005326445092835863,
          0.0005423607311965117,
          -0.00012726784224448284,
          -0.0001885689502366672,
          0.00039901642745321375,
          -0.0005119748501928312,
          -9.431293030270904e-05,
          0.0002358045651764673,
          -0.00027995190720919716,
          -0.00018393569325181325,
          -0.0003001297810704129,
          0.0002585783851118961,
          -0.0002131069124475804,
          -0.0003096429904789755,
          -0.0003492674822533903,
          -0.0009555094948960896,
          -0.0002156235508177229,
          -0.00023635074450489846,
          0.0009456264775413725,
          0.00011632026452534916,
          -8.796803867283653e-05,
          -5.66823802821137e-05,
          0.0002168223945884229,
          0.0008577740898148001,
          3.3502967667020656e-05,
          0.0005963092527023761,
          -3.301030393054738e-05,
          0.0003961367237605984,
          -6.599664359929758e-05,
          -0.0007071535654682437,
          -0.00021229619565221736,
          0.0005078495491286361,
          -0.00011613888323913635,
          0,
          0.0005990396498212203,
          7.071035623873456e-05,
          0.00035305541414487607,
          0.00029685769066389867,
          -0.0001832434466915167,
          0.00022709390474306979,
          5.381657239533766e-05,
          -0.0002290319484848924,
          -0.0001413374289779279,
          4.535216842271872e-05,
          -0.0003374755065224111,
          0.00019795820253953877,
          -0.00013194601523036642,
          0.000287020454331266,
          -3.251022776473711e-05,
          0.0001696240941602145,
          -0.00016959532670657307,
          0.0003957895530404265,
          -0.0003108544730074936,
          0.00042402427303400714,
          0.0003250652249673358,
          0.0001552414711054606,
          0.00024429967426709,
          0.0003393006641538854,
          0.0006633171502765656,
          0.0002773742530874923,
          0.00014569860129332035,
          -5.345419856295219e-05,
          -0.00011619566692377958,
          0.00011327162771324062,
          -0.0001691832677748195,
          2.3501652166135756e-05,
          0.0004451108311869234,
          -1.456419922507557e-05,
          0.00022269454764822783,
          -1.7614316917269335e-06,
          -7.045739177302668e-05,
          -0.000806206794097819,
          0.00017218440303135019,
          -0.0005217523121912038,
          -0.00019752285180674178,
          -0.00010172084624693323,
          0,
          0.00019758197299712954,
          -5.173743720954249e-05,
          5.597339617402497e-05,
          -5.59702633283754e-05,
          -0.0002932723740716181,
          -6.410598731099171e-05,
          0.00014115984694029748,
          7.986167346540896e-05,
          0.0003698746777562878,
          0.0006881004934737867,
          0.0001835082692680512,
          3.124471424009734e-05,
          -0.00018323395240571472,
          0.00019431057690977305,
          -0.00012391646503329135,
          -0.00030178279744075276,
          0.000622783829617557,
          0.00021137984535446463,
          -0.0004219658961386319,
          0.00026768676584354445,
          0.0003269155412994884,
          -0.0003973590006509653,
          0.0006201734277822002,
          -0.00029105791453953866,
          -0.00034702326006752493,
          -0.00012260421211229833,
          0.0005443871686241497,
          4.0381293318958456e-05,
          -0.00019062957059046148,
          -0.0001233927825906589,
          0.00022251016119945177,
          -0.0006618644903478854,
          0.00026771695351968106,
          0.0001544333347700544,
          -0.000168617510200475,
          0.000601300311924513,
          0,
          0.00019776995305154088,
          -2.3938927571243163e-05,
          0.0003661335394633536,
          0.0009994602679936904,
          9.093976283702787e-05,
          -8.436942700384975e-05,
          -6.281365076565848e-05,
          -0.0007314265301915368,
          -0.00011235691499345002,
          -0.00033781239729269164,
          0.0001242584096190491,
          -0.00022302727913403597,
          7.064301572912157e-05,
          0.0005818836697322194,
          5.3944510565617776e-05,
          0.0009215805217348549,
          -0.00020619522939224755,
          7.265193629124589e-05,
          -0.0004052980504917203,
          -0.00017817369849093545,
          -0.0008347518448074132,
          -0.00032397125632199764,
          0.0007418188647354551,
          -0.0004738491564546532,
          -0.00014245682877489507,
          -0.0002002190908551027,
          0.00026294289443784535,
          -4.6941745294071247e-05,
          -0.00046943948924982326,
          -0.007794476798797634,
          0.0018441695651432166,
          -0.00030238601464682713,
          -0.00032138232208178685,
          0.001465596308588335,
          -0.0004815227448684567,
          -0.0010413222750158546,
          9.219617312594686e-05,
          0.00234948559868986,
          0.0007624208808518773,
          -0.0011481798903920648,
          -0.0006134990311528199,
          -0.000264269864501232,
          -4.250214370182803e-05,
          -0.0006423999808260472,
          -0.0010013751778042979,
          -3.547825395688875e-07,
          -0.000932014062165698,
          0.0002793560606060286,
          -0.0009417350266733848,
          0.0015776315792590534,
          0.0007340592245179689,
          0.0008264074097534824,
          0.0014358381663968078,
          -0.0005038272833380875,
          0.00037655683601656165,
          -0.0005895047169811596,
          -0.000466430623429992,
          0.0009108672268176576,
          0.0006750983987759973,
          0.00044245451228164256,
          0.001154773862479308,
          0.0005365940679995518,
          8.467994040417537e-05,
          0.00020203863806678157,
          0.0007155755374281814,
          0.001240728608475905,
          0.00010526083564665889,
          5.3622228467054e-05,
          -0.0012671532065663405,
          -0.0013111704296000504,
          -0.00028925733092066697,
          -0.0004237157506240541,
          -0.0005720998217662032,
          -0.0005935105353125358,
          -0.00042910402466811437,
          0.00018393014144590936,
          -0.0005233972109766061,
          0.0001556860618867617,
          -0.00022134640169402253,
          0.00039596397470931244,
          -0.00030891122822751527,
          -0.0006674308488449077,
          0.0006795606153198186,
          -0.00015096333478004098,
          -0.0005078088138151804,
          -0.0004025588628744359,
          0.000597056583065303,
          -0.00016991268729771303,
          -0.0006160381641543422,
          0.0001558757910844477,
          0.0007224661468703264,
          0.0005522834638236329,
          1.8749113396943073e-05,
          0.00046235154282259217,
          0.00041016062149235033,
          -0.0002544780778328537,
          -0.00014141269633827225,
          6.140536249144013e-05,
          0.0003910373946303114,
          -0.0005370833745659276,
          -0.0002782924465819514,
          0.00047821616879994977,
          0.00028566122087636536,
          0.0008435438265788076,
          0.00028722237132683404,
          0.0012944831481829233,
          0.00018346143901459833,
          0,
          0.0006297178161493999,
          0.0006765294427115709,
          4.2129815927882674e-05,
          -0.00020676771137950745,
          7.429683852278046e-05,
          0.0008789378946874038,
          0.0006566604127580256,
          0.00011249648448496963,
          -0.0003906469694980874,
          -0.0002795612260183544,
          -0.0004550442434089197,
          0.0007413524520936132,
          1.4065884603509105e-05,
          -0.0003346461307639492,
          0.0003376894886524262,
          0.00039090773229566445,
          -0.00023949121006328067,
          0.00039717717078602277,
          0.0003063458099450411,
          -0.0005451636779283398,
          -0.0012684459281714355,
          0.00016425678497844487,
          0.0003032386118357877,
          -0.0005283078609981118,
          0.0004929177539565455,
          0.00019244930262640736,
          0.00035480776243401735,
          -0.000692485384901409,
          0.0006738465436189056,
          2.3091101428063254e-05,
          -0.00014487280378805423,
          -1.711528645953475e-05,
          0.00022508159207723644,
          0.0002342900273788473,
          0.00021865071883464537,
          0.0002549195907930457,
          -0.0007888078530828846,
          3.938361824329384e-05,
          -0.0003939378808838212,
          0.00036817983497794415,
          9.142502427161858e-05,
          -0.0002483486106600319,
          0.0007418312399578575,
          6.91144101201413e-05,
          -9.839337672012949e-05,
          0.0001827485380117011,
          0.00015601062558845413,
          4.0753174883167986e-05,
          0.00011253507206454572,
          0.0005478588484237878,
          -0.0006272527266769634,
          0.0003325589238205584,
          -0.0004726853867872416,
          -0.00042184694006375256,
          0.0006654919016195748,
          -0.00014050337676452251,
          -0.0005713435883983875,
          0.00032338794332420484,
          -7.039613109427467e-05,
          -0.0002874613438290652,
          -0.00036862812920868127,
          -0.0003750937734433579,
          0.0005347091932457193,
          -0.00014989639686091571,
          -0.0006612137145640684,
          0.00022051130472311442,
          -0.0001359129031652806,
          7.025271390692645e-05,
          0.00029084222278519256,
          0.00039392973043961277,
          -0.000384281830114408,
          -0.0005628686534683291,
          0.0001500342533244936,
          -6.556416438707746e-05,
          0.0006662412731777145,
          -0.0008813614156171212,
          -0.0010510815792527106,
          0.00023324527325985223,
          -2.6771158726179856e-05,
          -0.00015029824808610037,
          0.0002771540506769643,
          0.00022541878583814956,
          -7.04274948940542e-05,
          -0.0001831243837160379,
          0.00030995956436585814,
          -0.00011455560406958831,
          0.00022725928124089911,
          0.00012674806709189745,
          -0.0008108501370582832,
          0.00017745134767888082,
          -5.6361042261254823e-05,
          -0.0001410279729747721,
          -0.000417858703158247,
          6.556004136637483e-05,
          0.00026316284140670554,
          -1.879240035329577e-05,
          0.0002632160039088838,
          -7.045428098406692e-05,
          0.00012647434502555122,
          0.0003524865093478269,
          -0.0003894530754821046,
          0.0003333598706107832,
          -7.993744923939783e-05,
          0.0008968736206458328,
          -0.000365817042218497,
          -5.1742338174065594e-05,
          9.386850899240073e-06,
          0.0002393624510714787,
          0.00028059704293892374,
          0.00018388492556420388,
          0.00015477262494378863,
          -0.00024830128160036047,
          2.3218066188324116e-05,
          0.00019230679030579623,
          -0.0004501927387662308,
          -0.0001923564129751032,
          0.0002487036906688722,
          -0.0007107403897578246,
          0.00040609089393983666,
          1.1731966798045335e-07,
          -5.643075365791006e-05,
          -0.00036136492695271194,
          0.00015915194080862172,
          -0.0005192738005772579,
          5.036931036661585e-05,
          0.0003756962120429197,
          -8.44999014167902e-05,
          -0.00019706572769950803,
          -4.226184948885603e-05,
          -0.00047440930992759256,
          0.0001503420281139256,
          -0.00022547914317927464,
          -0.0002067358291986121,
          0.0001223048292195994,
          -0.000199587409711377,
          7.73129678286466e-05,
          0.0005013205631896334,
          -0.00029427697052542,
          2.819124612463142e-05,
          -0.00028977434835719684,
          0.0002615422249701016,
          3.993760336884478e-06,
          0.0008793285435024778,
          -2.8166369354987175e-05,
          -0.0005257870374717477,
          9.40573597241201e-05,
          0.0009110142551012057,
          -0.0007789185232455198,
          8.452688424509525e-05,
          0.00023489444423585581,
          -0.00011266652199970473,
          -0.0003090462279399242,
          0.0002850726207237475,
          -0.00022019926860039618,
          0.00060685538785199,
          -0.0006628065333552646,
          -0.0001361949936599105,
          -0.0003147002597451154,
          -0.0001691459071389012,
          0.0001486151185632334,
          0,
          -0.00048689180371386254,
          0.0001298618880625213,
          0.00032561137324926825,
          -0.00046646765926039446,
          -0.00021448017351155535,
          -7.499600334781586e-05,
          0.00015329486384607627,
          -0.00032264563307071725,
          0.00015038140321732563,
          -0.00034962239840496956,
          0.00017581314461390107,
          -8.924329096804406e-05,
          6.10295150023088e-05,
          -0.0002870211077509177,
          0.0004704686808998382,
          0.0005079848016025235,
          0.0004510908372863387,
          5.637561191029761e-05,
          -0.0005259078310706489,
          -0.0005076188656550906,
          -8.464611223935048e-05,
          0.00033473316934107267,
          -0.0005602876966251946,
          0.00016910958277449595,
          0.0011334775656099971,
          -9.09043930076292e-05,
          0.00045268395541953055,
          0.0006856455869783673,
          -0.0003565495297629395,
          -0.00011912696716476212,
          0.00010024290710997086,
          0.00046301947381266473,
          0.00034431767323384044,
          -0.0002157841408038097,
          1.888518744430634e-05,
          -5.6302601144975206e-05,
          -0.000197070199572269,
          -0.0002956635658363238,
          0.00016900057636237698,
          -0.00014562102556392453,
          0.00026288364582072177,
          -0.000544166924788092,
          0.00042718878786152104,
          -6.477260766424298e-05,
          -0.0001530234631673677,
          -0.0004066774918385363,
          0.0003570589892918363,
          0.00021115417529515845,
          -5.632718584680507e-05,
          -0.00014528538368019372,
          0.00031432212642323876,
          -2.8160420528777763e-06,
          2.933385399028765e-06,
          -0.00011921243291812544,
          0.00012157362744136258,
          0.0005372760328072879,
          -0.00042686931231827874,
          0.00014547911905360422,
          -0.0005302177177176626,
          8.274375959471669e-05,
          7.698640474074203e-05,
          0.00014081794809239767,
          2.3349021764040856e-05,
          -0.0004503088100020758,
          -0.00018804578175279918,
          -0.00037545787545789633,
          -0.00010816966358884184,
          0.00014083545849219448,
          -0.00021128216210120065,
          8.222833139570618e-05,
          -0.0003547273468120782,
          0.00045578663968215416,
          -0.00028633709322045675,
          0.00031473206890697547,
          -0.0005964991524638474,
          6.087241212915373e-05,
          5.6403434969265476e-05,
          -0.00039010175545795,
          -0.00032912987464850385,
          -0.0002163565556035918,
          0.0004139890669250246,
          -0.0001550640947266535,
          0.0003245210580655744,
          -0.0002728148628502458,
          0.00025419504119783554,
          8.439669644522141e-05,
          0.00015044380923723288,
          -0.00023021491425989637,
          0.00048416211567214873,
          -0.0006576906809530048,
          0.00012203147847844598,
          -9.16887660107335e-06,
          0.0005828167564401188,
          5.650898974618457e-05,
          -0.00025374744446371444,
          1.7038295390126024e-05,
          0.0004482757891357547,
          0.00029597609922538126,
          0.0002816811775330219,
          -0.0006101569176159005,
          -3.770295288119119e-05,
          -0.0003853833413146601,
          0.0003290123050601057,
          0.0005168492867480001,
          0.0004226582385482569,
          1.8776874401549293e-05,
          -0.00030981261031204355,
          0.00037564681686275136,
          0.0003097922514385676,
          0.0008446262997860998,
          -0.0001781595184067175,
          0.0005017490879419828,
          0.0002577790692770421,
          0.0005294823255987957,
          -0.00019201138955360353,
          0.00014052312073742357,
          -0.0003653087795876253,
          -0.00010483039730135868,
          0.0007046044111866934,
          -9.364698831282325e-05,
          0.00013580085039421874,
          0.00015451101944496948,
          0.0008428912504097053,
          0.00012617518916346881,
          1.4147610556181078e-05,
          0.00046581225661479486,
          -0.00027171416931548453,
          -0.0007224300864776545,
          -0.0004632510325760508,
          0.0006039098952392852,
          -0.00012632345752916496,
          0.0004210144095955215,
          0.0016370439663235814,
          0.0009199159467663254,
          0.0004247785133451032,
          0.0003728349516329832,
          -0.0017602252491631942,
          0.005321742184099865,
          0.001179394277220469,
          7.945385853447284e-05,
          0.0003159344753753679,
          -0.0003339221416467364,
          -0.0008819417099624749,
          -0.0012815927411701233,
          -0.000892686837437151,
          0.000820190793829445,
          -0.00010357320585574481,
          0.00029296466288131207,
          0.0008236636820915244,
          -0.00018649855010732797,
          0.000413369957052101,
          -8.53333457173644e-05,
          0.00015732864095330257,
          0.0009953679517988867,
          -0.0004179774853482199,
          0.001430581967241551,
          0.00012072481230873677,
          -2.7918587083175517e-05,
          -0.0005421686118896041,
          0.0004078902361464021,
          9.732540517504162e-05,
          0.0003870625417068396,
          -0.00012379819342656084,
          0.00025816682789070455,
          -0.0002581001949820694,
          -3.150353395520167e-05,
          -0.000812515636437805,
          -0.0011180450382621832,
          0.00021120990783352056,
          -0.00032951069981579373,
          9.285051067786654e-06,
          -9.284964856415279e-06,
          0.0004945450324975731,
          -0.0001230821201353427,
          -0.0001907369593465713,
          -0.002315737779945981,
          0.0002052898483297927,
          -0.0004702672813632347,
          0.00039498233981016817,
          -0.0007810468446683982,
          -0.0004608938547485675,
          -9.78104433607685e-05,
          -0.0013042668157257076,
          -0.0005479244402984973,
          -0.00044578996817401517,
          0.0002423116248886359,
          -0.00022824986498715116,
          -0.0008403753676642367,
          -0.00021961590579877566,
          0.0011076681482311557,
          0.001035947712418217,
          0.0005316621110063036,
          0.00020334592019333186,
          0.00031911245958804457,
          0.0004911529574000983,
          0.0006565669441593869,
          -0.0005835423603939294,
          -0.0003631808637208911,
          0.0008336398785184773,
          -3.478847675342234e-05,
          0.0013078129841395114,
          0.0005573023868601368,
          -0.0011539349984791558,
          -0.0002052182167269212,
          4.2331310889043294e-05,
          0.00019420411201043208,
          -0.0004918107121721915,
          0.0004229559455788401,
          0.00025161983173571656,
          -0.00019971077973224283,
          -0.00022346961103958396,
          0.00020014420616831785,
          0.00030637678810396807,
          2.3712228396144397e-05,
          0.00010112328206646204,
          -0.00021268608579738668,
          -0.00027899190923463824,
          3.2674418604550226e-05,
          -1.4418133547078327e-05,
          -0.0005145254906393504,
          0.0004453372906461084,
          -0.00018524203563907715,
          -0.00019202213732616435,
          -1.3959468218693871e-05,
          0.00024592273140355836,
          0.0005487124795453546,
          -4.056711195177254e-05,
          0.0006743248236973365,
          -0.0006598145084846241,
          -0.0002703770865299937,
          -0.0006132220154377865,
          -0.0002513030528666915,
          6.912571104056298e-05,
          -0.0005445891691454596,
          -8.615717350446417e-06,
          0.00039085422080642473,
          -0.00015886433300194014,
          -0.0005964470195808369,
          4.344408897161145e-05,
          0.0005025552283737245,
          0.000511499067102017,
          -2.245535979183977e-05,
          2.6877225879351485e-05,
          -0.00012414384956227487,
          6.970140453566032e-05,
          -0.00013031741599178748,
          -0.0006655200342593481,
          2.317305227883537e-05,
          -0.0006148285466757164,
          0.0008436955285651138,
          0.00036275916295758215,
          -0.0002928020163771583,
          -0.0003819414897301421,
          -0.00041900352158597,
          0.00040333469952957834,
          -0.0008299848234007978,
          -7.179673784063478e-05,
          -0.0011235364390527192,
          0.00020059461892962815,
          0.0006690979754273574,
          0.0005364361518558347,
          7.038333397235697e-05,
          -0.00039383928164649085,
          0.0002931645109847114,
          0.0005259100119374693,
          0.00035535298921041125,
          2.7477389368479876e-05,
          6.1007442442306825e-05,
          -0.0007031726591568699,
          -0.0003470571788061205,
          0.00044460651507627347,
          -0.000251035711606451,
          0.0007853390025331919,
          -0.0007662107241326321,
          2.3303396236906693e-05,
          0.0005592684768322975,
          -0.000349347419021262,
          -0.00030753316465603753,
          -0.0002004241534410145,
          0.00036363297311914344,
          -2.7961599403436566e-05,
          0.0008183656920224269,
          -0.00013783494823738085,
          -0.00011177347242918856,
          0.00038193538771102986,
          -9.13734181340331e-05,
          0.00035691273972426885,
          0.00016140291835564646,
          0.0001968634944806702,
          2.791840381188848e-05,
          0.0001156254943746049,
          0.000359165238573933,
          0.00013394099759533873,
          -0.00013555059699221772,
          0.0003504330068360151,
          8.356770646278378e-05,
          -0.0001253991942142818,
          0.00021840096091763073,
          -0.00045100002661147,
          -0.000233681802116803,
          -0.0003010664660332285,
          -4.175952538842953e-05,
          0.00013005320083259164,
          -0.0005629477993859267,
          -0.00021401738207516008,
          -0.00018158704986348528,
          -0.0001606638724347409,
          0.000980323547525419,
          -0.0002883765297101437,
          0.0005356111604934988,
          0.00013955883591187934,
          -1.8954096666412568e-05,
          -0.00011093589544863836,
          0.0002085221478316246,
          -0.0005712524998837676,
          0.0003812465774191143,
          -0.00024224411787554523,
          -0.000297789344515631,
          -0.00020444208314029932,
          -0.0005262812422751617,
          0.0003368715912566156,
          0.0001551671655568576,
          3.410121986924253e-05,
          0.00024591611083368825,
          0.000619816873028034,
          -0.0005860600727853882,
          -0.0003861654791796898,
          -0.00035395687941564,
          5.6704385368089305e-05,
          -0.0001569469761394382,
          0.0002205521022318191,
          -0.00045474474802409404,
          0.0007910986953860721,
          0.0001304653457971927,
          0.00014743802860817112,
          -0.00010553005407509808,
          0.00020049335561767023,
          -0.0004936290097031781,
          6.506596629773931e-05,
          0.0004190022160561746,
          -0.00012553167726148118,
          0.0002510948748837283,
          -0.0002930255839601603,
          0.00024202932278338807,
          -0.00018613135289569094,
          0.0002974001917510627,
          2.7916598232202716e-05,
          0.00017238018181564563,
          -0.00010210776951735667,
          -0.0001767877662866013,
          -0.000330372390174416,
          0.00026997086176550056,
          -0.0006051764574491747,
          -0.000558514978747815,
          0.0003540713546956731,
          0.00016719292853073497,
          -0.0002975443511041842,
          0.00021868333535168816,
          -0.0003911689875638613,
          -7.896320151756786e-05,
          0.0004845322400297558,
          -0.0007311030808776486,
          -3.262080181931637e-05,
          0.0002842762606021232,
          -0.00041977068686782637,
          -0.00014891571184272312,
          -0.00022818496920673503,
          -0.00041031379680145363,
          0.0006203879057009587,
          0.00011188028809172579,
          -0.00017246281561855703,
          8.391530148910142e-05,
          -0.000358940891292181,
          -6.062216999391801e-05,
          0.00025183043417431605,
          0.0002979243206953086,
          -0.00028828061239472014,
          0.00044758155600321814,
          0.00034345836476079583,
          -1.3510003808447912e-05,
          0.0003268067486641435,
          0,
          0.0004468547850020599,
          -8.821381912538229e-05,
          -0.00036359404096830694,
          -4.1448962588397364e-05,
          0,
          -0.0003679330082482224,
          0.00028373882982202225,
          0.00016209048282012084,
          0.0003954972227875331,
          0.00043421159057488445,
          9.922855325461555e-05,
          -0.0007425700250861533,
          -0.00015237257130751303,
          -0.0005321628467207518,
          -0.00011182418442601261,
          -4.776358655589341e-06,
          -0.00022181049555070054,
          0.00024061990212076445,
          0,
          -6.98969544149497e-05,
          -0.0003761884041002528,
          0.000587862618230961,
          -2.7954825002840522e-05,
          0.0002457763737850893,
          -0.00032979510081920793,
          0.00011206481400161117,
          -0.00047080584442205087,
          -0.0002132559427905356,
          -0.0006489958281503672,
          0.0007928769372882449,
          -0.000820218729656208,
          1.2130260333975684e-05,
          0.0004716747860666892,
          -0.00024575214846600524,
          4.197937413419339e-05,
          4.197761194024707e-05,
          0.0004058831485618253,
          1.3869720895787196e-05,
          -3.333348873424402e-05,
          0.0003177276898866932,
          -0.0002002936241610742,
          6.992451997689386e-05,
          -0.0004960797810956707,
          0.00030033727316136627,
          -1.3986666045018303e-05,
          0.00015397203560119088,
          -0.0003076635852526932,
          -0.0004016012289813631,
          -0.000717924651965185,
          -0.00019594891090213284,
          -0.00035018579107148895,
          2.7440829689195922e-05,
          1.1676628397516708e-07,
          -0.0008277560897405056,
          -0.000370689449654682,
          -0.00019733790234488513,
          4.080836578523872e-05,
          -0.00020064268799468987,
          8.923140650796135e-05,
          5.110176337330685e-05,
          -0.00016838164541843614,
          -4.689750766062595e-05,
          0.0007953067544934633,
          0.0008788167760513943,
          -0.0007468054102526267,
          -0.0004290680016695303,
          -0.00018820697436594536,
          0.00024307823330871337,
          -0.00021519878534836945,
          0.00022915828757952283,
          -8.287551139685156e-05,
          0.0001530226175376903,
          5.610360465668762e-05,
          0.00038475563575834926,
          0.00048473182378327984,
          0.00012132859836500032,
          -0.00013544186741643038,
          2.814302730214102e-05,
          0.00022408692751141324,
          0.0004204045036169113,
          0.00017259566018190675,
          -0.0002425723166531446,
          9.348127416020091e-05,
          -0.0001960472669960689,
          0.00020052098105405314,
          -8.401988470607691e-05,
          7.002245386678041e-05,
          2.800702042637937e-05,
          -0.00038251850745429916,
          0.0003362034366996003,
          0.0002846265930160907,
          -0.00035629449525009793,
          -0.00026434010032316824,
          0.0003266309777378851,
          -0.0006989114299851273,
          -0.00035629823996141674,
          -0.00013539719626165514,
          -0.0002805286369965687,
          -2.7932177400935565e-05,
          -0.00041607250694553066,
          0.00028049815255903887,
          0.0001216826572405516,
          -0.0007097875768122819,
          -0.0001784793651654626,
          0.0005989367468983708,
          -0.0009511782287742188,
          -0.0006300417086675392,
          0,
          0.0009880467189893327,
          -0.00039761268617255485,
          -5.1491371508949335e-05,
          -0.000229265434250836,
          0.00039776548973491366,
          -0.0007159974350933185,
          -0.0004682669240905213,
          -0.0006067243189493698,
          -0.0009497325170150228,
          1.5253344559873483e-05,
          -0.0007116163358951155,
          8.806138841466193e-06,
          0.0004344323571794373,
          -0.0005577097564350986,
          -0.0014319250232126546,
          3.2103993419241306e-05,
          0.00038782260537773006,
          -0.0008446976473771572,
          0.0004856470588234796,
          -0.0007328205784297159,
          -0.0015314378994518707,
          -6.529259923704345e-05,
          -0.00016123846225657434,
          -0.0022350688910474092,
          0.0019395085066162832,
          -0.0013334251527283847,
          0.001034819723635616,
          0.0002510063846210553,
          -0.0015757075471698467,
          0.0002539378676635895,
          0.0010584749553301798,
          5.0131214029303095e-05,
          0.0012768075023674719,
          0.00016220988050186236,
          -0.0017456228985772704,
          -0.0010760353477611284,
          -0.0004674929409510531,
          0.0001841067866630297,
          -0.00029773023230761364,
          -0.0006521288496933453,
          0.0007518921475875295,
          0.0010968574007386156,
          0.0005802890585531184,
          0.0014819697999990389,
          -0.00031075077528663897,
          -8.484082917770142e-05,
          -0.000254779772230207,
          0.000297043777887529,
          0.001466159202594186,
          -0.00015061375103542218,
          -0.0007156407697521683,
          0.00017912664630759245,
          0.00018345123823704235,
          0.00013303072962767004,
          2.236502355157377e-05,
          0.00040173746450800074,
          5.177072955908635e-05,
          -0.0002554282623665749,
          -0.0009650146870527898,
          0.0009433295480782977,
          -0.00020807128277355869,
          7.980864758483364e-05,
          -0.00015536726821263613,
          -0.00028700322719710236,
          -0.00011304437933923328,
          0.0004001752385978108,
          0.0006406364078779259,
          0.00043269977365034684,
          -7.055670889644095e-05,
          -0.0012108385574463032,
          -0.0003235643128814969,
          -0.00025370564538640394,
          -0.0003580348727615368,
          -0.0005846815324195287,
          -0.00046214622641505,
          -0.00028326770355313613,
          -0.0001791429461579508,
          -3.800682753707374e-05,
          -0.00021270467808642834,
          -0.0005853574682900264,
          -0.0001690474277856735,
          -0.0009273777775992142,
          -0.001168428770784602,
          2.6640081838280594e-05,
          0.0002841533030748522,
          0.0003469236418816024,
          0.00018505643274613348,
          -0.00017685944938150566,
          -0.0003833618586897014,
          -0.0006800180627948293,
          -0.0003695561535836944,
          0.0008815750808111034,
          0.0008613831379160608,
          -0.0003191329802761933,
          0.00036916707152778727,
          -0.00022709589999647672,
          -0.00015711034327903217,
          -0.0003940208227580788,
          0.00018939393939398919,
          2.9705548191705233e-05,
          0.00029491644290535746,
          -0.000905311107227913,
          -0.00019894155985100692,
          -0.00013869459603921275,
          -0.00037302294286556403,
          0.00036972558895675967,
          0.0009463609171065368,
          4.8640204501904094e-05,
          -8.520497298825092e-05,
          -0.0008095162181959159,
          -5.685418004364173e-05,
          -0.00014214353156316584,
          -0.0003519737243499188,
          3.922730504868355e-05,
          -0.0003839621839911711,
          0.00020438427990887575,
          -0.00023278926941028288,
          -0.0004500375880972518,
          0.00035060855373370003,
          0.0007101010420782483,
          0,
          0.00021800947867300913,
          -0.00019900874690825798,
          0.00045496767833785867,
          0.0004939602084319539,
          3.610248892926826e-05,
          -1.4203745148821945e-05,
          0.0008669142256789719,
          0.00021240160460189728,
          0.00011398199651990737,
          -0.00011396900610516347,
          -0.0005386949960011211,
          -0.0004116920543433267,
          -1.4202124637874292e-05,
          -0.0003550581585263224,
          0.000261770806694539,
          -0.0005647135578954465,
          0.0004595109287806043,
          0.0003930091717923023,
          0.00013844580970689968,
          -1.4197604627508298e-05,
          -0.00011949820220280571,
          0.0004298899538515144,
          -0.0006617673410542757,
          -0.00026488222682863327,
          -0.0008050385944973204,
          0.0004971563981042149,
          -0.0002790082087151813,
          -0.00022270026439730195,
          -1.7772596078158287e-06,
          5.971602895527006e-05,
          -7.227103676588076e-05,
          -0.000371334097723941,
          -0.001081227801612128,
          0.0002293658810599286,
          -0.0008394313505069029,
          -0.0004131819282773286,
          0.0007845387078688759,
          -0.0007744287771799252,
          -0.00025656131815499084,
          0.00027516134244520707,
          -0.0004746296439707143,
          0.0003465158285007597,
          -0.000660005160299515,
          0.0004897439067299558,
          0.0007413849641426662,
          0.00038288384550733134,
          0,
          2.848277593137105e-05,
          -0.00017089178811557915,
          0.00014421459131197523,
          -0.00017267652168961867,
          -0.0007578900388797161,
          -0.0001425462562602009,
          0.000977887923660381,
          -0.0011098647403532391,
          0.00021863117870712934,
          -0.00021858338956315393,
          -0.00014745722433462394,
          -0.00029008555087550736,
          -0.0001679679726800387,
          0.0001872569004168767,
          -0.00018722184183495028,
          0.00023005847765489307,
          -0.00013015818677164503,
          -0.00018842701484644842,
          -8.263814243725243e-05,
          -0.00034544409186554326,
          5.7098266115884755e-05,
          -0.0007422350791717047,
          0.00011427483096837499,
          0.0010469235017425138,
          8.251535332504112e-05,
          0.00026631000148613637,
          -0.0001806622459883389,
          0.000659298594740676,
          -0.0003891884494190423,
          1.9015383445175615e-05,
          0.00041357672561326275,
          -6.652506331761288e-05,
          -0.00022334899944398412,
          0.00019012671945861648,
          -0.00014256793362033005,
          -0.00015209414627659346,
          -0.00036175391226633824,
          -0.0005035953090977152,
          -0.0004282003216260488,
          0,
          0.000299868628981681,
          -0.0005472151507220913,
          0.00012092934679097667,
          9.401833904965073e-06,
          -0.0001303153333543916,
          0.0004521757760427292,
          0.00027137319715575536,
          0.0005358196315750074,
          -0.00022824034421498052,
          0.00027763691155979764,
          -0.000590899365237818,
          -0.0003079346150978157,
          -0.000157048627966061,
          2.379898425930449e-05,
          -0.00014326647564466555,
          -0.00032322882268065456,
          0.0006285714285714228,
          -0.0006281765747244705,
          0.0004952380952381041,
          6.52058028405289e-05,
          0.0007962204040878884,
          0.00024252799771740108,
          -0.0003518180435113649,
          0.00013185929935044527,
          -0.00035617527199671706,
          -0.0005669200542826047,
          2.8558420890778535e-05,
          0.0005149888161277705,
          -0.00042743001814615766,
          -0.00011981248810200018,
          0.0003190226127653961,
          -0.0005433907248151293,
          0.0008530207312482663,
          -0.00036615213115642753,
          -0.00015132059337663595,
          9.280497320407477e-06,
          -2.926898914901166e-05,
          0.00011422378867465,
          -8.518217922193205e-05,
          -3.783553156189168e-05,
          -0.0010185044166920454,
          -0.0005151311589438601,
          -0.0005283262597872707,
          -0.00024340773693221074,
          7.632568168380871e-05,
          -0.0008540668943541885,
          0.00043467892838400246,
          -8.350989711969348e-07,
          -8.350996685280165e-07,
          4.8555121276772084e-05,
          -2.8630622383229998e-05,
          -0.00012490466624504037,
          5.894041362797253e-05,
          -6.681110591466588e-05,
          0.0004295286638795748,
          0.0003235585959489029,
          0.0007013931171910848,
          -0.0002902254084005129,
          -0.0005053008923804336,
          0.00010969618924971947,
          0.0004721187640979174,
          0.00026216442953019836,
          0.0007291026319176108,
          4.2142857142879464e-05,
          0.00013404197013611174,
          -3.808852725950551e-05,
          -2.3806236281620485e-05,
          0.00023806803032044854,
          -0.00038093719356036004,
          1.4286124161433378e-05,
          -0.00038583889125065607,
          0.00018590774069338067,
          -0.00026184185442612584,
          -0.0003811338732729874,
          8.578781812973446e-05,
          0.0005003860120664783,
          -0.00028186221974535464,
          -7.146810860725328e-05,
          0.00020488988776690142,
          0,
          -0.0002477230618141979,
          0.0004535170083173057,
          -0.0001285989854968861,
          0.00036679242406911783,
          -1.4285374157707587e-05,
          0.0006476128798773573,
          0.0003140793193043834,
          0.0004709710566876968,
          0.00046551879906608917,
          0.00026639619887558474,
          0.0002235611606078436,
          -0.00022398624254171828,
          0.0004948757904530421,
          -5.224139323045662e-05,
          4.749465685116583e-05,
          -0.00034242021276598145,
          -0.00029407866200381605,
          0.0002898881316948376,
          3.2781121874547736e-05,
          0.0005704440841278746,
          0.0001235672988937342,
          -0.0002088872009115006,
          -9.734277954032144e-06,
          -0.00040338290819841305,
          1.425117215880789e-05,
          -0.00012350839857111495,
          0.0004798418897218326,
          0.0001994425106963682,
          0.00035417725004638356,
          -0.00023540176817105074,
          0.0011962744595401809,
          -0.00020411937071496133,
          0.0003654032156905629,
          0.0004740684554849217,
          -0.00018953752843064997,
          0.0001848341232226769,
          0.00038381531375719646,
          0.0004452444107616582,
          -0.0006723039192477742,
          0.0004825367647058876,
          -0.00029264987118438057,
          -0.0001897096826068978,
          -0.0007966475894481961,
          0.00028448982794770927,
          -4.8586523235805146e-06,
          0.0004123949326142462,
          -0.0008046678077084923,
          -0.000608877086494708,
          0.00048421933688769236,
          0.000816561629357615,
          6.527637079489779e-05,
          -0.0002358562089769256,
          0.000214109851031985,
          2.3692752387116656e-05,
          -0.0003372583396512585,
          -9.089020617147892e-05,
          0.0005175405600341687,
          -0.0002614200093268293,
          0.00024727060408680224,
          -0.00016974182067708288,
          0.00019429437967954932,
          -0.00019425663670691318,
          -0.0006634442232963389,
          -0.0005177114946889327,
          0.0003131363176094304,
          0.00014762601362461325,
          0.00012377414396080866,
          -0.0002138514576395245,
          0.00014726181942092964,
          -0.00018968133535657294,
          0.000275090115727572,
          -0.00026553120465822033,
          0.0004155955644511433,
          -0.0007188416515697682,
          -0.0003700575961438357,
          -0.0009776934029426254,
          -0.0004370670897982931,
          0.00026591952547971864,
          0.0004941604724364446,
          0.0003704372988566629,
          -6.646412515765032e-05,
          -0.00038931575145417785,
          5.6757745829250084e-05,
          -0.0003989439384030069,
          -0.0004638386406926598,
          -0.00029602003381834496,
          0.0005325421278861153,
          -0.00014233167319321893,
          -5.727348278150579e-05,
          0.00010587882993795539,
          -0.0003707149011111799,
          -7.131776569524462e-05,
          -0.00016546901729352914,
          -0.00019902369012037013,
          0.00032975062980233893,
          -0.00022800332566264014,
          -0.00026634198310626633,
          -0.0008753568030447356,
          0.00043151474173397375,
          6.663283463814729e-05,
          -0.0004408182204864719,
          -0.00013331555792561733,
          0.00013333333333331865,
          0.0002573466394957258,
          0.0001581524932758871,
          2.2487655883196567e-05,
          -0.0005711022272987254,
          0.00019023809523810442,
          0.0005078795724338114,
          5.90064199221807e-05,
          -5.246027383309926e-05,
          0.00024744465805048854,
          0.0008240960989533974,
          0.0008355388381766637,
          0.0008107376430188662,
          -0.0003592450065181829,
          0.0004082717760771626,
          0.0008921368575902644,
          -0.0008534122265525523,
          0.0001138854881417295,
          0.00036059631242824075,
          0.0005881292746090505,
          0.0001516860856458635,
          -0.0008907836241789369,
          -0.001082748811051637,
          -0.002849303202901776,
          -0.003471795589819471,
          -0.0008559188869899925,
          -0.00043047844809651625,
          -0.00037324199431809646,
          -0.00110434716424046,
          -0.0027363648997704715,
          0.00015353195579037582,
          -0.0005282706475386867,
          0.0009650421590023939,
          0.0007071753686858084,
          0.00013893554734356606,
          -0.0017224175073818904,
          -0.0001922707171697624,
          0.00020192307692301625,
          -0.0004854788936848875,
          0.00024526187716711334,
          -2.956844494017563e-05,
          6.803347439254814e-05,
          0.0012163461538461373,
          -0.0007875036614118924,
          0.0010568194378366425,
          0.001501556012395877,
          0.001410687382952025,
          0.00018667789925141953,
          0.00044507190543408015,
          -0.00017741140790628052,
          -0.0022052078261702857,
          -0.00014205226564367734,
          0.0015972060284277223,
          -2.0349199444380517e-06,
          -0.00017219048804661963,
          0.00010996468619084432,
          0.0008552600076614514,
          -0.00018933720555625033,
          -0.0002394378909894579,
          8.340153832153696e-05,
          -9.870951369472802e-05,
          -0.0010130989087991926,
          -8.732039055092677e-05,
          -8.103896141231637e-05,
          0.0002731467948380306,
          0.000172466656446435,
          -0.0004406721207824704,
          -0.0002779375119800198,
          -0.00020132104955372654,
          0.001033236647808966,
          0.0003448349973518283,
          0.00043801689839151337,
          -0.0005216334304816161,
          0.0009600790040698026,
          0.0004806852602190492,
          -0.0002916553112344289,
          0.0006934812760055475,
          -0.0007813582813582798,
          -0.0003156814585153489,
          -2.6374902432291236e-05,
          0.0007368421052631469,
          -0.0005928645878157113,
          0.000363584174520426,
          0.00014346790622932204,
          0.0005737893045674181,
          -0.00018637458424131115,
          -0.0007932553281999599,
          -0.00037311462757028124,
          -0.00048349538872927145,
          0.0004739744915547295,
          0.000308715084868183,
          2.8703256820916678e-05,
          -0.0001004585153869808,
          -0.0009880011178329262,
          0.0008453097014569089,
          -0.0010109310584134334,
          -0.0005040611377843396,
          -4.312947468299022e-05,
          0.0003019193444036006,
          -0.00028571873442950757,
          0.0004888139187846363,
          -0.000303503328926813,
          -0.0002482547303157556,
          -0.0008779436648321814,
          -0.00014300481599449633,
          -0.00024077419548285128,
          -0.0008044334715343604,
          -2.005048760800321e-05,
          -7.203912444853078e-05,
          -0.00022663940589862097,
          5.374523198731218e-05,
          -0.00036028386765929454,
          0.0007968146635521922,
          -0.0004417554979352367,
          -0.0006515770915799246,
          -0.00015556473815458993,
          0.00023852163461546283,
          -0.0002384647556120667,
          0.0006158052884615017,
          -0.0006154263056877829,
          -0.0006730769230769429,
          -0.00023092466082941243,
          -0.0005966931649760143,
          6.91542120874189e-05,
          0.0003063879449132223,
          -5.7757284637527384e-05,
          6.913224294113895e-05,
          0.00015227294290287574,
          -0.0001875000000000071,
          0.00013224327492111776,
          -0.0003441600266520517,
          2.8885454729232762e-05,
          -0.00035859052680731196,
          -0.00023826320451003635,
          -0.0004741712735542025,
          -8.674673711783765e-05,
          -0.0009072447520900306,
          -0.00028154407720570873,
          0.00025659151884815934,
          -0.0002026155007852637,
          0.0003145398724977433,
          0.00024437761158591087,
          -0.00021713128461542386,
          0.00041090257478848535,
          -0.00038005683977249127,
          -6.843141746060155e-05,
          -0.0005314500361596197,
          0.00012632722007732688,
          -0.00010127822896888183,
          -0.0001447840199464423,
          8.688299123660315e-05,
          0.0002895848107939969,
          -0.00042068110532678116,
          -0.0001149440545262781,
          -3.8620814506895584e-05,
          0.0004256902303971799,
          0.0003167491153373003,
          0.0005014762070163492,
          -0.0001540561241648586,
          0.00024594907407404776,
          0.00027481666835416085,
          -0.0005690034125744869,
          -0.00020255611346908786,
          0.00030896065490981783,
          0.00024593484173363045,
          0.00011088452100294077,
          0.00032297561775118666,
          0.000500932471700466,
          -8.164073309047115e-05,
          0.0002842003853564812
         ],
         "yaxis": "y"
        },
        {
         "hovertemplate": "partition=validation<br>x=%{x}<br>Close=%{y}<extra></extra>",
         "legendgroup": "validation",
         "line": {
          "color": "#EF553B",
          "dash": "solid"
         },
         "mode": "lines",
         "name": "validation",
         "showlegend": true,
         "type": "scattergl",
         "x": [
          "2022-04-04 12:01",
          "2022-04-04 12:02",
          "2022-04-04 12:03",
          "2022-04-04 12:04",
          "2022-04-04 12:05",
          "2022-04-04 12:06",
          "2022-04-04 12:07",
          "2022-04-04 12:08",
          "2022-04-04 12:09",
          "2022-04-04 12:10",
          "2022-04-04 12:11",
          "2022-04-04 12:12",
          "2022-04-04 12:13",
          "2022-04-04 12:14",
          "2022-04-04 12:15",
          "2022-04-04 12:16",
          "2022-04-04 12:17",
          "2022-04-04 12:18",
          "2022-04-04 12:19",
          "2022-04-04 12:20",
          "2022-04-04 12:21",
          "2022-04-04 12:22",
          "2022-04-04 12:23",
          "2022-04-04 12:24",
          "2022-04-04 12:25",
          "2022-04-04 12:26",
          "2022-04-04 12:27",
          "2022-04-04 12:28",
          "2022-04-04 12:29",
          "2022-04-04 12:30",
          "2022-04-04 12:31",
          "2022-04-04 12:32",
          "2022-04-04 12:33",
          "2022-04-04 12:34",
          "2022-04-04 12:35",
          "2022-04-04 12:36",
          "2022-04-04 12:37",
          "2022-04-04 12:38",
          "2022-04-04 12:39",
          "2022-04-04 12:40",
          "2022-04-04 12:41",
          "2022-04-04 12:42",
          "2022-04-04 12:43",
          "2022-04-04 12:44",
          "2022-04-04 12:45",
          "2022-04-04 12:46",
          "2022-04-04 12:47",
          "2022-04-04 12:48",
          "2022-04-04 12:49",
          "2022-04-04 12:50",
          "2022-04-04 12:51",
          "2022-04-04 12:52",
          "2022-04-04 12:53",
          "2022-04-04 12:54",
          "2022-04-04 12:55",
          "2022-04-04 12:56",
          "2022-04-04 12:57",
          "2022-04-04 12:58",
          "2022-04-04 12:59",
          "2022-04-04 13:00",
          "2022-04-04 13:01",
          "2022-04-04 13:02",
          "2022-04-04 13:03",
          "2022-04-04 13:04",
          "2022-04-04 13:05",
          "2022-04-04 13:06",
          "2022-04-04 13:07",
          "2022-04-04 13:08",
          "2022-04-04 13:09",
          "2022-04-04 13:10",
          "2022-04-04 13:11",
          "2022-04-04 13:12",
          "2022-04-04 13:13",
          "2022-04-04 13:14",
          "2022-04-04 13:15",
          "2022-04-04 13:16",
          "2022-04-04 13:17",
          "2022-04-04 13:18",
          "2022-04-04 13:19",
          "2022-04-04 13:20",
          "2022-04-04 13:21",
          "2022-04-04 13:22",
          "2022-04-04 13:23",
          "2022-04-04 13:24",
          "2022-04-04 13:25",
          "2022-04-04 13:26",
          "2022-04-04 13:27",
          "2022-04-04 13:28",
          "2022-04-04 13:29",
          "2022-04-04 13:30",
          "2022-04-04 13:31",
          "2022-04-04 13:32",
          "2022-04-04 13:33",
          "2022-04-04 13:34",
          "2022-04-04 13:35",
          "2022-04-04 13:36",
          "2022-04-04 13:37",
          "2022-04-04 13:38",
          "2022-04-04 13:39",
          "2022-04-04 13:40",
          "2022-04-04 13:41",
          "2022-04-04 13:42",
          "2022-04-04 13:43",
          "2022-04-04 13:44",
          "2022-04-04 13:45",
          "2022-04-04 13:46",
          "2022-04-04 13:47",
          "2022-04-04 13:48",
          "2022-04-04 13:49",
          "2022-04-04 13:50",
          "2022-04-04 13:51",
          "2022-04-04 13:52",
          "2022-04-04 13:53",
          "2022-04-04 13:54",
          "2022-04-04 13:55",
          "2022-04-04 13:56",
          "2022-04-04 13:57",
          "2022-04-04 13:58",
          "2022-04-04 13:59",
          "2022-04-04 14:00",
          "2022-04-04 14:01",
          "2022-04-04 14:02",
          "2022-04-04 14:03",
          "2022-04-04 14:04",
          "2022-04-04 14:05",
          "2022-04-04 14:06",
          "2022-04-04 14:07",
          "2022-04-04 14:08",
          "2022-04-04 14:09",
          "2022-04-04 14:10",
          "2022-04-04 14:11",
          "2022-04-04 14:12",
          "2022-04-04 14:13",
          "2022-04-04 14:14",
          "2022-04-04 14:15",
          "2022-04-04 14:16",
          "2022-04-04 14:17",
          "2022-04-04 14:18",
          "2022-04-04 14:19",
          "2022-04-04 14:20",
          "2022-04-04 14:21",
          "2022-04-04 14:22",
          "2022-04-04 14:23",
          "2022-04-04 14:24",
          "2022-04-04 14:25",
          "2022-04-04 14:26",
          "2022-04-04 14:27",
          "2022-04-04 14:28",
          "2022-04-04 14:29",
          "2022-04-04 14:30",
          "2022-04-04 14:31",
          "2022-04-04 14:32",
          "2022-04-04 14:33",
          "2022-04-04 14:34",
          "2022-04-04 14:35",
          "2022-04-04 14:36",
          "2022-04-04 14:37",
          "2022-04-04 14:38",
          "2022-04-04 14:39",
          "2022-04-04 14:40",
          "2022-04-04 14:41",
          "2022-04-04 14:42",
          "2022-04-04 14:43",
          "2022-04-04 14:44",
          "2022-04-04 14:45",
          "2022-04-04 14:46",
          "2022-04-04 14:47",
          "2022-04-04 14:48",
          "2022-04-04 14:49",
          "2022-04-04 14:50",
          "2022-04-04 14:51",
          "2022-04-04 14:52",
          "2022-04-04 14:53",
          "2022-04-04 14:54",
          "2022-04-04 14:55",
          "2022-04-04 14:56",
          "2022-04-04 14:57",
          "2022-04-04 14:58",
          "2022-04-04 14:59",
          "2022-04-04 15:00",
          "2022-04-04 15:01",
          "2022-04-04 15:02",
          "2022-04-04 15:03",
          "2022-04-04 15:04",
          "2022-04-04 15:05",
          "2022-04-04 15:06",
          "2022-04-04 15:07",
          "2022-04-04 15:08",
          "2022-04-04 15:09",
          "2022-04-04 15:10",
          "2022-04-04 15:11",
          "2022-04-04 15:12",
          "2022-04-04 15:13",
          "2022-04-04 15:14",
          "2022-04-04 15:15",
          "2022-04-04 15:16",
          "2022-04-04 15:17",
          "2022-04-04 15:18",
          "2022-04-04 15:19",
          "2022-04-04 15:20",
          "2022-04-04 15:21",
          "2022-04-04 15:22",
          "2022-04-04 15:23",
          "2022-04-04 15:24",
          "2022-04-04 15:25",
          "2022-04-04 15:26",
          "2022-04-04 15:27",
          "2022-04-04 15:28",
          "2022-04-04 15:29",
          "2022-04-04 15:30",
          "2022-04-04 15:31",
          "2022-04-04 15:32",
          "2022-04-04 15:33",
          "2022-04-04 15:34",
          "2022-04-04 15:35"
         ],
         "xaxis": "x",
         "y": [
          -0.0005730548639837352,
          8.004481063883517e-05,
          -2.222285257236223e-05,
          0.00024090348442795673,
          -0.00013005655051490095,
          0.0003131398289775156,
          0,
          -7.892265459452652e-05,
          0.00033233214261696453,
          -0.0008118367715173047,
          0.0001330568994428738,
          -6.925988108141823e-05,
          0.00010443908891288878,
          -0.0003242452910808824,
          -0.0003065786574867335,
          0.00014758132942516156,
          -0.0001909416992750268,
          5.3032750133796824e-05,
          -0.0004261076025646737,
          -0.00021998719625082597,
          -0.00016401667181231705,
          -0.00029913828873595616,
          0,
          0,
          0,
          7.83663127412737e-05,
          -7.836017194362555e-05,
          0,
          0,
          6.714527027029682e-05,
          -0.00024129653939142237,
          -6.576917685896522e-05,
          -0.0001544772174163489,
          -1.3880956793999033e-06,
          -0.00034762792224718453,
          4.250263226523998e-05,
          -5.258269791375003e-05,
          -0.0005347295588804535,
          -0.00020435338553692617,
          -0.0001494144891452942,
          0.00014405878371848146,
          0.00014597143020100845,
          -0.0003866228494103785,
          0.00023206343067094792,
          -4.2293414792560213e-07,
          0.0006461832321886796,
          -0.000548735011225876,
          0.00023102055019630363,
          -0.00012466430029989262,
          -0.00044459479050884543,
          5.995029926797457e-05,
          -0.00024365435116391332,
          0.0001059598646033777,
          1.5895317668546127e-05,
          -0.00012184201925102833,
          0.0001537717601547417,
          -0.0001537481180360345,
          -7.350096711800091e-05,
          -0.00028145202161855565,
          -0.00018091527650532235,
          0,
          -5.9993458777718445e-05,
          -4.257855743849959e-05,
          -0.00014981758182208704,
          0.00017790857072275124,
          0.0003403309950269495,
          -3.9904396321732705e-06,
          -7.255373737902193e-05,
          0.0001532808913147221,
          3.857129038498108e-05,
          0.00034821640053306346,
          0.0004777848189161382,
          2.6879927785383728e-05,
          -7.036915538105593e-05,
          0.00026675713212886976,
          5.2177694035870914e-05,
          0.00021836191845436836,
          0.0004008867808791283,
          0.0003949325042003071,
          9.74876185897422e-05,
          0.0006263692779864272,
          -0.0007127844989144316,
          -5.791282189882008e-05,
          -1.061796559775896e-05,
          5.791679094646618e-05,
          -0.00022103628373337791,
          0.00025004827186725365,
          0.00035326173509431236,
          0.00043418481800427955,
          4.3399638336438784e-05,
          0.0001060834008410616,
          -0.00022178721927046396,
          0.00011574074074083285,
          -0.0002989623114608708,
          -0.00028940488708384393,
          0.00011097065549892093,
          -0.00037146923318132075,
          0,
          0.00028473804100226374,
          -0.00010131858906625713,
          -4.342665238410426e-05,
          0.00047771392174178473,
          -8.681560365786378e-05,
          -2.8941047087061023e-05,
          4.341282704323213e-05,
          -0.0004341094245156052,
          0.0001785447158002551,
          0,
          0,
          9.649342879836098e-06,
          0,
          1.447387465614014e-05,
          -0.00016885942693933842,
          0.0002750460822822376,
          2.4120215152301228e-05,
          -0.00041485769416305107,
          0.0004439854449989067,
          -0.0001833039082322907,
          0.000477642472547668,
          -0.00015913814637813495,
          0.0009622758447722646,
          0.00034928093842201413,
          7.706906351456766e-05,
          0.00045274585544885504,
          0.0005247549538793805,
          -0.0001732226632984446,
          -0.00019731554605872947,
          0.00025511677609402206,
          1.4436889139046727e-05,
          -0.0007170218090123415,
          0.00038525438828829195,
          0.00024069126531389706,
          -0.0002839473494237188,
          -0.0006065682678143558,
          0,
          -0.00018786127167624844,
          -0.0006311397613232295,
          5.785084124765305e-05,
          0.00011569498944274947,
          2.41003345127222e-05,
          0.00026027733996558666,
          -0.00011564871702207657,
          -4.337328494807835e-05,
          -0.0002698899234668817,
          0.00026996278370194915,
          0.00027952884930493305,
          5.781739339916214e-05,
          0.0003362850618129354,
          -0.0002022811534648783,
          -0.00021298011752024504,
          2.890931130972163e-05,
          -0.0006725436393012485,
          0.00036545619347005953,
          -0.0003942400468847085,
          -0.00026035890957831764,
          0.0001446815077741359,
          0.0003221108871551692,
          -0.00010122979742466232,
          0,
          -0.00028925727409734314,
          -0.000857413735401491,
          0.0004054249722476033,
          0.0003608749770833697,
          -2.893674812687319e-05,
          -0.0003127670697994356,
          -0.00015993018070659115,
          8.685380767103901e-05,
          0.00011579501965619521,
          -0.0003039267333955209,
          -0.0005684675215877899,
          0.0006846735488108546,
          -2.8950850141762352e-05,
          -0.00010133090911201847,
          0,
          0.0001882050450534578,
          -0.0003657245640495965,
          0.00026449918912652137,
          0.00037637739651064095,
          0.0001447060730244143,
          -0.00040897665167727304,
          0.0002605397998667325,
          0.00022091879063834696,
          -0.00019193506229209234,
          0.0001832897618196938,
          0.00037037037037035425,
          -2.820136060721623e-05,
          0.0002740671052221533,
          0.00022067562526562057,
          -0.00015220427874118592,
          -0.0004915615271178231,
          0.0004966248794600059,
          -5.7830489197718826e-05,
          -1.4458458439170485e-05,
          0.00013494756323262358,
          7.228358295274795e-05,
          -5.782268673115709e-05,
          -0.0004577894072349542,
          0.0002116437827830442,
          0.00029932341340521695,
          -0.000684238423360517,
          0.00019787789071701312,
          0.00031800031854256616,
          -0.00016867876334369925,
          -0.00021208907741254723,
          -0.0002699888147491558,
          -0.00033757716049387376,
          9.648318780453025e-05,
          -0.000520958950364192,
          -0.0005308829065356901,
          0.00014250912637869817,
          0.0004320531407862038,
          -0.0004295138771590601,
          0.0001641544596904243,
          0.0002124003166694699,
          -0.0003185328185327796
         ],
         "yaxis": "y"
        },
        {
         "hovertemplate": "partition=test<br>x=%{x}<br>Close=%{y}<extra></extra>",
         "legendgroup": "test",
         "line": {
          "color": "#00cc96",
          "dash": "solid"
         },
         "mode": "lines",
         "name": "test",
         "showlegend": true,
         "type": "scattergl",
         "x": [
          "2022-04-04 15:36",
          "2022-04-04 15:37",
          "2022-04-04 15:38",
          "2022-04-04 15:39",
          "2022-04-04 15:40",
          "2022-04-04 15:41",
          "2022-04-04 15:42",
          "2022-04-04 15:43",
          "2022-04-04 15:44",
          "2022-04-04 15:45",
          "2022-04-04 15:46",
          "2022-04-04 15:47",
          "2022-04-04 15:48",
          "2022-04-04 15:49"
         ],
         "xaxis": "x",
         "y": [
          -3.3794548456533846e-05,
          -0.00035244077305229826,
          -0.00024631255614482317,
          -0.00029468171958857425,
          0.00025611040774720095,
          0.0002898620739630875,
          -0.0005186423897032277,
          -0.0006359701298800369,
          0.0003578059724587135,
          4.646188795986994e-05,
          0.0007171956399869561,
          0.00027529848151153224,
          0.0006403152990028804,
          0.00023161818658756772
         ],
         "yaxis": "y"
        }
       ],
       "layout": {
        "height": 500,
        "legend": {
         "title": {
          "text": "partition"
         },
         "tracegroupgap": 0
        },
        "template": {
         "data": {
          "bar": [
           {
            "error_x": {
             "color": "#2a3f5f"
            },
            "error_y": {
             "color": "#2a3f5f"
            },
            "marker": {
             "line": {
              "color": "#E5ECF6",
              "width": 0.5
             }
            },
            "type": "bar"
           }
          ],
          "barpolar": [
           {
            "marker": {
             "line": {
              "color": "#E5ECF6",
              "width": 0.5
             }
            },
            "type": "barpolar"
           }
          ],
          "carpet": [
           {
            "aaxis": {
             "endlinecolor": "#2a3f5f",
             "gridcolor": "white",
             "linecolor": "white",
             "minorgridcolor": "white",
             "startlinecolor": "#2a3f5f"
            },
            "baxis": {
             "endlinecolor": "#2a3f5f",
             "gridcolor": "white",
             "linecolor": "white",
             "minorgridcolor": "white",
             "startlinecolor": "#2a3f5f"
            },
            "type": "carpet"
           }
          ],
          "choropleth": [
           {
            "colorbar": {
             "outlinewidth": 0,
             "ticks": ""
            },
            "type": "choropleth"
           }
          ],
          "contour": [
           {
            "colorbar": {
             "outlinewidth": 0,
             "ticks": ""
            },
            "colorscale": [
             [
              0,
              "#0d0887"
             ],
             [
              0.1111111111111111,
              "#46039f"
             ],
             [
              0.2222222222222222,
              "#7201a8"
             ],
             [
              0.3333333333333333,
              "#9c179e"
             ],
             [
              0.4444444444444444,
              "#bd3786"
             ],
             [
              0.5555555555555556,
              "#d8576b"
             ],
             [
              0.6666666666666666,
              "#ed7953"
             ],
             [
              0.7777777777777778,
              "#fb9f3a"
             ],
             [
              0.8888888888888888,
              "#fdca26"
             ],
             [
              1,
              "#f0f921"
             ]
            ],
            "type": "contour"
           }
          ],
          "contourcarpet": [
           {
            "colorbar": {
             "outlinewidth": 0,
             "ticks": ""
            },
            "type": "contourcarpet"
           }
          ],
          "heatmap": [
           {
            "colorbar": {
             "outlinewidth": 0,
             "ticks": ""
            },
            "colorscale": [
             [
              0,
              "#0d0887"
             ],
             [
              0.1111111111111111,
              "#46039f"
             ],
             [
              0.2222222222222222,
              "#7201a8"
             ],
             [
              0.3333333333333333,
              "#9c179e"
             ],
             [
              0.4444444444444444,
              "#bd3786"
             ],
             [
              0.5555555555555556,
              "#d8576b"
             ],
             [
              0.6666666666666666,
              "#ed7953"
             ],
             [
              0.7777777777777778,
              "#fb9f3a"
             ],
             [
              0.8888888888888888,
              "#fdca26"
             ],
             [
              1,
              "#f0f921"
             ]
            ],
            "type": "heatmap"
           }
          ],
          "heatmapgl": [
           {
            "colorbar": {
             "outlinewidth": 0,
             "ticks": ""
            },
            "colorscale": [
             [
              0,
              "#0d0887"
             ],
             [
              0.1111111111111111,
              "#46039f"
             ],
             [
              0.2222222222222222,
              "#7201a8"
             ],
             [
              0.3333333333333333,
              "#9c179e"
             ],
             [
              0.4444444444444444,
              "#bd3786"
             ],
             [
              0.5555555555555556,
              "#d8576b"
             ],
             [
              0.6666666666666666,
              "#ed7953"
             ],
             [
              0.7777777777777778,
              "#fb9f3a"
             ],
             [
              0.8888888888888888,
              "#fdca26"
             ],
             [
              1,
              "#f0f921"
             ]
            ],
            "type": "heatmapgl"
           }
          ],
          "histogram": [
           {
            "marker": {
             "colorbar": {
              "outlinewidth": 0,
              "ticks": ""
             }
            },
            "type": "histogram"
           }
          ],
          "histogram2d": [
           {
            "colorbar": {
             "outlinewidth": 0,
             "ticks": ""
            },
            "colorscale": [
             [
              0,
              "#0d0887"
             ],
             [
              0.1111111111111111,
              "#46039f"
             ],
             [
              0.2222222222222222,
              "#7201a8"
             ],
             [
              0.3333333333333333,
              "#9c179e"
             ],
             [
              0.4444444444444444,
              "#bd3786"
             ],
             [
              0.5555555555555556,
              "#d8576b"
             ],
             [
              0.6666666666666666,
              "#ed7953"
             ],
             [
              0.7777777777777778,
              "#fb9f3a"
             ],
             [
              0.8888888888888888,
              "#fdca26"
             ],
             [
              1,
              "#f0f921"
             ]
            ],
            "type": "histogram2d"
           }
          ],
          "histogram2dcontour": [
           {
            "colorbar": {
             "outlinewidth": 0,
             "ticks": ""
            },
            "colorscale": [
             [
              0,
              "#0d0887"
             ],
             [
              0.1111111111111111,
              "#46039f"
             ],
             [
              0.2222222222222222,
              "#7201a8"
             ],
             [
              0.3333333333333333,
              "#9c179e"
             ],
             [
              0.4444444444444444,
              "#bd3786"
             ],
             [
              0.5555555555555556,
              "#d8576b"
             ],
             [
              0.6666666666666666,
              "#ed7953"
             ],
             [
              0.7777777777777778,
              "#fb9f3a"
             ],
             [
              0.8888888888888888,
              "#fdca26"
             ],
             [
              1,
              "#f0f921"
             ]
            ],
            "type": "histogram2dcontour"
           }
          ],
          "mesh3d": [
           {
            "colorbar": {
             "outlinewidth": 0,
             "ticks": ""
            },
            "type": "mesh3d"
           }
          ],
          "parcoords": [
           {
            "line": {
             "colorbar": {
              "outlinewidth": 0,
              "ticks": ""
             }
            },
            "type": "parcoords"
           }
          ],
          "pie": [
           {
            "automargin": true,
            "type": "pie"
           }
          ],
          "scatter": [
           {
            "marker": {
             "colorbar": {
              "outlinewidth": 0,
              "ticks": ""
             }
            },
            "type": "scatter"
           }
          ],
          "scatter3d": [
           {
            "line": {
             "colorbar": {
              "outlinewidth": 0,
              "ticks": ""
             }
            },
            "marker": {
             "colorbar": {
              "outlinewidth": 0,
              "ticks": ""
             }
            },
            "type": "scatter3d"
           }
          ],
          "scattercarpet": [
           {
            "marker": {
             "colorbar": {
              "outlinewidth": 0,
              "ticks": ""
             }
            },
            "type": "scattercarpet"
           }
          ],
          "scattergeo": [
           {
            "marker": {
             "colorbar": {
              "outlinewidth": 0,
              "ticks": ""
             }
            },
            "type": "scattergeo"
           }
          ],
          "scattergl": [
           {
            "marker": {
             "colorbar": {
              "outlinewidth": 0,
              "ticks": ""
             }
            },
            "type": "scattergl"
           }
          ],
          "scattermapbox": [
           {
            "marker": {
             "colorbar": {
              "outlinewidth": 0,
              "ticks": ""
             }
            },
            "type": "scattermapbox"
           }
          ],
          "scatterpolar": [
           {
            "marker": {
             "colorbar": {
              "outlinewidth": 0,
              "ticks": ""
             }
            },
            "type": "scatterpolar"
           }
          ],
          "scatterpolargl": [
           {
            "marker": {
             "colorbar": {
              "outlinewidth": 0,
              "ticks": ""
             }
            },
            "type": "scatterpolargl"
           }
          ],
          "scatterternary": [
           {
            "marker": {
             "colorbar": {
              "outlinewidth": 0,
              "ticks": ""
             }
            },
            "type": "scatterternary"
           }
          ],
          "surface": [
           {
            "colorbar": {
             "outlinewidth": 0,
             "ticks": ""
            },
            "colorscale": [
             [
              0,
              "#0d0887"
             ],
             [
              0.1111111111111111,
              "#46039f"
             ],
             [
              0.2222222222222222,
              "#7201a8"
             ],
             [
              0.3333333333333333,
              "#9c179e"
             ],
             [
              0.4444444444444444,
              "#bd3786"
             ],
             [
              0.5555555555555556,
              "#d8576b"
             ],
             [
              0.6666666666666666,
              "#ed7953"
             ],
             [
              0.7777777777777778,
              "#fb9f3a"
             ],
             [
              0.8888888888888888,
              "#fdca26"
             ],
             [
              1,
              "#f0f921"
             ]
            ],
            "type": "surface"
           }
          ],
          "table": [
           {
            "cells": {
             "fill": {
              "color": "#EBF0F8"
             },
             "line": {
              "color": "white"
             }
            },
            "header": {
             "fill": {
              "color": "#C8D4E3"
             },
             "line": {
              "color": "white"
             }
            },
            "type": "table"
           }
          ]
         },
         "layout": {
          "annotationdefaults": {
           "arrowcolor": "#2a3f5f",
           "arrowhead": 0,
           "arrowwidth": 1
          },
          "coloraxis": {
           "colorbar": {
            "outlinewidth": 0,
            "ticks": ""
           }
          },
          "colorscale": {
           "diverging": [
            [
             0,
             "#8e0152"
            ],
            [
             0.1,
             "#c51b7d"
            ],
            [
             0.2,
             "#de77ae"
            ],
            [
             0.3,
             "#f1b6da"
            ],
            [
             0.4,
             "#fde0ef"
            ],
            [
             0.5,
             "#f7f7f7"
            ],
            [
             0.6,
             "#e6f5d0"
            ],
            [
             0.7,
             "#b8e186"
            ],
            [
             0.8,
             "#7fbc41"
            ],
            [
             0.9,
             "#4d9221"
            ],
            [
             1,
             "#276419"
            ]
           ],
           "sequential": [
            [
             0,
             "#0d0887"
            ],
            [
             0.1111111111111111,
             "#46039f"
            ],
            [
             0.2222222222222222,
             "#7201a8"
            ],
            [
             0.3333333333333333,
             "#9c179e"
            ],
            [
             0.4444444444444444,
             "#bd3786"
            ],
            [
             0.5555555555555556,
             "#d8576b"
            ],
            [
             0.6666666666666666,
             "#ed7953"
            ],
            [
             0.7777777777777778,
             "#fb9f3a"
            ],
            [
             0.8888888888888888,
             "#fdca26"
            ],
            [
             1,
             "#f0f921"
            ]
           ],
           "sequentialminus": [
            [
             0,
             "#0d0887"
            ],
            [
             0.1111111111111111,
             "#46039f"
            ],
            [
             0.2222222222222222,
             "#7201a8"
            ],
            [
             0.3333333333333333,
             "#9c179e"
            ],
            [
             0.4444444444444444,
             "#bd3786"
            ],
            [
             0.5555555555555556,
             "#d8576b"
            ],
            [
             0.6666666666666666,
             "#ed7953"
            ],
            [
             0.7777777777777778,
             "#fb9f3a"
            ],
            [
             0.8888888888888888,
             "#fdca26"
            ],
            [
             1,
             "#f0f921"
            ]
           ]
          },
          "colorway": [
           "#636efa",
           "#EF553B",
           "#00cc96",
           "#ab63fa",
           "#FFA15A",
           "#19d3f3",
           "#FF6692",
           "#B6E880",
           "#FF97FF",
           "#FECB52"
          ],
          "font": {
           "color": "#2a3f5f"
          },
          "geo": {
           "bgcolor": "white",
           "lakecolor": "white",
           "landcolor": "#E5ECF6",
           "showlakes": true,
           "showland": true,
           "subunitcolor": "white"
          },
          "hoverlabel": {
           "align": "left"
          },
          "hovermode": "closest",
          "mapbox": {
           "style": "light"
          },
          "paper_bgcolor": "white",
          "plot_bgcolor": "#E5ECF6",
          "polar": {
           "angularaxis": {
            "gridcolor": "white",
            "linecolor": "white",
            "ticks": ""
           },
           "bgcolor": "#E5ECF6",
           "radialaxis": {
            "gridcolor": "white",
            "linecolor": "white",
            "ticks": ""
           }
          },
          "scene": {
           "xaxis": {
            "backgroundcolor": "#E5ECF6",
            "gridcolor": "white",
            "gridwidth": 2,
            "linecolor": "white",
            "showbackground": true,
            "ticks": "",
            "zerolinecolor": "white"
           },
           "yaxis": {
            "backgroundcolor": "#E5ECF6",
            "gridcolor": "white",
            "gridwidth": 2,
            "linecolor": "white",
            "showbackground": true,
            "ticks": "",
            "zerolinecolor": "white"
           },
           "zaxis": {
            "backgroundcolor": "#E5ECF6",
            "gridcolor": "white",
            "gridwidth": 2,
            "linecolor": "white",
            "showbackground": true,
            "ticks": "",
            "zerolinecolor": "white"
           }
          },
          "shapedefaults": {
           "line": {
            "color": "#2a3f5f"
           }
          },
          "ternary": {
           "aaxis": {
            "gridcolor": "white",
            "linecolor": "white",
            "ticks": ""
           },
           "baxis": {
            "gridcolor": "white",
            "linecolor": "white",
            "ticks": ""
           },
           "bgcolor": "#E5ECF6",
           "caxis": {
            "gridcolor": "white",
            "linecolor": "white",
            "ticks": ""
           }
          },
          "title": {
           "x": 0.05
          },
          "xaxis": {
           "automargin": true,
           "gridcolor": "white",
           "linecolor": "white",
           "ticks": "",
           "title": {
            "standoff": 15
           },
           "zerolinecolor": "white",
           "zerolinewidth": 2
          },
          "yaxis": {
           "automargin": true,
           "gridcolor": "white",
           "linecolor": "white",
           "ticks": "",
           "title": {
            "standoff": 15
           },
           "zerolinecolor": "white",
           "zerolinewidth": 2
          }
         }
        },
        "title": {
         "text": "Number of users"
        },
        "width": 900,
        "xaxis": {
         "anchor": "y",
         "domain": [
          0,
          1
         ],
         "rangeselector": {
          "buttons": [
           {
            "count": 1,
            "label": "YTD",
            "step": "year",
            "stepmode": "todate"
           },
           {
            "count": 1,
            "label": "1y",
            "step": "year",
            "stepmode": "backward"
           },
           {
            "step": "all"
           }
          ]
         },
         "rangeslider": {
          "visible": true
         },
         "title": {
          "text": "x"
         }
        },
        "yaxis": {
         "anchor": "x",
         "domain": [
          0,
          1
         ],
         "title": {
          "text": "Close"
         }
        }
       }
      },
      "text/html": [
       "<div>\n",
       "        \n",
       "        \n",
       "            <div id=\"15889e70-6553-4bf1-87be-66d7232995c5\" class=\"plotly-graph-div\" style=\"height:500px; width:900px;\"></div>\n",
       "            <script type=\"text/javascript\">\n",
       "                require([\"plotly\"], function(Plotly) {\n",
       "                    window.PLOTLYENV=window.PLOTLYENV || {};\n",
       "                    \n",
       "                if (document.getElementById(\"15889e70-6553-4bf1-87be-66d7232995c5\")) {\n",
       "                    Plotly.newPlot(\n",
       "                        '15889e70-6553-4bf1-87be-66d7232995c5',\n",
       "                        [{\"hovertemplate\": \"partition=train<br>x=%{x}<br>Close=%{y}<extra></extra>\", \"legendgroup\": \"train\", \"line\": {\"color\": \"#636efa\", \"dash\": \"solid\"}, \"mode\": \"lines\", \"name\": \"train\", \"showlegend\": true, \"type\": \"scattergl\", \"x\": [\"2022-03-29 09:32\", \"2022-03-29 09:33\", \"2022-03-29 09:34\", \"2022-03-29 09:35\", \"2022-03-29 09:36\", \"2022-03-29 09:37\", \"2022-03-29 09:38\", \"2022-03-29 09:39\", \"2022-03-29 09:40\", \"2022-03-29 09:41\", \"2022-03-29 09:42\", \"2022-03-29 09:43\", \"2022-03-29 09:44\", \"2022-03-29 09:45\", \"2022-03-29 09:46\", \"2022-03-29 09:47\", \"2022-03-29 09:48\", \"2022-03-29 09:49\", \"2022-03-29 09:50\", \"2022-03-29 09:51\", \"2022-03-29 09:52\", \"2022-03-29 09:53\", \"2022-03-29 09:54\", \"2022-03-29 09:55\", \"2022-03-29 09:56\", \"2022-03-29 09:57\", \"2022-03-29 09:58\", \"2022-03-29 09:59\", \"2022-03-29 10:00\", \"2022-03-29 10:01\", \"2022-03-29 10:02\", \"2022-03-29 10:03\", \"2022-03-29 10:04\", \"2022-03-29 10:05\", \"2022-03-29 10:06\", \"2022-03-29 10:07\", \"2022-03-29 10:08\", \"2022-03-29 10:09\", \"2022-03-29 10:10\", \"2022-03-29 10:11\", \"2022-03-29 10:12\", \"2022-03-29 10:13\", \"2022-03-29 10:14\", \"2022-03-29 10:15\", \"2022-03-29 10:16\", \"2022-03-29 10:17\", \"2022-03-29 10:18\", \"2022-03-29 10:19\", \"2022-03-29 10:20\", \"2022-03-29 10:21\", \"2022-03-29 10:22\", \"2022-03-29 10:23\", \"2022-03-29 10:24\", \"2022-03-29 10:25\", \"2022-03-29 10:26\", \"2022-03-29 10:27\", \"2022-03-29 10:28\", \"2022-03-29 10:29\", \"2022-03-29 10:30\", \"2022-03-29 10:31\", \"2022-03-29 10:32\", \"2022-03-29 10:33\", \"2022-03-29 10:34\", \"2022-03-29 10:35\", \"2022-03-29 10:36\", \"2022-03-29 10:37\", \"2022-03-29 10:38\", \"2022-03-29 10:39\", \"2022-03-29 10:40\", \"2022-03-29 10:41\", \"2022-03-29 10:42\", \"2022-03-29 10:43\", \"2022-03-29 10:44\", \"2022-03-29 10:45\", \"2022-03-29 10:46\", \"2022-03-29 10:47\", \"2022-03-29 10:48\", \"2022-03-29 10:49\", \"2022-03-29 10:50\", \"2022-03-29 10:51\", \"2022-03-29 10:52\", \"2022-03-29 10:53\", \"2022-03-29 10:54\", \"2022-03-29 10:55\", \"2022-03-29 10:56\", \"2022-03-29 10:57\", \"2022-03-29 10:58\", \"2022-03-29 10:59\", \"2022-03-29 11:00\", \"2022-03-29 11:01\", \"2022-03-29 11:02\", \"2022-03-29 11:03\", \"2022-03-29 11:04\", \"2022-03-29 11:05\", \"2022-03-29 11:06\", \"2022-03-29 11:07\", \"2022-03-29 11:08\", \"2022-03-29 11:09\", \"2022-03-29 11:10\", \"2022-03-29 11:11\", \"2022-03-29 11:12\", \"2022-03-29 11:13\", \"2022-03-29 11:14\", \"2022-03-29 11:15\", \"2022-03-29 11:16\", \"2022-03-29 11:17\", \"2022-03-29 11:18\", \"2022-03-29 11:19\", \"2022-03-29 11:20\", \"2022-03-29 11:21\", \"2022-03-29 11:22\", \"2022-03-29 11:23\", \"2022-03-29 11:24\", \"2022-03-29 11:25\", \"2022-03-29 11:26\", \"2022-03-29 11:27\", \"2022-03-29 11:28\", \"2022-03-29 11:29\", \"2022-03-29 11:30\", \"2022-03-29 11:31\", \"2022-03-29 11:32\", \"2022-03-29 11:33\", \"2022-03-29 11:34\", \"2022-03-29 11:35\", \"2022-03-29 11:36\", \"2022-03-29 11:37\", \"2022-03-29 11:38\", \"2022-03-29 11:39\", \"2022-03-29 11:40\", \"2022-03-29 11:41\", \"2022-03-29 11:43\", \"2022-03-29 11:44\", \"2022-03-29 11:45\", \"2022-03-29 11:46\", \"2022-03-29 11:47\", \"2022-03-29 11:48\", \"2022-03-29 11:49\", \"2022-03-29 11:50\", \"2022-03-29 11:51\", \"2022-03-29 11:52\", \"2022-03-29 11:53\", \"2022-03-29 11:54\", \"2022-03-29 11:55\", \"2022-03-29 11:56\", \"2022-03-29 11:58\", \"2022-03-29 11:59\", \"2022-03-29 12:00\", \"2022-03-29 12:01\", \"2022-03-29 12:02\", \"2022-03-29 12:03\", \"2022-03-29 12:04\", \"2022-03-29 12:05\", \"2022-03-29 12:06\", \"2022-03-29 12:07\", \"2022-03-29 12:08\", \"2022-03-29 12:09\", \"2022-03-29 12:10\", \"2022-03-29 12:11\", \"2022-03-29 12:12\", \"2022-03-29 12:13\", \"2022-03-29 12:14\", \"2022-03-29 12:15\", \"2022-03-29 12:16\", \"2022-03-29 12:17\", \"2022-03-29 12:18\", \"2022-03-29 12:19\", \"2022-03-29 12:20\", \"2022-03-29 12:22\", \"2022-03-29 12:23\", \"2022-03-29 12:24\", \"2022-03-29 12:25\", \"2022-03-29 12:26\", \"2022-03-29 12:27\", \"2022-03-29 12:28\", \"2022-03-29 12:29\", \"2022-03-29 12:30\", \"2022-03-29 12:31\", \"2022-03-29 12:32\", \"2022-03-29 12:33\", \"2022-03-29 12:34\", \"2022-03-29 12:35\", \"2022-03-29 12:36\", \"2022-03-29 12:37\", \"2022-03-29 12:38\", \"2022-03-29 12:39\", \"2022-03-29 12:40\", \"2022-03-29 12:41\", \"2022-03-29 12:42\", \"2022-03-29 12:43\", \"2022-03-29 12:44\", \"2022-03-29 12:45\", \"2022-03-29 12:46\", \"2022-03-29 12:47\", \"2022-03-29 12:48\", \"2022-03-29 12:49\", \"2022-03-29 12:50\", \"2022-03-29 12:51\", \"2022-03-29 12:52\", \"2022-03-29 12:53\", \"2022-03-29 12:54\", \"2022-03-29 12:55\", \"2022-03-29 12:56\", \"2022-03-29 12:57\", \"2022-03-29 12:58\", \"2022-03-29 12:59\", \"2022-03-29 13:00\", \"2022-03-29 13:01\", \"2022-03-29 13:02\", \"2022-03-29 13:03\", \"2022-03-29 13:04\", \"2022-03-29 13:05\", \"2022-03-29 13:06\", \"2022-03-29 13:07\", \"2022-03-29 13:08\", \"2022-03-29 13:09\", \"2022-03-29 13:10\", \"2022-03-29 13:11\", \"2022-03-29 13:12\", \"2022-03-29 13:13\", \"2022-03-29 13:14\", \"2022-03-29 13:15\", \"2022-03-29 13:16\", \"2022-03-29 13:17\", \"2022-03-29 13:18\", \"2022-03-29 13:19\", \"2022-03-29 13:20\", \"2022-03-29 13:21\", \"2022-03-29 13:22\", \"2022-03-29 13:23\", \"2022-03-29 13:24\", \"2022-03-29 13:25\", \"2022-03-29 13:26\", \"2022-03-29 13:27\", \"2022-03-29 13:28\", \"2022-03-29 13:29\", \"2022-03-29 13:30\", \"2022-03-29 13:31\", \"2022-03-29 13:32\", \"2022-03-29 13:33\", \"2022-03-29 13:34\", \"2022-03-29 13:35\", \"2022-03-29 13:36\", \"2022-03-29 13:37\", \"2022-03-29 13:38\", \"2022-03-29 13:39\", \"2022-03-29 13:40\", \"2022-03-29 13:41\", \"2022-03-29 13:42\", \"2022-03-29 13:43\", \"2022-03-29 13:44\", \"2022-03-29 13:45\", \"2022-03-29 13:46\", \"2022-03-29 13:47\", \"2022-03-29 13:48\", \"2022-03-29 13:49\", \"2022-03-29 13:50\", \"2022-03-29 13:51\", \"2022-03-29 13:52\", \"2022-03-29 13:53\", \"2022-03-29 13:54\", \"2022-03-29 13:55\", \"2022-03-29 13:56\", \"2022-03-29 13:57\", \"2022-03-29 13:58\", \"2022-03-29 13:59\", \"2022-03-29 14:00\", \"2022-03-29 14:01\", \"2022-03-29 14:02\", \"2022-03-29 14:03\", \"2022-03-29 14:04\", \"2022-03-29 14:05\", \"2022-03-29 14:06\", \"2022-03-29 14:07\", \"2022-03-29 14:08\", \"2022-03-29 14:09\", \"2022-03-29 14:10\", \"2022-03-29 14:11\", \"2022-03-29 14:12\", \"2022-03-29 14:13\", \"2022-03-29 14:14\", \"2022-03-29 14:15\", \"2022-03-29 14:16\", \"2022-03-29 14:17\", \"2022-03-29 14:18\", \"2022-03-29 14:19\", \"2022-03-29 14:20\", \"2022-03-29 14:21\", \"2022-03-29 14:22\", \"2022-03-29 14:23\", \"2022-03-29 14:24\", \"2022-03-29 14:25\", \"2022-03-29 14:26\", \"2022-03-29 14:27\", \"2022-03-29 14:28\", \"2022-03-29 14:29\", \"2022-03-29 14:30\", \"2022-03-29 14:31\", \"2022-03-29 14:32\", \"2022-03-29 14:33\", \"2022-03-29 14:34\", \"2022-03-29 14:35\", \"2022-03-29 14:36\", \"2022-03-29 14:37\", \"2022-03-29 14:38\", \"2022-03-29 14:39\", \"2022-03-29 14:40\", \"2022-03-29 14:41\", \"2022-03-29 14:42\", \"2022-03-29 14:43\", \"2022-03-29 14:44\", \"2022-03-29 14:45\", \"2022-03-29 14:46\", \"2022-03-29 14:47\", \"2022-03-29 14:48\", \"2022-03-29 14:49\", \"2022-03-29 14:50\", \"2022-03-29 14:51\", \"2022-03-29 14:52\", \"2022-03-29 14:53\", \"2022-03-29 14:54\", \"2022-03-29 14:55\", \"2022-03-29 14:56\", \"2022-03-29 14:57\", \"2022-03-29 14:58\", \"2022-03-29 14:59\", \"2022-03-29 15:00\", \"2022-03-29 15:01\", \"2022-03-29 15:02\", \"2022-03-29 15:03\", \"2022-03-29 15:04\", \"2022-03-29 15:05\", \"2022-03-29 15:06\", \"2022-03-29 15:07\", \"2022-03-29 15:08\", \"2022-03-29 15:09\", \"2022-03-29 15:10\", \"2022-03-29 15:11\", \"2022-03-29 15:12\", \"2022-03-29 15:13\", \"2022-03-29 15:14\", \"2022-03-29 15:15\", \"2022-03-29 15:16\", \"2022-03-29 15:17\", \"2022-03-29 15:18\", \"2022-03-29 15:19\", \"2022-03-29 15:20\", \"2022-03-29 15:21\", \"2022-03-29 15:22\", \"2022-03-29 15:23\", \"2022-03-29 15:24\", \"2022-03-29 15:25\", \"2022-03-29 15:26\", \"2022-03-29 15:27\", \"2022-03-29 15:28\", \"2022-03-29 15:29\", \"2022-03-29 15:30\", \"2022-03-29 15:31\", \"2022-03-29 15:32\", \"2022-03-29 15:33\", \"2022-03-29 15:34\", \"2022-03-29 15:35\", \"2022-03-29 15:36\", \"2022-03-29 15:37\", \"2022-03-29 15:38\", \"2022-03-29 15:39\", \"2022-03-29 15:40\", \"2022-03-29 15:41\", \"2022-03-29 15:42\", \"2022-03-29 15:43\", \"2022-03-29 15:44\", \"2022-03-29 15:45\", \"2022-03-29 15:46\", \"2022-03-29 15:47\", \"2022-03-29 15:48\", \"2022-03-29 15:49\", \"2022-03-29 15:50\", \"2022-03-29 15:51\", \"2022-03-29 15:52\", \"2022-03-29 15:53\", \"2022-03-29 15:54\", \"2022-03-29 15:55\", \"2022-03-29 15:56\", \"2022-03-29 15:57\", \"2022-03-29 15:58\", \"2022-03-29 15:59\", \"2022-03-30 09:30\", \"2022-03-30 09:31\", \"2022-03-30 09:32\", \"2022-03-30 09:33\", \"2022-03-30 09:34\", \"2022-03-30 09:35\", \"2022-03-30 09:36\", \"2022-03-30 09:37\", \"2022-03-30 09:38\", \"2022-03-30 09:39\", \"2022-03-30 09:40\", \"2022-03-30 09:41\", \"2022-03-30 09:42\", \"2022-03-30 09:43\", \"2022-03-30 09:44\", \"2022-03-30 09:45\", \"2022-03-30 09:46\", \"2022-03-30 09:47\", \"2022-03-30 09:48\", \"2022-03-30 09:49\", \"2022-03-30 09:50\", \"2022-03-30 09:51\", \"2022-03-30 09:52\", \"2022-03-30 09:53\", \"2022-03-30 09:54\", \"2022-03-30 09:55\", \"2022-03-30 09:56\", \"2022-03-30 09:57\", \"2022-03-30 09:58\", \"2022-03-30 09:59\", \"2022-03-30 10:00\", \"2022-03-30 10:01\", \"2022-03-30 10:02\", \"2022-03-30 10:03\", \"2022-03-30 10:04\", \"2022-03-30 10:05\", \"2022-03-30 10:06\", \"2022-03-30 10:07\", \"2022-03-30 10:08\", \"2022-03-30 10:09\", \"2022-03-30 10:10\", \"2022-03-30 10:11\", \"2022-03-30 10:12\", \"2022-03-30 10:13\", \"2022-03-30 10:14\", \"2022-03-30 10:15\", \"2022-03-30 10:16\", \"2022-03-30 10:17\", \"2022-03-30 10:18\", \"2022-03-30 10:19\", \"2022-03-30 10:20\", \"2022-03-30 10:21\", \"2022-03-30 10:22\", \"2022-03-30 10:23\", \"2022-03-30 10:24\", \"2022-03-30 10:25\", \"2022-03-30 10:26\", \"2022-03-30 10:27\", \"2022-03-30 10:28\", \"2022-03-30 10:29\", \"2022-03-30 10:30\", \"2022-03-30 10:31\", \"2022-03-30 10:32\", \"2022-03-30 10:33\", \"2022-03-30 10:34\", \"2022-03-30 10:35\", \"2022-03-30 10:36\", \"2022-03-30 10:37\", \"2022-03-30 10:38\", \"2022-03-30 10:39\", \"2022-03-30 10:40\", \"2022-03-30 10:41\", \"2022-03-30 10:42\", \"2022-03-30 10:43\", \"2022-03-30 10:44\", \"2022-03-30 10:45\", \"2022-03-30 10:46\", \"2022-03-30 10:47\", \"2022-03-30 10:48\", \"2022-03-30 10:49\", \"2022-03-30 10:50\", \"2022-03-30 10:51\", \"2022-03-30 10:52\", \"2022-03-30 10:53\", \"2022-03-30 10:54\", \"2022-03-30 10:56\", \"2022-03-30 10:57\", \"2022-03-30 10:58\", \"2022-03-30 10:59\", \"2022-03-30 11:00\", \"2022-03-30 11:01\", \"2022-03-30 11:02\", \"2022-03-30 11:03\", \"2022-03-30 11:04\", \"2022-03-30 11:05\", \"2022-03-30 11:06\", \"2022-03-30 11:07\", \"2022-03-30 11:08\", \"2022-03-30 11:09\", \"2022-03-30 11:11\", \"2022-03-30 11:12\", \"2022-03-30 11:13\", \"2022-03-30 11:14\", \"2022-03-30 11:16\", \"2022-03-30 11:17\", \"2022-03-30 11:18\", \"2022-03-30 11:19\", \"2022-03-30 11:20\", \"2022-03-30 11:21\", \"2022-03-30 11:22\", \"2022-03-30 11:23\", \"2022-03-30 11:24\", \"2022-03-30 11:25\", \"2022-03-30 11:26\", \"2022-03-30 11:27\", \"2022-03-30 11:28\", \"2022-03-30 11:29\", \"2022-03-30 11:30\", \"2022-03-30 11:31\", \"2022-03-30 11:32\", \"2022-03-30 11:33\", \"2022-03-30 11:34\", \"2022-03-30 11:35\", \"2022-03-30 11:36\", \"2022-03-30 11:37\", \"2022-03-30 11:38\", \"2022-03-30 11:39\", \"2022-03-30 11:40\", \"2022-03-30 11:41\", \"2022-03-30 11:42\", \"2022-03-30 11:43\", \"2022-03-30 11:44\", \"2022-03-30 11:45\", \"2022-03-30 11:46\", \"2022-03-30 11:47\", \"2022-03-30 11:48\", \"2022-03-30 11:49\", \"2022-03-30 11:50\", \"2022-03-30 11:51\", \"2022-03-30 11:52\", \"2022-03-30 11:53\", \"2022-03-30 11:54\", \"2022-03-30 11:55\", \"2022-03-30 11:56\", \"2022-03-30 11:57\", \"2022-03-30 11:58\", \"2022-03-30 11:59\", \"2022-03-30 12:00\", \"2022-03-30 12:01\", \"2022-03-30 12:02\", \"2022-03-30 12:03\", \"2022-03-30 12:05\", \"2022-03-30 12:06\", \"2022-03-30 12:07\", \"2022-03-30 12:08\", \"2022-03-30 12:09\", \"2022-03-30 12:10\", \"2022-03-30 12:11\", \"2022-03-30 12:12\", \"2022-03-30 12:13\", \"2022-03-30 12:14\", \"2022-03-30 12:15\", \"2022-03-30 12:16\", \"2022-03-30 12:17\", \"2022-03-30 12:18\", \"2022-03-30 12:19\", \"2022-03-30 12:20\", \"2022-03-30 12:22\", \"2022-03-30 12:23\", \"2022-03-30 12:24\", \"2022-03-30 12:25\", \"2022-03-30 12:26\", \"2022-03-30 12:27\", \"2022-03-30 12:28\", \"2022-03-30 12:29\", \"2022-03-30 12:30\", \"2022-03-30 12:31\", \"2022-03-30 12:32\", \"2022-03-30 12:33\", \"2022-03-30 12:34\", \"2022-03-30 12:35\", \"2022-03-30 12:36\", \"2022-03-30 12:37\", \"2022-03-30 12:38\", \"2022-03-30 12:39\", \"2022-03-30 12:40\", \"2022-03-30 12:41\", \"2022-03-30 12:42\", \"2022-03-30 12:43\", \"2022-03-30 12:44\", \"2022-03-30 12:45\", \"2022-03-30 12:46\", \"2022-03-30 12:47\", \"2022-03-30 12:48\", \"2022-03-30 12:49\", \"2022-03-30 12:50\", \"2022-03-30 12:51\", \"2022-03-30 12:52\", \"2022-03-30 12:53\", \"2022-03-30 12:54\", \"2022-03-30 12:55\", \"2022-03-30 12:56\", \"2022-03-30 12:57\", \"2022-03-30 12:58\", \"2022-03-30 12:59\", \"2022-03-30 13:00\", \"2022-03-30 13:01\", \"2022-03-30 13:02\", \"2022-03-30 13:03\", \"2022-03-30 13:04\", \"2022-03-30 13:05\", \"2022-03-30 13:06\", \"2022-03-30 13:07\", \"2022-03-30 13:08\", \"2022-03-30 13:09\", \"2022-03-30 13:10\", \"2022-03-30 13:11\", \"2022-03-30 13:12\", \"2022-03-30 13:13\", \"2022-03-30 13:14\", \"2022-03-30 13:15\", \"2022-03-30 13:16\", \"2022-03-30 13:17\", \"2022-03-30 13:18\", \"2022-03-30 13:19\", \"2022-03-30 13:20\", \"2022-03-30 13:21\", \"2022-03-30 13:22\", \"2022-03-30 13:23\", \"2022-03-30 13:24\", \"2022-03-30 13:25\", \"2022-03-30 13:26\", \"2022-03-30 13:27\", \"2022-03-30 13:28\", \"2022-03-30 13:29\", \"2022-03-30 13:30\", \"2022-03-30 13:31\", \"2022-03-30 13:32\", \"2022-03-30 13:33\", \"2022-03-30 13:34\", \"2022-03-30 13:35\", \"2022-03-30 13:36\", \"2022-03-30 13:37\", \"2022-03-30 13:38\", \"2022-03-30 13:39\", \"2022-03-30 13:40\", \"2022-03-30 13:41\", \"2022-03-30 13:42\", \"2022-03-30 13:43\", \"2022-03-30 13:44\", \"2022-03-30 13:45\", \"2022-03-30 13:46\", \"2022-03-30 13:47\", \"2022-03-30 13:48\", \"2022-03-30 13:49\", \"2022-03-30 13:51\", \"2022-03-30 13:52\", \"2022-03-30 13:53\", \"2022-03-30 13:54\", \"2022-03-30 13:55\", \"2022-03-30 13:57\", \"2022-03-30 13:58\", \"2022-03-30 13:59\", \"2022-03-30 14:00\", \"2022-03-30 14:01\", \"2022-03-30 14:02\", \"2022-03-30 14:03\", \"2022-03-30 14:04\", \"2022-03-30 14:05\", \"2022-03-30 14:06\", \"2022-03-30 14:07\", \"2022-03-30 14:08\", \"2022-03-30 14:09\", \"2022-03-30 14:10\", \"2022-03-30 14:11\", \"2022-03-30 14:12\", \"2022-03-30 14:13\", \"2022-03-30 14:14\", \"2022-03-30 14:15\", \"2022-03-30 14:16\", \"2022-03-30 14:17\", \"2022-03-30 14:18\", \"2022-03-30 14:19\", \"2022-03-30 14:20\", \"2022-03-30 14:21\", \"2022-03-30 14:22\", \"2022-03-30 14:23\", \"2022-03-30 14:24\", \"2022-03-30 14:25\", \"2022-03-30 14:26\", \"2022-03-30 14:27\", \"2022-03-30 14:28\", \"2022-03-30 14:29\", \"2022-03-30 14:30\", \"2022-03-30 14:31\", \"2022-03-30 14:32\", \"2022-03-30 14:33\", \"2022-03-30 14:34\", \"2022-03-30 14:35\", \"2022-03-30 14:36\", \"2022-03-30 14:37\", \"2022-03-30 14:38\", \"2022-03-30 14:39\", \"2022-03-30 14:40\", \"2022-03-30 14:41\", \"2022-03-30 14:42\", \"2022-03-30 14:43\", \"2022-03-30 14:44\", \"2022-03-30 14:45\", \"2022-03-30 14:46\", \"2022-03-30 14:48\", \"2022-03-30 14:49\", \"2022-03-30 14:50\", \"2022-03-30 14:51\", \"2022-03-30 14:52\", \"2022-03-30 14:54\", \"2022-03-30 14:56\", \"2022-03-30 14:57\", \"2022-03-30 14:58\", \"2022-03-30 15:00\", \"2022-03-30 15:01\", \"2022-03-30 15:02\", \"2022-03-30 15:03\", \"2022-03-30 15:04\", \"2022-03-30 15:05\", \"2022-03-30 15:07\", \"2022-03-30 15:08\", \"2022-03-30 15:09\", \"2022-03-30 15:10\", \"2022-03-30 15:12\", \"2022-03-30 15:13\", \"2022-03-30 15:14\", \"2022-03-30 15:15\", \"2022-03-30 15:16\", \"2022-03-30 15:17\", \"2022-03-30 15:18\", \"2022-03-30 15:19\", \"2022-03-30 15:20\", \"2022-03-30 15:21\", \"2022-03-30 15:22\", \"2022-03-30 15:23\", \"2022-03-30 15:24\", \"2022-03-30 15:25\", \"2022-03-30 15:26\", \"2022-03-30 15:27\", \"2022-03-30 15:28\", \"2022-03-30 15:29\", \"2022-03-30 15:30\", \"2022-03-30 15:31\", \"2022-03-30 15:32\", \"2022-03-30 15:33\", \"2022-03-30 15:34\", \"2022-03-30 15:35\", \"2022-03-30 15:36\", \"2022-03-30 15:37\", \"2022-03-30 15:38\", \"2022-03-30 15:39\", \"2022-03-30 15:41\", \"2022-03-30 15:42\", \"2022-03-30 15:43\", \"2022-03-30 15:44\", \"2022-03-30 15:45\", \"2022-03-30 15:46\", \"2022-03-30 15:47\", \"2022-03-30 15:48\", \"2022-03-30 15:49\", \"2022-03-30 15:50\", \"2022-03-30 15:51\", \"2022-03-30 15:52\", \"2022-03-30 15:53\", \"2022-03-30 15:54\", \"2022-03-30 15:55\", \"2022-03-30 15:56\", \"2022-03-30 15:57\", \"2022-03-30 15:58\", \"2022-03-30 15:59\", \"2022-03-31 09:30\", \"2022-03-31 09:31\", \"2022-03-31 09:32\", \"2022-03-31 09:33\", \"2022-03-31 09:34\", \"2022-03-31 09:35\", \"2022-03-31 09:36\", \"2022-03-31 09:37\", \"2022-03-31 09:38\", \"2022-03-31 09:39\", \"2022-03-31 09:40\", \"2022-03-31 09:41\", \"2022-03-31 09:42\", \"2022-03-31 09:43\", \"2022-03-31 09:44\", \"2022-03-31 09:45\", \"2022-03-31 09:46\", \"2022-03-31 09:47\", \"2022-03-31 09:48\", \"2022-03-31 09:49\", \"2022-03-31 09:50\", \"2022-03-31 09:51\", \"2022-03-31 09:52\", \"2022-03-31 09:53\", \"2022-03-31 09:54\", \"2022-03-31 09:55\", \"2022-03-31 09:56\", \"2022-03-31 09:57\", \"2022-03-31 09:58\", \"2022-03-31 09:59\", \"2022-03-31 10:00\", \"2022-03-31 10:01\", \"2022-03-31 10:02\", \"2022-03-31 10:03\", \"2022-03-31 10:04\", \"2022-03-31 10:05\", \"2022-03-31 10:06\", \"2022-03-31 10:07\", \"2022-03-31 10:08\", \"2022-03-31 10:09\", \"2022-03-31 10:10\", \"2022-03-31 10:11\", \"2022-03-31 10:12\", \"2022-03-31 10:13\", \"2022-03-31 10:14\", \"2022-03-31 10:15\", \"2022-03-31 10:16\", \"2022-03-31 10:17\", \"2022-03-31 10:18\", \"2022-03-31 10:19\", \"2022-03-31 10:20\", \"2022-03-31 10:21\", \"2022-03-31 10:22\", \"2022-03-31 10:23\", \"2022-03-31 10:24\", \"2022-03-31 10:25\", \"2022-03-31 10:26\", \"2022-03-31 10:27\", \"2022-03-31 10:28\", \"2022-03-31 10:29\", \"2022-03-31 10:30\", \"2022-03-31 10:31\", \"2022-03-31 10:32\", \"2022-03-31 10:33\", \"2022-03-31 10:34\", \"2022-03-31 10:35\", \"2022-03-31 10:36\", \"2022-03-31 10:37\", \"2022-03-31 10:38\", \"2022-03-31 10:39\", \"2022-03-31 10:40\", \"2022-03-31 10:41\", \"2022-03-31 10:42\", \"2022-03-31 10:43\", \"2022-03-31 10:44\", \"2022-03-31 10:45\", \"2022-03-31 10:46\", \"2022-03-31 10:47\", \"2022-03-31 10:48\", \"2022-03-31 10:49\", \"2022-03-31 10:50\", \"2022-03-31 10:51\", \"2022-03-31 10:52\", \"2022-03-31 10:53\", \"2022-03-31 10:54\", \"2022-03-31 10:55\", \"2022-03-31 10:56\", \"2022-03-31 10:57\", \"2022-03-31 10:58\", \"2022-03-31 10:59\", \"2022-03-31 11:00\", \"2022-03-31 11:01\", \"2022-03-31 11:02\", \"2022-03-31 11:03\", \"2022-03-31 11:04\", \"2022-03-31 11:05\", \"2022-03-31 11:06\", \"2022-03-31 11:07\", \"2022-03-31 11:08\", \"2022-03-31 11:09\", \"2022-03-31 11:12\", \"2022-03-31 11:13\", \"2022-03-31 11:15\", \"2022-03-31 11:16\", \"2022-03-31 11:17\", \"2022-03-31 11:18\", \"2022-03-31 11:19\", \"2022-03-31 11:20\", \"2022-03-31 11:21\", \"2022-03-31 11:22\", \"2022-03-31 11:23\", \"2022-03-31 11:24\", \"2022-03-31 11:25\", \"2022-03-31 11:27\", \"2022-03-31 11:28\", \"2022-03-31 11:29\", \"2022-03-31 11:30\", \"2022-03-31 11:31\", \"2022-03-31 11:32\", \"2022-03-31 11:33\", \"2022-03-31 11:34\", \"2022-03-31 11:35\", \"2022-03-31 11:36\", \"2022-03-31 11:38\", \"2022-03-31 11:39\", \"2022-03-31 11:40\", \"2022-03-31 11:41\", \"2022-03-31 11:42\", \"2022-03-31 11:43\", \"2022-03-31 11:44\", \"2022-03-31 11:45\", \"2022-03-31 11:46\", \"2022-03-31 11:47\", \"2022-03-31 11:48\", \"2022-03-31 11:49\", \"2022-03-31 11:50\", \"2022-03-31 11:51\", \"2022-03-31 11:53\", \"2022-03-31 11:54\", \"2022-03-31 11:55\", \"2022-03-31 11:56\", \"2022-03-31 11:57\", \"2022-03-31 11:58\", \"2022-03-31 11:59\", \"2022-03-31 12:00\", \"2022-03-31 12:01\", \"2022-03-31 12:02\", \"2022-03-31 12:03\", \"2022-03-31 12:04\", \"2022-03-31 12:05\", \"2022-03-31 12:07\", \"2022-03-31 12:09\", \"2022-03-31 12:10\", \"2022-03-31 12:11\", \"2022-03-31 12:12\", \"2022-03-31 12:13\", \"2022-03-31 12:14\", \"2022-03-31 12:15\", \"2022-03-31 12:16\", \"2022-03-31 12:17\", \"2022-03-31 12:18\", \"2022-03-31 12:19\", \"2022-03-31 12:20\", \"2022-03-31 12:21\", \"2022-03-31 12:22\", \"2022-03-31 12:23\", \"2022-03-31 12:24\", \"2022-03-31 12:25\", \"2022-03-31 12:26\", \"2022-03-31 12:27\", \"2022-03-31 12:28\", \"2022-03-31 12:29\", \"2022-03-31 12:30\", \"2022-03-31 12:31\", \"2022-03-31 12:32\", \"2022-03-31 12:33\", \"2022-03-31 12:34\", \"2022-03-31 12:35\", \"2022-03-31 12:36\", \"2022-03-31 12:37\", \"2022-03-31 12:38\", \"2022-03-31 12:39\", \"2022-03-31 12:40\", \"2022-03-31 12:41\", \"2022-03-31 12:42\", \"2022-03-31 12:43\", \"2022-03-31 12:44\", \"2022-03-31 12:45\", \"2022-03-31 12:46\", \"2022-03-31 12:47\", \"2022-03-31 12:48\", \"2022-03-31 12:49\", \"2022-03-31 12:50\", \"2022-03-31 12:52\", \"2022-03-31 12:53\", \"2022-03-31 12:54\", \"2022-03-31 12:55\", \"2022-03-31 12:56\", \"2022-03-31 12:57\", \"2022-03-31 12:58\", \"2022-03-31 12:59\", \"2022-03-31 13:00\", \"2022-03-31 13:01\", \"2022-03-31 13:02\", \"2022-03-31 13:03\", \"2022-03-31 13:04\", \"2022-03-31 13:05\", \"2022-03-31 13:06\", \"2022-03-31 13:07\", \"2022-03-31 13:08\", \"2022-03-31 13:09\", \"2022-03-31 13:10\", \"2022-03-31 13:11\", \"2022-03-31 13:12\", \"2022-03-31 13:13\", \"2022-03-31 13:14\", \"2022-03-31 13:15\", \"2022-03-31 13:16\", \"2022-03-31 13:17\", \"2022-03-31 13:18\", \"2022-03-31 13:19\", \"2022-03-31 13:20\", \"2022-03-31 13:21\", \"2022-03-31 13:22\", \"2022-03-31 13:23\", \"2022-03-31 13:24\", \"2022-03-31 13:25\", \"2022-03-31 13:26\", \"2022-03-31 13:27\", \"2022-03-31 13:28\", \"2022-03-31 13:29\", \"2022-03-31 13:30\", \"2022-03-31 13:31\", \"2022-03-31 13:32\", \"2022-03-31 13:33\", \"2022-03-31 13:34\", \"2022-03-31 13:35\", \"2022-03-31 13:36\", \"2022-03-31 13:37\", \"2022-03-31 13:38\", \"2022-03-31 13:39\", \"2022-03-31 13:40\", \"2022-03-31 13:41\", \"2022-03-31 13:42\", \"2022-03-31 13:43\", \"2022-03-31 13:44\", \"2022-03-31 13:45\", \"2022-03-31 13:46\", \"2022-03-31 13:47\", \"2022-03-31 13:48\", \"2022-03-31 13:50\", \"2022-03-31 13:51\", \"2022-03-31 13:52\", \"2022-03-31 13:53\", \"2022-03-31 13:54\", \"2022-03-31 13:55\", \"2022-03-31 13:56\", \"2022-03-31 13:57\", \"2022-03-31 13:58\", \"2022-03-31 14:00\", \"2022-03-31 14:01\", \"2022-03-31 14:02\", \"2022-03-31 14:03\", \"2022-03-31 14:04\", \"2022-03-31 14:05\", \"2022-03-31 14:06\", \"2022-03-31 14:08\", \"2022-03-31 14:09\", \"2022-03-31 14:10\", \"2022-03-31 14:11\", \"2022-03-31 14:12\", \"2022-03-31 14:13\", \"2022-03-31 14:14\", \"2022-03-31 14:15\", \"2022-03-31 14:16\", \"2022-03-31 14:17\", \"2022-03-31 14:18\", \"2022-03-31 14:19\", \"2022-03-31 14:20\", \"2022-03-31 14:21\", \"2022-03-31 14:22\", \"2022-03-31 14:23\", \"2022-03-31 14:24\", \"2022-03-31 14:25\", \"2022-03-31 14:26\", \"2022-03-31 14:27\", \"2022-03-31 14:28\", \"2022-03-31 14:29\", \"2022-03-31 14:30\", \"2022-03-31 14:31\", \"2022-03-31 14:32\", \"2022-03-31 14:33\", \"2022-03-31 14:34\", \"2022-03-31 14:35\", \"2022-03-31 14:36\", \"2022-03-31 14:37\", \"2022-03-31 14:38\", \"2022-03-31 14:39\", \"2022-03-31 14:40\", \"2022-03-31 14:41\", \"2022-03-31 14:42\", \"2022-03-31 14:43\", \"2022-03-31 14:44\", \"2022-03-31 14:45\", \"2022-03-31 14:46\", \"2022-03-31 14:47\", \"2022-03-31 14:48\", \"2022-03-31 14:49\", \"2022-03-31 14:50\", \"2022-03-31 14:51\", \"2022-03-31 14:52\", \"2022-03-31 14:53\", \"2022-03-31 14:54\", \"2022-03-31 14:55\", \"2022-03-31 14:56\", \"2022-03-31 14:57\", \"2022-03-31 14:58\", \"2022-03-31 14:59\", \"2022-03-31 15:00\", \"2022-03-31 15:01\", \"2022-03-31 15:02\", \"2022-03-31 15:03\", \"2022-03-31 15:04\", \"2022-03-31 15:05\", \"2022-03-31 15:06\", \"2022-03-31 15:07\", \"2022-03-31 15:08\", \"2022-03-31 15:09\", \"2022-03-31 15:10\", \"2022-03-31 15:11\", \"2022-03-31 15:12\", \"2022-03-31 15:13\", \"2022-03-31 15:14\", \"2022-03-31 15:15\", \"2022-03-31 15:16\", \"2022-03-31 15:17\", \"2022-03-31 15:18\", \"2022-03-31 15:19\", \"2022-03-31 15:20\", \"2022-03-31 15:21\", \"2022-03-31 15:22\", \"2022-03-31 15:23\", \"2022-03-31 15:24\", \"2022-03-31 15:25\", \"2022-03-31 15:26\", \"2022-03-31 15:27\", \"2022-03-31 15:28\", \"2022-03-31 15:29\", \"2022-03-31 15:30\", \"2022-03-31 15:31\", \"2022-03-31 15:32\", \"2022-03-31 15:33\", \"2022-03-31 15:34\", \"2022-03-31 15:35\", \"2022-03-31 15:36\", \"2022-03-31 15:37\", \"2022-03-31 15:38\", \"2022-03-31 15:39\", \"2022-03-31 15:40\", \"2022-03-31 15:41\", \"2022-03-31 15:42\", \"2022-03-31 15:43\", \"2022-03-31 15:44\", \"2022-03-31 15:45\", \"2022-03-31 15:46\", \"2022-03-31 15:47\", \"2022-03-31 15:48\", \"2022-03-31 15:49\", \"2022-03-31 15:50\", \"2022-03-31 15:51\", \"2022-03-31 15:52\", \"2022-03-31 15:53\", \"2022-03-31 15:54\", \"2022-03-31 15:55\", \"2022-03-31 15:56\", \"2022-03-31 15:57\", \"2022-03-31 15:58\", \"2022-03-31 15:59\", \"2022-04-01 09:30\", \"2022-04-01 09:31\", \"2022-04-01 09:32\", \"2022-04-01 09:33\", \"2022-04-01 09:34\", \"2022-04-01 09:35\", \"2022-04-01 09:36\", \"2022-04-01 09:37\", \"2022-04-01 09:38\", \"2022-04-01 09:39\", \"2022-04-01 09:40\", \"2022-04-01 09:41\", \"2022-04-01 09:42\", \"2022-04-01 09:43\", \"2022-04-01 09:44\", \"2022-04-01 09:45\", \"2022-04-01 09:46\", \"2022-04-01 09:47\", \"2022-04-01 09:48\", \"2022-04-01 09:49\", \"2022-04-01 09:50\", \"2022-04-01 09:51\", \"2022-04-01 09:52\", \"2022-04-01 09:53\", \"2022-04-01 09:54\", \"2022-04-01 09:55\", \"2022-04-01 09:56\", \"2022-04-01 09:57\", \"2022-04-01 09:58\", \"2022-04-01 09:59\", \"2022-04-01 10:00\", \"2022-04-01 10:01\", \"2022-04-01 10:02\", \"2022-04-01 10:03\", \"2022-04-01 10:04\", \"2022-04-01 10:05\", \"2022-04-01 10:06\", \"2022-04-01 10:07\", \"2022-04-01 10:08\", \"2022-04-01 10:09\", \"2022-04-01 10:10\", \"2022-04-01 10:11\", \"2022-04-01 10:12\", \"2022-04-01 10:13\", \"2022-04-01 10:14\", \"2022-04-01 10:15\", \"2022-04-01 10:16\", \"2022-04-01 10:17\", \"2022-04-01 10:18\", \"2022-04-01 10:19\", \"2022-04-01 10:20\", \"2022-04-01 10:21\", \"2022-04-01 10:22\", \"2022-04-01 10:23\", \"2022-04-01 10:24\", \"2022-04-01 10:25\", \"2022-04-01 10:26\", \"2022-04-01 10:27\", \"2022-04-01 10:28\", \"2022-04-01 10:29\", \"2022-04-01 10:30\", \"2022-04-01 10:31\", \"2022-04-01 10:32\", \"2022-04-01 10:33\", \"2022-04-01 10:34\", \"2022-04-01 10:35\", \"2022-04-01 10:36\", \"2022-04-01 10:37\", \"2022-04-01 10:38\", \"2022-04-01 10:39\", \"2022-04-01 10:40\", \"2022-04-01 10:41\", \"2022-04-01 10:42\", \"2022-04-01 10:43\", \"2022-04-01 10:45\", \"2022-04-01 10:46\", \"2022-04-01 10:47\", \"2022-04-01 10:48\", \"2022-04-01 10:49\", \"2022-04-01 10:50\", \"2022-04-01 10:51\", \"2022-04-01 10:52\", \"2022-04-01 10:53\", \"2022-04-01 10:54\", \"2022-04-01 10:55\", \"2022-04-01 10:56\", \"2022-04-01 10:57\", \"2022-04-01 10:58\", \"2022-04-01 10:59\", \"2022-04-01 11:00\", \"2022-04-01 11:01\", \"2022-04-01 11:02\", \"2022-04-01 11:03\", \"2022-04-01 11:04\", \"2022-04-01 11:05\", \"2022-04-01 11:06\", \"2022-04-01 11:07\", \"2022-04-01 11:08\", \"2022-04-01 11:09\", \"2022-04-01 11:10\", \"2022-04-01 11:11\", \"2022-04-01 11:12\", \"2022-04-01 11:13\", \"2022-04-01 11:14\", \"2022-04-01 11:15\", \"2022-04-01 11:16\", \"2022-04-01 11:17\", \"2022-04-01 11:18\", \"2022-04-01 11:19\", \"2022-04-01 11:20\", \"2022-04-01 11:21\", \"2022-04-01 11:22\", \"2022-04-01 11:23\", \"2022-04-01 11:24\", \"2022-04-01 11:25\", \"2022-04-01 11:26\", \"2022-04-01 11:27\", \"2022-04-01 11:28\", \"2022-04-01 11:29\", \"2022-04-01 11:30\", \"2022-04-01 11:31\", \"2022-04-01 11:32\", \"2022-04-01 11:33\", \"2022-04-01 11:34\", \"2022-04-01 11:35\", \"2022-04-01 11:36\", \"2022-04-01 11:37\", \"2022-04-01 11:38\", \"2022-04-01 11:39\", \"2022-04-01 11:40\", \"2022-04-01 11:41\", \"2022-04-01 11:42\", \"2022-04-01 11:43\", \"2022-04-01 11:44\", \"2022-04-01 11:45\", \"2022-04-01 11:46\", \"2022-04-01 11:47\", \"2022-04-01 11:48\", \"2022-04-01 11:49\", \"2022-04-01 11:50\", \"2022-04-01 11:51\", \"2022-04-01 11:52\", \"2022-04-01 11:54\", \"2022-04-01 11:55\", \"2022-04-01 11:56\", \"2022-04-01 11:57\", \"2022-04-01 11:58\", \"2022-04-01 11:59\", \"2022-04-01 12:00\", \"2022-04-01 12:01\", \"2022-04-01 12:02\", \"2022-04-01 12:03\", \"2022-04-01 12:04\", \"2022-04-01 12:05\", \"2022-04-01 12:06\", \"2022-04-01 12:07\", \"2022-04-01 12:08\", \"2022-04-01 12:09\", \"2022-04-01 12:10\", \"2022-04-01 12:11\", \"2022-04-01 12:12\", \"2022-04-01 12:13\", \"2022-04-01 12:14\", \"2022-04-01 12:15\", \"2022-04-01 12:16\", \"2022-04-01 12:17\", \"2022-04-01 12:18\", \"2022-04-01 12:19\", \"2022-04-01 12:20\", \"2022-04-01 12:21\", \"2022-04-01 12:22\", \"2022-04-01 12:23\", \"2022-04-01 12:24\", \"2022-04-01 12:25\", \"2022-04-01 12:26\", \"2022-04-01 12:27\", \"2022-04-01 12:28\", \"2022-04-01 12:29\", \"2022-04-01 12:30\", \"2022-04-01 12:31\", \"2022-04-01 12:32\", \"2022-04-01 12:33\", \"2022-04-01 12:34\", \"2022-04-01 12:35\", \"2022-04-01 12:36\", \"2022-04-01 12:37\", \"2022-04-01 12:38\", \"2022-04-01 12:39\", \"2022-04-01 12:40\", \"2022-04-01 12:41\", \"2022-04-01 12:42\", \"2022-04-01 12:43\", \"2022-04-01 12:44\", \"2022-04-01 12:45\", \"2022-04-01 12:46\", \"2022-04-01 12:47\", \"2022-04-01 12:48\", \"2022-04-01 12:49\", \"2022-04-01 12:50\", \"2022-04-01 12:51\", \"2022-04-01 12:52\", \"2022-04-01 12:53\", \"2022-04-01 12:54\", \"2022-04-01 12:55\", \"2022-04-01 12:56\", \"2022-04-01 12:57\", \"2022-04-01 12:58\", \"2022-04-01 12:59\", \"2022-04-01 13:00\", \"2022-04-01 13:01\", \"2022-04-01 13:02\", \"2022-04-01 13:03\", \"2022-04-01 13:04\", \"2022-04-01 13:05\", \"2022-04-01 13:06\", \"2022-04-01 13:07\", \"2022-04-01 13:08\", \"2022-04-01 13:09\", \"2022-04-01 13:10\", \"2022-04-01 13:11\", \"2022-04-01 13:12\", \"2022-04-01 13:13\", \"2022-04-01 13:14\", \"2022-04-01 13:15\", \"2022-04-01 13:16\", \"2022-04-01 13:17\", \"2022-04-01 13:18\", \"2022-04-01 13:19\", \"2022-04-01 13:20\", \"2022-04-01 13:21\", \"2022-04-01 13:22\", \"2022-04-01 13:23\", \"2022-04-01 13:24\", \"2022-04-01 13:25\", \"2022-04-01 13:26\", \"2022-04-01 13:27\", \"2022-04-01 13:28\", \"2022-04-01 13:29\", \"2022-04-01 13:30\", \"2022-04-01 13:31\", \"2022-04-01 13:32\", \"2022-04-01 13:33\", \"2022-04-01 13:34\", \"2022-04-01 13:35\", \"2022-04-01 13:36\", \"2022-04-01 13:37\", \"2022-04-01 13:38\", \"2022-04-01 13:39\", \"2022-04-01 13:40\", \"2022-04-01 13:41\", \"2022-04-01 13:42\", \"2022-04-01 13:43\", \"2022-04-01 13:44\", \"2022-04-01 13:45\", \"2022-04-01 13:46\", \"2022-04-01 13:47\", \"2022-04-01 13:48\", \"2022-04-01 13:49\", \"2022-04-01 13:50\", \"2022-04-01 13:51\", \"2022-04-01 13:52\", \"2022-04-01 13:53\", \"2022-04-01 13:54\", \"2022-04-01 13:55\", \"2022-04-01 13:56\", \"2022-04-01 13:57\", \"2022-04-01 13:58\", \"2022-04-01 13:59\", \"2022-04-01 14:00\", \"2022-04-01 14:01\", \"2022-04-01 14:02\", \"2022-04-01 14:03\", \"2022-04-01 14:04\", \"2022-04-01 14:05\", \"2022-04-01 14:06\", \"2022-04-01 14:07\", \"2022-04-01 14:08\", \"2022-04-01 14:09\", \"2022-04-01 14:10\", \"2022-04-01 14:11\", \"2022-04-01 14:12\", \"2022-04-01 14:13\", \"2022-04-01 14:14\", \"2022-04-01 14:15\", \"2022-04-01 14:16\", \"2022-04-01 14:17\", \"2022-04-01 14:18\", \"2022-04-01 14:19\", \"2022-04-01 14:20\", \"2022-04-01 14:21\", \"2022-04-01 14:22\", \"2022-04-01 14:23\", \"2022-04-01 14:24\", \"2022-04-01 14:25\", \"2022-04-01 14:26\", \"2022-04-01 14:27\", \"2022-04-01 14:28\", \"2022-04-01 14:29\", \"2022-04-01 14:30\", \"2022-04-01 14:31\", \"2022-04-01 14:32\", \"2022-04-01 14:33\", \"2022-04-01 14:34\", \"2022-04-01 14:35\", \"2022-04-01 14:36\", \"2022-04-01 14:37\", \"2022-04-01 14:38\", \"2022-04-01 14:39\", \"2022-04-01 14:40\", \"2022-04-01 14:41\", \"2022-04-01 14:42\", \"2022-04-01 14:43\", \"2022-04-01 14:44\", \"2022-04-01 14:45\", \"2022-04-01 14:46\", \"2022-04-01 14:47\", \"2022-04-01 14:48\", \"2022-04-01 14:49\", \"2022-04-01 14:50\", \"2022-04-01 14:51\", \"2022-04-01 14:52\", \"2022-04-01 14:53\", \"2022-04-01 14:54\", \"2022-04-01 14:55\", \"2022-04-01 14:56\", \"2022-04-01 14:57\", \"2022-04-01 14:58\", \"2022-04-01 14:59\", \"2022-04-01 15:00\", \"2022-04-01 15:01\", \"2022-04-01 15:02\", \"2022-04-01 15:03\", \"2022-04-01 15:04\", \"2022-04-01 15:05\", \"2022-04-01 15:06\", \"2022-04-01 15:07\", \"2022-04-01 15:08\", \"2022-04-01 15:09\", \"2022-04-01 15:10\", \"2022-04-01 15:11\", \"2022-04-01 15:12\", \"2022-04-01 15:13\", \"2022-04-01 15:14\", \"2022-04-01 15:15\", \"2022-04-01 15:16\", \"2022-04-01 15:17\", \"2022-04-01 15:18\", \"2022-04-01 15:19\", \"2022-04-01 15:20\", \"2022-04-01 15:21\", \"2022-04-01 15:22\", \"2022-04-01 15:23\", \"2022-04-01 15:24\", \"2022-04-01 15:25\", \"2022-04-01 15:26\", \"2022-04-01 15:27\", \"2022-04-01 15:28\", \"2022-04-01 15:29\", \"2022-04-01 15:30\", \"2022-04-01 15:31\", \"2022-04-01 15:32\", \"2022-04-01 15:33\", \"2022-04-01 15:34\", \"2022-04-01 15:35\", \"2022-04-01 15:36\", \"2022-04-01 15:37\", \"2022-04-01 15:39\", \"2022-04-01 15:40\", \"2022-04-01 15:41\", \"2022-04-01 15:42\", \"2022-04-01 15:43\", \"2022-04-01 15:44\", \"2022-04-01 15:45\", \"2022-04-01 15:46\", \"2022-04-01 15:47\", \"2022-04-01 15:48\", \"2022-04-01 15:49\", \"2022-04-01 15:50\", \"2022-04-01 15:51\", \"2022-04-01 15:52\", \"2022-04-01 15:53\", \"2022-04-01 15:54\", \"2022-04-01 15:55\", \"2022-04-01 15:56\", \"2022-04-01 15:57\", \"2022-04-01 15:58\", \"2022-04-01 15:59\", \"2022-04-04 09:30\", \"2022-04-04 09:31\", \"2022-04-04 09:32\", \"2022-04-04 09:33\", \"2022-04-04 09:34\", \"2022-04-04 09:35\", \"2022-04-04 09:36\", \"2022-04-04 09:37\", \"2022-04-04 09:38\", \"2022-04-04 09:39\", \"2022-04-04 09:40\", \"2022-04-04 09:41\", \"2022-04-04 09:42\", \"2022-04-04 09:43\", \"2022-04-04 09:44\", \"2022-04-04 09:45\", \"2022-04-04 09:46\", \"2022-04-04 09:47\", \"2022-04-04 09:48\", \"2022-04-04 09:49\", \"2022-04-04 09:50\", \"2022-04-04 09:51\", \"2022-04-04 09:52\", \"2022-04-04 09:53\", \"2022-04-04 09:54\", \"2022-04-04 09:55\", \"2022-04-04 09:56\", \"2022-04-04 09:57\", \"2022-04-04 09:58\", \"2022-04-04 09:59\", \"2022-04-04 10:00\", \"2022-04-04 10:01\", \"2022-04-04 10:02\", \"2022-04-04 10:03\", \"2022-04-04 10:04\", \"2022-04-04 10:05\", \"2022-04-04 10:06\", \"2022-04-04 10:07\", \"2022-04-04 10:08\", \"2022-04-04 10:09\", \"2022-04-04 10:10\", \"2022-04-04 10:11\", \"2022-04-04 10:12\", \"2022-04-04 10:13\", \"2022-04-04 10:14\", \"2022-04-04 10:15\", \"2022-04-04 10:16\", \"2022-04-04 10:17\", \"2022-04-04 10:18\", \"2022-04-04 10:19\", \"2022-04-04 10:20\", \"2022-04-04 10:21\", \"2022-04-04 10:22\", \"2022-04-04 10:23\", \"2022-04-04 10:24\", \"2022-04-04 10:25\", \"2022-04-04 10:26\", \"2022-04-04 10:27\", \"2022-04-04 10:28\", \"2022-04-04 10:29\", \"2022-04-04 10:30\", \"2022-04-04 10:31\", \"2022-04-04 10:32\", \"2022-04-04 10:33\", \"2022-04-04 10:34\", \"2022-04-04 10:35\", \"2022-04-04 10:36\", \"2022-04-04 10:37\", \"2022-04-04 10:38\", \"2022-04-04 10:39\", \"2022-04-04 10:40\", \"2022-04-04 10:41\", \"2022-04-04 10:42\", \"2022-04-04 10:43\", \"2022-04-04 10:44\", \"2022-04-04 10:45\", \"2022-04-04 10:46\", \"2022-04-04 10:47\", \"2022-04-04 10:48\", \"2022-04-04 10:49\", \"2022-04-04 10:50\", \"2022-04-04 10:51\", \"2022-04-04 10:52\", \"2022-04-04 10:53\", \"2022-04-04 10:54\", \"2022-04-04 10:55\", \"2022-04-04 10:56\", \"2022-04-04 10:57\", \"2022-04-04 10:58\", \"2022-04-04 10:59\", \"2022-04-04 11:00\", \"2022-04-04 11:01\", \"2022-04-04 11:02\", \"2022-04-04 11:03\", \"2022-04-04 11:04\", \"2022-04-04 11:05\", \"2022-04-04 11:06\", \"2022-04-04 11:07\", \"2022-04-04 11:09\", \"2022-04-04 11:10\", \"2022-04-04 11:11\", \"2022-04-04 11:12\", \"2022-04-04 11:13\", \"2022-04-04 11:14\", \"2022-04-04 11:15\", \"2022-04-04 11:16\", \"2022-04-04 11:17\", \"2022-04-04 11:18\", \"2022-04-04 11:19\", \"2022-04-04 11:20\", \"2022-04-04 11:21\", \"2022-04-04 11:22\", \"2022-04-04 11:24\", \"2022-04-04 11:25\", \"2022-04-04 11:26\", \"2022-04-04 11:27\", \"2022-04-04 11:28\", \"2022-04-04 11:29\", \"2022-04-04 11:30\", \"2022-04-04 11:31\", \"2022-04-04 11:32\", \"2022-04-04 11:33\", \"2022-04-04 11:34\", \"2022-04-04 11:35\", \"2022-04-04 11:36\", \"2022-04-04 11:37\", \"2022-04-04 11:38\", \"2022-04-04 11:39\", \"2022-04-04 11:40\", \"2022-04-04 11:41\", \"2022-04-04 11:42\", \"2022-04-04 11:43\", \"2022-04-04 11:44\", \"2022-04-04 11:45\", \"2022-04-04 11:46\", \"2022-04-04 11:47\", \"2022-04-04 11:48\", \"2022-04-04 11:49\", \"2022-04-04 11:50\", \"2022-04-04 11:51\", \"2022-04-04 11:52\", \"2022-04-04 11:53\", \"2022-04-04 11:54\", \"2022-04-04 11:55\", \"2022-04-04 11:56\", \"2022-04-04 11:57\", \"2022-04-04 11:58\", \"2022-04-04 11:59\", \"2022-04-04 12:00\"], \"xaxis\": \"x\", \"y\": [-0.0004413204288762351, -0.0007965291332522328, -0.0013748393420188743, 0.0007934004820588925, -0.0001295264881667757, -0.0010593632023095934, -0.002542666958911255, -0.0003140003164380234, 0.0004907142830601341, -0.00021831065850430598, -0.0015184087911689348, -0.0004186624635327263, -0.0005406159858565296, -0.00036681224333612317, -0.0015464853663648137, -0.0013715359476971223, -0.00030088433373387513, 0.0007035594689948077, 0.0015265750099204833, -0.001230585646896487, 0.00021900143745212652, -0.0010308428122772773, -0.0005175296832232723, -0.00013213654156030152, -0.0003875816366460949, 0.0009240340016458681, -0.00032524464879124526, 0.0005789719626168033, 0.00021529591045177376, -0.00035660923565394853, -7.006280546650867e-05, -0.00013371255537542037, 0.00019621583742113202, 0.0003193720456626803, -0.0007488546842523425, -0.00034579439252335753, 0.0005376859287791191, 0.0006119154026664742, -0.0005743047643950172, -0.0011212385949012083, -6.536207549734385e-05, 0.00032262210030387095, -1.5781057120412e-05, 8.124450211433043e-05, 0.0003040284648256897, -0.0006502899545334229, -0.0013329971997704249, -1.2879421915634737e-06, -0.000999912771075584, 0.0005385477728208077, 0.00026719613906855955, -4.2276212159131354e-05, 0.0002268489890755454, 0.0013914620385762078, 0.00020157751947635916, 0.0011526414016866937, 0.00038486126720482794, -0.0001143868148886229, 0.0003945629229220593, 0.00030572400520378906, 0.0006993340636580747, 0.00019164332519361338, 3.2633728356934455e-05, 0.00022621428471536476, -0.00030760981233357576, 0.00016072896120244984, -0.0004008838089555322, -0.00011191941801902416, 0.0003497873293036857, -0.0006030556060627745, -0.0005837098193637313, 0.0005535937441105698, -0.0005977230542073553, -0.0003639830646930964, -0.00045307234062819113, 0.0003690691981388383, -0.0007612162648098497, -0.00010749270919019338, 0.00028523685994064074, 0.000256885290963238, 0.00015416166419846, -0.00017971078124556783, -8.654296589638566e-05, 0.0007196185706208613, -5.147274494810006e-05, 2.801382015138465e-05, 0.00032681874632323193, 0.0002616029422746191, 8.212324038714414e-05, 0.0003218173500494359, -0.00025944662658172746, 6.368297541792245e-05, -0.0003504673169691941, -0.0008375663744226713, 0.0004808454659821493, 0.0010130482481733871, -4.663700553075856e-06, -0.00011659305758293659, -0.0003934308475904702, -0.00041808273138677077, 1.855551284291046e-05, -0.0006067190015779378, -0.0005739246473720483, -0.0004352181061948457, 0.00028508970331730943, -0.00022915193567951686, -0.0005329792605613948, 0.0001948282798043266, 0.00014194205256634618, -0.0002787000233809289, 0.0001432477791332154, 0.00023196970456940136, -0.00020865418053550577, 0.0003928427787078803, -0.0005440372119115411, 0.00048820445417874225, 0.00036769862270791265, -0.0007040487828928743, 0.0005641269069243116, 0.0007291538251654739, 8.115267152852823e-05, -9.795908836163214e-05, 0.0003884884576190739, 0.00034935209368480713, -9.719634630411811e-05, -0.0003741197799438378, 6.420551742536418e-05, -0.00013435601097822047, 2.3349099034231102e-05, 0.0001260821908788401, 3.280058261312391e-05, -0.00013084785441030977, 0.0006686838473743961, -0.0005766577393406802, -1.400745616897403e-05, -7.29565228150264e-05, 0.0002837923956480193, -0.00011752277397625299, -0.00016329065093911854, -0.0005132996799260825, -1.4015827840774264e-05, -0.00019003392929084484, -0.0004485980260284794, 0.00019915471446196875, 2.968029646632786e-05, -0.00045932985281815775, 0.000562999017206689, -0.00038824606364873393, -0.00016830920083288348, -0.00019639378918667738, -0.000383744660371943, -6.257836917256121e-05, -0.00161415506018725, 0.00010064504215967496, -0.0025057976371297697, -0.0012195786534273667, 0.0, -9.407302324904165e-07, 0.00010547947653960499, -0.00010452771989299947, 0.0001468715075390037, 0.00011287105035084899, 0.00022853808162737188, -0.0002568115291333717, 0.0, 7.347754526221273e-05, 6.759437497239063e-05, 0.0, -0.00018031784841077148, -0.00021456285727650126, 6.408868651242017e-05, 4.221351194555467e-05, -0.00016919966442263679, -6.409271876139933e-05, -1.4113062803966514e-05, -0.0002682695882373354, -0.0003397503164571658, -0.0009452222967019086, -0.000394254509131331, -1.555486134785511e-05, -0.0002687968987837852, 0.0012146851366388045, -0.00016753031704197507, 0.00028248248290685396, 0.00010264908808887974, 0.0007023443139713148, 0.00015255592933272055, -0.00015241505536156552, 9.4097709415486e-06, 0.0006375059824996754, -0.0003804967051241892, 0.00046754116620006947, -0.0005386669550213607, 0.00027153662328149863, -0.00032613170877260345, 1.4583102042164953e-05, -0.0003799783514655264, 2.7765081527464375e-05, -0.00016658586389539654, -0.00046407070253640104, 0.0004492180533390844, -1.4120010914941972e-06, -0.0003959491984822927, -1.4125623881700022e-06, -7.863275068187292e-05, -0.00031490890597707377, 0.00021608967191455442, -0.00029374782190993987, -0.0002714579884903756, 8.48168427400875e-05, -0.00018846588767429395, 0.0, -9.425070688029447e-05, 4.194551795655421e-05, -0.00043781743531357, 0.00021641143633077675, -0.00038606234789073657, 0.0004924313873431174, -0.00046390906486792893, -2.5345882885496884e-05, -0.0002858852273966983, 0.0005660377358489566, 0.00022216198378277596, -0.0001938330455295567, -0.0001131403034045908, -0.0008769365682549379, 8.493931557795875e-05, 0.00028310700501088526, 0.00022936969914244543, -0.00020102090322637878, 0.0003425707547168866, -0.000101851900970229, -0.00019052018258336467, -0.0003162577347244344, 0.0005493207331244143, -5.6587758181625425e-05, -5.659096053722834e-05, 0.0003579580825896489, 0.0002532861192605651, -5.6559586408044815e-05, -0.0003281819954761289, 0.0003064823371872194, -0.0005326445092835863, 0.0005423607311965117, -0.00012726784224448284, -0.0001885689502366672, 0.00039901642745321375, -0.0005119748501928312, -9.431293030270904e-05, 0.0002358045651764673, -0.00027995190720919716, -0.00018393569325181325, -0.0003001297810704129, 0.0002585783851118961, -0.0002131069124475804, -0.0003096429904789755, -0.0003492674822533903, -0.0009555094948960896, -0.0002156235508177229, -0.00023635074450489846, 0.0009456264775413725, 0.00011632026452534916, -8.796803867283653e-05, -5.66823802821137e-05, 0.0002168223945884229, 0.0008577740898148001, 3.3502967667020656e-05, 0.0005963092527023761, -3.301030393054738e-05, 0.0003961367237605984, -6.599664359929758e-05, -0.0007071535654682437, -0.00021229619565221736, 0.0005078495491286361, -0.00011613888323913635, 0.0, 0.0005990396498212203, 7.071035623873456e-05, 0.00035305541414487607, 0.00029685769066389867, -0.0001832434466915167, 0.00022709390474306979, 5.381657239533766e-05, -0.0002290319484848924, -0.0001413374289779279, 4.535216842271872e-05, -0.0003374755065224111, 0.00019795820253953877, -0.00013194601523036642, 0.000287020454331266, -3.251022776473711e-05, 0.0001696240941602145, -0.00016959532670657307, 0.0003957895530404265, -0.0003108544730074936, 0.00042402427303400714, 0.0003250652249673358, 0.0001552414711054606, 0.00024429967426709, 0.0003393006641538854, 0.0006633171502765656, 0.0002773742530874923, 0.00014569860129332035, -5.345419856295219e-05, -0.00011619566692377958, 0.00011327162771324062, -0.0001691832677748195, 2.3501652166135756e-05, 0.0004451108311869234, -1.456419922507557e-05, 0.00022269454764822783, -1.7614316917269335e-06, -7.045739177302668e-05, -0.000806206794097819, 0.00017218440303135019, -0.0005217523121912038, -0.00019752285180674178, -0.00010172084624693323, 0.0, 0.00019758197299712954, -5.173743720954249e-05, 5.597339617402497e-05, -5.59702633283754e-05, -0.0002932723740716181, -6.410598731099171e-05, 0.00014115984694029748, 7.986167346540896e-05, 0.0003698746777562878, 0.0006881004934737867, 0.0001835082692680512, 3.124471424009734e-05, -0.00018323395240571472, 0.00019431057690977305, -0.00012391646503329135, -0.00030178279744075276, 0.000622783829617557, 0.00021137984535446463, -0.0004219658961386319, 0.00026768676584354445, 0.0003269155412994884, -0.0003973590006509653, 0.0006201734277822002, -0.00029105791453953866, -0.00034702326006752493, -0.00012260421211229833, 0.0005443871686241497, 4.0381293318958456e-05, -0.00019062957059046148, -0.0001233927825906589, 0.00022251016119945177, -0.0006618644903478854, 0.00026771695351968106, 0.0001544333347700544, -0.000168617510200475, 0.000601300311924513, 0.0, 0.00019776995305154088, -2.3938927571243163e-05, 0.0003661335394633536, 0.0009994602679936904, 9.093976283702787e-05, -8.436942700384975e-05, -6.281365076565848e-05, -0.0007314265301915368, -0.00011235691499345002, -0.00033781239729269164, 0.0001242584096190491, -0.00022302727913403597, 7.064301572912157e-05, 0.0005818836697322194, 5.3944510565617776e-05, 0.0009215805217348549, -0.00020619522939224755, 7.265193629124589e-05, -0.0004052980504917203, -0.00017817369849093545, -0.0008347518448074132, -0.00032397125632199764, 0.0007418188647354551, -0.0004738491564546532, -0.00014245682877489507, -0.0002002190908551027, 0.00026294289443784535, -4.6941745294071247e-05, -0.00046943948924982326, -0.007794476798797634, 0.0018441695651432166, -0.00030238601464682713, -0.00032138232208178685, 0.001465596308588335, -0.0004815227448684567, -0.0010413222750158546, 9.219617312594686e-05, 0.00234948559868986, 0.0007624208808518773, -0.0011481798903920648, -0.0006134990311528199, -0.000264269864501232, -4.250214370182803e-05, -0.0006423999808260472, -0.0010013751778042979, -3.547825395688875e-07, -0.000932014062165698, 0.0002793560606060286, -0.0009417350266733848, 0.0015776315792590534, 0.0007340592245179689, 0.0008264074097534824, 0.0014358381663968078, -0.0005038272833380875, 0.00037655683601656165, -0.0005895047169811596, -0.000466430623429992, 0.0009108672268176576, 0.0006750983987759973, 0.00044245451228164256, 0.001154773862479308, 0.0005365940679995518, 8.467994040417537e-05, 0.00020203863806678157, 0.0007155755374281814, 0.001240728608475905, 0.00010526083564665889, 5.3622228467054e-05, -0.0012671532065663405, -0.0013111704296000504, -0.00028925733092066697, -0.0004237157506240541, -0.0005720998217662032, -0.0005935105353125358, -0.00042910402466811437, 0.00018393014144590936, -0.0005233972109766061, 0.0001556860618867617, -0.00022134640169402253, 0.00039596397470931244, -0.00030891122822751527, -0.0006674308488449077, 0.0006795606153198186, -0.00015096333478004098, -0.0005078088138151804, -0.0004025588628744359, 0.000597056583065303, -0.00016991268729771303, -0.0006160381641543422, 0.0001558757910844477, 0.0007224661468703264, 0.0005522834638236329, 1.8749113396943073e-05, 0.00046235154282259217, 0.00041016062149235033, -0.0002544780778328537, -0.00014141269633827225, 6.140536249144013e-05, 0.0003910373946303114, -0.0005370833745659276, -0.0002782924465819514, 0.00047821616879994977, 0.00028566122087636536, 0.0008435438265788076, 0.00028722237132683404, 0.0012944831481829233, 0.00018346143901459833, 0.0, 0.0006297178161493999, 0.0006765294427115709, 4.2129815927882674e-05, -0.00020676771137950745, 7.429683852278046e-05, 0.0008789378946874038, 0.0006566604127580256, 0.00011249648448496963, -0.0003906469694980874, -0.0002795612260183544, -0.0004550442434089197, 0.0007413524520936132, 1.4065884603509105e-05, -0.0003346461307639492, 0.0003376894886524262, 0.00039090773229566445, -0.00023949121006328067, 0.00039717717078602277, 0.0003063458099450411, -0.0005451636779283398, -0.0012684459281714355, 0.00016425678497844487, 0.0003032386118357877, -0.0005283078609981118, 0.0004929177539565455, 0.00019244930262640736, 0.00035480776243401735, -0.000692485384901409, 0.0006738465436189056, 2.3091101428063254e-05, -0.00014487280378805423, -1.711528645953475e-05, 0.00022508159207723644, 0.0002342900273788473, 0.00021865071883464537, 0.0002549195907930457, -0.0007888078530828846, 3.938361824329384e-05, -0.0003939378808838212, 0.00036817983497794415, 9.142502427161858e-05, -0.0002483486106600319, 0.0007418312399578575, 6.91144101201413e-05, -9.839337672012949e-05, 0.0001827485380117011, 0.00015601062558845413, 4.0753174883167986e-05, 0.00011253507206454572, 0.0005478588484237878, -0.0006272527266769634, 0.0003325589238205584, -0.0004726853867872416, -0.00042184694006375256, 0.0006654919016195748, -0.00014050337676452251, -0.0005713435883983875, 0.00032338794332420484, -7.039613109427467e-05, -0.0002874613438290652, -0.00036862812920868127, -0.0003750937734433579, 0.0005347091932457193, -0.00014989639686091571, -0.0006612137145640684, 0.00022051130472311442, -0.0001359129031652806, 7.025271390692645e-05, 0.00029084222278519256, 0.00039392973043961277, -0.000384281830114408, -0.0005628686534683291, 0.0001500342533244936, -6.556416438707746e-05, 0.0006662412731777145, -0.0008813614156171212, -0.0010510815792527106, 0.00023324527325985223, -2.6771158726179856e-05, -0.00015029824808610037, 0.0002771540506769643, 0.00022541878583814956, -7.04274948940542e-05, -0.0001831243837160379, 0.00030995956436585814, -0.00011455560406958831, 0.00022725928124089911, 0.00012674806709189745, -0.0008108501370582832, 0.00017745134767888082, -5.6361042261254823e-05, -0.0001410279729747721, -0.000417858703158247, 6.556004136637483e-05, 0.00026316284140670554, -1.879240035329577e-05, 0.0002632160039088838, -7.045428098406692e-05, 0.00012647434502555122, 0.0003524865093478269, -0.0003894530754821046, 0.0003333598706107832, -7.993744923939783e-05, 0.0008968736206458328, -0.000365817042218497, -5.1742338174065594e-05, 9.386850899240073e-06, 0.0002393624510714787, 0.00028059704293892374, 0.00018388492556420388, 0.00015477262494378863, -0.00024830128160036047, 2.3218066188324116e-05, 0.00019230679030579623, -0.0004501927387662308, -0.0001923564129751032, 0.0002487036906688722, -0.0007107403897578246, 0.00040609089393983666, 1.1731966798045335e-07, -5.643075365791006e-05, -0.00036136492695271194, 0.00015915194080862172, -0.0005192738005772579, 5.036931036661585e-05, 0.0003756962120429197, -8.44999014167902e-05, -0.00019706572769950803, -4.226184948885603e-05, -0.00047440930992759256, 0.0001503420281139256, -0.00022547914317927464, -0.0002067358291986121, 0.0001223048292195994, -0.000199587409711377, 7.73129678286466e-05, 0.0005013205631896334, -0.00029427697052542, 2.819124612463142e-05, -0.00028977434835719684, 0.0002615422249701016, 3.993760336884478e-06, 0.0008793285435024778, -2.8166369354987175e-05, -0.0005257870374717477, 9.40573597241201e-05, 0.0009110142551012057, -0.0007789185232455198, 8.452688424509525e-05, 0.00023489444423585581, -0.00011266652199970473, -0.0003090462279399242, 0.0002850726207237475, -0.00022019926860039618, 0.00060685538785199, -0.0006628065333552646, -0.0001361949936599105, -0.0003147002597451154, -0.0001691459071389012, 0.0001486151185632334, 0.0, -0.00048689180371386254, 0.0001298618880625213, 0.00032561137324926825, -0.00046646765926039446, -0.00021448017351155535, -7.499600334781586e-05, 0.00015329486384607627, -0.00032264563307071725, 0.00015038140321732563, -0.00034962239840496956, 0.00017581314461390107, -8.924329096804406e-05, 6.10295150023088e-05, -0.0002870211077509177, 0.0004704686808998382, 0.0005079848016025235, 0.0004510908372863387, 5.637561191029761e-05, -0.0005259078310706489, -0.0005076188656550906, -8.464611223935048e-05, 0.00033473316934107267, -0.0005602876966251946, 0.00016910958277449595, 0.0011334775656099971, -9.09043930076292e-05, 0.00045268395541953055, 0.0006856455869783673, -0.0003565495297629395, -0.00011912696716476212, 0.00010024290710997086, 0.00046301947381266473, 0.00034431767323384044, -0.0002157841408038097, 1.888518744430634e-05, -5.6302601144975206e-05, -0.000197070199572269, -0.0002956635658363238, 0.00016900057636237698, -0.00014562102556392453, 0.00026288364582072177, -0.000544166924788092, 0.00042718878786152104, -6.477260766424298e-05, -0.0001530234631673677, -0.0004066774918385363, 0.0003570589892918363, 0.00021115417529515845, -5.632718584680507e-05, -0.00014528538368019372, 0.00031432212642323876, -2.8160420528777763e-06, 2.933385399028765e-06, -0.00011921243291812544, 0.00012157362744136258, 0.0005372760328072879, -0.00042686931231827874, 0.00014547911905360422, -0.0005302177177176626, 8.274375959471669e-05, 7.698640474074203e-05, 0.00014081794809239767, 2.3349021764040856e-05, -0.0004503088100020758, -0.00018804578175279918, -0.00037545787545789633, -0.00010816966358884184, 0.00014083545849219448, -0.00021128216210120065, 8.222833139570618e-05, -0.0003547273468120782, 0.00045578663968215416, -0.00028633709322045675, 0.00031473206890697547, -0.0005964991524638474, 6.087241212915373e-05, 5.6403434969265476e-05, -0.00039010175545795, -0.00032912987464850385, -0.0002163565556035918, 0.0004139890669250246, -0.0001550640947266535, 0.0003245210580655744, -0.0002728148628502458, 0.00025419504119783554, 8.439669644522141e-05, 0.00015044380923723288, -0.00023021491425989637, 0.00048416211567214873, -0.0006576906809530048, 0.00012203147847844598, -9.16887660107335e-06, 0.0005828167564401188, 5.650898974618457e-05, -0.00025374744446371444, 1.7038295390126024e-05, 0.0004482757891357547, 0.00029597609922538126, 0.0002816811775330219, -0.0006101569176159005, -3.770295288119119e-05, -0.0003853833413146601, 0.0003290123050601057, 0.0005168492867480001, 0.0004226582385482569, 1.8776874401549293e-05, -0.00030981261031204355, 0.00037564681686275136, 0.0003097922514385676, 0.0008446262997860998, -0.0001781595184067175, 0.0005017490879419828, 0.0002577790692770421, 0.0005294823255987957, -0.00019201138955360353, 0.00014052312073742357, -0.0003653087795876253, -0.00010483039730135868, 0.0007046044111866934, -9.364698831282325e-05, 0.00013580085039421874, 0.00015451101944496948, 0.0008428912504097053, 0.00012617518916346881, 1.4147610556181078e-05, 0.00046581225661479486, -0.00027171416931548453, -0.0007224300864776545, -0.0004632510325760508, 0.0006039098952392852, -0.00012632345752916496, 0.0004210144095955215, 0.0016370439663235814, 0.0009199159467663254, 0.0004247785133451032, 0.0003728349516329832, -0.0017602252491631942, 0.005321742184099865, 0.001179394277220469, 7.945385853447284e-05, 0.0003159344753753679, -0.0003339221416467364, -0.0008819417099624749, -0.0012815927411701233, -0.000892686837437151, 0.000820190793829445, -0.00010357320585574481, 0.00029296466288131207, 0.0008236636820915244, -0.00018649855010732797, 0.000413369957052101, -8.53333457173644e-05, 0.00015732864095330257, 0.0009953679517988867, -0.0004179774853482199, 0.001430581967241551, 0.00012072481230873677, -2.7918587083175517e-05, -0.0005421686118896041, 0.0004078902361464021, 9.732540517504162e-05, 0.0003870625417068396, -0.00012379819342656084, 0.00025816682789070455, -0.0002581001949820694, -3.150353395520167e-05, -0.000812515636437805, -0.0011180450382621832, 0.00021120990783352056, -0.00032951069981579373, 9.285051067786654e-06, -9.284964856415279e-06, 0.0004945450324975731, -0.0001230821201353427, -0.0001907369593465713, -0.002315737779945981, 0.0002052898483297927, -0.0004702672813632347, 0.00039498233981016817, -0.0007810468446683982, -0.0004608938547485675, -9.78104433607685e-05, -0.0013042668157257076, -0.0005479244402984973, -0.00044578996817401517, 0.0002423116248886359, -0.00022824986498715116, -0.0008403753676642367, -0.00021961590579877566, 0.0011076681482311557, 0.001035947712418217, 0.0005316621110063036, 0.00020334592019333186, 0.00031911245958804457, 0.0004911529574000983, 0.0006565669441593869, -0.0005835423603939294, -0.0003631808637208911, 0.0008336398785184773, -3.478847675342234e-05, 0.0013078129841395114, 0.0005573023868601368, -0.0011539349984791558, -0.0002052182167269212, 4.2331310889043294e-05, 0.00019420411201043208, -0.0004918107121721915, 0.0004229559455788401, 0.00025161983173571656, -0.00019971077973224283, -0.00022346961103958396, 0.00020014420616831785, 0.00030637678810396807, 2.3712228396144397e-05, 0.00010112328206646204, -0.00021268608579738668, -0.00027899190923463824, 3.2674418604550226e-05, -1.4418133547078327e-05, -0.0005145254906393504, 0.0004453372906461084, -0.00018524203563907715, -0.00019202213732616435, -1.3959468218693871e-05, 0.00024592273140355836, 0.0005487124795453546, -4.056711195177254e-05, 0.0006743248236973365, -0.0006598145084846241, -0.0002703770865299937, -0.0006132220154377865, -0.0002513030528666915, 6.912571104056298e-05, -0.0005445891691454596, -8.615717350446417e-06, 0.00039085422080642473, -0.00015886433300194014, -0.0005964470195808369, 4.344408897161145e-05, 0.0005025552283737245, 0.000511499067102017, -2.245535979183977e-05, 2.6877225879351485e-05, -0.00012414384956227487, 6.970140453566032e-05, -0.00013031741599178748, -0.0006655200342593481, 2.317305227883537e-05, -0.0006148285466757164, 0.0008436955285651138, 0.00036275916295758215, -0.0002928020163771583, -0.0003819414897301421, -0.00041900352158597, 0.00040333469952957834, -0.0008299848234007978, -7.179673784063478e-05, -0.0011235364390527192, 0.00020059461892962815, 0.0006690979754273574, 0.0005364361518558347, 7.038333397235697e-05, -0.00039383928164649085, 0.0002931645109847114, 0.0005259100119374693, 0.00035535298921041125, 2.7477389368479876e-05, 6.1007442442306825e-05, -0.0007031726591568699, -0.0003470571788061205, 0.00044460651507627347, -0.000251035711606451, 0.0007853390025331919, -0.0007662107241326321, 2.3303396236906693e-05, 0.0005592684768322975, -0.000349347419021262, -0.00030753316465603753, -0.0002004241534410145, 0.00036363297311914344, -2.7961599403436566e-05, 0.0008183656920224269, -0.00013783494823738085, -0.00011177347242918856, 0.00038193538771102986, -9.13734181340331e-05, 0.00035691273972426885, 0.00016140291835564646, 0.0001968634944806702, 2.791840381188848e-05, 0.0001156254943746049, 0.000359165238573933, 0.00013394099759533873, -0.00013555059699221772, 0.0003504330068360151, 8.356770646278378e-05, -0.0001253991942142818, 0.00021840096091763073, -0.00045100002661147, -0.000233681802116803, -0.0003010664660332285, -4.175952538842953e-05, 0.00013005320083259164, -0.0005629477993859267, -0.00021401738207516008, -0.00018158704986348528, -0.0001606638724347409, 0.000980323547525419, -0.0002883765297101437, 0.0005356111604934988, 0.00013955883591187934, -1.8954096666412568e-05, -0.00011093589544863836, 0.0002085221478316246, -0.0005712524998837676, 0.0003812465774191143, -0.00024224411787554523, -0.000297789344515631, -0.00020444208314029932, -0.0005262812422751617, 0.0003368715912566156, 0.0001551671655568576, 3.410121986924253e-05, 0.00024591611083368825, 0.000619816873028034, -0.0005860600727853882, -0.0003861654791796898, -0.00035395687941564, 5.6704385368089305e-05, -0.0001569469761394382, 0.0002205521022318191, -0.00045474474802409404, 0.0007910986953860721, 0.0001304653457971927, 0.00014743802860817112, -0.00010553005407509808, 0.00020049335561767023, -0.0004936290097031781, 6.506596629773931e-05, 0.0004190022160561746, -0.00012553167726148118, 0.0002510948748837283, -0.0002930255839601603, 0.00024202932278338807, -0.00018613135289569094, 0.0002974001917510627, 2.7916598232202716e-05, 0.00017238018181564563, -0.00010210776951735667, -0.0001767877662866013, -0.000330372390174416, 0.00026997086176550056, -0.0006051764574491747, -0.000558514978747815, 0.0003540713546956731, 0.00016719292853073497, -0.0002975443511041842, 0.00021868333535168816, -0.0003911689875638613, -7.896320151756786e-05, 0.0004845322400297558, -0.0007311030808776486, -3.262080181931637e-05, 0.0002842762606021232, -0.00041977068686782637, -0.00014891571184272312, -0.00022818496920673503, -0.00041031379680145363, 0.0006203879057009587, 0.00011188028809172579, -0.00017246281561855703, 8.391530148910142e-05, -0.000358940891292181, -6.062216999391801e-05, 0.00025183043417431605, 0.0002979243206953086, -0.00028828061239472014, 0.00044758155600321814, 0.00034345836476079583, -1.3510003808447912e-05, 0.0003268067486641435, 0.0, 0.0004468547850020599, -8.821381912538229e-05, -0.00036359404096830694, -4.1448962588397364e-05, 0.0, -0.0003679330082482224, 0.00028373882982202225, 0.00016209048282012084, 0.0003954972227875331, 0.00043421159057488445, 9.922855325461555e-05, -0.0007425700250861533, -0.00015237257130751303, -0.0005321628467207518, -0.00011182418442601261, -4.776358655589341e-06, -0.00022181049555070054, 0.00024061990212076445, 0.0, -6.98969544149497e-05, -0.0003761884041002528, 0.000587862618230961, -2.7954825002840522e-05, 0.0002457763737850893, -0.00032979510081920793, 0.00011206481400161117, -0.00047080584442205087, -0.0002132559427905356, -0.0006489958281503672, 0.0007928769372882449, -0.000820218729656208, 1.2130260333975684e-05, 0.0004716747860666892, -0.00024575214846600524, 4.197937413419339e-05, 4.197761194024707e-05, 0.0004058831485618253, 1.3869720895787196e-05, -3.333348873424402e-05, 0.0003177276898866932, -0.0002002936241610742, 6.992451997689386e-05, -0.0004960797810956707, 0.00030033727316136627, -1.3986666045018303e-05, 0.00015397203560119088, -0.0003076635852526932, -0.0004016012289813631, -0.000717924651965185, -0.00019594891090213284, -0.00035018579107148895, 2.7440829689195922e-05, 1.1676628397516708e-07, -0.0008277560897405056, -0.000370689449654682, -0.00019733790234488513, 4.080836578523872e-05, -0.00020064268799468987, 8.923140650796135e-05, 5.110176337330685e-05, -0.00016838164541843614, -4.689750766062595e-05, 0.0007953067544934633, 0.0008788167760513943, -0.0007468054102526267, -0.0004290680016695303, -0.00018820697436594536, 0.00024307823330871337, -0.00021519878534836945, 0.00022915828757952283, -8.287551139685156e-05, 0.0001530226175376903, 5.610360465668762e-05, 0.00038475563575834926, 0.00048473182378327984, 0.00012132859836500032, -0.00013544186741643038, 2.814302730214102e-05, 0.00022408692751141324, 0.0004204045036169113, 0.00017259566018190675, -0.0002425723166531446, 9.348127416020091e-05, -0.0001960472669960689, 0.00020052098105405314, -8.401988470607691e-05, 7.002245386678041e-05, 2.800702042637937e-05, -0.00038251850745429916, 0.0003362034366996003, 0.0002846265930160907, -0.00035629449525009793, -0.00026434010032316824, 0.0003266309777378851, -0.0006989114299851273, -0.00035629823996141674, -0.00013539719626165514, -0.0002805286369965687, -2.7932177400935565e-05, -0.00041607250694553066, 0.00028049815255903887, 0.0001216826572405516, -0.0007097875768122819, -0.0001784793651654626, 0.0005989367468983708, -0.0009511782287742188, -0.0006300417086675392, 0.0, 0.0009880467189893327, -0.00039761268617255485, -5.1491371508949335e-05, -0.000229265434250836, 0.00039776548973491366, -0.0007159974350933185, -0.0004682669240905213, -0.0006067243189493698, -0.0009497325170150228, 1.5253344559873483e-05, -0.0007116163358951155, 8.806138841466193e-06, 0.0004344323571794373, -0.0005577097564350986, -0.0014319250232126546, 3.2103993419241306e-05, 0.00038782260537773006, -0.0008446976473771572, 0.0004856470588234796, -0.0007328205784297159, -0.0015314378994518707, -6.529259923704345e-05, -0.00016123846225657434, -0.0022350688910474092, 0.0019395085066162832, -0.0013334251527283847, 0.001034819723635616, 0.0002510063846210553, -0.0015757075471698467, 0.0002539378676635895, 0.0010584749553301798, 5.0131214029303095e-05, 0.0012768075023674719, 0.00016220988050186236, -0.0017456228985772704, -0.0010760353477611284, -0.0004674929409510531, 0.0001841067866630297, -0.00029773023230761364, -0.0006521288496933453, 0.0007518921475875295, 0.0010968574007386156, 0.0005802890585531184, 0.0014819697999990389, -0.00031075077528663897, -8.484082917770142e-05, -0.000254779772230207, 0.000297043777887529, 0.001466159202594186, -0.00015061375103542218, -0.0007156407697521683, 0.00017912664630759245, 0.00018345123823704235, 0.00013303072962767004, 2.236502355157377e-05, 0.00040173746450800074, 5.177072955908635e-05, -0.0002554282623665749, -0.0009650146870527898, 0.0009433295480782977, -0.00020807128277355869, 7.980864758483364e-05, -0.00015536726821263613, -0.00028700322719710236, -0.00011304437933923328, 0.0004001752385978108, 0.0006406364078779259, 0.00043269977365034684, -7.055670889644095e-05, -0.0012108385574463032, -0.0003235643128814969, -0.00025370564538640394, -0.0003580348727615368, -0.0005846815324195287, -0.00046214622641505, -0.00028326770355313613, -0.0001791429461579508, -3.800682753707374e-05, -0.00021270467808642834, -0.0005853574682900264, -0.0001690474277856735, -0.0009273777775992142, -0.001168428770784602, 2.6640081838280594e-05, 0.0002841533030748522, 0.0003469236418816024, 0.00018505643274613348, -0.00017685944938150566, -0.0003833618586897014, -0.0006800180627948293, -0.0003695561535836944, 0.0008815750808111034, 0.0008613831379160608, -0.0003191329802761933, 0.00036916707152778727, -0.00022709589999647672, -0.00015711034327903217, -0.0003940208227580788, 0.00018939393939398919, 2.9705548191705233e-05, 0.00029491644290535746, -0.000905311107227913, -0.00019894155985100692, -0.00013869459603921275, -0.00037302294286556403, 0.00036972558895675967, 0.0009463609171065368, 4.8640204501904094e-05, -8.520497298825092e-05, -0.0008095162181959159, -5.685418004364173e-05, -0.00014214353156316584, -0.0003519737243499188, 3.922730504868355e-05, -0.0003839621839911711, 0.00020438427990887575, -0.00023278926941028288, -0.0004500375880972518, 0.00035060855373370003, 0.0007101010420782483, 0.0, 0.00021800947867300913, -0.00019900874690825798, 0.00045496767833785867, 0.0004939602084319539, 3.610248892926826e-05, -1.4203745148821945e-05, 0.0008669142256789719, 0.00021240160460189728, 0.00011398199651990737, -0.00011396900610516347, -0.0005386949960011211, -0.0004116920543433267, -1.4202124637874292e-05, -0.0003550581585263224, 0.000261770806694539, -0.0005647135578954465, 0.0004595109287806043, 0.0003930091717923023, 0.00013844580970689968, -1.4197604627508298e-05, -0.00011949820220280571, 0.0004298899538515144, -0.0006617673410542757, -0.00026488222682863327, -0.0008050385944973204, 0.0004971563981042149, -0.0002790082087151813, -0.00022270026439730195, -1.7772596078158287e-06, 5.971602895527006e-05, -7.227103676588076e-05, -0.000371334097723941, -0.001081227801612128, 0.0002293658810599286, -0.0008394313505069029, -0.0004131819282773286, 0.0007845387078688759, -0.0007744287771799252, -0.00025656131815499084, 0.00027516134244520707, -0.0004746296439707143, 0.0003465158285007597, -0.000660005160299515, 0.0004897439067299558, 0.0007413849641426662, 0.00038288384550733134, 0.0, 2.848277593137105e-05, -0.00017089178811557915, 0.00014421459131197523, -0.00017267652168961867, -0.0007578900388797161, -0.0001425462562602009, 0.000977887923660381, -0.0011098647403532391, 0.00021863117870712934, -0.00021858338956315393, -0.00014745722433462394, -0.00029008555087550736, -0.0001679679726800387, 0.0001872569004168767, -0.00018722184183495028, 0.00023005847765489307, -0.00013015818677164503, -0.00018842701484644842, -8.263814243725243e-05, -0.00034544409186554326, 5.7098266115884755e-05, -0.0007422350791717047, 0.00011427483096837499, 0.0010469235017425138, 8.251535332504112e-05, 0.00026631000148613637, -0.0001806622459883389, 0.000659298594740676, -0.0003891884494190423, 1.9015383445175615e-05, 0.00041357672561326275, -6.652506331761288e-05, -0.00022334899944398412, 0.00019012671945861648, -0.00014256793362033005, -0.00015209414627659346, -0.00036175391226633824, -0.0005035953090977152, -0.0004282003216260488, 0.0, 0.000299868628981681, -0.0005472151507220913, 0.00012092934679097667, 9.401833904965073e-06, -0.0001303153333543916, 0.0004521757760427292, 0.00027137319715575536, 0.0005358196315750074, -0.00022824034421498052, 0.00027763691155979764, -0.000590899365237818, -0.0003079346150978157, -0.000157048627966061, 2.379898425930449e-05, -0.00014326647564466555, -0.00032322882268065456, 0.0006285714285714228, -0.0006281765747244705, 0.0004952380952381041, 6.52058028405289e-05, 0.0007962204040878884, 0.00024252799771740108, -0.0003518180435113649, 0.00013185929935044527, -0.00035617527199671706, -0.0005669200542826047, 2.8558420890778535e-05, 0.0005149888161277705, -0.00042743001814615766, -0.00011981248810200018, 0.0003190226127653961, -0.0005433907248151293, 0.0008530207312482663, -0.00036615213115642753, -0.00015132059337663595, 9.280497320407477e-06, -2.926898914901166e-05, 0.00011422378867465, -8.518217922193205e-05, -3.783553156189168e-05, -0.0010185044166920454, -0.0005151311589438601, -0.0005283262597872707, -0.00024340773693221074, 7.632568168380871e-05, -0.0008540668943541885, 0.00043467892838400246, -8.350989711969348e-07, -8.350996685280165e-07, 4.8555121276772084e-05, -2.8630622383229998e-05, -0.00012490466624504037, 5.894041362797253e-05, -6.681110591466588e-05, 0.0004295286638795748, 0.0003235585959489029, 0.0007013931171910848, -0.0002902254084005129, -0.0005053008923804336, 0.00010969618924971947, 0.0004721187640979174, 0.00026216442953019836, 0.0007291026319176108, 4.2142857142879464e-05, 0.00013404197013611174, -3.808852725950551e-05, -2.3806236281620485e-05, 0.00023806803032044854, -0.00038093719356036004, 1.4286124161433378e-05, -0.00038583889125065607, 0.00018590774069338067, -0.00026184185442612584, -0.0003811338732729874, 8.578781812973446e-05, 0.0005003860120664783, -0.00028186221974535464, -7.146810860725328e-05, 0.00020488988776690142, 0.0, -0.0002477230618141979, 0.0004535170083173057, -0.0001285989854968861, 0.00036679242406911783, -1.4285374157707587e-05, 0.0006476128798773573, 0.0003140793193043834, 0.0004709710566876968, 0.00046551879906608917, 0.00026639619887558474, 0.0002235611606078436, -0.00022398624254171828, 0.0004948757904530421, -5.224139323045662e-05, 4.749465685116583e-05, -0.00034242021276598145, -0.00029407866200381605, 0.0002898881316948376, 3.2781121874547736e-05, 0.0005704440841278746, 0.0001235672988937342, -0.0002088872009115006, -9.734277954032144e-06, -0.00040338290819841305, 1.425117215880789e-05, -0.00012350839857111495, 0.0004798418897218326, 0.0001994425106963682, 0.00035417725004638356, -0.00023540176817105074, 0.0011962744595401809, -0.00020411937071496133, 0.0003654032156905629, 0.0004740684554849217, -0.00018953752843064997, 0.0001848341232226769, 0.00038381531375719646, 0.0004452444107616582, -0.0006723039192477742, 0.0004825367647058876, -0.00029264987118438057, -0.0001897096826068978, -0.0007966475894481961, 0.00028448982794770927, -4.8586523235805146e-06, 0.0004123949326142462, -0.0008046678077084923, -0.000608877086494708, 0.00048421933688769236, 0.000816561629357615, 6.527637079489779e-05, -0.0002358562089769256, 0.000214109851031985, 2.3692752387116656e-05, -0.0003372583396512585, -9.089020617147892e-05, 0.0005175405600341687, -0.0002614200093268293, 0.00024727060408680224, -0.00016974182067708288, 0.00019429437967954932, -0.00019425663670691318, -0.0006634442232963389, -0.0005177114946889327, 0.0003131363176094304, 0.00014762601362461325, 0.00012377414396080866, -0.0002138514576395245, 0.00014726181942092964, -0.00018968133535657294, 0.000275090115727572, -0.00026553120465822033, 0.0004155955644511433, -0.0007188416515697682, -0.0003700575961438357, -0.0009776934029426254, -0.0004370670897982931, 0.00026591952547971864, 0.0004941604724364446, 0.0003704372988566629, -6.646412515765032e-05, -0.00038931575145417785, 5.6757745829250084e-05, -0.0003989439384030069, -0.0004638386406926598, -0.00029602003381834496, 0.0005325421278861153, -0.00014233167319321893, -5.727348278150579e-05, 0.00010587882993795539, -0.0003707149011111799, -7.131776569524462e-05, -0.00016546901729352914, -0.00019902369012037013, 0.00032975062980233893, -0.00022800332566264014, -0.00026634198310626633, -0.0008753568030447356, 0.00043151474173397375, 6.663283463814729e-05, -0.0004408182204864719, -0.00013331555792561733, 0.00013333333333331865, 0.0002573466394957258, 0.0001581524932758871, 2.2487655883196567e-05, -0.0005711022272987254, 0.00019023809523810442, 0.0005078795724338114, 5.90064199221807e-05, -5.246027383309926e-05, 0.00024744465805048854, 0.0008240960989533974, 0.0008355388381766637, 0.0008107376430188662, -0.0003592450065181829, 0.0004082717760771626, 0.0008921368575902644, -0.0008534122265525523, 0.0001138854881417295, 0.00036059631242824075, 0.0005881292746090505, 0.0001516860856458635, -0.0008907836241789369, -0.001082748811051637, -0.002849303202901776, -0.003471795589819471, -0.0008559188869899925, -0.00043047844809651625, -0.00037324199431809646, -0.00110434716424046, -0.0027363648997704715, 0.00015353195579037582, -0.0005282706475386867, 0.0009650421590023939, 0.0007071753686858084, 0.00013893554734356606, -0.0017224175073818904, -0.0001922707171697624, 0.00020192307692301625, -0.0004854788936848875, 0.00024526187716711334, -2.956844494017563e-05, 6.803347439254814e-05, 0.0012163461538461373, -0.0007875036614118924, 0.0010568194378366425, 0.001501556012395877, 0.001410687382952025, 0.00018667789925141953, 0.00044507190543408015, -0.00017741140790628052, -0.0022052078261702857, -0.00014205226564367734, 0.0015972060284277223, -2.0349199444380517e-06, -0.00017219048804661963, 0.00010996468619084432, 0.0008552600076614514, -0.00018933720555625033, -0.0002394378909894579, 8.340153832153696e-05, -9.870951369472802e-05, -0.0010130989087991926, -8.732039055092677e-05, -8.103896141231637e-05, 0.0002731467948380306, 0.000172466656446435, -0.0004406721207824704, -0.0002779375119800198, -0.00020132104955372654, 0.001033236647808966, 0.0003448349973518283, 0.00043801689839151337, -0.0005216334304816161, 0.0009600790040698026, 0.0004806852602190492, -0.0002916553112344289, 0.0006934812760055475, -0.0007813582813582798, -0.0003156814585153489, -2.6374902432291236e-05, 0.0007368421052631469, -0.0005928645878157113, 0.000363584174520426, 0.00014346790622932204, 0.0005737893045674181, -0.00018637458424131115, -0.0007932553281999599, -0.00037311462757028124, -0.00048349538872927145, 0.0004739744915547295, 0.000308715084868183, 2.8703256820916678e-05, -0.0001004585153869808, -0.0009880011178329262, 0.0008453097014569089, -0.0010109310584134334, -0.0005040611377843396, -4.312947468299022e-05, 0.0003019193444036006, -0.00028571873442950757, 0.0004888139187846363, -0.000303503328926813, -0.0002482547303157556, -0.0008779436648321814, -0.00014300481599449633, -0.00024077419548285128, -0.0008044334715343604, -2.005048760800321e-05, -7.203912444853078e-05, -0.00022663940589862097, 5.374523198731218e-05, -0.00036028386765929454, 0.0007968146635521922, -0.0004417554979352367, -0.0006515770915799246, -0.00015556473815458993, 0.00023852163461546283, -0.0002384647556120667, 0.0006158052884615017, -0.0006154263056877829, -0.0006730769230769429, -0.00023092466082941243, -0.0005966931649760143, 6.91542120874189e-05, 0.0003063879449132223, -5.7757284637527384e-05, 6.913224294113895e-05, 0.00015227294290287574, -0.0001875000000000071, 0.00013224327492111776, -0.0003441600266520517, 2.8885454729232762e-05, -0.00035859052680731196, -0.00023826320451003635, -0.0004741712735542025, -8.674673711783765e-05, -0.0009072447520900306, -0.00028154407720570873, 0.00025659151884815934, -0.0002026155007852637, 0.0003145398724977433, 0.00024437761158591087, -0.00021713128461542386, 0.00041090257478848535, -0.00038005683977249127, -6.843141746060155e-05, -0.0005314500361596197, 0.00012632722007732688, -0.00010127822896888183, -0.0001447840199464423, 8.688299123660315e-05, 0.0002895848107939969, -0.00042068110532678116, -0.0001149440545262781, -3.8620814506895584e-05, 0.0004256902303971799, 0.0003167491153373003, 0.0005014762070163492, -0.0001540561241648586, 0.00024594907407404776, 0.00027481666835416085, -0.0005690034125744869, -0.00020255611346908786, 0.00030896065490981783, 0.00024593484173363045, 0.00011088452100294077, 0.00032297561775118666, 0.000500932471700466, -8.164073309047115e-05, 0.0002842003853564812], \"yaxis\": \"y\"}, {\"hovertemplate\": \"partition=validation<br>x=%{x}<br>Close=%{y}<extra></extra>\", \"legendgroup\": \"validation\", \"line\": {\"color\": \"#EF553B\", \"dash\": \"solid\"}, \"mode\": \"lines\", \"name\": \"validation\", \"showlegend\": true, \"type\": \"scattergl\", \"x\": [\"2022-04-04 12:01\", \"2022-04-04 12:02\", \"2022-04-04 12:03\", \"2022-04-04 12:04\", \"2022-04-04 12:05\", \"2022-04-04 12:06\", \"2022-04-04 12:07\", \"2022-04-04 12:08\", \"2022-04-04 12:09\", \"2022-04-04 12:10\", \"2022-04-04 12:11\", \"2022-04-04 12:12\", \"2022-04-04 12:13\", \"2022-04-04 12:14\", \"2022-04-04 12:15\", \"2022-04-04 12:16\", \"2022-04-04 12:17\", \"2022-04-04 12:18\", \"2022-04-04 12:19\", \"2022-04-04 12:20\", \"2022-04-04 12:21\", \"2022-04-04 12:22\", \"2022-04-04 12:23\", \"2022-04-04 12:24\", \"2022-04-04 12:25\", \"2022-04-04 12:26\", \"2022-04-04 12:27\", \"2022-04-04 12:28\", \"2022-04-04 12:29\", \"2022-04-04 12:30\", \"2022-04-04 12:31\", \"2022-04-04 12:32\", \"2022-04-04 12:33\", \"2022-04-04 12:34\", \"2022-04-04 12:35\", \"2022-04-04 12:36\", \"2022-04-04 12:37\", \"2022-04-04 12:38\", \"2022-04-04 12:39\", \"2022-04-04 12:40\", \"2022-04-04 12:41\", \"2022-04-04 12:42\", \"2022-04-04 12:43\", \"2022-04-04 12:44\", \"2022-04-04 12:45\", \"2022-04-04 12:46\", \"2022-04-04 12:47\", \"2022-04-04 12:48\", \"2022-04-04 12:49\", \"2022-04-04 12:50\", \"2022-04-04 12:51\", \"2022-04-04 12:52\", \"2022-04-04 12:53\", \"2022-04-04 12:54\", \"2022-04-04 12:55\", \"2022-04-04 12:56\", \"2022-04-04 12:57\", \"2022-04-04 12:58\", \"2022-04-04 12:59\", \"2022-04-04 13:00\", \"2022-04-04 13:01\", \"2022-04-04 13:02\", \"2022-04-04 13:03\", \"2022-04-04 13:04\", \"2022-04-04 13:05\", \"2022-04-04 13:06\", \"2022-04-04 13:07\", \"2022-04-04 13:08\", \"2022-04-04 13:09\", \"2022-04-04 13:10\", \"2022-04-04 13:11\", \"2022-04-04 13:12\", \"2022-04-04 13:13\", \"2022-04-04 13:14\", \"2022-04-04 13:15\", \"2022-04-04 13:16\", \"2022-04-04 13:17\", \"2022-04-04 13:18\", \"2022-04-04 13:19\", \"2022-04-04 13:20\", \"2022-04-04 13:21\", \"2022-04-04 13:22\", \"2022-04-04 13:23\", \"2022-04-04 13:24\", \"2022-04-04 13:25\", \"2022-04-04 13:26\", \"2022-04-04 13:27\", \"2022-04-04 13:28\", \"2022-04-04 13:29\", \"2022-04-04 13:30\", \"2022-04-04 13:31\", \"2022-04-04 13:32\", \"2022-04-04 13:33\", \"2022-04-04 13:34\", \"2022-04-04 13:35\", \"2022-04-04 13:36\", \"2022-04-04 13:37\", \"2022-04-04 13:38\", \"2022-04-04 13:39\", \"2022-04-04 13:40\", \"2022-04-04 13:41\", \"2022-04-04 13:42\", \"2022-04-04 13:43\", \"2022-04-04 13:44\", \"2022-04-04 13:45\", \"2022-04-04 13:46\", \"2022-04-04 13:47\", \"2022-04-04 13:48\", \"2022-04-04 13:49\", \"2022-04-04 13:50\", \"2022-04-04 13:51\", \"2022-04-04 13:52\", \"2022-04-04 13:53\", \"2022-04-04 13:54\", \"2022-04-04 13:55\", \"2022-04-04 13:56\", \"2022-04-04 13:57\", \"2022-04-04 13:58\", \"2022-04-04 13:59\", \"2022-04-04 14:00\", \"2022-04-04 14:01\", \"2022-04-04 14:02\", \"2022-04-04 14:03\", \"2022-04-04 14:04\", \"2022-04-04 14:05\", \"2022-04-04 14:06\", \"2022-04-04 14:07\", \"2022-04-04 14:08\", \"2022-04-04 14:09\", \"2022-04-04 14:10\", \"2022-04-04 14:11\", \"2022-04-04 14:12\", \"2022-04-04 14:13\", \"2022-04-04 14:14\", \"2022-04-04 14:15\", \"2022-04-04 14:16\", \"2022-04-04 14:17\", \"2022-04-04 14:18\", \"2022-04-04 14:19\", \"2022-04-04 14:20\", \"2022-04-04 14:21\", \"2022-04-04 14:22\", \"2022-04-04 14:23\", \"2022-04-04 14:24\", \"2022-04-04 14:25\", \"2022-04-04 14:26\", \"2022-04-04 14:27\", \"2022-04-04 14:28\", \"2022-04-04 14:29\", \"2022-04-04 14:30\", \"2022-04-04 14:31\", \"2022-04-04 14:32\", \"2022-04-04 14:33\", \"2022-04-04 14:34\", \"2022-04-04 14:35\", \"2022-04-04 14:36\", \"2022-04-04 14:37\", \"2022-04-04 14:38\", \"2022-04-04 14:39\", \"2022-04-04 14:40\", \"2022-04-04 14:41\", \"2022-04-04 14:42\", \"2022-04-04 14:43\", \"2022-04-04 14:44\", \"2022-04-04 14:45\", \"2022-04-04 14:46\", \"2022-04-04 14:47\", \"2022-04-04 14:48\", \"2022-04-04 14:49\", \"2022-04-04 14:50\", \"2022-04-04 14:51\", \"2022-04-04 14:52\", \"2022-04-04 14:53\", \"2022-04-04 14:54\", \"2022-04-04 14:55\", \"2022-04-04 14:56\", \"2022-04-04 14:57\", \"2022-04-04 14:58\", \"2022-04-04 14:59\", \"2022-04-04 15:00\", \"2022-04-04 15:01\", \"2022-04-04 15:02\", \"2022-04-04 15:03\", \"2022-04-04 15:04\", \"2022-04-04 15:05\", \"2022-04-04 15:06\", \"2022-04-04 15:07\", \"2022-04-04 15:08\", \"2022-04-04 15:09\", \"2022-04-04 15:10\", \"2022-04-04 15:11\", \"2022-04-04 15:12\", \"2022-04-04 15:13\", \"2022-04-04 15:14\", \"2022-04-04 15:15\", \"2022-04-04 15:16\", \"2022-04-04 15:17\", \"2022-04-04 15:18\", \"2022-04-04 15:19\", \"2022-04-04 15:20\", \"2022-04-04 15:21\", \"2022-04-04 15:22\", \"2022-04-04 15:23\", \"2022-04-04 15:24\", \"2022-04-04 15:25\", \"2022-04-04 15:26\", \"2022-04-04 15:27\", \"2022-04-04 15:28\", \"2022-04-04 15:29\", \"2022-04-04 15:30\", \"2022-04-04 15:31\", \"2022-04-04 15:32\", \"2022-04-04 15:33\", \"2022-04-04 15:34\", \"2022-04-04 15:35\"], \"xaxis\": \"x\", \"y\": [-0.0005730548639837352, 8.004481063883517e-05, -2.222285257236223e-05, 0.00024090348442795673, -0.00013005655051490095, 0.0003131398289775156, 0.0, -7.892265459452652e-05, 0.00033233214261696453, -0.0008118367715173047, 0.0001330568994428738, -6.925988108141823e-05, 0.00010443908891288878, -0.0003242452910808824, -0.0003065786574867335, 0.00014758132942516156, -0.0001909416992750268, 5.3032750133796824e-05, -0.0004261076025646737, -0.00021998719625082597, -0.00016401667181231705, -0.00029913828873595616, 0.0, 0.0, 0.0, 7.83663127412737e-05, -7.836017194362555e-05, 0.0, 0.0, 6.714527027029682e-05, -0.00024129653939142237, -6.576917685896522e-05, -0.0001544772174163489, -1.3880956793999033e-06, -0.00034762792224718453, 4.250263226523998e-05, -5.258269791375003e-05, -0.0005347295588804535, -0.00020435338553692617, -0.0001494144891452942, 0.00014405878371848146, 0.00014597143020100845, -0.0003866228494103785, 0.00023206343067094792, -4.2293414792560213e-07, 0.0006461832321886796, -0.000548735011225876, 0.00023102055019630363, -0.00012466430029989262, -0.00044459479050884543, 5.995029926797457e-05, -0.00024365435116391332, 0.0001059598646033777, 1.5895317668546127e-05, -0.00012184201925102833, 0.0001537717601547417, -0.0001537481180360345, -7.350096711800091e-05, -0.00028145202161855565, -0.00018091527650532235, 0.0, -5.9993458777718445e-05, -4.257855743849959e-05, -0.00014981758182208704, 0.00017790857072275124, 0.0003403309950269495, -3.9904396321732705e-06, -7.255373737902193e-05, 0.0001532808913147221, 3.857129038498108e-05, 0.00034821640053306346, 0.0004777848189161382, 2.6879927785383728e-05, -7.036915538105593e-05, 0.00026675713212886976, 5.2177694035870914e-05, 0.00021836191845436836, 0.0004008867808791283, 0.0003949325042003071, 9.74876185897422e-05, 0.0006263692779864272, -0.0007127844989144316, -5.791282189882008e-05, -1.061796559775896e-05, 5.791679094646618e-05, -0.00022103628373337791, 0.00025004827186725365, 0.00035326173509431236, 0.00043418481800427955, 4.3399638336438784e-05, 0.0001060834008410616, -0.00022178721927046396, 0.00011574074074083285, -0.0002989623114608708, -0.00028940488708384393, 0.00011097065549892093, -0.00037146923318132075, 0.0, 0.00028473804100226374, -0.00010131858906625713, -4.342665238410426e-05, 0.00047771392174178473, -8.681560365786378e-05, -2.8941047087061023e-05, 4.341282704323213e-05, -0.0004341094245156052, 0.0001785447158002551, 0.0, 0.0, 9.649342879836098e-06, 0.0, 1.447387465614014e-05, -0.00016885942693933842, 0.0002750460822822376, 2.4120215152301228e-05, -0.00041485769416305107, 0.0004439854449989067, -0.0001833039082322907, 0.000477642472547668, -0.00015913814637813495, 0.0009622758447722646, 0.00034928093842201413, 7.706906351456766e-05, 0.00045274585544885504, 0.0005247549538793805, -0.0001732226632984446, -0.00019731554605872947, 0.00025511677609402206, 1.4436889139046727e-05, -0.0007170218090123415, 0.00038525438828829195, 0.00024069126531389706, -0.0002839473494237188, -0.0006065682678143558, 0.0, -0.00018786127167624844, -0.0006311397613232295, 5.785084124765305e-05, 0.00011569498944274947, 2.41003345127222e-05, 0.00026027733996558666, -0.00011564871702207657, -4.337328494807835e-05, -0.0002698899234668817, 0.00026996278370194915, 0.00027952884930493305, 5.781739339916214e-05, 0.0003362850618129354, -0.0002022811534648783, -0.00021298011752024504, 2.890931130972163e-05, -0.0006725436393012485, 0.00036545619347005953, -0.0003942400468847085, -0.00026035890957831764, 0.0001446815077741359, 0.0003221108871551692, -0.00010122979742466232, 0.0, -0.00028925727409734314, -0.000857413735401491, 0.0004054249722476033, 0.0003608749770833697, -2.893674812687319e-05, -0.0003127670697994356, -0.00015993018070659115, 8.685380767103901e-05, 0.00011579501965619521, -0.0003039267333955209, -0.0005684675215877899, 0.0006846735488108546, -2.8950850141762352e-05, -0.00010133090911201847, 0.0, 0.0001882050450534578, -0.0003657245640495965, 0.00026449918912652137, 0.00037637739651064095, 0.0001447060730244143, -0.00040897665167727304, 0.0002605397998667325, 0.00022091879063834696, -0.00019193506229209234, 0.0001832897618196938, 0.00037037037037035425, -2.820136060721623e-05, 0.0002740671052221533, 0.00022067562526562057, -0.00015220427874118592, -0.0004915615271178231, 0.0004966248794600059, -5.7830489197718826e-05, -1.4458458439170485e-05, 0.00013494756323262358, 7.228358295274795e-05, -5.782268673115709e-05, -0.0004577894072349542, 0.0002116437827830442, 0.00029932341340521695, -0.000684238423360517, 0.00019787789071701312, 0.00031800031854256616, -0.00016867876334369925, -0.00021208907741254723, -0.0002699888147491558, -0.00033757716049387376, 9.648318780453025e-05, -0.000520958950364192, -0.0005308829065356901, 0.00014250912637869817, 0.0004320531407862038, -0.0004295138771590601, 0.0001641544596904243, 0.0002124003166694699, -0.0003185328185327796], \"yaxis\": \"y\"}, {\"hovertemplate\": \"partition=test<br>x=%{x}<br>Close=%{y}<extra></extra>\", \"legendgroup\": \"test\", \"line\": {\"color\": \"#00cc96\", \"dash\": \"solid\"}, \"mode\": \"lines\", \"name\": \"test\", \"showlegend\": true, \"type\": \"scattergl\", \"x\": [\"2022-04-04 15:36\", \"2022-04-04 15:37\", \"2022-04-04 15:38\", \"2022-04-04 15:39\", \"2022-04-04 15:40\", \"2022-04-04 15:41\", \"2022-04-04 15:42\", \"2022-04-04 15:43\", \"2022-04-04 15:44\", \"2022-04-04 15:45\", \"2022-04-04 15:46\", \"2022-04-04 15:47\", \"2022-04-04 15:48\", \"2022-04-04 15:49\"], \"xaxis\": \"x\", \"y\": [-3.3794548456533846e-05, -0.00035244077305229826, -0.00024631255614482317, -0.00029468171958857425, 0.00025611040774720095, 0.0002898620739630875, -0.0005186423897032277, -0.0006359701298800369, 0.0003578059724587135, 4.646188795986994e-05, 0.0007171956399869561, 0.00027529848151153224, 0.0006403152990028804, 0.00023161818658756772], \"yaxis\": \"y\"}],\n",
       "                        {\"height\": 500, \"legend\": {\"title\": {\"text\": \"partition\"}, \"tracegroupgap\": 0}, \"template\": {\"data\": {\"bar\": [{\"error_x\": {\"color\": \"#2a3f5f\"}, \"error_y\": {\"color\": \"#2a3f5f\"}, \"marker\": {\"line\": {\"color\": \"#E5ECF6\", \"width\": 0.5}}, \"type\": \"bar\"}], \"barpolar\": [{\"marker\": {\"line\": {\"color\": \"#E5ECF6\", \"width\": 0.5}}, \"type\": \"barpolar\"}], \"carpet\": [{\"aaxis\": {\"endlinecolor\": \"#2a3f5f\", \"gridcolor\": \"white\", \"linecolor\": \"white\", \"minorgridcolor\": \"white\", \"startlinecolor\": \"#2a3f5f\"}, \"baxis\": {\"endlinecolor\": \"#2a3f5f\", \"gridcolor\": \"white\", \"linecolor\": \"white\", \"minorgridcolor\": \"white\", \"startlinecolor\": \"#2a3f5f\"}, \"type\": \"carpet\"}], \"choropleth\": [{\"colorbar\": {\"outlinewidth\": 0, \"ticks\": \"\"}, \"type\": \"choropleth\"}], \"contour\": [{\"colorbar\": {\"outlinewidth\": 0, \"ticks\": \"\"}, \"colorscale\": [[0.0, \"#0d0887\"], [0.1111111111111111, \"#46039f\"], [0.2222222222222222, \"#7201a8\"], [0.3333333333333333, \"#9c179e\"], [0.4444444444444444, \"#bd3786\"], [0.5555555555555556, \"#d8576b\"], [0.6666666666666666, \"#ed7953\"], [0.7777777777777778, \"#fb9f3a\"], [0.8888888888888888, \"#fdca26\"], [1.0, \"#f0f921\"]], \"type\": \"contour\"}], \"contourcarpet\": [{\"colorbar\": {\"outlinewidth\": 0, \"ticks\": \"\"}, \"type\": \"contourcarpet\"}], \"heatmap\": [{\"colorbar\": {\"outlinewidth\": 0, \"ticks\": \"\"}, \"colorscale\": [[0.0, \"#0d0887\"], [0.1111111111111111, \"#46039f\"], [0.2222222222222222, \"#7201a8\"], [0.3333333333333333, \"#9c179e\"], [0.4444444444444444, \"#bd3786\"], [0.5555555555555556, \"#d8576b\"], [0.6666666666666666, \"#ed7953\"], [0.7777777777777778, \"#fb9f3a\"], [0.8888888888888888, \"#fdca26\"], [1.0, \"#f0f921\"]], \"type\": \"heatmap\"}], \"heatmapgl\": [{\"colorbar\": {\"outlinewidth\": 0, \"ticks\": \"\"}, \"colorscale\": [[0.0, \"#0d0887\"], [0.1111111111111111, \"#46039f\"], [0.2222222222222222, \"#7201a8\"], [0.3333333333333333, \"#9c179e\"], [0.4444444444444444, \"#bd3786\"], [0.5555555555555556, \"#d8576b\"], [0.6666666666666666, \"#ed7953\"], [0.7777777777777778, \"#fb9f3a\"], [0.8888888888888888, \"#fdca26\"], [1.0, \"#f0f921\"]], \"type\": \"heatmapgl\"}], \"histogram\": [{\"marker\": {\"colorbar\": {\"outlinewidth\": 0, \"ticks\": \"\"}}, \"type\": \"histogram\"}], \"histogram2d\": [{\"colorbar\": {\"outlinewidth\": 0, \"ticks\": \"\"}, \"colorscale\": [[0.0, \"#0d0887\"], [0.1111111111111111, \"#46039f\"], [0.2222222222222222, \"#7201a8\"], [0.3333333333333333, \"#9c179e\"], [0.4444444444444444, \"#bd3786\"], [0.5555555555555556, \"#d8576b\"], [0.6666666666666666, \"#ed7953\"], [0.7777777777777778, \"#fb9f3a\"], [0.8888888888888888, \"#fdca26\"], [1.0, \"#f0f921\"]], \"type\": \"histogram2d\"}], \"histogram2dcontour\": [{\"colorbar\": {\"outlinewidth\": 0, \"ticks\": \"\"}, \"colorscale\": [[0.0, \"#0d0887\"], [0.1111111111111111, \"#46039f\"], [0.2222222222222222, \"#7201a8\"], [0.3333333333333333, \"#9c179e\"], [0.4444444444444444, \"#bd3786\"], [0.5555555555555556, \"#d8576b\"], [0.6666666666666666, \"#ed7953\"], [0.7777777777777778, \"#fb9f3a\"], [0.8888888888888888, \"#fdca26\"], [1.0, \"#f0f921\"]], \"type\": \"histogram2dcontour\"}], \"mesh3d\": [{\"colorbar\": {\"outlinewidth\": 0, \"ticks\": \"\"}, \"type\": \"mesh3d\"}], \"parcoords\": [{\"line\": {\"colorbar\": {\"outlinewidth\": 0, \"ticks\": \"\"}}, \"type\": \"parcoords\"}], \"pie\": [{\"automargin\": true, \"type\": \"pie\"}], \"scatter\": [{\"marker\": {\"colorbar\": {\"outlinewidth\": 0, \"ticks\": \"\"}}, \"type\": \"scatter\"}], \"scatter3d\": [{\"line\": {\"colorbar\": {\"outlinewidth\": 0, \"ticks\": \"\"}}, \"marker\": {\"colorbar\": {\"outlinewidth\": 0, \"ticks\": \"\"}}, \"type\": \"scatter3d\"}], \"scattercarpet\": [{\"marker\": {\"colorbar\": {\"outlinewidth\": 0, \"ticks\": \"\"}}, \"type\": \"scattercarpet\"}], \"scattergeo\": [{\"marker\": {\"colorbar\": {\"outlinewidth\": 0, \"ticks\": \"\"}}, \"type\": \"scattergeo\"}], \"scattergl\": [{\"marker\": {\"colorbar\": {\"outlinewidth\": 0, \"ticks\": \"\"}}, \"type\": \"scattergl\"}], \"scattermapbox\": [{\"marker\": {\"colorbar\": {\"outlinewidth\": 0, \"ticks\": \"\"}}, \"type\": \"scattermapbox\"}], \"scatterpolar\": [{\"marker\": {\"colorbar\": {\"outlinewidth\": 0, \"ticks\": \"\"}}, \"type\": \"scatterpolar\"}], \"scatterpolargl\": [{\"marker\": {\"colorbar\": {\"outlinewidth\": 0, \"ticks\": \"\"}}, \"type\": \"scatterpolargl\"}], \"scatterternary\": [{\"marker\": {\"colorbar\": {\"outlinewidth\": 0, \"ticks\": \"\"}}, \"type\": \"scatterternary\"}], \"surface\": [{\"colorbar\": {\"outlinewidth\": 0, \"ticks\": \"\"}, \"colorscale\": [[0.0, \"#0d0887\"], [0.1111111111111111, \"#46039f\"], [0.2222222222222222, \"#7201a8\"], [0.3333333333333333, \"#9c179e\"], [0.4444444444444444, \"#bd3786\"], [0.5555555555555556, \"#d8576b\"], [0.6666666666666666, \"#ed7953\"], [0.7777777777777778, \"#fb9f3a\"], [0.8888888888888888, \"#fdca26\"], [1.0, \"#f0f921\"]], \"type\": \"surface\"}], \"table\": [{\"cells\": {\"fill\": {\"color\": \"#EBF0F8\"}, \"line\": {\"color\": \"white\"}}, \"header\": {\"fill\": {\"color\": \"#C8D4E3\"}, \"line\": {\"color\": \"white\"}}, \"type\": \"table\"}]}, \"layout\": {\"annotationdefaults\": {\"arrowcolor\": \"#2a3f5f\", \"arrowhead\": 0, \"arrowwidth\": 1}, \"coloraxis\": {\"colorbar\": {\"outlinewidth\": 0, \"ticks\": \"\"}}, \"colorscale\": {\"diverging\": [[0, \"#8e0152\"], [0.1, \"#c51b7d\"], [0.2, \"#de77ae\"], [0.3, \"#f1b6da\"], [0.4, \"#fde0ef\"], [0.5, \"#f7f7f7\"], [0.6, \"#e6f5d0\"], [0.7, \"#b8e186\"], [0.8, \"#7fbc41\"], [0.9, \"#4d9221\"], [1, \"#276419\"]], \"sequential\": [[0.0, \"#0d0887\"], [0.1111111111111111, \"#46039f\"], [0.2222222222222222, \"#7201a8\"], [0.3333333333333333, \"#9c179e\"], [0.4444444444444444, \"#bd3786\"], [0.5555555555555556, \"#d8576b\"], [0.6666666666666666, \"#ed7953\"], [0.7777777777777778, \"#fb9f3a\"], [0.8888888888888888, \"#fdca26\"], [1.0, \"#f0f921\"]], \"sequentialminus\": [[0.0, \"#0d0887\"], [0.1111111111111111, \"#46039f\"], [0.2222222222222222, \"#7201a8\"], [0.3333333333333333, \"#9c179e\"], [0.4444444444444444, \"#bd3786\"], [0.5555555555555556, \"#d8576b\"], [0.6666666666666666, \"#ed7953\"], [0.7777777777777778, \"#fb9f3a\"], [0.8888888888888888, \"#fdca26\"], [1.0, \"#f0f921\"]]}, \"colorway\": [\"#636efa\", \"#EF553B\", \"#00cc96\", \"#ab63fa\", \"#FFA15A\", \"#19d3f3\", \"#FF6692\", \"#B6E880\", \"#FF97FF\", \"#FECB52\"], \"font\": {\"color\": \"#2a3f5f\"}, \"geo\": {\"bgcolor\": \"white\", \"lakecolor\": \"white\", \"landcolor\": \"#E5ECF6\", \"showlakes\": true, \"showland\": true, \"subunitcolor\": \"white\"}, \"hoverlabel\": {\"align\": \"left\"}, \"hovermode\": \"closest\", \"mapbox\": {\"style\": \"light\"}, \"paper_bgcolor\": \"white\", \"plot_bgcolor\": \"#E5ECF6\", \"polar\": {\"angularaxis\": {\"gridcolor\": \"white\", \"linecolor\": \"white\", \"ticks\": \"\"}, \"bgcolor\": \"#E5ECF6\", \"radialaxis\": {\"gridcolor\": \"white\", \"linecolor\": \"white\", \"ticks\": \"\"}}, \"scene\": {\"xaxis\": {\"backgroundcolor\": \"#E5ECF6\", \"gridcolor\": \"white\", \"gridwidth\": 2, \"linecolor\": \"white\", \"showbackground\": true, \"ticks\": \"\", \"zerolinecolor\": \"white\"}, \"yaxis\": {\"backgroundcolor\": \"#E5ECF6\", \"gridcolor\": \"white\", \"gridwidth\": 2, \"linecolor\": \"white\", \"showbackground\": true, \"ticks\": \"\", \"zerolinecolor\": \"white\"}, \"zaxis\": {\"backgroundcolor\": \"#E5ECF6\", \"gridcolor\": \"white\", \"gridwidth\": 2, \"linecolor\": \"white\", \"showbackground\": true, \"ticks\": \"\", \"zerolinecolor\": \"white\"}}, \"shapedefaults\": {\"line\": {\"color\": \"#2a3f5f\"}}, \"ternary\": {\"aaxis\": {\"gridcolor\": \"white\", \"linecolor\": \"white\", \"ticks\": \"\"}, \"baxis\": {\"gridcolor\": \"white\", \"linecolor\": \"white\", \"ticks\": \"\"}, \"bgcolor\": \"#E5ECF6\", \"caxis\": {\"gridcolor\": \"white\", \"linecolor\": \"white\", \"ticks\": \"\"}}, \"title\": {\"x\": 0.05}, \"xaxis\": {\"automargin\": true, \"gridcolor\": \"white\", \"linecolor\": \"white\", \"ticks\": \"\", \"title\": {\"standoff\": 15}, \"zerolinecolor\": \"white\", \"zerolinewidth\": 2}, \"yaxis\": {\"automargin\": true, \"gridcolor\": \"white\", \"linecolor\": \"white\", \"ticks\": \"\", \"title\": {\"standoff\": 15}, \"zerolinecolor\": \"white\", \"zerolinewidth\": 2}}}, \"title\": {\"text\": \"Number of users\"}, \"width\": 900, \"xaxis\": {\"anchor\": \"y\", \"domain\": [0.0, 1.0], \"rangeselector\": {\"buttons\": [{\"count\": 1, \"label\": \"YTD\", \"step\": \"year\", \"stepmode\": \"todate\"}, {\"count\": 1, \"label\": \"1y\", \"step\": \"year\", \"stepmode\": \"backward\"}, {\"step\": \"all\"}]}, \"rangeslider\": {\"visible\": true}, \"title\": {\"text\": \"x\"}}, \"yaxis\": {\"anchor\": \"x\", \"domain\": [0.0, 1.0], \"title\": {\"text\": \"Close\"}}},\n",
       "                        {\"responsive\": true}\n",
       "                    ).then(function(){\n",
       "                            \n",
       "var gd = document.getElementById('15889e70-6553-4bf1-87be-66d7232995c5');\n",
       "var x = new MutationObserver(function (mutations, observer) {{\n",
       "        var display = window.getComputedStyle(gd).display;\n",
       "        if (!display || display === 'none') {{\n",
       "            console.log([gd, 'removed!']);\n",
       "            Plotly.purge(gd);\n",
       "            observer.disconnect();\n",
       "        }}\n",
       "}});\n",
       "\n",
       "// Listen for the removal of the full notebook cells\n",
       "var notebookContainer = gd.closest('#notebook-container');\n",
       "if (notebookContainer) {{\n",
       "    x.observe(notebookContainer, {childList: true});\n",
       "}}\n",
       "\n",
       "// Listen for the clearing of the current output cell\n",
       "var outputEl = gd.closest('.output');\n",
       "if (outputEl) {{\n",
       "    x.observe(outputEl, {childList: true});\n",
       "}}\n",
       "\n",
       "                        })\n",
       "                };\n",
       "                });\n",
       "            </script>\n",
       "        </div>"
      ]
     },
     "metadata": {},
     "output_type": "display_data"
    }
   ],
   "source": [
    "# Interactive plot of time series\n",
    "data.loc[:end_train, 'partition'] = 'train'\n",
    "data.loc[end_train:end_validation, 'partition'] = 'validation'\n",
    "data.loc[end_validation:, 'partition'] = 'test'\n",
    "\n",
    "fig = px.line(\n",
    "    data_frame = data.reset_index(),\n",
    "    x      = data.index,\n",
    "    y      = 'Close',\n",
    "    color  = 'partition',\n",
    "    title  = 'Number of users',\n",
    "    width  = 900,\n",
    "    height = 500\n",
    ")\n",
    "\n",
    "fig.update_xaxes(\n",
    "    rangeslider_visible=True,\n",
    "    rangeselector=dict(\n",
    "        buttons=list([\n",
    "            dict(count=1, label=\"YTD\", step=\"year\", stepmode=\"todate\"),\n",
    "            dict(count=1, label=\"1y\", step=\"year\", stepmode=\"backward\"),\n",
    "            dict(step=\"all\")\n",
    "        ])\n",
    "    )\n",
    ")\n",
    "\n",
    "fig.show()\n",
    "\n",
    "data=data.drop(columns='partition')"
   ]
  },
  {
   "cell_type": "code",
   "execution_count": 136,
   "metadata": {},
   "outputs": [
    {
     "data": {
      "image/png": "[encoded data removed]",
      "text/plain": [
       "<Figure size 720x216 with 1 Axes>"
      ]
     },
     "metadata": {
      "needs_background": "light"
     },
     "output_type": "display_data"
    }
   ],
   "source": [
    "# Boxplot chart for daily \"seasonality\"\n",
    "fig, ax = plt.subplots(figsize=(10, 3))\n",
    "mean_day_hour = data.groupby([\"D\", \"H\"])[\"Close\"].mean()\n",
    "q25_dia_hora = data.groupby([\"D\", \"H\"])[\"Close\"].quantile(0.25)\n",
    "q75_dia_hora = data.groupby([\"D\", \"H\"])[\"Close\"].quantile(0.75)\n",
    "\n",
    "mean_day_hour.plot(ax=ax, label='mean')\n",
    "q25_dia_hora.plot(ax=ax, linestyle='dashed', color='gray', label='')\n",
    "q75_dia_hora.plot(ax=ax, linestyle='dashed', color='gray', label='cuantil 25 y 75')\n",
    "\n",
    "\n",
    "ax.set(\n",
    ")\n",
    "\n",
    "ax.legend();"
   ]
  },
  {
   "cell_type": "code",
   "execution_count": 137,
   "metadata": {},
   "outputs": [
    {
     "data": {
      "image/png": "[encoded data removed]",
      "text/plain": [
       "<Figure size 504x216 with 1 Axes>"
      ]
     },
     "metadata": {
      "needs_background": "light"
     },
     "output_type": "display_data"
    }
   ],
   "source": [
    "#Autocorrelation plot\n",
    "fig, ax = plt.subplots(figsize=(7, 3))\n",
    "plot_acf(data['Close'], ax=ax, lags=72)\n",
    "plt.show()"
   ]
  },
  {
   "cell_type": "code",
   "execution_count": 138,
   "metadata": {},
   "outputs": [
    {
     "data": {
      "image/png": "[encoded data removed]",
      "text/plain": [
       "<Figure size 504x216 with 1 Axes>"
      ]
     },
     "metadata": {
      "needs_background": "light"
     },
     "output_type": "display_data"
    }
   ],
   "source": [
    "#Partial autocorrelation plot\n",
    "fig, ax = plt.subplots(figsize=(7, 3))\n",
    "plot_pacf(data['Close'], ax=ax, lags=72, method='ywm')\n",
    "plt.show()"
   ]
  },
  {
   "cell_type": "code",
   "execution_count": 220,
   "metadata": {},
   "outputs": [
    {
     "data": {
      "text/plain": [
       "================= \n",
       "ForecasterAutoreg \n",
       "================= \n",
       "Regressor: <catboost.core.CatBoostRegressor object at 0x7fea341a6a10> \n",
       "Lags: [ 1  2  3  4  5  6  7  8  9 10 11 12 13 14 15 16 17 18 19 20 21 22 23 24\n",
       " 25] \n",
       "Window size: 25 \n",
       "Included exogenous: False \n",
       "Type of exogenous variable: None \n",
       "Exogenous variables names: None \n",
       "Training range: None \n",
       "Training index type: None \n",
       "Training index frequency: None \n",
       "Regressor parameters: {'l2_leaf_reg': 1, 'loss_function': 'RMSE', 'silent': True, 'random_state': 123} \n",
       "Creation date: 2022-04-05 15:21:48 \n",
       "Last fit date: None \n",
       "Skforecast version: 0.4.3 "
      ]
     },
     "execution_count": 220,
     "metadata": {},
     "output_type": "execute_result"
    }
   ],
   "source": [
    "#Creation of a forecaster\n",
    "forecaster = ForecasterAutoreg(\n",
    "                regressor = CatBoostRegressor(random_state=123, silent=True, l2_leaf_reg=1),\n",
    "                lags = 25\n",
    "                )\n",
    "\n",
    "forecaster"
   ]
  },
  {
   "cell_type": "code",
   "execution_count": 357,
   "metadata": {},
   "outputs": [
    {
     "data": {
      "text/plain": [
       "Index(['Open', 'High', 'Low', 'Close', 'Adj Close', 'Volume', 'Close_SP500',\n",
       "       'Close_raw_Close_SP500', 'D', 'M', 'H', 'lag_Close_raw_Close_SP500',\n",
       "       'lag_Close_SP500', 'retweet_count', 'reply_count', 'like_count',\n",
       "       'quote_count', 'Negative', 'Positive', 'Neutral', 'number'],\n",
       "      dtype='object')"
      ]
     },
     "execution_count": 357,
     "metadata": {},
     "output_type": "execute_result"
    }
   ],
   "source": [
    "data['number'] = (list(range(1,len(data)+1)))\n",
    "data.columns"
   ]
  },
  {
   "cell_type": "code",
   "execution_count": 230,
   "metadata": {},
   "outputs": [
    {
     "name": "stdout",
     "output_type": "stream",
     "text": [
      "Number of models compared: 189\n"
     ]
    },
    {
     "name": "stderr",
     "output_type": "stream",
     "text": [
      "loop lags_grid:   0%|                                               | 0/7 [00:00<?, ?it/s]\n",
      "loop param_grid:   0%|                                             | 0/27 [00:00<?, ?it/s]\u001b[A\n",
      "loop param_grid:   4%|█▎                                   | 1/27 [00:00<00:11,  2.26it/s]\u001b[A\n",
      "loop param_grid:   7%|██▋                                  | 2/27 [00:00<00:11,  2.27it/s]\u001b[A\n",
      "loop param_grid:  11%|████                                 | 3/27 [00:01<00:11,  2.11it/s]\u001b[A\n",
      "loop param_grid:  15%|█████▍                               | 4/27 [00:01<00:10,  2.25it/s]\u001b[A\n",
      "loop param_grid:  19%|██████▊                              | 5/27 [00:02<00:11,  1.92it/s]\u001b[A\n",
      "loop param_grid:  22%|████████▏                            | 6/27 [00:03<00:13,  1.54it/s]\u001b[A\n",
      "loop param_grid:  26%|█████████▌                           | 7/27 [00:05<00:23,  1.17s/it]\u001b[A\n",
      "loop param_grid:  30%|██████████▉                          | 8/27 [00:11<00:52,  2.79s/it]\u001b[A\n",
      "loop param_grid:  33%|████████████▎                        | 9/27 [00:21<01:30,  5.01s/it]\u001b[A\n",
      "loop param_grid:  37%|█████████████▎                      | 10/27 [00:22<01:00,  3.56s/it]\u001b[A\n",
      "loop param_grid:  41%|██████████████▋                     | 11/27 [00:22<00:41,  2.61s/it]\u001b[A\n",
      "loop param_grid:  44%|████████████████                    | 12/27 [00:23<00:29,  1.99s/it]\u001b[A\n",
      "loop param_grid:  48%|█████████████████▎                  | 13/27 [00:23<00:21,  1.51s/it]\u001b[A\n",
      "loop param_grid:  52%|██████████████████▋                 | 14/27 [00:24<00:16,  1.26s/it]\u001b[A\n",
      "loop param_grid:  56%|████████████████████                | 15/27 [00:25<00:14,  1.17s/it]\u001b[A\n",
      "loop param_grid:  59%|█████████████████████▎              | 16/27 [00:27<00:16,  1.51s/it]\u001b[A\n",
      "loop param_grid:  63%|██████████████████████▋             | 17/27 [00:33<00:29,  2.99s/it]\u001b[A\n",
      "loop param_grid:  67%|████████████████████████            | 18/27 [00:44<00:47,  5.31s/it]\u001b[A\n",
      "loop param_grid:  70%|█████████████████████████▎          | 19/27 [00:44<00:30,  3.82s/it]\u001b[A\n",
      "loop param_grid:  74%|██████████████████████████▋         | 20/27 [00:45<00:19,  2.81s/it]\u001b[A\n",
      "loop param_grid:  78%|████████████████████████████        | 21/27 [00:45<00:12,  2.14s/it]\u001b[A\n",
      "loop param_grid:  81%|█████████████████████████████▎      | 22/27 [00:46<00:08,  1.64s/it]\u001b[A\n",
      "loop param_grid:  85%|██████████████████████████████▋     | 23/27 [00:47<00:05,  1.36s/it]\u001b[A\n",
      "loop param_grid:  89%|████████████████████████████████    | 24/27 [00:48<00:03,  1.25s/it]\u001b[A\n",
      "loop param_grid:  93%|█████████████████████████████████▎  | 25/27 [00:50<00:03,  1.57s/it]\u001b[A\n",
      "loop param_grid:  96%|██████████████████████████████████▋ | 26/27 [00:56<00:03,  3.06s/it]\u001b[A\n",
      "loop param_grid: 100%|████████████████████████████████████| 27/27 [01:07<00:00,  5.33s/it]\u001b[A\n",
      "loop lags_grid:  14%|█████▌                                 | 1/7 [01:07<06:45, 67.61s/it]\u001b[A\n",
      "loop param_grid:   0%|                                             | 0/27 [00:00<?, ?it/s]\u001b[A\n",
      "loop param_grid:   4%|█▎                                   | 1/27 [00:00<00:09,  2.65it/s]\u001b[A\n",
      "loop param_grid:   7%|██▋                                  | 2/27 [00:00<00:10,  2.29it/s]\u001b[A\n",
      "loop param_grid:  11%|████                                 | 3/27 [00:01<00:11,  2.04it/s]\u001b[A\n",
      "loop param_grid:  15%|█████▍                               | 4/27 [00:01<00:10,  2.12it/s]\u001b[A\n",
      "loop param_grid:  19%|██████▊                              | 5/27 [00:02<00:12,  1.78it/s]\u001b[A\n",
      "loop param_grid:  22%|████████▏                            | 6/27 [00:03<00:14,  1.40it/s]\u001b[A\n",
      "loop param_grid:  26%|█████████▌                           | 7/27 [00:06<00:26,  1.32s/it]\u001b[A\n",
      "loop param_grid:  30%|██████████▉                          | 8/27 [00:14<01:08,  3.61s/it]\u001b[A\n",
      "loop param_grid:  33%|████████████▎                        | 9/27 [00:27<01:58,  6.61s/it]\u001b[A\n",
      "loop param_grid:  37%|█████████████▎                      | 10/27 [00:28<01:19,  4.68s/it]\u001b[A\n",
      "loop param_grid:  41%|██████████████▋                     | 11/27 [00:28<00:54,  3.39s/it]\u001b[A\n",
      "loop param_grid:  44%|████████████████                    | 12/27 [00:29<00:37,  2.53s/it]\u001b[A\n",
      "loop param_grid:  48%|█████████████████▎                  | 13/27 [00:29<00:26,  1.90s/it]\u001b[A\n",
      "loop param_grid:  52%|██████████████████▋                 | 14/27 [00:30<00:19,  1.53s/it]\u001b[A\n",
      "loop param_grid:  56%|████████████████████                | 15/27 [00:31<00:16,  1.37s/it]\u001b[A\n",
      "loop param_grid:  59%|█████████████████████▎              | 16/27 [00:34<00:19,  1.75s/it]\u001b[A\n",
      "loop param_grid:  63%|██████████████████████▋             | 17/27 [00:41<00:34,  3.40s/it]\u001b[A\n",
      "loop param_grid:  67%|████████████████████████            | 18/27 [00:53<00:53,  6.00s/it]\u001b[A\n",
      "loop param_grid:  70%|█████████████████████████▎          | 19/27 [00:53<00:34,  4.30s/it]\u001b[A\n",
      "loop param_grid:  74%|██████████████████████████▋         | 20/27 [00:54<00:22,  3.15s/it]\u001b[A\n",
      "loop param_grid:  78%|████████████████████████████        | 21/27 [00:54<00:14,  2.39s/it]\u001b[A\n",
      "loop param_grid:  81%|█████████████████████████████▎      | 22/27 [00:55<00:08,  1.80s/it]\u001b[A\n",
      "loop param_grid:  85%|██████████████████████████████▋     | 23/27 [00:55<00:05,  1.48s/it]\u001b[A\n",
      "loop param_grid:  89%|████████████████████████████████    | 24/27 [00:56<00:03,  1.33s/it]\u001b[A\n",
      "loop param_grid:  93%|█████████████████████████████████▎  | 25/27 [00:59<00:03,  1.69s/it]\u001b[A\n",
      "loop param_grid:  96%|██████████████████████████████████▋ | 26/27 [01:06<00:03,  3.34s/it]\u001b[A\n",
      "loop param_grid: 100%|████████████████████████████████████| 27/27 [01:18<00:00,  5.89s/it]\u001b[A\n",
      "loop lags_grid:  29%|███████████▏                           | 2/7 [02:26<06:09, 73.98s/it]\u001b[A\n",
      "loop param_grid:   0%|                                             | 0/27 [00:00<?, ?it/s]\u001b[A\n",
      "loop param_grid:   4%|█▎                                   | 1/27 [00:00<00:08,  2.98it/s]\u001b[A\n",
      "loop param_grid:   7%|██▋                                  | 2/27 [00:00<00:10,  2.45it/s]\u001b[A\n",
      "loop param_grid:  11%|████                                 | 3/27 [00:01<00:11,  2.11it/s]\u001b[A\n",
      "loop param_grid:  15%|█████▍                               | 4/27 [00:01<00:10,  2.22it/s]\u001b[A\n",
      "loop param_grid:  19%|██████▊                              | 5/27 [00:02<00:12,  1.80it/s]\u001b[A\n",
      "loop param_grid:  22%|████████▏                            | 6/27 [00:03<00:15,  1.39it/s]\u001b[A\n",
      "loop param_grid:  26%|█████████▌                           | 7/27 [00:06<00:27,  1.36s/it]\u001b[A\n",
      "loop param_grid:  30%|██████████▉                          | 8/27 [00:13<01:03,  3.32s/it]\u001b[A\n",
      "loop param_grid:  33%|████████████▎                        | 9/27 [00:26<01:54,  6.36s/it]\u001b[A\n",
      "loop param_grid:  37%|█████████████▎                      | 10/27 [00:27<01:16,  4.50s/it]\u001b[A\n",
      "loop param_grid:  41%|██████████████▋                     | 11/27 [00:27<00:52,  3.25s/it]\u001b[A\n",
      "loop param_grid:  44%|████████████████                    | 12/27 [00:28<00:36,  2.44s/it]\u001b[A\n",
      "loop param_grid:  48%|█████████████████▎                  | 13/27 [00:28<00:25,  1.82s/it]\u001b[A\n",
      "loop param_grid:  52%|██████████████████▋                 | 14/27 [00:29<00:19,  1.49s/it]\u001b[A\n",
      "loop param_grid:  56%|████████████████████                | 15/27 [00:30<00:16,  1.35s/it]\u001b[A\n",
      "loop param_grid:  59%|█████████████████████▎              | 16/27 [00:32<00:19,  1.74s/it]\u001b[A\n",
      "loop param_grid:  63%|██████████████████████▋             | 17/27 [00:40<00:34,  3.48s/it]\u001b[A\n",
      "loop param_grid:  67%|████████████████████████            | 18/27 [00:52<00:55,  6.19s/it]\u001b[A\n",
      "loop param_grid:  70%|█████████████████████████▎          | 19/27 [00:53<00:35,  4.43s/it]\u001b[A\n",
      "loop param_grid:  74%|██████████████████████████▋         | 20/27 [00:53<00:22,  3.23s/it]\u001b[A\n",
      "loop param_grid:  78%|████████████████████████████        | 21/27 [00:54<00:14,  2.42s/it]\u001b[A\n",
      "loop param_grid:  81%|█████████████████████████████▎      | 22/27 [00:54<00:09,  1.82s/it]\u001b[A\n",
      "loop param_grid:  85%|██████████████████████████████▋     | 23/27 [00:55<00:05,  1.49s/it]\u001b[A\n",
      "loop param_grid:  89%|████████████████████████████████    | 24/27 [00:56<00:04,  1.35s/it]\u001b[A\n",
      "loop param_grid:  93%|█████████████████████████████████▎  | 25/27 [00:59<00:03,  1.75s/it]\u001b[A\n",
      "loop param_grid:  96%|██████████████████████████████████▋ | 26/27 [01:06<00:03,  3.49s/it]\u001b[A\n",
      "loop param_grid: 100%|████████████████████████████████████| 27/27 [01:19<00:00,  6.26s/it]\u001b[A\n",
      "loop lags_grid:  43%|████████████████▋                      | 3/7 [03:45<05:05, 76.44s/it]\u001b[A\n",
      "loop param_grid:   0%|                                             | 0/27 [00:00<?, ?it/s]\u001b[A\n",
      "loop param_grid:   4%|█▎                                   | 1/27 [00:00<00:10,  2.56it/s]\u001b[A\n",
      "loop param_grid:   7%|██▋                                  | 2/27 [00:00<00:10,  2.36it/s]\u001b[A\n",
      "loop param_grid:  11%|████                                 | 3/27 [00:01<00:11,  2.09it/s]\u001b[A\n",
      "loop param_grid:  15%|█████▍                               | 4/27 [00:01<00:10,  2.17it/s]\u001b[A\n",
      "loop param_grid:  19%|██████▊                              | 5/27 [00:02<00:12,  1.77it/s]\u001b[A\n",
      "loop param_grid:  22%|████████▏                            | 6/27 [00:03<00:15,  1.35it/s]\u001b[A\n",
      "loop param_grid:  26%|█████████▌                           | 7/27 [00:06<00:29,  1.46s/it]\u001b[A\n",
      "loop param_grid:  30%|██████████▉                          | 8/27 [00:14<01:09,  3.65s/it]\u001b[A\n",
      "loop param_grid:  33%|████████████▎                        | 9/27 [00:28<02:01,  6.78s/it]\u001b[A\n",
      "loop param_grid:  37%|█████████████▎                      | 10/27 [00:28<01:21,  4.79s/it]\u001b[A\n",
      "loop param_grid:  41%|██████████████▋                     | 11/27 [00:29<00:55,  3.46s/it]\u001b[A\n",
      "loop param_grid:  44%|████████████████                    | 12/27 [00:29<00:38,  2.59s/it]\u001b[A\n",
      "loop param_grid:  48%|█████████████████▎                  | 13/27 [00:30<00:27,  1.94s/it]\u001b[A\n",
      "loop param_grid:  52%|██████████████████▋                 | 14/27 [00:31<00:20,  1.58s/it]\u001b[A\n",
      "loop param_grid:  56%|████████████████████                | 15/27 [00:32<00:17,  1.43s/it]\u001b[A\n",
      "loop param_grid:  59%|█████████████████████▎              | 16/27 [00:35<00:20,  1.88s/it]\u001b[A\n",
      "loop param_grid:  63%|██████████████████████▋             | 17/27 [00:44<00:41,  4.14s/it]\u001b[A\n",
      "loop param_grid:  67%|████████████████████████            | 18/27 [01:02<01:13,  8.21s/it]\u001b[A\n",
      "loop param_grid:  70%|█████████████████████████▎          | 19/27 [01:02<00:46,  5.84s/it]\u001b[A\n",
      "loop param_grid:  74%|██████████████████████████▋         | 20/27 [01:02<00:29,  4.21s/it]\u001b[A\n",
      "loop param_grid:  78%|████████████████████████████        | 21/27 [01:03<00:18,  3.10s/it]\u001b[A\n",
      "loop param_grid:  81%|█████████████████████████████▎      | 22/27 [01:03<00:11,  2.30s/it]\u001b[A\n",
      "loop param_grid:  85%|██████████████████████████████▋     | 23/27 [01:04<00:07,  1.83s/it]\u001b[A\n",
      "loop param_grid:  89%|████████████████████████████████    | 24/27 [01:05<00:04,  1.60s/it]\u001b[A\n",
      "loop param_grid:  93%|█████████████████████████████████▎  | 25/27 [01:08<00:03,  1.99s/it]\u001b[A\n",
      "loop param_grid:  96%|██████████████████████████████████▋ | 26/27 [01:16<00:03,  3.90s/it]\u001b[A\n",
      "loop param_grid: 100%|████████████████████████████████████| 27/27 [01:30<00:00,  6.86s/it]\u001b[A\n",
      "loop lags_grid:  57%|██████████████████████▎                | 4/7 [05:16<04:06, 82.09s/it]\u001b[A\n",
      "loop param_grid:   0%|                                             | 0/27 [00:00<?, ?it/s]\u001b[A\n",
      "loop param_grid:   4%|█▎                                   | 1/27 [00:00<00:09,  2.81it/s]\u001b[A\n",
      "loop param_grid:   7%|██▋                                  | 2/27 [00:00<00:10,  2.49it/s]\u001b[A\n",
      "loop param_grid:  11%|████                                 | 3/27 [00:01<00:11,  2.13it/s]\u001b[A\n",
      "loop param_grid:  15%|█████▍                               | 4/27 [00:01<00:10,  2.16it/s]\u001b[A\n",
      "loop param_grid:  19%|██████▊                              | 5/27 [00:02<00:13,  1.66it/s]\u001b[A\n",
      "loop param_grid:  22%|████████▏                            | 6/27 [00:03<00:17,  1.22it/s]\u001b[A\n",
      "loop param_grid:  26%|█████████▌                           | 7/27 [00:07<00:36,  1.81s/it]\u001b[A\n",
      "loop param_grid:  30%|██████████▉                          | 8/27 [00:18<01:30,  4.77s/it]\u001b[A\n",
      "loop param_grid:  33%|████████████▎                        | 9/27 [00:37<02:44,  9.15s/it]\u001b[A\n",
      "loop param_grid:  37%|█████████████▎                      | 10/27 [00:38<01:49,  6.45s/it]\u001b[A\n",
      "loop param_grid:  41%|██████████████▋                     | 11/27 [00:38<01:14,  4.66s/it]\u001b[A\n",
      "loop param_grid:  44%|████████████████                    | 12/27 [00:39<00:52,  3.48s/it]\u001b[A\n",
      "loop param_grid:  48%|█████████████████▎                  | 13/27 [00:40<00:37,  2.71s/it]\u001b[A\n",
      "loop param_grid:  52%|██████████████████▋                 | 14/27 [00:41<00:30,  2.35s/it]\u001b[A\n",
      "loop param_grid:  56%|████████████████████                | 15/27 [00:43<00:24,  2.03s/it]\u001b[A\n",
      "loop param_grid:  59%|█████████████████████▎              | 16/27 [00:46<00:28,  2.57s/it]\u001b[A\n",
      "loop param_grid:  63%|██████████████████████▋             | 17/27 [00:57<00:50,  5.08s/it]\u001b[A\n",
      "loop param_grid:  67%|████████████████████████            | 18/27 [01:16<01:20,  9.00s/it]\u001b[A\n",
      "loop param_grid:  70%|█████████████████████████▎          | 19/27 [01:16<00:51,  6.39s/it]\u001b[A\n",
      "loop param_grid:  74%|██████████████████████████▋         | 20/27 [01:16<00:32,  4.61s/it]\u001b[A\n",
      "loop param_grid:  78%|████████████████████████████        | 21/27 [01:17<00:20,  3.39s/it]\u001b[A\n",
      "loop param_grid:  81%|█████████████████████████████▎      | 22/27 [01:17<00:12,  2.51s/it]\u001b[A\n",
      "loop param_grid:  85%|██████████████████████████████▋     | 23/27 [01:18<00:08,  2.01s/it]\u001b[A\n",
      "loop param_grid:  89%|████████████████████████████████    | 24/27 [01:19<00:05,  1.79s/it]\u001b[A\n",
      "loop param_grid:  93%|█████████████████████████████████▎  | 25/27 [01:23<00:04,  2.40s/it]\u001b[A\n",
      "loop param_grid:  96%|██████████████████████████████████▋ | 26/27 [01:35<00:05,  5.08s/it]\u001b[A\n",
      "loop param_grid: 100%|████████████████████████████████████| 27/27 [01:53<00:00,  9.19s/it]\u001b[A\n",
      "loop lags_grid:  71%|███████████████████████████▊           | 5/7 [07:10<03:07, 93.55s/it]\u001b[A\n",
      "loop param_grid:   0%|                                             | 0/27 [00:00<?, ?it/s]\u001b[A\n",
      "loop param_grid:   4%|█▎                                   | 1/27 [00:00<00:10,  2.59it/s]\u001b[A\n",
      "loop param_grid:   7%|██▋                                  | 2/27 [00:00<00:10,  2.34it/s]\u001b[A\n",
      "loop param_grid:  11%|████                                 | 3/27 [00:01<00:11,  2.01it/s]\u001b[A\n",
      "loop param_grid:  15%|█████▍                               | 4/27 [00:01<00:11,  1.98it/s]\u001b[A\n",
      "loop param_grid:  19%|██████▊                              | 5/27 [00:02<00:15,  1.47it/s]\u001b[A\n",
      "loop param_grid:  22%|████████▏                            | 6/27 [00:04<00:20,  1.03it/s]\u001b[A\n",
      "loop param_grid:  26%|█████████▌                           | 7/27 [00:09<00:43,  2.18s/it]\u001b[A\n",
      "loop param_grid:  30%|██████████▉                          | 8/27 [00:22<01:50,  5.80s/it]\u001b[A\n",
      "loop param_grid:  33%|████████████▎                        | 9/27 [00:44<03:16, 10.90s/it]\u001b[A\n",
      "loop param_grid:  37%|█████████████▎                      | 10/27 [00:45<02:09,  7.64s/it]\u001b[A\n",
      "loop param_grid:  41%|██████████████▋                     | 11/27 [00:45<01:27,  5.45s/it]\u001b[A\n",
      "loop param_grid:  44%|████████████████                    | 12/27 [00:46<00:59,  3.97s/it]\u001b[A\n",
      "loop param_grid:  48%|█████████████████▎                  | 13/27 [00:46<00:40,  2.92s/it]\u001b[A\n",
      "loop param_grid:  52%|██████████████████▋                 | 14/27 [00:47<00:30,  2.34s/it]\u001b[A\n",
      "loop param_grid:  56%|████████████████████                | 15/27 [00:49<00:25,  2.10s/it]\u001b[A\n",
      "loop param_grid:  59%|█████████████████████▎              | 16/27 [00:54<00:33,  3.07s/it]\u001b[A\n",
      "loop param_grid:  63%|██████████████████████▋             | 17/27 [01:08<01:01,  6.19s/it]\u001b[A\n",
      "loop param_grid:  67%|████████████████████████            | 18/27 [01:31<01:42, 11.38s/it]\u001b[A\n",
      "loop param_grid:  70%|█████████████████████████▎          | 19/27 [01:31<01:04,  8.06s/it]\u001b[A\n",
      "loop param_grid:  74%|██████████████████████████▋         | 20/27 [01:32<00:40,  5.79s/it]\u001b[A\n",
      "loop param_grid:  78%|████████████████████████████        | 21/27 [01:32<00:25,  4.23s/it]\u001b[A\n",
      "loop param_grid:  81%|█████████████████████████████▎      | 22/27 [01:33<00:15,  3.12s/it]\u001b[A\n",
      "loop param_grid:  85%|██████████████████████████████▋     | 23/27 [01:34<00:10,  2.57s/it]\u001b[A\n",
      "loop param_grid:  89%|████████████████████████████████    | 24/27 [01:36<00:06,  2.29s/it]\u001b[A\n",
      "loop param_grid:  93%|█████████████████████████████████▎  | 25/27 [01:41<00:06,  3.00s/it]\u001b[A\n",
      "loop param_grid:  96%|██████████████████████████████████▋ | 26/27 [01:55<00:06,  6.48s/it]\u001b[A\n",
      "loop param_grid: 100%|████████████████████████████████████| 27/27 [02:17<00:00, 11.22s/it]\u001b[A\n"
     ]
    },
    {
     "name": "stderr",
     "output_type": "stream",
     "text": [
      "loop lags_grid:  86%|████████████████████████████████▌     | 6/7 [09:27<01:48, 108.64s/it]\u001b[A\n",
      "loop param_grid:   0%|                                             | 0/27 [00:00<?, ?it/s]\u001b[A\n",
      "loop param_grid:   4%|█▎                                   | 1/27 [00:00<00:10,  2.49it/s]\u001b[A\n",
      "loop param_grid:   7%|██▋                                  | 2/27 [00:00<00:11,  2.26it/s]\u001b[A\n",
      "loop param_grid:  11%|████                                 | 3/27 [00:01<00:12,  1.94it/s]\u001b[A\n",
      "loop param_grid:  15%|█████▍                               | 4/27 [00:02<00:12,  1.87it/s]\u001b[A\n",
      "loop param_grid:  19%|██████▊                              | 5/27 [00:03<00:17,  1.27it/s]\u001b[A\n",
      "loop param_grid:  22%|████████▏                            | 6/27 [00:05<00:25,  1.19s/it]\u001b[A\n",
      "loop param_grid:  26%|█████████▌                           | 7/27 [00:11<00:54,  2.74s/it]\u001b[A\n",
      "loop param_grid:  30%|██████████▉                          | 8/27 [00:26<02:10,  6.84s/it]\u001b[A\n",
      "loop param_grid:  33%|████████████▎                        | 9/27 [00:55<04:04, 13.60s/it]\u001b[A\n",
      "loop param_grid:  37%|█████████████▎                      | 10/27 [00:55<02:41,  9.51s/it]\u001b[A\n",
      "loop param_grid:  41%|██████████████▋                     | 11/27 [00:56<01:48,  6.75s/it]\u001b[A\n",
      "loop param_grid:  44%|████████████████                    | 12/27 [00:56<01:13,  4.88s/it]\u001b[A\n",
      "loop param_grid:  48%|█████████████████▎                  | 13/27 [00:57<00:49,  3.57s/it]\u001b[A\n",
      "loop param_grid:  52%|██████████████████▋                 | 14/27 [00:58<00:36,  2.83s/it]\u001b[A\n",
      "loop param_grid:  56%|████████████████████                | 15/27 [01:00<00:29,  2.48s/it]\u001b[A\n",
      "loop param_grid:  59%|█████████████████████▎              | 16/27 [01:05<00:36,  3.36s/it]\u001b[A\n",
      "loop param_grid:  63%|██████████████████████▋             | 17/27 [01:21<01:11,  7.18s/it]\u001b[A\n",
      "loop param_grid:  67%|████████████████████████            | 18/27 [01:49<02:01, 13.45s/it]\u001b[A\n",
      "loop param_grid:  70%|█████████████████████████▎          | 19/27 [01:49<01:16,  9.54s/it]\u001b[A\n",
      "loop param_grid:  74%|██████████████████████████▋         | 20/27 [01:50<00:48,  6.87s/it]\u001b[A\n",
      "loop param_grid:  78%|████████████████████████████        | 21/27 [01:51<00:30,  5.06s/it]\u001b[A\n",
      "loop param_grid:  81%|█████████████████████████████▎      | 22/27 [01:52<00:18,  3.77s/it]\u001b[A\n",
      "loop param_grid:  85%|██████████████████████████████▋     | 23/27 [01:53<00:12,  3.12s/it]\u001b[A\n",
      "loop param_grid:  89%|████████████████████████████████    | 24/27 [01:55<00:08,  2.73s/it]\u001b[A\n",
      "loop param_grid:  93%|█████████████████████████████████▎  | 25/27 [02:03<00:08,  4.20s/it]\u001b[A\n",
      "loop param_grid:  96%|██████████████████████████████████▋ | 26/27 [02:22<00:08,  8.79s/it]\u001b[A\n",
      "loop param_grid: 100%|████████████████████████████████████| 27/27 [02:54<00:00, 15.73s/it]\u001b[A\n",
      "loop lags_grid: 100%|██████████████████████████████████████| 7/7 [12:22<00:00, 106.10s/it]\u001b[A\n"
     ]
    },
    {
     "name": "stdout",
     "output_type": "stream",
     "text": [
      "`Forecaster` refitted using the best-found lags and parameters, and the whole data set: \n",
      "  Lags: [ 1  2  3  4  5  6  7  8  9 10] \n",
      "  Parameters: {'learning_rate': 0.1, 'max_depth': 1, 'n_estimators': 300}\n",
      "  Backtesting metric: 7.821055002181836e-08\n",
      "\n"
     ]
    }
   ],
   "source": [
    "#Let's set the hyperparameters\n",
    "param_grid = {\n",
    "    'n_estimators': [100, 300, 500],\n",
    "    'max_depth': [1, 5, 10],\n",
    "    'learning_rate': [0.01, 0.1, 0.15]\n",
    "    }\n",
    "\n",
    "# Lags used as predictors\n",
    "lags_grid = [1, 2, 3, 5, 10, 15, 20]\n",
    "\n",
    "results_grid = grid_search_forecaster(\n",
    "                        forecaster         = forecaster,\n",
    "                        y                  = data.loc[:end_validation, 'Close'],\n",
    "                        exog               = data[['D', 'H', 'lag_Close_raw_Close_SP500',\n",
    "       'lag_Close_SP500', 'retweet_count', 'reply_count', 'like_count',\n",
    "       'quote_count', 'Negative', 'Positive', 'Neutral', 'number']].loc[:end_validation],\n",
    "                        param_grid         = param_grid,\n",
    "                        lags_grid          = lags_grid,\n",
    "                        steps              = 14,\n",
    "                        refit              = False,\n",
    "                        metric             = 'mean_squared_error',\n",
    "                        initial_train_size = int(len(data_train)),\n",
    "                        fixed_train_size   = False,\n",
    "                        return_best        = True,\n",
    "                        verbose            = False\n",
    "                        )"
   ]
  },
  {
   "cell_type": "code",
   "execution_count": 231,
   "metadata": {},
   "outputs": [
    {
     "data": {
      "text/html": [
       "<div>\n",
       "<style scoped>\n",
       "    .dataframe tbody tr th:only-of-type {\n",
       "        vertical-align: middle;\n",
       "    }\n",
       "\n",
       "    .dataframe tbody tr th {\n",
       "        vertical-align: top;\n",
       "    }\n",
       "\n",
       "    .dataframe thead th {\n",
       "        text-align: right;\n",
       "    }\n",
       "</style>\n",
       "<table border=\"1\" class=\"dataframe\">\n",
       "  <thead>\n",
       "    <tr style=\"text-align: right;\">\n",
       "      <th></th>\n",
       "      <th>lags</th>\n",
       "      <th>params</th>\n",
       "      <th>metric</th>\n",
       "      <th>learning_rate</th>\n",
       "      <th>max_depth</th>\n",
       "      <th>n_estimators</th>\n",
       "    </tr>\n",
       "  </thead>\n",
       "  <tbody>\n",
       "    <tr>\n",
       "      <th>118</th>\n",
       "      <td>[1, 2, 3, 4, 5, 6, 7, 8, 9, 10]</td>\n",
       "      <td>{'learning_rate': 0.1, 'max_depth': 1, 'n_esti...</td>\n",
       "      <td>7.821055e-08</td>\n",
       "      <td>0.10</td>\n",
       "      <td>1.0</td>\n",
       "      <td>300.0</td>\n",
       "    </tr>\n",
       "    <tr>\n",
       "      <th>127</th>\n",
       "      <td>[1, 2, 3, 4, 5, 6, 7, 8, 9, 10]</td>\n",
       "      <td>{'learning_rate': 0.15, 'max_depth': 1, 'n_est...</td>\n",
       "      <td>7.862906e-08</td>\n",
       "      <td>0.15</td>\n",
       "      <td>1.0</td>\n",
       "      <td>300.0</td>\n",
       "    </tr>\n",
       "    <tr>\n",
       "      <th>116</th>\n",
       "      <td>[1, 2, 3, 4, 5, 6, 7, 8, 9, 10]</td>\n",
       "      <td>{'learning_rate': 0.01, 'max_depth': 10, 'n_es...</td>\n",
       "      <td>7.886367e-08</td>\n",
       "      <td>0.01</td>\n",
       "      <td>10.0</td>\n",
       "      <td>500.0</td>\n",
       "    </tr>\n",
       "    <tr>\n",
       "      <th>115</th>\n",
       "      <td>[1, 2, 3, 4, 5, 6, 7, 8, 9, 10]</td>\n",
       "      <td>{'learning_rate': 0.01, 'max_depth': 10, 'n_es...</td>\n",
       "      <td>7.900574e-08</td>\n",
       "      <td>0.01</td>\n",
       "      <td>10.0</td>\n",
       "      <td>300.0</td>\n",
       "    </tr>\n",
       "    <tr>\n",
       "      <th>117</th>\n",
       "      <td>[1, 2, 3, 4, 5, 6, 7, 8, 9, 10]</td>\n",
       "      <td>{'learning_rate': 0.1, 'max_depth': 1, 'n_esti...</td>\n",
       "      <td>7.905489e-08</td>\n",
       "      <td>0.10</td>\n",
       "      <td>1.0</td>\n",
       "      <td>100.0</td>\n",
       "    </tr>\n",
       "    <tr>\n",
       "      <th>113</th>\n",
       "      <td>[1, 2, 3, 4, 5, 6, 7, 8, 9, 10]</td>\n",
       "      <td>{'learning_rate': 0.01, 'max_depth': 5, 'n_est...</td>\n",
       "      <td>7.912068e-08</td>\n",
       "      <td>0.01</td>\n",
       "      <td>5.0</td>\n",
       "      <td>500.0</td>\n",
       "    </tr>\n",
       "    <tr>\n",
       "      <th>156</th>\n",
       "      <td>[1, 2, 3, 4, 5, 6, 7, 8, 9, 10, 11, 12, 13, 14...</td>\n",
       "      <td>{'learning_rate': 0.15, 'max_depth': 5, 'n_est...</td>\n",
       "      <td>7.926348e-08</td>\n",
       "      <td>0.15</td>\n",
       "      <td>5.0</td>\n",
       "      <td>100.0</td>\n",
       "    </tr>\n",
       "    <tr>\n",
       "      <th>167</th>\n",
       "      <td>[1, 2, 3, 4, 5, 6, 7, 8, 9, 10, 11, 12, 13, 14...</td>\n",
       "      <td>{'learning_rate': 0.01, 'max_depth': 5, 'n_est...</td>\n",
       "      <td>7.947945e-08</td>\n",
       "      <td>0.01</td>\n",
       "      <td>5.0</td>\n",
       "      <td>500.0</td>\n",
       "    </tr>\n",
       "    <tr>\n",
       "      <th>155</th>\n",
       "      <td>[1, 2, 3, 4, 5, 6, 7, 8, 9, 10, 11, 12, 13, 14...</td>\n",
       "      <td>{'learning_rate': 0.15, 'max_depth': 1, 'n_est...</td>\n",
       "      <td>7.954293e-08</td>\n",
       "      <td>0.15</td>\n",
       "      <td>1.0</td>\n",
       "      <td>500.0</td>\n",
       "    </tr>\n",
       "    <tr>\n",
       "      <th>128</th>\n",
       "      <td>[1, 2, 3, 4, 5, 6, 7, 8, 9, 10]</td>\n",
       "      <td>{'learning_rate': 0.15, 'max_depth': 1, 'n_est...</td>\n",
       "      <td>7.961391e-08</td>\n",
       "      <td>0.15</td>\n",
       "      <td>1.0</td>\n",
       "      <td>500.0</td>\n",
       "    </tr>\n",
       "    <tr>\n",
       "      <th>119</th>\n",
       "      <td>[1, 2, 3, 4, 5, 6, 7, 8, 9, 10]</td>\n",
       "      <td>{'learning_rate': 0.1, 'max_depth': 1, 'n_esti...</td>\n",
       "      <td>7.967242e-08</td>\n",
       "      <td>0.10</td>\n",
       "      <td>1.0</td>\n",
       "      <td>500.0</td>\n",
       "    </tr>\n",
       "    <tr>\n",
       "      <th>142</th>\n",
       "      <td>[1, 2, 3, 4, 5, 6, 7, 8, 9, 10, 11, 12, 13, 14...</td>\n",
       "      <td>{'learning_rate': 0.01, 'max_depth': 10, 'n_es...</td>\n",
       "      <td>7.969787e-08</td>\n",
       "      <td>0.01</td>\n",
       "      <td>10.0</td>\n",
       "      <td>300.0</td>\n",
       "    </tr>\n",
       "    <tr>\n",
       "      <th>182</th>\n",
       "      <td>[1, 2, 3, 4, 5, 6, 7, 8, 9, 10, 11, 12, 13, 14...</td>\n",
       "      <td>{'learning_rate': 0.15, 'max_depth': 1, 'n_est...</td>\n",
       "      <td>7.971428e-08</td>\n",
       "      <td>0.15</td>\n",
       "      <td>1.0</td>\n",
       "      <td>500.0</td>\n",
       "    </tr>\n",
       "    <tr>\n",
       "      <th>112</th>\n",
       "      <td>[1, 2, 3, 4, 5, 6, 7, 8, 9, 10]</td>\n",
       "      <td>{'learning_rate': 0.01, 'max_depth': 5, 'n_est...</td>\n",
       "      <td>7.971791e-08</td>\n",
       "      <td>0.01</td>\n",
       "      <td>5.0</td>\n",
       "      <td>300.0</td>\n",
       "    </tr>\n",
       "    <tr>\n",
       "      <th>126</th>\n",
       "      <td>[1, 2, 3, 4, 5, 6, 7, 8, 9, 10]</td>\n",
       "      <td>{'learning_rate': 0.15, 'max_depth': 1, 'n_est...</td>\n",
       "      <td>7.976761e-08</td>\n",
       "      <td>0.15</td>\n",
       "      <td>1.0</td>\n",
       "      <td>100.0</td>\n",
       "    </tr>\n",
       "  </tbody>\n",
       "</table>\n",
       "</div>"
      ],
      "text/plain": [
       "                                                  lags  \\\n",
       "118                    [1, 2, 3, 4, 5, 6, 7, 8, 9, 10]   \n",
       "127                    [1, 2, 3, 4, 5, 6, 7, 8, 9, 10]   \n",
       "116                    [1, 2, 3, 4, 5, 6, 7, 8, 9, 10]   \n",
       "115                    [1, 2, 3, 4, 5, 6, 7, 8, 9, 10]   \n",
       "117                    [1, 2, 3, 4, 5, 6, 7, 8, 9, 10]   \n",
       "113                    [1, 2, 3, 4, 5, 6, 7, 8, 9, 10]   \n",
       "156  [1, 2, 3, 4, 5, 6, 7, 8, 9, 10, 11, 12, 13, 14...   \n",
       "167  [1, 2, 3, 4, 5, 6, 7, 8, 9, 10, 11, 12, 13, 14...   \n",
       "155  [1, 2, 3, 4, 5, 6, 7, 8, 9, 10, 11, 12, 13, 14...   \n",
       "128                    [1, 2, 3, 4, 5, 6, 7, 8, 9, 10]   \n",
       "119                    [1, 2, 3, 4, 5, 6, 7, 8, 9, 10]   \n",
       "142  [1, 2, 3, 4, 5, 6, 7, 8, 9, 10, 11, 12, 13, 14...   \n",
       "182  [1, 2, 3, 4, 5, 6, 7, 8, 9, 10, 11, 12, 13, 14...   \n",
       "112                    [1, 2, 3, 4, 5, 6, 7, 8, 9, 10]   \n",
       "126                    [1, 2, 3, 4, 5, 6, 7, 8, 9, 10]   \n",
       "\n",
       "                                                params        metric  \\\n",
       "118  {'learning_rate': 0.1, 'max_depth': 1, 'n_esti...  7.821055e-08   \n",
       "127  {'learning_rate': 0.15, 'max_depth': 1, 'n_est...  7.862906e-08   \n",
       "116  {'learning_rate': 0.01, 'max_depth': 10, 'n_es...  7.886367e-08   \n",
       "115  {'learning_rate': 0.01, 'max_depth': 10, 'n_es...  7.900574e-08   \n",
       "117  {'learning_rate': 0.1, 'max_depth': 1, 'n_esti...  7.905489e-08   \n",
       "113  {'learning_rate': 0.01, 'max_depth': 5, 'n_est...  7.912068e-08   \n",
       "156  {'learning_rate': 0.15, 'max_depth': 5, 'n_est...  7.926348e-08   \n",
       "167  {'learning_rate': 0.01, 'max_depth': 5, 'n_est...  7.947945e-08   \n",
       "155  {'learning_rate': 0.15, 'max_depth': 1, 'n_est...  7.954293e-08   \n",
       "128  {'learning_rate': 0.15, 'max_depth': 1, 'n_est...  7.961391e-08   \n",
       "119  {'learning_rate': 0.1, 'max_depth': 1, 'n_esti...  7.967242e-08   \n",
       "142  {'learning_rate': 0.01, 'max_depth': 10, 'n_es...  7.969787e-08   \n",
       "182  {'learning_rate': 0.15, 'max_depth': 1, 'n_est...  7.971428e-08   \n",
       "112  {'learning_rate': 0.01, 'max_depth': 5, 'n_est...  7.971791e-08   \n",
       "126  {'learning_rate': 0.15, 'max_depth': 1, 'n_est...  7.976761e-08   \n",
       "\n",
       "     learning_rate  max_depth  n_estimators  \n",
       "118           0.10        1.0         300.0  \n",
       "127           0.15        1.0         300.0  \n",
       "116           0.01       10.0         500.0  \n",
       "115           0.01       10.0         300.0  \n",
       "117           0.10        1.0         100.0  \n",
       "113           0.01        5.0         500.0  \n",
       "156           0.15        5.0         100.0  \n",
       "167           0.01        5.0         500.0  \n",
       "155           0.15        1.0         500.0  \n",
       "128           0.15        1.0         500.0  \n",
       "119           0.10        1.0         500.0  \n",
       "142           0.01       10.0         300.0  \n",
       "182           0.15        1.0         500.0  \n",
       "112           0.01        5.0         300.0  \n",
       "126           0.15        1.0         100.0  "
      ]
     },
     "execution_count": 231,
     "metadata": {},
     "output_type": "execute_result"
    }
   ],
   "source": [
    "results_grid.head(15)"
   ]
  },
  {
   "cell_type": "code",
   "execution_count": 232,
   "metadata": {},
   "outputs": [
    {
     "name": "stdout",
     "output_type": "stream",
     "text": [
      "Backtest error: 1.6286195744920907e-07\n"
     ]
    }
   ],
   "source": [
    "#Backtesting\n",
    "metric, predictions = backtesting_forecaster(\n",
    "    forecaster = forecaster,\n",
    "    y          = data['Close'],\n",
    "    initial_train_size = len(data.loc[:end_validation]),\n",
    "    fixed_train_size   = False,\n",
    "    steps      = 36,\n",
    "    refit      = False,\n",
    "    metric     = 'mean_squared_error',\n",
    "    verbose    = False\n",
    "    )\n",
    "\n",
    "print(f\"Backtest error: {metric}\")"
   ]
  },
  {
   "cell_type": "code",
   "execution_count": 233,
   "metadata": {},
   "outputs": [
    {
     "data": {
      "text/html": [
       "<div>\n",
       "<style scoped>\n",
       "    .dataframe tbody tr th:only-of-type {\n",
       "        vertical-align: middle;\n",
       "    }\n",
       "\n",
       "    .dataframe tbody tr th {\n",
       "        vertical-align: top;\n",
       "    }\n",
       "\n",
       "    .dataframe thead th {\n",
       "        text-align: right;\n",
       "    }\n",
       "</style>\n",
       "<table border=\"1\" class=\"dataframe\">\n",
       "  <thead>\n",
       "    <tr style=\"text-align: right;\">\n",
       "      <th></th>\n",
       "      <th>pred</th>\n",
       "    </tr>\n",
       "  </thead>\n",
       "  <tbody>\n",
       "    <tr>\n",
       "      <th>10</th>\n",
       "      <td>-0.000044</td>\n",
       "    </tr>\n",
       "    <tr>\n",
       "      <th>11</th>\n",
       "      <td>-0.000044</td>\n",
       "    </tr>\n",
       "    <tr>\n",
       "      <th>12</th>\n",
       "      <td>-0.000028</td>\n",
       "    </tr>\n",
       "    <tr>\n",
       "      <th>13</th>\n",
       "      <td>-0.000015</td>\n",
       "    </tr>\n",
       "    <tr>\n",
       "      <th>14</th>\n",
       "      <td>-0.000035</td>\n",
       "    </tr>\n",
       "    <tr>\n",
       "      <th>15</th>\n",
       "      <td>-0.000023</td>\n",
       "    </tr>\n",
       "    <tr>\n",
       "      <th>16</th>\n",
       "      <td>-0.000026</td>\n",
       "    </tr>\n",
       "    <tr>\n",
       "      <th>17</th>\n",
       "      <td>-0.000059</td>\n",
       "    </tr>\n",
       "    <tr>\n",
       "      <th>18</th>\n",
       "      <td>-0.000023</td>\n",
       "    </tr>\n",
       "    <tr>\n",
       "      <th>19</th>\n",
       "      <td>-0.000029</td>\n",
       "    </tr>\n",
       "    <tr>\n",
       "      <th>20</th>\n",
       "      <td>-0.000023</td>\n",
       "    </tr>\n",
       "    <tr>\n",
       "      <th>21</th>\n",
       "      <td>-0.000029</td>\n",
       "    </tr>\n",
       "    <tr>\n",
       "      <th>22</th>\n",
       "      <td>-0.000023</td>\n",
       "    </tr>\n",
       "    <tr>\n",
       "      <th>23</th>\n",
       "      <td>-0.000029</td>\n",
       "    </tr>\n",
       "  </tbody>\n",
       "</table>\n",
       "</div>"
      ],
      "text/plain": [
       "        pred\n",
       "10 -0.000044\n",
       "11 -0.000044\n",
       "12 -0.000028\n",
       "13 -0.000015\n",
       "14 -0.000035\n",
       "15 -0.000023\n",
       "16 -0.000026\n",
       "17 -0.000059\n",
       "18 -0.000023\n",
       "19 -0.000029\n",
       "20 -0.000023\n",
       "21 -0.000029\n",
       "22 -0.000023\n",
       "23 -0.000029"
      ]
     },
     "execution_count": 233,
     "metadata": {},
     "output_type": "execute_result"
    }
   ],
   "source": [
    "predictions"
   ]
  },
  {
   "cell_type": "code",
   "execution_count": 234,
   "metadata": {},
   "outputs": [
    {
     "data": {
      "text/html": [
       "<div>\n",
       "<style scoped>\n",
       "    .dataframe tbody tr th:only-of-type {\n",
       "        vertical-align: middle;\n",
       "    }\n",
       "\n",
       "    .dataframe tbody tr th {\n",
       "        vertical-align: top;\n",
       "    }\n",
       "\n",
       "    .dataframe thead th {\n",
       "        text-align: right;\n",
       "    }\n",
       "</style>\n",
       "<table border=\"1\" class=\"dataframe\">\n",
       "  <thead>\n",
       "    <tr style=\"text-align: right;\">\n",
       "      <th></th>\n",
       "      <th>feature</th>\n",
       "      <th>importance</th>\n",
       "    </tr>\n",
       "  </thead>\n",
       "  <tbody>\n",
       "    <tr>\n",
       "      <th>0</th>\n",
       "      <td>lag_1</td>\n",
       "      <td>9.652957</td>\n",
       "    </tr>\n",
       "    <tr>\n",
       "      <th>1</th>\n",
       "      <td>lag_2</td>\n",
       "      <td>2.559125</td>\n",
       "    </tr>\n",
       "    <tr>\n",
       "      <th>2</th>\n",
       "      <td>lag_3</td>\n",
       "      <td>1.379316</td>\n",
       "    </tr>\n",
       "    <tr>\n",
       "      <th>3</th>\n",
       "      <td>lag_4</td>\n",
       "      <td>2.578763</td>\n",
       "    </tr>\n",
       "    <tr>\n",
       "      <th>4</th>\n",
       "      <td>lag_5</td>\n",
       "      <td>3.469787</td>\n",
       "    </tr>\n",
       "    <tr>\n",
       "      <th>5</th>\n",
       "      <td>lag_6</td>\n",
       "      <td>1.718524</td>\n",
       "    </tr>\n",
       "    <tr>\n",
       "      <th>6</th>\n",
       "      <td>lag_7</td>\n",
       "      <td>0.499019</td>\n",
       "    </tr>\n",
       "    <tr>\n",
       "      <th>7</th>\n",
       "      <td>lag_8</td>\n",
       "      <td>2.027037</td>\n",
       "    </tr>\n",
       "    <tr>\n",
       "      <th>8</th>\n",
       "      <td>lag_9</td>\n",
       "      <td>2.971633</td>\n",
       "    </tr>\n",
       "    <tr>\n",
       "      <th>9</th>\n",
       "      <td>lag_10</td>\n",
       "      <td>2.234782</td>\n",
       "    </tr>\n",
       "    <tr>\n",
       "      <th>10</th>\n",
       "      <td>D</td>\n",
       "      <td>0.000000</td>\n",
       "    </tr>\n",
       "    <tr>\n",
       "      <th>11</th>\n",
       "      <td>H</td>\n",
       "      <td>0.719947</td>\n",
       "    </tr>\n",
       "    <tr>\n",
       "      <th>12</th>\n",
       "      <td>lag_Close_raw_Close_SP500</td>\n",
       "      <td>2.945368</td>\n",
       "    </tr>\n",
       "    <tr>\n",
       "      <th>13</th>\n",
       "      <td>lag_Close_SP500</td>\n",
       "      <td>64.103157</td>\n",
       "    </tr>\n",
       "    <tr>\n",
       "      <th>14</th>\n",
       "      <td>retweet_count</td>\n",
       "      <td>0.000000</td>\n",
       "    </tr>\n",
       "    <tr>\n",
       "      <th>15</th>\n",
       "      <td>reply_count</td>\n",
       "      <td>0.000000</td>\n",
       "    </tr>\n",
       "    <tr>\n",
       "      <th>16</th>\n",
       "      <td>like_count</td>\n",
       "      <td>0.000000</td>\n",
       "    </tr>\n",
       "    <tr>\n",
       "      <th>17</th>\n",
       "      <td>quote_count</td>\n",
       "      <td>0.000000</td>\n",
       "    </tr>\n",
       "    <tr>\n",
       "      <th>18</th>\n",
       "      <td>Negative</td>\n",
       "      <td>0.631431</td>\n",
       "    </tr>\n",
       "    <tr>\n",
       "      <th>19</th>\n",
       "      <td>Positive</td>\n",
       "      <td>0.327454</td>\n",
       "    </tr>\n",
       "    <tr>\n",
       "      <th>20</th>\n",
       "      <td>Neutral</td>\n",
       "      <td>0.000000</td>\n",
       "    </tr>\n",
       "    <tr>\n",
       "      <th>21</th>\n",
       "      <td>number</td>\n",
       "      <td>2.181702</td>\n",
       "    </tr>\n",
       "  </tbody>\n",
       "</table>\n",
       "</div>"
      ],
      "text/plain": [
       "                      feature  importance\n",
       "0                       lag_1    9.652957\n",
       "1                       lag_2    2.559125\n",
       "2                       lag_3    1.379316\n",
       "3                       lag_4    2.578763\n",
       "4                       lag_5    3.469787\n",
       "5                       lag_6    1.718524\n",
       "6                       lag_7    0.499019\n",
       "7                       lag_8    2.027037\n",
       "8                       lag_9    2.971633\n",
       "9                      lag_10    2.234782\n",
       "10                          D    0.000000\n",
       "11                          H    0.719947\n",
       "12  lag_Close_raw_Close_SP500    2.945368\n",
       "13            lag_Close_SP500   64.103157\n",
       "14              retweet_count    0.000000\n",
       "15                reply_count    0.000000\n",
       "16                 like_count    0.000000\n",
       "17                quote_count    0.000000\n",
       "18                   Negative    0.631431\n",
       "19                   Positive    0.327454\n",
       "20                    Neutral    0.000000\n",
       "21                     number    2.181702"
      ]
     },
     "execution_count": 234,
     "metadata": {},
     "output_type": "execute_result"
    }
   ],
   "source": [
    "importance = forecaster.get_feature_importance()\n",
    "importance"
   ]
  },
  {
   "cell_type": "code",
   "execution_count": 239,
   "metadata": {},
   "outputs": [],
   "source": [
    "predictions = predictions.set_index((pd.DataFrame(data_test['Close']).index))"
   ]
  },
  {
   "cell_type": "code",
   "execution_count": 240,
   "metadata": {},
   "outputs": [],
   "source": [
    "result = pd.concat([predictions, pd.DataFrame(data_test['Close'])], axis=1)"
   ]
  },
  {
   "cell_type": "code",
   "execution_count": 241,
   "metadata": {},
   "outputs": [
    {
     "data": {
      "text/html": [
       "<div>\n",
       "<style scoped>\n",
       "    .dataframe tbody tr th:only-of-type {\n",
       "        vertical-align: middle;\n",
       "    }\n",
       "\n",
       "    .dataframe tbody tr th {\n",
       "        vertical-align: top;\n",
       "    }\n",
       "\n",
       "    .dataframe thead th {\n",
       "        text-align: right;\n",
       "    }\n",
       "</style>\n",
       "<table border=\"1\" class=\"dataframe\">\n",
       "  <thead>\n",
       "    <tr style=\"text-align: right;\">\n",
       "      <th></th>\n",
       "      <th>pred</th>\n",
       "      <th>Close</th>\n",
       "    </tr>\n",
       "    <tr>\n",
       "      <th>time_stamp_key</th>\n",
       "      <th></th>\n",
       "      <th></th>\n",
       "    </tr>\n",
       "  </thead>\n",
       "  <tbody>\n",
       "    <tr>\n",
       "      <th>2022-04-04 15:36</th>\n",
       "      <td>-0.000044</td>\n",
       "      <td>-0.000034</td>\n",
       "    </tr>\n",
       "    <tr>\n",
       "      <th>2022-04-04 15:37</th>\n",
       "      <td>-0.000044</td>\n",
       "      <td>-0.000352</td>\n",
       "    </tr>\n",
       "    <tr>\n",
       "      <th>2022-04-04 15:38</th>\n",
       "      <td>-0.000028</td>\n",
       "      <td>-0.000246</td>\n",
       "    </tr>\n",
       "    <tr>\n",
       "      <th>2022-04-04 15:39</th>\n",
       "      <td>-0.000015</td>\n",
       "      <td>-0.000295</td>\n",
       "    </tr>\n",
       "    <tr>\n",
       "      <th>2022-04-04 15:40</th>\n",
       "      <td>-0.000035</td>\n",
       "      <td>0.000256</td>\n",
       "    </tr>\n",
       "    <tr>\n",
       "      <th>2022-04-04 15:41</th>\n",
       "      <td>-0.000023</td>\n",
       "      <td>0.000290</td>\n",
       "    </tr>\n",
       "    <tr>\n",
       "      <th>2022-04-04 15:42</th>\n",
       "      <td>-0.000026</td>\n",
       "      <td>-0.000519</td>\n",
       "    </tr>\n",
       "    <tr>\n",
       "      <th>2022-04-04 15:43</th>\n",
       "      <td>-0.000059</td>\n",
       "      <td>-0.000636</td>\n",
       "    </tr>\n",
       "    <tr>\n",
       "      <th>2022-04-04 15:44</th>\n",
       "      <td>-0.000023</td>\n",
       "      <td>0.000358</td>\n",
       "    </tr>\n",
       "    <tr>\n",
       "      <th>2022-04-04 15:45</th>\n",
       "      <td>-0.000029</td>\n",
       "      <td>0.000046</td>\n",
       "    </tr>\n",
       "    <tr>\n",
       "      <th>2022-04-04 15:46</th>\n",
       "      <td>-0.000023</td>\n",
       "      <td>0.000717</td>\n",
       "    </tr>\n",
       "    <tr>\n",
       "      <th>2022-04-04 15:47</th>\n",
       "      <td>-0.000029</td>\n",
       "      <td>0.000275</td>\n",
       "    </tr>\n",
       "    <tr>\n",
       "      <th>2022-04-04 15:48</th>\n",
       "      <td>-0.000023</td>\n",
       "      <td>0.000640</td>\n",
       "    </tr>\n",
       "    <tr>\n",
       "      <th>2022-04-04 15:49</th>\n",
       "      <td>-0.000029</td>\n",
       "      <td>0.000232</td>\n",
       "    </tr>\n",
       "  </tbody>\n",
       "</table>\n",
       "</div>"
      ],
      "text/plain": [
       "                      pred     Close\n",
       "time_stamp_key                      \n",
       "2022-04-04 15:36 -0.000044 -0.000034\n",
       "2022-04-04 15:37 -0.000044 -0.000352\n",
       "2022-04-04 15:38 -0.000028 -0.000246\n",
       "2022-04-04 15:39 -0.000015 -0.000295\n",
       "2022-04-04 15:40 -0.000035  0.000256\n",
       "2022-04-04 15:41 -0.000023  0.000290\n",
       "2022-04-04 15:42 -0.000026 -0.000519\n",
       "2022-04-04 15:43 -0.000059 -0.000636\n",
       "2022-04-04 15:44 -0.000023  0.000358\n",
       "2022-04-04 15:45 -0.000029  0.000046\n",
       "2022-04-04 15:46 -0.000023  0.000717\n",
       "2022-04-04 15:47 -0.000029  0.000275\n",
       "2022-04-04 15:48 -0.000023  0.000640\n",
       "2022-04-04 15:49 -0.000029  0.000232"
      ]
     },
     "execution_count": 241,
     "metadata": {},
     "output_type": "execute_result"
    }
   ],
   "source": [
    "result"
   ]
  },
  {
   "cell_type": "code",
   "execution_count": 243,
   "metadata": {},
   "outputs": [
    {
     "data": {
      "application/vnd.plotly.v1+json": {
       "config": {
        "plotlyServerURL": "https://plot.ly"
       },
       "data": [
        {
         "hovertemplate": "time_stamp_key=%{x}<br>pred=%{y}<extra></extra>",
         "legendgroup": "",
         "line": {
          "color": "#636efa",
          "dash": "solid"
         },
         "mode": "lines",
         "name": "",
         "orientation": "v",
         "showlegend": false,
         "type": "scatter",
         "x": [
          "2022-04-04 15:36",
          "2022-04-04 15:37",
          "2022-04-04 15:38",
          "2022-04-04 15:39",
          "2022-04-04 15:40",
          "2022-04-04 15:41",
          "2022-04-04 15:42",
          "2022-04-04 15:43",
          "2022-04-04 15:44",
          "2022-04-04 15:45",
          "2022-04-04 15:46",
          "2022-04-04 15:47",
          "2022-04-04 15:48",
          "2022-04-04 15:49"
         ],
         "xaxis": "x",
         "y": [
          -4.449427412281354e-05,
          -4.4299805651234416e-05,
          -2.7767997016182975e-05,
          -1.5178646548675461e-05,
          -3.4776310029078114e-05,
          -2.3220709834315284e-05,
          -2.6065601932758722e-05,
          -5.858775430832944e-05,
          -2.3220709834315284e-05,
          -2.9459016203467923e-05,
          -2.3220709834315284e-05,
          -2.9459016203467923e-05,
          -2.3220709834315284e-05,
          -2.9459016203467923e-05
         ],
         "yaxis": "y"
        }
       ],
       "layout": {
        "legend": {
         "tracegroupgap": 0
        },
        "margin": {
         "t": 60
        },
        "template": {
         "data": {
          "bar": [
           {
            "error_x": {
             "color": "#2a3f5f"
            },
            "error_y": {
             "color": "#2a3f5f"
            },
            "marker": {
             "line": {
              "color": "#E5ECF6",
              "width": 0.5
             }
            },
            "type": "bar"
           }
          ],
          "barpolar": [
           {
            "marker": {
             "line": {
              "color": "#E5ECF6",
              "width": 0.5
             }
            },
            "type": "barpolar"
           }
          ],
          "carpet": [
           {
            "aaxis": {
             "endlinecolor": "#2a3f5f",
             "gridcolor": "white",
             "linecolor": "white",
             "minorgridcolor": "white",
             "startlinecolor": "#2a3f5f"
            },
            "baxis": {
             "endlinecolor": "#2a3f5f",
             "gridcolor": "white",
             "linecolor": "white",
             "minorgridcolor": "white",
             "startlinecolor": "#2a3f5f"
            },
            "type": "carpet"
           }
          ],
          "choropleth": [
           {
            "colorbar": {
             "outlinewidth": 0,
             "ticks": ""
            },
            "type": "choropleth"
           }
          ],
          "contour": [
           {
            "colorbar": {
             "outlinewidth": 0,
             "ticks": ""
            },
            "colorscale": [
             [
              0,
              "#0d0887"
             ],
             [
              0.1111111111111111,
              "#46039f"
             ],
             [
              0.2222222222222222,
              "#7201a8"
             ],
             [
              0.3333333333333333,
              "#9c179e"
             ],
             [
              0.4444444444444444,
              "#bd3786"
             ],
             [
              0.5555555555555556,
              "#d8576b"
             ],
             [
              0.6666666666666666,
              "#ed7953"
             ],
             [
              0.7777777777777778,
              "#fb9f3a"
             ],
             [
              0.8888888888888888,
              "#fdca26"
             ],
             [
              1,
              "#f0f921"
             ]
            ],
            "type": "contour"
           }
          ],
          "contourcarpet": [
           {
            "colorbar": {
             "outlinewidth": 0,
             "ticks": ""
            },
            "type": "contourcarpet"
           }
          ],
          "heatmap": [
           {
            "colorbar": {
             "outlinewidth": 0,
             "ticks": ""
            },
            "colorscale": [
             [
              0,
              "#0d0887"
             ],
             [
              0.1111111111111111,
              "#46039f"
             ],
             [
              0.2222222222222222,
              "#7201a8"
             ],
             [
              0.3333333333333333,
              "#9c179e"
             ],
             [
              0.4444444444444444,
              "#bd3786"
             ],
             [
              0.5555555555555556,
              "#d8576b"
             ],
             [
              0.6666666666666666,
              "#ed7953"
             ],
             [
              0.7777777777777778,
              "#fb9f3a"
             ],
             [
              0.8888888888888888,
              "#fdca26"
             ],
             [
              1,
              "#f0f921"
             ]
            ],
            "type": "heatmap"
           }
          ],
          "heatmapgl": [
           {
            "colorbar": {
             "outlinewidth": 0,
             "ticks": ""
            },
            "colorscale": [
             [
              0,
              "#0d0887"
             ],
             [
              0.1111111111111111,
              "#46039f"
             ],
             [
              0.2222222222222222,
              "#7201a8"
             ],
             [
              0.3333333333333333,
              "#9c179e"
             ],
             [
              0.4444444444444444,
              "#bd3786"
             ],
             [
              0.5555555555555556,
              "#d8576b"
             ],
             [
              0.6666666666666666,
              "#ed7953"
             ],
             [
              0.7777777777777778,
              "#fb9f3a"
             ],
             [
              0.8888888888888888,
              "#fdca26"
             ],
             [
              1,
              "#f0f921"
             ]
            ],
            "type": "heatmapgl"
           }
          ],
          "histogram": [
           {
            "marker": {
             "colorbar": {
              "outlinewidth": 0,
              "ticks": ""
             }
            },
            "type": "histogram"
           }
          ],
          "histogram2d": [
           {
            "colorbar": {
             "outlinewidth": 0,
             "ticks": ""
            },
            "colorscale": [
             [
              0,
              "#0d0887"
             ],
             [
              0.1111111111111111,
              "#46039f"
             ],
             [
              0.2222222222222222,
              "#7201a8"
             ],
             [
              0.3333333333333333,
              "#9c179e"
             ],
             [
              0.4444444444444444,
              "#bd3786"
             ],
             [
              0.5555555555555556,
              "#d8576b"
             ],
             [
              0.6666666666666666,
              "#ed7953"
             ],
             [
              0.7777777777777778,
              "#fb9f3a"
             ],
             [
              0.8888888888888888,
              "#fdca26"
             ],
             [
              1,
              "#f0f921"
             ]
            ],
            "type": "histogram2d"
           }
          ],
          "histogram2dcontour": [
           {
            "colorbar": {
             "outlinewidth": 0,
             "ticks": ""
            },
            "colorscale": [
             [
              0,
              "#0d0887"
             ],
             [
              0.1111111111111111,
              "#46039f"
             ],
             [
              0.2222222222222222,
              "#7201a8"
             ],
             [
              0.3333333333333333,
              "#9c179e"
             ],
             [
              0.4444444444444444,
              "#bd3786"
             ],
             [
              0.5555555555555556,
              "#d8576b"
             ],
             [
              0.6666666666666666,
              "#ed7953"
             ],
             [
              0.7777777777777778,
              "#fb9f3a"
             ],
             [
              0.8888888888888888,
              "#fdca26"
             ],
             [
              1,
              "#f0f921"
             ]
            ],
            "type": "histogram2dcontour"
           }
          ],
          "mesh3d": [
           {
            "colorbar": {
             "outlinewidth": 0,
             "ticks": ""
            },
            "type": "mesh3d"
           }
          ],
          "parcoords": [
           {
            "line": {
             "colorbar": {
              "outlinewidth": 0,
              "ticks": ""
             }
            },
            "type": "parcoords"
           }
          ],
          "pie": [
           {
            "automargin": true,
            "type": "pie"
           }
          ],
          "scatter": [
           {
            "marker": {
             "colorbar": {
              "outlinewidth": 0,
              "ticks": ""
             }
            },
            "type": "scatter"
           }
          ],
          "scatter3d": [
           {
            "line": {
             "colorbar": {
              "outlinewidth": 0,
              "ticks": ""
             }
            },
            "marker": {
             "colorbar": {
              "outlinewidth": 0,
              "ticks": ""
             }
            },
            "type": "scatter3d"
           }
          ],
          "scattercarpet": [
           {
            "marker": {
             "colorbar": {
              "outlinewidth": 0,
              "ticks": ""
             }
            },
            "type": "scattercarpet"
           }
          ],
          "scattergeo": [
           {
            "marker": {
             "colorbar": {
              "outlinewidth": 0,
              "ticks": ""
             }
            },
            "type": "scattergeo"
           }
          ],
          "scattergl": [
           {
            "marker": {
             "colorbar": {
              "outlinewidth": 0,
              "ticks": ""
             }
            },
            "type": "scattergl"
           }
          ],
          "scattermapbox": [
           {
            "marker": {
             "colorbar": {
              "outlinewidth": 0,
              "ticks": ""
             }
            },
            "type": "scattermapbox"
           }
          ],
          "scatterpolar": [
           {
            "marker": {
             "colorbar": {
              "outlinewidth": 0,
              "ticks": ""
             }
            },
            "type": "scatterpolar"
           }
          ],
          "scatterpolargl": [
           {
            "marker": {
             "colorbar": {
              "outlinewidth": 0,
              "ticks": ""
             }
            },
            "type": "scatterpolargl"
           }
          ],
          "scatterternary": [
           {
            "marker": {
             "colorbar": {
              "outlinewidth": 0,
              "ticks": ""
             }
            },
            "type": "scatterternary"
           }
          ],
          "surface": [
           {
            "colorbar": {
             "outlinewidth": 0,
             "ticks": ""
            },
            "colorscale": [
             [
              0,
              "#0d0887"
             ],
             [
              0.1111111111111111,
              "#46039f"
             ],
             [
              0.2222222222222222,
              "#7201a8"
             ],
             [
              0.3333333333333333,
              "#9c179e"
             ],
             [
              0.4444444444444444,
              "#bd3786"
             ],
             [
              0.5555555555555556,
              "#d8576b"
             ],
             [
              0.6666666666666666,
              "#ed7953"
             ],
             [
              0.7777777777777778,
              "#fb9f3a"
             ],
             [
              0.8888888888888888,
              "#fdca26"
             ],
             [
              1,
              "#f0f921"
             ]
            ],
            "type": "surface"
           }
          ],
          "table": [
           {
            "cells": {
             "fill": {
              "color": "#EBF0F8"
             },
             "line": {
              "color": "white"
             }
            },
            "header": {
             "fill": {
              "color": "#C8D4E3"
             },
             "line": {
              "color": "white"
             }
            },
            "type": "table"
           }
          ]
         },
         "layout": {
          "annotationdefaults": {
           "arrowcolor": "#2a3f5f",
           "arrowhead": 0,
           "arrowwidth": 1
          },
          "coloraxis": {
           "colorbar": {
            "outlinewidth": 0,
            "ticks": ""
           }
          },
          "colorscale": {
           "diverging": [
            [
             0,
             "#8e0152"
            ],
            [
             0.1,
             "#c51b7d"
            ],
            [
             0.2,
             "#de77ae"
            ],
            [
             0.3,
             "#f1b6da"
            ],
            [
             0.4,
             "#fde0ef"
            ],
            [
             0.5,
             "#f7f7f7"
            ],
            [
             0.6,
             "#e6f5d0"
            ],
            [
             0.7,
             "#b8e186"
            ],
            [
             0.8,
             "#7fbc41"
            ],
            [
             0.9,
             "#4d9221"
            ],
            [
             1,
             "#276419"
            ]
           ],
           "sequential": [
            [
             0,
             "#0d0887"
            ],
            [
             0.1111111111111111,
             "#46039f"
            ],
            [
             0.2222222222222222,
             "#7201a8"
            ],
            [
             0.3333333333333333,
             "#9c179e"
            ],
            [
             0.4444444444444444,
             "#bd3786"
            ],
            [
             0.5555555555555556,
             "#d8576b"
            ],
            [
             0.6666666666666666,
             "#ed7953"
            ],
            [
             0.7777777777777778,
             "#fb9f3a"
            ],
            [
             0.8888888888888888,
             "#fdca26"
            ],
            [
             1,
             "#f0f921"
            ]
           ],
           "sequentialminus": [
            [
             0,
             "#0d0887"
            ],
            [
             0.1111111111111111,
             "#46039f"
            ],
            [
             0.2222222222222222,
             "#7201a8"
            ],
            [
             0.3333333333333333,
             "#9c179e"
            ],
            [
             0.4444444444444444,
             "#bd3786"
            ],
            [
             0.5555555555555556,
             "#d8576b"
            ],
            [
             0.6666666666666666,
             "#ed7953"
            ],
            [
             0.7777777777777778,
             "#fb9f3a"
            ],
            [
             0.8888888888888888,
             "#fdca26"
            ],
            [
             1,
             "#f0f921"
            ]
           ]
          },
          "colorway": [
           "#636efa",
           "#EF553B",
           "#00cc96",
           "#ab63fa",
           "#FFA15A",
           "#19d3f3",
           "#FF6692",
           "#B6E880",
           "#FF97FF",
           "#FECB52"
          ],
          "font": {
           "color": "#2a3f5f"
          },
          "geo": {
           "bgcolor": "white",
           "lakecolor": "white",
           "landcolor": "#E5ECF6",
           "showlakes": true,
           "showland": true,
           "subunitcolor": "white"
          },
          "hoverlabel": {
           "align": "left"
          },
          "hovermode": "closest",
          "mapbox": {
           "style": "light"
          },
          "paper_bgcolor": "white",
          "plot_bgcolor": "#E5ECF6",
          "polar": {
           "angularaxis": {
            "gridcolor": "white",
            "linecolor": "white",
            "ticks": ""
           },
           "bgcolor": "#E5ECF6",
           "radialaxis": {
            "gridcolor": "white",
            "linecolor": "white",
            "ticks": ""
           }
          },
          "scene": {
           "xaxis": {
            "backgroundcolor": "#E5ECF6",
            "gridcolor": "white",
            "gridwidth": 2,
            "linecolor": "white",
            "showbackground": true,
            "ticks": "",
            "zerolinecolor": "white"
           },
           "yaxis": {
            "backgroundcolor": "#E5ECF6",
            "gridcolor": "white",
            "gridwidth": 2,
            "linecolor": "white",
            "showbackground": true,
            "ticks": "",
            "zerolinecolor": "white"
           },
           "zaxis": {
            "backgroundcolor": "#E5ECF6",
            "gridcolor": "white",
            "gridwidth": 2,
            "linecolor": "white",
            "showbackground": true,
            "ticks": "",
            "zerolinecolor": "white"
           }
          },
          "shapedefaults": {
           "line": {
            "color": "#2a3f5f"
           }
          },
          "ternary": {
           "aaxis": {
            "gridcolor": "white",
            "linecolor": "white",
            "ticks": ""
           },
           "baxis": {
            "gridcolor": "white",
            "linecolor": "white",
            "ticks": ""
           },
           "bgcolor": "#E5ECF6",
           "caxis": {
            "gridcolor": "white",
            "linecolor": "white",
            "ticks": ""
           }
          },
          "title": {
           "x": 0.05
          },
          "xaxis": {
           "automargin": true,
           "gridcolor": "white",
           "linecolor": "white",
           "ticks": "",
           "title": {
            "standoff": 15
           },
           "zerolinecolor": "white",
           "zerolinewidth": 2
          },
          "yaxis": {
           "automargin": true,
           "gridcolor": "white",
           "linecolor": "white",
           "ticks": "",
           "title": {
            "standoff": 15
           },
           "zerolinecolor": "white",
           "zerolinewidth": 2
          }
         }
        },
        "xaxis": {
         "anchor": "y",
         "domain": [
          0,
          1
         ],
         "title": {
          "text": "time_stamp_key"
         }
        },
        "yaxis": {
         "anchor": "x",
         "domain": [
          0,
          1
         ],
         "title": {
          "text": "pred"
         }
        }
       }
      },
      "text/html": [
       "<div>\n",
       "        \n",
       "        \n",
       "            <div id=\"ee95b1d9-04f7-40f3-8936-457374c43fc7\" class=\"plotly-graph-div\" style=\"height:525px; width:100%;\"></div>\n",
       "            <script type=\"text/javascript\">\n",
       "                require([\"plotly\"], function(Plotly) {\n",
       "                    window.PLOTLYENV=window.PLOTLYENV || {};\n",
       "                    \n",
       "                if (document.getElementById(\"ee95b1d9-04f7-40f3-8936-457374c43fc7\")) {\n",
       "                    Plotly.newPlot(\n",
       "                        'ee95b1d9-04f7-40f3-8936-457374c43fc7',\n",
       "                        [{\"hovertemplate\": \"time_stamp_key=%{x}<br>pred=%{y}<extra></extra>\", \"legendgroup\": \"\", \"line\": {\"color\": \"#636efa\", \"dash\": \"solid\"}, \"mode\": \"lines\", \"name\": \"\", \"orientation\": \"v\", \"showlegend\": false, \"type\": \"scatter\", \"x\": [\"2022-04-04 15:36\", \"2022-04-04 15:37\", \"2022-04-04 15:38\", \"2022-04-04 15:39\", \"2022-04-04 15:40\", \"2022-04-04 15:41\", \"2022-04-04 15:42\", \"2022-04-04 15:43\", \"2022-04-04 15:44\", \"2022-04-04 15:45\", \"2022-04-04 15:46\", \"2022-04-04 15:47\", \"2022-04-04 15:48\", \"2022-04-04 15:49\"], \"xaxis\": \"x\", \"y\": [-4.449427412281354e-05, -4.4299805651234416e-05, -2.7767997016182975e-05, -1.5178646548675461e-05, -3.4776310029078114e-05, -2.3220709834315284e-05, -2.6065601932758722e-05, -5.858775430832944e-05, -2.3220709834315284e-05, -2.9459016203467923e-05, -2.3220709834315284e-05, -2.9459016203467923e-05, -2.3220709834315284e-05, -2.9459016203467923e-05], \"yaxis\": \"y\"}],\n",
       "                        {\"legend\": {\"tracegroupgap\": 0}, \"margin\": {\"t\": 60}, \"template\": {\"data\": {\"bar\": [{\"error_x\": {\"color\": \"#2a3f5f\"}, \"error_y\": {\"color\": \"#2a3f5f\"}, \"marker\": {\"line\": {\"color\": \"#E5ECF6\", \"width\": 0.5}}, \"type\": \"bar\"}], \"barpolar\": [{\"marker\": {\"line\": {\"color\": \"#E5ECF6\", \"width\": 0.5}}, \"type\": \"barpolar\"}], \"carpet\": [{\"aaxis\": {\"endlinecolor\": \"#2a3f5f\", \"gridcolor\": \"white\", \"linecolor\": \"white\", \"minorgridcolor\": \"white\", \"startlinecolor\": \"#2a3f5f\"}, \"baxis\": {\"endlinecolor\": \"#2a3f5f\", \"gridcolor\": \"white\", \"linecolor\": \"white\", \"minorgridcolor\": \"white\", \"startlinecolor\": \"#2a3f5f\"}, \"type\": \"carpet\"}], \"choropleth\": [{\"colorbar\": {\"outlinewidth\": 0, \"ticks\": \"\"}, \"type\": \"choropleth\"}], \"contour\": [{\"colorbar\": {\"outlinewidth\": 0, \"ticks\": \"\"}, \"colorscale\": [[0.0, \"#0d0887\"], [0.1111111111111111, \"#46039f\"], [0.2222222222222222, \"#7201a8\"], [0.3333333333333333, \"#9c179e\"], [0.4444444444444444, \"#bd3786\"], [0.5555555555555556, \"#d8576b\"], [0.6666666666666666, \"#ed7953\"], [0.7777777777777778, \"#fb9f3a\"], [0.8888888888888888, \"#fdca26\"], [1.0, \"#f0f921\"]], \"type\": \"contour\"}], \"contourcarpet\": [{\"colorbar\": {\"outlinewidth\": 0, \"ticks\": \"\"}, \"type\": \"contourcarpet\"}], \"heatmap\": [{\"colorbar\": {\"outlinewidth\": 0, \"ticks\": \"\"}, \"colorscale\": [[0.0, \"#0d0887\"], [0.1111111111111111, \"#46039f\"], [0.2222222222222222, \"#7201a8\"], [0.3333333333333333, \"#9c179e\"], [0.4444444444444444, \"#bd3786\"], [0.5555555555555556, \"#d8576b\"], [0.6666666666666666, \"#ed7953\"], [0.7777777777777778, \"#fb9f3a\"], [0.8888888888888888, \"#fdca26\"], [1.0, \"#f0f921\"]], \"type\": \"heatmap\"}], \"heatmapgl\": [{\"colorbar\": {\"outlinewidth\": 0, \"ticks\": \"\"}, \"colorscale\": [[0.0, \"#0d0887\"], [0.1111111111111111, \"#46039f\"], [0.2222222222222222, \"#7201a8\"], [0.3333333333333333, \"#9c179e\"], [0.4444444444444444, \"#bd3786\"], [0.5555555555555556, \"#d8576b\"], [0.6666666666666666, \"#ed7953\"], [0.7777777777777778, \"#fb9f3a\"], [0.8888888888888888, \"#fdca26\"], [1.0, \"#f0f921\"]], \"type\": \"heatmapgl\"}], \"histogram\": [{\"marker\": {\"colorbar\": {\"outlinewidth\": 0, \"ticks\": \"\"}}, \"type\": \"histogram\"}], \"histogram2d\": [{\"colorbar\": {\"outlinewidth\": 0, \"ticks\": \"\"}, \"colorscale\": [[0.0, \"#0d0887\"], [0.1111111111111111, \"#46039f\"], [0.2222222222222222, \"#7201a8\"], [0.3333333333333333, \"#9c179e\"], [0.4444444444444444, \"#bd3786\"], [0.5555555555555556, \"#d8576b\"], [0.6666666666666666, \"#ed7953\"], [0.7777777777777778, \"#fb9f3a\"], [0.8888888888888888, \"#fdca26\"], [1.0, \"#f0f921\"]], \"type\": \"histogram2d\"}], \"histogram2dcontour\": [{\"colorbar\": {\"outlinewidth\": 0, \"ticks\": \"\"}, \"colorscale\": [[0.0, \"#0d0887\"], [0.1111111111111111, \"#46039f\"], [0.2222222222222222, \"#7201a8\"], [0.3333333333333333, \"#9c179e\"], [0.4444444444444444, \"#bd3786\"], [0.5555555555555556, \"#d8576b\"], [0.6666666666666666, \"#ed7953\"], [0.7777777777777778, \"#fb9f3a\"], [0.8888888888888888, \"#fdca26\"], [1.0, \"#f0f921\"]], \"type\": \"histogram2dcontour\"}], \"mesh3d\": [{\"colorbar\": {\"outlinewidth\": 0, \"ticks\": \"\"}, \"type\": \"mesh3d\"}], \"parcoords\": [{\"line\": {\"colorbar\": {\"outlinewidth\": 0, \"ticks\": \"\"}}, \"type\": \"parcoords\"}], \"pie\": [{\"automargin\": true, \"type\": \"pie\"}], \"scatter\": [{\"marker\": {\"colorbar\": {\"outlinewidth\": 0, \"ticks\": \"\"}}, \"type\": \"scatter\"}], \"scatter3d\": [{\"line\": {\"colorbar\": {\"outlinewidth\": 0, \"ticks\": \"\"}}, \"marker\": {\"colorbar\": {\"outlinewidth\": 0, \"ticks\": \"\"}}, \"type\": \"scatter3d\"}], \"scattercarpet\": [{\"marker\": {\"colorbar\": {\"outlinewidth\": 0, \"ticks\": \"\"}}, \"type\": \"scattercarpet\"}], \"scattergeo\": [{\"marker\": {\"colorbar\": {\"outlinewidth\": 0, \"ticks\": \"\"}}, \"type\": \"scattergeo\"}], \"scattergl\": [{\"marker\": {\"colorbar\": {\"outlinewidth\": 0, \"ticks\": \"\"}}, \"type\": \"scattergl\"}], \"scattermapbox\": [{\"marker\": {\"colorbar\": {\"outlinewidth\": 0, \"ticks\": \"\"}}, \"type\": \"scattermapbox\"}], \"scatterpolar\": [{\"marker\": {\"colorbar\": {\"outlinewidth\": 0, \"ticks\": \"\"}}, \"type\": \"scatterpolar\"}], \"scatterpolargl\": [{\"marker\": {\"colorbar\": {\"outlinewidth\": 0, \"ticks\": \"\"}}, \"type\": \"scatterpolargl\"}], \"scatterternary\": [{\"marker\": {\"colorbar\": {\"outlinewidth\": 0, \"ticks\": \"\"}}, \"type\": \"scatterternary\"}], \"surface\": [{\"colorbar\": {\"outlinewidth\": 0, \"ticks\": \"\"}, \"colorscale\": [[0.0, \"#0d0887\"], [0.1111111111111111, \"#46039f\"], [0.2222222222222222, \"#7201a8\"], [0.3333333333333333, \"#9c179e\"], [0.4444444444444444, \"#bd3786\"], [0.5555555555555556, \"#d8576b\"], [0.6666666666666666, \"#ed7953\"], [0.7777777777777778, \"#fb9f3a\"], [0.8888888888888888, \"#fdca26\"], [1.0, \"#f0f921\"]], \"type\": \"surface\"}], \"table\": [{\"cells\": {\"fill\": {\"color\": \"#EBF0F8\"}, \"line\": {\"color\": \"white\"}}, \"header\": {\"fill\": {\"color\": \"#C8D4E3\"}, \"line\": {\"color\": \"white\"}}, \"type\": \"table\"}]}, \"layout\": {\"annotationdefaults\": {\"arrowcolor\": \"#2a3f5f\", \"arrowhead\": 0, \"arrowwidth\": 1}, \"coloraxis\": {\"colorbar\": {\"outlinewidth\": 0, \"ticks\": \"\"}}, \"colorscale\": {\"diverging\": [[0, \"#8e0152\"], [0.1, \"#c51b7d\"], [0.2, \"#de77ae\"], [0.3, \"#f1b6da\"], [0.4, \"#fde0ef\"], [0.5, \"#f7f7f7\"], [0.6, \"#e6f5d0\"], [0.7, \"#b8e186\"], [0.8, \"#7fbc41\"], [0.9, \"#4d9221\"], [1, \"#276419\"]], \"sequential\": [[0.0, \"#0d0887\"], [0.1111111111111111, \"#46039f\"], [0.2222222222222222, \"#7201a8\"], [0.3333333333333333, \"#9c179e\"], [0.4444444444444444, \"#bd3786\"], [0.5555555555555556, \"#d8576b\"], [0.6666666666666666, \"#ed7953\"], [0.7777777777777778, \"#fb9f3a\"], [0.8888888888888888, \"#fdca26\"], [1.0, \"#f0f921\"]], \"sequentialminus\": [[0.0, \"#0d0887\"], [0.1111111111111111, \"#46039f\"], [0.2222222222222222, \"#7201a8\"], [0.3333333333333333, \"#9c179e\"], [0.4444444444444444, \"#bd3786\"], [0.5555555555555556, \"#d8576b\"], [0.6666666666666666, \"#ed7953\"], [0.7777777777777778, \"#fb9f3a\"], [0.8888888888888888, \"#fdca26\"], [1.0, \"#f0f921\"]]}, \"colorway\": [\"#636efa\", \"#EF553B\", \"#00cc96\", \"#ab63fa\", \"#FFA15A\", \"#19d3f3\", \"#FF6692\", \"#B6E880\", \"#FF97FF\", \"#FECB52\"], \"font\": {\"color\": \"#2a3f5f\"}, \"geo\": {\"bgcolor\": \"white\", \"lakecolor\": \"white\", \"landcolor\": \"#E5ECF6\", \"showlakes\": true, \"showland\": true, \"subunitcolor\": \"white\"}, \"hoverlabel\": {\"align\": \"left\"}, \"hovermode\": \"closest\", \"mapbox\": {\"style\": \"light\"}, \"paper_bgcolor\": \"white\", \"plot_bgcolor\": \"#E5ECF6\", \"polar\": {\"angularaxis\": {\"gridcolor\": \"white\", \"linecolor\": \"white\", \"ticks\": \"\"}, \"bgcolor\": \"#E5ECF6\", \"radialaxis\": {\"gridcolor\": \"white\", \"linecolor\": \"white\", \"ticks\": \"\"}}, \"scene\": {\"xaxis\": {\"backgroundcolor\": \"#E5ECF6\", \"gridcolor\": \"white\", \"gridwidth\": 2, \"linecolor\": \"white\", \"showbackground\": true, \"ticks\": \"\", \"zerolinecolor\": \"white\"}, \"yaxis\": {\"backgroundcolor\": \"#E5ECF6\", \"gridcolor\": \"white\", \"gridwidth\": 2, \"linecolor\": \"white\", \"showbackground\": true, \"ticks\": \"\", \"zerolinecolor\": \"white\"}, \"zaxis\": {\"backgroundcolor\": \"#E5ECF6\", \"gridcolor\": \"white\", \"gridwidth\": 2, \"linecolor\": \"white\", \"showbackground\": true, \"ticks\": \"\", \"zerolinecolor\": \"white\"}}, \"shapedefaults\": {\"line\": {\"color\": \"#2a3f5f\"}}, \"ternary\": {\"aaxis\": {\"gridcolor\": \"white\", \"linecolor\": \"white\", \"ticks\": \"\"}, \"baxis\": {\"gridcolor\": \"white\", \"linecolor\": \"white\", \"ticks\": \"\"}, \"bgcolor\": \"#E5ECF6\", \"caxis\": {\"gridcolor\": \"white\", \"linecolor\": \"white\", \"ticks\": \"\"}}, \"title\": {\"x\": 0.05}, \"xaxis\": {\"automargin\": true, \"gridcolor\": \"white\", \"linecolor\": \"white\", \"ticks\": \"\", \"title\": {\"standoff\": 15}, \"zerolinecolor\": \"white\", \"zerolinewidth\": 2}, \"yaxis\": {\"automargin\": true, \"gridcolor\": \"white\", \"linecolor\": \"white\", \"ticks\": \"\", \"title\": {\"standoff\": 15}, \"zerolinecolor\": \"white\", \"zerolinewidth\": 2}}}, \"xaxis\": {\"anchor\": \"y\", \"domain\": [0.0, 1.0], \"title\": {\"text\": \"time_stamp_key\"}}, \"yaxis\": {\"anchor\": \"x\", \"domain\": [0.0, 1.0], \"title\": {\"text\": \"pred\"}}},\n",
       "                        {\"responsive\": true}\n",
       "                    ).then(function(){\n",
       "                            \n",
       "var gd = document.getElementById('ee95b1d9-04f7-40f3-8936-457374c43fc7');\n",
       "var x = new MutationObserver(function (mutations, observer) {{\n",
       "        var display = window.getComputedStyle(gd).display;\n",
       "        if (!display || display === 'none') {{\n",
       "            console.log([gd, 'removed!']);\n",
       "            Plotly.purge(gd);\n",
       "            observer.disconnect();\n",
       "        }}\n",
       "}});\n",
       "\n",
       "// Listen for the removal of the full notebook cells\n",
       "var notebookContainer = gd.closest('#notebook-container');\n",
       "if (notebookContainer) {{\n",
       "    x.observe(notebookContainer, {childList: true});\n",
       "}}\n",
       "\n",
       "// Listen for the clearing of the current output cell\n",
       "var outputEl = gd.closest('.output');\n",
       "if (outputEl) {{\n",
       "    x.observe(outputEl, {childList: true});\n",
       "}}\n",
       "\n",
       "                        })\n",
       "                };\n",
       "                });\n",
       "            </script>\n",
       "        </div>"
      ]
     },
     "metadata": {},
     "output_type": "display_data"
    }
   ],
   "source": [
    "fig = px.line(result, x=result.index, y=\"pred\")\n",
    "fig.show()"
   ]
  },
  {
   "cell_type": "code",
   "execution_count": 244,
   "metadata": {},
   "outputs": [
    {
     "data": {
      "application/vnd.plotly.v1+json": {
       "config": {
        "plotlyServerURL": "https://plot.ly"
       },
       "data": [
        {
         "hovertemplate": "variable=pred<br>time_stamp_key=%{x}<br>value=%{y}<extra></extra>",
         "legendgroup": "pred",
         "line": {
          "color": "#636efa",
          "dash": "solid"
         },
         "mode": "lines",
         "name": "pred",
         "orientation": "v",
         "showlegend": true,
         "type": "scatter",
         "x": [
          "2022-04-04 15:36",
          "2022-04-04 15:37",
          "2022-04-04 15:38",
          "2022-04-04 15:39",
          "2022-04-04 15:40",
          "2022-04-04 15:41",
          "2022-04-04 15:42",
          "2022-04-04 15:43",
          "2022-04-04 15:44",
          "2022-04-04 15:45",
          "2022-04-04 15:46",
          "2022-04-04 15:47",
          "2022-04-04 15:48",
          "2022-04-04 15:49"
         ],
         "xaxis": "x",
         "y": [
          -4.449427412281354e-05,
          -4.4299805651234416e-05,
          -2.7767997016182975e-05,
          -1.5178646548675461e-05,
          -3.4776310029078114e-05,
          -2.3220709834315284e-05,
          -2.6065601932758722e-05,
          -5.858775430832944e-05,
          -2.3220709834315284e-05,
          -2.9459016203467923e-05,
          -2.3220709834315284e-05,
          -2.9459016203467923e-05,
          -2.3220709834315284e-05,
          -2.9459016203467923e-05
         ],
         "yaxis": "y"
        },
        {
         "hovertemplate": "variable=Close<br>time_stamp_key=%{x}<br>value=%{y}<extra></extra>",
         "legendgroup": "Close",
         "line": {
          "color": "#EF553B",
          "dash": "solid"
         },
         "mode": "lines",
         "name": "Close",
         "orientation": "v",
         "showlegend": true,
         "type": "scatter",
         "x": [
          "2022-04-04 15:36",
          "2022-04-04 15:37",
          "2022-04-04 15:38",
          "2022-04-04 15:39",
          "2022-04-04 15:40",
          "2022-04-04 15:41",
          "2022-04-04 15:42",
          "2022-04-04 15:43",
          "2022-04-04 15:44",
          "2022-04-04 15:45",
          "2022-04-04 15:46",
          "2022-04-04 15:47",
          "2022-04-04 15:48",
          "2022-04-04 15:49"
         ],
         "xaxis": "x",
         "y": [
          -3.3794548456533846e-05,
          -0.00035244077305229826,
          -0.00024631255614482317,
          -0.00029468171958857425,
          0.00025611040774720095,
          0.0002898620739630875,
          -0.0005186423897032277,
          -0.0006359701298800369,
          0.0003578059724587135,
          4.646188795986994e-05,
          0.0007171956399869561,
          0.00027529848151153224,
          0.0006403152990028804,
          0.00023161818658756772
         ],
         "yaxis": "y"
        }
       ],
       "layout": {
        "legend": {
         "title": {
          "text": "variable"
         },
         "tracegroupgap": 0
        },
        "margin": {
         "t": 60
        },
        "template": {
         "data": {
          "bar": [
           {
            "error_x": {
             "color": "#2a3f5f"
            },
            "error_y": {
             "color": "#2a3f5f"
            },
            "marker": {
             "line": {
              "color": "#E5ECF6",
              "width": 0.5
             }
            },
            "type": "bar"
           }
          ],
          "barpolar": [
           {
            "marker": {
             "line": {
              "color": "#E5ECF6",
              "width": 0.5
             }
            },
            "type": "barpolar"
           }
          ],
          "carpet": [
           {
            "aaxis": {
             "endlinecolor": "#2a3f5f",
             "gridcolor": "white",
             "linecolor": "white",
             "minorgridcolor": "white",
             "startlinecolor": "#2a3f5f"
            },
            "baxis": {
             "endlinecolor": "#2a3f5f",
             "gridcolor": "white",
             "linecolor": "white",
             "minorgridcolor": "white",
             "startlinecolor": "#2a3f5f"
            },
            "type": "carpet"
           }
          ],
          "choropleth": [
           {
            "colorbar": {
             "outlinewidth": 0,
             "ticks": ""
            },
            "type": "choropleth"
           }
          ],
          "contour": [
           {
            "colorbar": {
             "outlinewidth": 0,
             "ticks": ""
            },
            "colorscale": [
             [
              0,
              "#0d0887"
             ],
             [
              0.1111111111111111,
              "#46039f"
             ],
             [
              0.2222222222222222,
              "#7201a8"
             ],
             [
              0.3333333333333333,
              "#9c179e"
             ],
             [
              0.4444444444444444,
              "#bd3786"
             ],
             [
              0.5555555555555556,
              "#d8576b"
             ],
             [
              0.6666666666666666,
              "#ed7953"
             ],
             [
              0.7777777777777778,
              "#fb9f3a"
             ],
             [
              0.8888888888888888,
              "#fdca26"
             ],
             [
              1,
              "#f0f921"
             ]
            ],
            "type": "contour"
           }
          ],
          "contourcarpet": [
           {
            "colorbar": {
             "outlinewidth": 0,
             "ticks": ""
            },
            "type": "contourcarpet"
           }
          ],
          "heatmap": [
           {
            "colorbar": {
             "outlinewidth": 0,
             "ticks": ""
            },
            "colorscale": [
             [
              0,
              "#0d0887"
             ],
             [
              0.1111111111111111,
              "#46039f"
             ],
             [
              0.2222222222222222,
              "#7201a8"
             ],
             [
              0.3333333333333333,
              "#9c179e"
             ],
             [
              0.4444444444444444,
              "#bd3786"
             ],
             [
              0.5555555555555556,
              "#d8576b"
             ],
             [
              0.6666666666666666,
              "#ed7953"
             ],
             [
              0.7777777777777778,
              "#fb9f3a"
             ],
             [
              0.8888888888888888,
              "#fdca26"
             ],
             [
              1,
              "#f0f921"
             ]
            ],
            "type": "heatmap"
           }
          ],
          "heatmapgl": [
           {
            "colorbar": {
             "outlinewidth": 0,
             "ticks": ""
            },
            "colorscale": [
             [
              0,
              "#0d0887"
             ],
             [
              0.1111111111111111,
              "#46039f"
             ],
             [
              0.2222222222222222,
              "#7201a8"
             ],
             [
              0.3333333333333333,
              "#9c179e"
             ],
             [
              0.4444444444444444,
              "#bd3786"
             ],
             [
              0.5555555555555556,
              "#d8576b"
             ],
             [
              0.6666666666666666,
              "#ed7953"
             ],
             [
              0.7777777777777778,
              "#fb9f3a"
             ],
             [
              0.8888888888888888,
              "#fdca26"
             ],
             [
              1,
              "#f0f921"
             ]
            ],
            "type": "heatmapgl"
           }
          ],
          "histogram": [
           {
            "marker": {
             "colorbar": {
              "outlinewidth": 0,
              "ticks": ""
             }
            },
            "type": "histogram"
           }
          ],
          "histogram2d": [
           {
            "colorbar": {
             "outlinewidth": 0,
             "ticks": ""
            },
            "colorscale": [
             [
              0,
              "#0d0887"
             ],
             [
              0.1111111111111111,
              "#46039f"
             ],
             [
              0.2222222222222222,
              "#7201a8"
             ],
             [
              0.3333333333333333,
              "#9c179e"
             ],
             [
              0.4444444444444444,
              "#bd3786"
             ],
             [
              0.5555555555555556,
              "#d8576b"
             ],
             [
              0.6666666666666666,
              "#ed7953"
             ],
             [
              0.7777777777777778,
              "#fb9f3a"
             ],
             [
              0.8888888888888888,
              "#fdca26"
             ],
             [
              1,
              "#f0f921"
             ]
            ],
            "type": "histogram2d"
           }
          ],
          "histogram2dcontour": [
           {
            "colorbar": {
             "outlinewidth": 0,
             "ticks": ""
            },
            "colorscale": [
             [
              0,
              "#0d0887"
             ],
             [
              0.1111111111111111,
              "#46039f"
             ],
             [
              0.2222222222222222,
              "#7201a8"
             ],
             [
              0.3333333333333333,
              "#9c179e"
             ],
             [
              0.4444444444444444,
              "#bd3786"
             ],
             [
              0.5555555555555556,
              "#d8576b"
             ],
             [
              0.6666666666666666,
              "#ed7953"
             ],
             [
              0.7777777777777778,
              "#fb9f3a"
             ],
             [
              0.8888888888888888,
              "#fdca26"
             ],
             [
              1,
              "#f0f921"
             ]
            ],
            "type": "histogram2dcontour"
           }
          ],
          "mesh3d": [
           {
            "colorbar": {
             "outlinewidth": 0,
             "ticks": ""
            },
            "type": "mesh3d"
           }
          ],
          "parcoords": [
           {
            "line": {
             "colorbar": {
              "outlinewidth": 0,
              "ticks": ""
             }
            },
            "type": "parcoords"
           }
          ],
          "pie": [
           {
            "automargin": true,
            "type": "pie"
           }
          ],
          "scatter": [
           {
            "marker": {
             "colorbar": {
              "outlinewidth": 0,
              "ticks": ""
             }
            },
            "type": "scatter"
           }
          ],
          "scatter3d": [
           {
            "line": {
             "colorbar": {
              "outlinewidth": 0,
              "ticks": ""
             }
            },
            "marker": {
             "colorbar": {
              "outlinewidth": 0,
              "ticks": ""
             }
            },
            "type": "scatter3d"
           }
          ],
          "scattercarpet": [
           {
            "marker": {
             "colorbar": {
              "outlinewidth": 0,
              "ticks": ""
             }
            },
            "type": "scattercarpet"
           }
          ],
          "scattergeo": [
           {
            "marker": {
             "colorbar": {
              "outlinewidth": 0,
              "ticks": ""
             }
            },
            "type": "scattergeo"
           }
          ],
          "scattergl": [
           {
            "marker": {
             "colorbar": {
              "outlinewidth": 0,
              "ticks": ""
             }
            },
            "type": "scattergl"
           }
          ],
          "scattermapbox": [
           {
            "marker": {
             "colorbar": {
              "outlinewidth": 0,
              "ticks": ""
             }
            },
            "type": "scattermapbox"
           }
          ],
          "scatterpolar": [
           {
            "marker": {
             "colorbar": {
              "outlinewidth": 0,
              "ticks": ""
             }
            },
            "type": "scatterpolar"
           }
          ],
          "scatterpolargl": [
           {
            "marker": {
             "colorbar": {
              "outlinewidth": 0,
              "ticks": ""
             }
            },
            "type": "scatterpolargl"
           }
          ],
          "scatterternary": [
           {
            "marker": {
             "colorbar": {
              "outlinewidth": 0,
              "ticks": ""
             }
            },
            "type": "scatterternary"
           }
          ],
          "surface": [
           {
            "colorbar": {
             "outlinewidth": 0,
             "ticks": ""
            },
            "colorscale": [
             [
              0,
              "#0d0887"
             ],
             [
              0.1111111111111111,
              "#46039f"
             ],
             [
              0.2222222222222222,
              "#7201a8"
             ],
             [
              0.3333333333333333,
              "#9c179e"
             ],
             [
              0.4444444444444444,
              "#bd3786"
             ],
             [
              0.5555555555555556,
              "#d8576b"
             ],
             [
              0.6666666666666666,
              "#ed7953"
             ],
             [
              0.7777777777777778,
              "#fb9f3a"
             ],
             [
              0.8888888888888888,
              "#fdca26"
             ],
             [
              1,
              "#f0f921"
             ]
            ],
            "type": "surface"
           }
          ],
          "table": [
           {
            "cells": {
             "fill": {
              "color": "#EBF0F8"
             },
             "line": {
              "color": "white"
             }
            },
            "header": {
             "fill": {
              "color": "#C8D4E3"
             },
             "line": {
              "color": "white"
             }
            },
            "type": "table"
           }
          ]
         },
         "layout": {
          "annotationdefaults": {
           "arrowcolor": "#2a3f5f",
           "arrowhead": 0,
           "arrowwidth": 1
          },
          "coloraxis": {
           "colorbar": {
            "outlinewidth": 0,
            "ticks": ""
           }
          },
          "colorscale": {
           "diverging": [
            [
             0,
             "#8e0152"
            ],
            [
             0.1,
             "#c51b7d"
            ],
            [
             0.2,
             "#de77ae"
            ],
            [
             0.3,
             "#f1b6da"
            ],
            [
             0.4,
             "#fde0ef"
            ],
            [
             0.5,
             "#f7f7f7"
            ],
            [
             0.6,
             "#e6f5d0"
            ],
            [
             0.7,
             "#b8e186"
            ],
            [
             0.8,
             "#7fbc41"
            ],
            [
             0.9,
             "#4d9221"
            ],
            [
             1,
             "#276419"
            ]
           ],
           "sequential": [
            [
             0,
             "#0d0887"
            ],
            [
             0.1111111111111111,
             "#46039f"
            ],
            [
             0.2222222222222222,
             "#7201a8"
            ],
            [
             0.3333333333333333,
             "#9c179e"
            ],
            [
             0.4444444444444444,
             "#bd3786"
            ],
            [
             0.5555555555555556,
             "#d8576b"
            ],
            [
             0.6666666666666666,
             "#ed7953"
            ],
            [
             0.7777777777777778,
             "#fb9f3a"
            ],
            [
             0.8888888888888888,
             "#fdca26"
            ],
            [
             1,
             "#f0f921"
            ]
           ],
           "sequentialminus": [
            [
             0,
             "#0d0887"
            ],
            [
             0.1111111111111111,
             "#46039f"
            ],
            [
             0.2222222222222222,
             "#7201a8"
            ],
            [
             0.3333333333333333,
             "#9c179e"
            ],
            [
             0.4444444444444444,
             "#bd3786"
            ],
            [
             0.5555555555555556,
             "#d8576b"
            ],
            [
             0.6666666666666666,
             "#ed7953"
            ],
            [
             0.7777777777777778,
             "#fb9f3a"
            ],
            [
             0.8888888888888888,
             "#fdca26"
            ],
            [
             1,
             "#f0f921"
            ]
           ]
          },
          "colorway": [
           "#636efa",
           "#EF553B",
           "#00cc96",
           "#ab63fa",
           "#FFA15A",
           "#19d3f3",
           "#FF6692",
           "#B6E880",
           "#FF97FF",
           "#FECB52"
          ],
          "font": {
           "color": "#2a3f5f"
          },
          "geo": {
           "bgcolor": "white",
           "lakecolor": "white",
           "landcolor": "#E5ECF6",
           "showlakes": true,
           "showland": true,
           "subunitcolor": "white"
          },
          "hoverlabel": {
           "align": "left"
          },
          "hovermode": "closest",
          "mapbox": {
           "style": "light"
          },
          "paper_bgcolor": "white",
          "plot_bgcolor": "#E5ECF6",
          "polar": {
           "angularaxis": {
            "gridcolor": "white",
            "linecolor": "white",
            "ticks": ""
           },
           "bgcolor": "#E5ECF6",
           "radialaxis": {
            "gridcolor": "white",
            "linecolor": "white",
            "ticks": ""
           }
          },
          "scene": {
           "xaxis": {
            "backgroundcolor": "#E5ECF6",
            "gridcolor": "white",
            "gridwidth": 2,
            "linecolor": "white",
            "showbackground": true,
            "ticks": "",
            "zerolinecolor": "white"
           },
           "yaxis": {
            "backgroundcolor": "#E5ECF6",
            "gridcolor": "white",
            "gridwidth": 2,
            "linecolor": "white",
            "showbackground": true,
            "ticks": "",
            "zerolinecolor": "white"
           },
           "zaxis": {
            "backgroundcolor": "#E5ECF6",
            "gridcolor": "white",
            "gridwidth": 2,
            "linecolor": "white",
            "showbackground": true,
            "ticks": "",
            "zerolinecolor": "white"
           }
          },
          "shapedefaults": {
           "line": {
            "color": "#2a3f5f"
           }
          },
          "ternary": {
           "aaxis": {
            "gridcolor": "white",
            "linecolor": "white",
            "ticks": ""
           },
           "baxis": {
            "gridcolor": "white",
            "linecolor": "white",
            "ticks": ""
           },
           "bgcolor": "#E5ECF6",
           "caxis": {
            "gridcolor": "white",
            "linecolor": "white",
            "ticks": ""
           }
          },
          "title": {
           "x": 0.05
          },
          "xaxis": {
           "automargin": true,
           "gridcolor": "white",
           "linecolor": "white",
           "ticks": "",
           "title": {
            "standoff": 15
           },
           "zerolinecolor": "white",
           "zerolinewidth": 2
          },
          "yaxis": {
           "automargin": true,
           "gridcolor": "white",
           "linecolor": "white",
           "ticks": "",
           "title": {
            "standoff": 15
           },
           "zerolinecolor": "white",
           "zerolinewidth": 2
          }
         }
        },
        "xaxis": {
         "anchor": "y",
         "domain": [
          0,
          1
         ],
         "title": {
          "text": "time_stamp_key"
         }
        },
        "yaxis": {
         "anchor": "x",
         "domain": [
          0,
          1
         ],
         "title": {
          "text": "value"
         }
        }
       }
      },
      "text/html": [
       "<div>\n",
       "        \n",
       "        \n",
       "            <div id=\"e31879be-47bf-46bd-9ac1-6a15bdea8305\" class=\"plotly-graph-div\" style=\"height:525px; width:100%;\"></div>\n",
       "            <script type=\"text/javascript\">\n",
       "                require([\"plotly\"], function(Plotly) {\n",
       "                    window.PLOTLYENV=window.PLOTLYENV || {};\n",
       "                    \n",
       "                if (document.getElementById(\"e31879be-47bf-46bd-9ac1-6a15bdea8305\")) {\n",
       "                    Plotly.newPlot(\n",
       "                        'e31879be-47bf-46bd-9ac1-6a15bdea8305',\n",
       "                        [{\"hovertemplate\": \"variable=pred<br>time_stamp_key=%{x}<br>value=%{y}<extra></extra>\", \"legendgroup\": \"pred\", \"line\": {\"color\": \"#636efa\", \"dash\": \"solid\"}, \"mode\": \"lines\", \"name\": \"pred\", \"orientation\": \"v\", \"showlegend\": true, \"type\": \"scatter\", \"x\": [\"2022-04-04 15:36\", \"2022-04-04 15:37\", \"2022-04-04 15:38\", \"2022-04-04 15:39\", \"2022-04-04 15:40\", \"2022-04-04 15:41\", \"2022-04-04 15:42\", \"2022-04-04 15:43\", \"2022-04-04 15:44\", \"2022-04-04 15:45\", \"2022-04-04 15:46\", \"2022-04-04 15:47\", \"2022-04-04 15:48\", \"2022-04-04 15:49\"], \"xaxis\": \"x\", \"y\": [-4.449427412281354e-05, -4.4299805651234416e-05, -2.7767997016182975e-05, -1.5178646548675461e-05, -3.4776310029078114e-05, -2.3220709834315284e-05, -2.6065601932758722e-05, -5.858775430832944e-05, -2.3220709834315284e-05, -2.9459016203467923e-05, -2.3220709834315284e-05, -2.9459016203467923e-05, -2.3220709834315284e-05, -2.9459016203467923e-05], \"yaxis\": \"y\"}, {\"hovertemplate\": \"variable=Close<br>time_stamp_key=%{x}<br>value=%{y}<extra></extra>\", \"legendgroup\": \"Close\", \"line\": {\"color\": \"#EF553B\", \"dash\": \"solid\"}, \"mode\": \"lines\", \"name\": \"Close\", \"orientation\": \"v\", \"showlegend\": true, \"type\": \"scatter\", \"x\": [\"2022-04-04 15:36\", \"2022-04-04 15:37\", \"2022-04-04 15:38\", \"2022-04-04 15:39\", \"2022-04-04 15:40\", \"2022-04-04 15:41\", \"2022-04-04 15:42\", \"2022-04-04 15:43\", \"2022-04-04 15:44\", \"2022-04-04 15:45\", \"2022-04-04 15:46\", \"2022-04-04 15:47\", \"2022-04-04 15:48\", \"2022-04-04 15:49\"], \"xaxis\": \"x\", \"y\": [-3.3794548456533846e-05, -0.00035244077305229826, -0.00024631255614482317, -0.00029468171958857425, 0.00025611040774720095, 0.0002898620739630875, -0.0005186423897032277, -0.0006359701298800369, 0.0003578059724587135, 4.646188795986994e-05, 0.0007171956399869561, 0.00027529848151153224, 0.0006403152990028804, 0.00023161818658756772], \"yaxis\": \"y\"}],\n",
       "                        {\"legend\": {\"title\": {\"text\": \"variable\"}, \"tracegroupgap\": 0}, \"margin\": {\"t\": 60}, \"template\": {\"data\": {\"bar\": [{\"error_x\": {\"color\": \"#2a3f5f\"}, \"error_y\": {\"color\": \"#2a3f5f\"}, \"marker\": {\"line\": {\"color\": \"#E5ECF6\", \"width\": 0.5}}, \"type\": \"bar\"}], \"barpolar\": [{\"marker\": {\"line\": {\"color\": \"#E5ECF6\", \"width\": 0.5}}, \"type\": \"barpolar\"}], \"carpet\": [{\"aaxis\": {\"endlinecolor\": \"#2a3f5f\", \"gridcolor\": \"white\", \"linecolor\": \"white\", \"minorgridcolor\": \"white\", \"startlinecolor\": \"#2a3f5f\"}, \"baxis\": {\"endlinecolor\": \"#2a3f5f\", \"gridcolor\": \"white\", \"linecolor\": \"white\", \"minorgridcolor\": \"white\", \"startlinecolor\": \"#2a3f5f\"}, \"type\": \"carpet\"}], \"choropleth\": [{\"colorbar\": {\"outlinewidth\": 0, \"ticks\": \"\"}, \"type\": \"choropleth\"}], \"contour\": [{\"colorbar\": {\"outlinewidth\": 0, \"ticks\": \"\"}, \"colorscale\": [[0.0, \"#0d0887\"], [0.1111111111111111, \"#46039f\"], [0.2222222222222222, \"#7201a8\"], [0.3333333333333333, \"#9c179e\"], [0.4444444444444444, \"#bd3786\"], [0.5555555555555556, \"#d8576b\"], [0.6666666666666666, \"#ed7953\"], [0.7777777777777778, \"#fb9f3a\"], [0.8888888888888888, \"#fdca26\"], [1.0, \"#f0f921\"]], \"type\": \"contour\"}], \"contourcarpet\": [{\"colorbar\": {\"outlinewidth\": 0, \"ticks\": \"\"}, \"type\": \"contourcarpet\"}], \"heatmap\": [{\"colorbar\": {\"outlinewidth\": 0, \"ticks\": \"\"}, \"colorscale\": [[0.0, \"#0d0887\"], [0.1111111111111111, \"#46039f\"], [0.2222222222222222, \"#7201a8\"], [0.3333333333333333, \"#9c179e\"], [0.4444444444444444, \"#bd3786\"], [0.5555555555555556, \"#d8576b\"], [0.6666666666666666, \"#ed7953\"], [0.7777777777777778, \"#fb9f3a\"], [0.8888888888888888, \"#fdca26\"], [1.0, \"#f0f921\"]], \"type\": \"heatmap\"}], \"heatmapgl\": [{\"colorbar\": {\"outlinewidth\": 0, \"ticks\": \"\"}, \"colorscale\": [[0.0, \"#0d0887\"], [0.1111111111111111, \"#46039f\"], [0.2222222222222222, \"#7201a8\"], [0.3333333333333333, \"#9c179e\"], [0.4444444444444444, \"#bd3786\"], [0.5555555555555556, \"#d8576b\"], [0.6666666666666666, \"#ed7953\"], [0.7777777777777778, \"#fb9f3a\"], [0.8888888888888888, \"#fdca26\"], [1.0, \"#f0f921\"]], \"type\": \"heatmapgl\"}], \"histogram\": [{\"marker\": {\"colorbar\": {\"outlinewidth\": 0, \"ticks\": \"\"}}, \"type\": \"histogram\"}], \"histogram2d\": [{\"colorbar\": {\"outlinewidth\": 0, \"ticks\": \"\"}, \"colorscale\": [[0.0, \"#0d0887\"], [0.1111111111111111, \"#46039f\"], [0.2222222222222222, \"#7201a8\"], [0.3333333333333333, \"#9c179e\"], [0.4444444444444444, \"#bd3786\"], [0.5555555555555556, \"#d8576b\"], [0.6666666666666666, \"#ed7953\"], [0.7777777777777778, \"#fb9f3a\"], [0.8888888888888888, \"#fdca26\"], [1.0, \"#f0f921\"]], \"type\": \"histogram2d\"}], \"histogram2dcontour\": [{\"colorbar\": {\"outlinewidth\": 0, \"ticks\": \"\"}, \"colorscale\": [[0.0, \"#0d0887\"], [0.1111111111111111, \"#46039f\"], [0.2222222222222222, \"#7201a8\"], [0.3333333333333333, \"#9c179e\"], [0.4444444444444444, \"#bd3786\"], [0.5555555555555556, \"#d8576b\"], [0.6666666666666666, \"#ed7953\"], [0.7777777777777778, \"#fb9f3a\"], [0.8888888888888888, \"#fdca26\"], [1.0, \"#f0f921\"]], \"type\": \"histogram2dcontour\"}], \"mesh3d\": [{\"colorbar\": {\"outlinewidth\": 0, \"ticks\": \"\"}, \"type\": \"mesh3d\"}], \"parcoords\": [{\"line\": {\"colorbar\": {\"outlinewidth\": 0, \"ticks\": \"\"}}, \"type\": \"parcoords\"}], \"pie\": [{\"automargin\": true, \"type\": \"pie\"}], \"scatter\": [{\"marker\": {\"colorbar\": {\"outlinewidth\": 0, \"ticks\": \"\"}}, \"type\": \"scatter\"}], \"scatter3d\": [{\"line\": {\"colorbar\": {\"outlinewidth\": 0, \"ticks\": \"\"}}, \"marker\": {\"colorbar\": {\"outlinewidth\": 0, \"ticks\": \"\"}}, \"type\": \"scatter3d\"}], \"scattercarpet\": [{\"marker\": {\"colorbar\": {\"outlinewidth\": 0, \"ticks\": \"\"}}, \"type\": \"scattercarpet\"}], \"scattergeo\": [{\"marker\": {\"colorbar\": {\"outlinewidth\": 0, \"ticks\": \"\"}}, \"type\": \"scattergeo\"}], \"scattergl\": [{\"marker\": {\"colorbar\": {\"outlinewidth\": 0, \"ticks\": \"\"}}, \"type\": \"scattergl\"}], \"scattermapbox\": [{\"marker\": {\"colorbar\": {\"outlinewidth\": 0, \"ticks\": \"\"}}, \"type\": \"scattermapbox\"}], \"scatterpolar\": [{\"marker\": {\"colorbar\": {\"outlinewidth\": 0, \"ticks\": \"\"}}, \"type\": \"scatterpolar\"}], \"scatterpolargl\": [{\"marker\": {\"colorbar\": {\"outlinewidth\": 0, \"ticks\": \"\"}}, \"type\": \"scatterpolargl\"}], \"scatterternary\": [{\"marker\": {\"colorbar\": {\"outlinewidth\": 0, \"ticks\": \"\"}}, \"type\": \"scatterternary\"}], \"surface\": [{\"colorbar\": {\"outlinewidth\": 0, \"ticks\": \"\"}, \"colorscale\": [[0.0, \"#0d0887\"], [0.1111111111111111, \"#46039f\"], [0.2222222222222222, \"#7201a8\"], [0.3333333333333333, \"#9c179e\"], [0.4444444444444444, \"#bd3786\"], [0.5555555555555556, \"#d8576b\"], [0.6666666666666666, \"#ed7953\"], [0.7777777777777778, \"#fb9f3a\"], [0.8888888888888888, \"#fdca26\"], [1.0, \"#f0f921\"]], \"type\": \"surface\"}], \"table\": [{\"cells\": {\"fill\": {\"color\": \"#EBF0F8\"}, \"line\": {\"color\": \"white\"}}, \"header\": {\"fill\": {\"color\": \"#C8D4E3\"}, \"line\": {\"color\": \"white\"}}, \"type\": \"table\"}]}, \"layout\": {\"annotationdefaults\": {\"arrowcolor\": \"#2a3f5f\", \"arrowhead\": 0, \"arrowwidth\": 1}, \"coloraxis\": {\"colorbar\": {\"outlinewidth\": 0, \"ticks\": \"\"}}, \"colorscale\": {\"diverging\": [[0, \"#8e0152\"], [0.1, \"#c51b7d\"], [0.2, \"#de77ae\"], [0.3, \"#f1b6da\"], [0.4, \"#fde0ef\"], [0.5, \"#f7f7f7\"], [0.6, \"#e6f5d0\"], [0.7, \"#b8e186\"], [0.8, \"#7fbc41\"], [0.9, \"#4d9221\"], [1, \"#276419\"]], \"sequential\": [[0.0, \"#0d0887\"], [0.1111111111111111, \"#46039f\"], [0.2222222222222222, \"#7201a8\"], [0.3333333333333333, \"#9c179e\"], [0.4444444444444444, \"#bd3786\"], [0.5555555555555556, \"#d8576b\"], [0.6666666666666666, \"#ed7953\"], [0.7777777777777778, \"#fb9f3a\"], [0.8888888888888888, \"#fdca26\"], [1.0, \"#f0f921\"]], \"sequentialminus\": [[0.0, \"#0d0887\"], [0.1111111111111111, \"#46039f\"], [0.2222222222222222, \"#7201a8\"], [0.3333333333333333, \"#9c179e\"], [0.4444444444444444, \"#bd3786\"], [0.5555555555555556, \"#d8576b\"], [0.6666666666666666, \"#ed7953\"], [0.7777777777777778, \"#fb9f3a\"], [0.8888888888888888, \"#fdca26\"], [1.0, \"#f0f921\"]]}, \"colorway\": [\"#636efa\", \"#EF553B\", \"#00cc96\", \"#ab63fa\", \"#FFA15A\", \"#19d3f3\", \"#FF6692\", \"#B6E880\", \"#FF97FF\", \"#FECB52\"], \"font\": {\"color\": \"#2a3f5f\"}, \"geo\": {\"bgcolor\": \"white\", \"lakecolor\": \"white\", \"landcolor\": \"#E5ECF6\", \"showlakes\": true, \"showland\": true, \"subunitcolor\": \"white\"}, \"hoverlabel\": {\"align\": \"left\"}, \"hovermode\": \"closest\", \"mapbox\": {\"style\": \"light\"}, \"paper_bgcolor\": \"white\", \"plot_bgcolor\": \"#E5ECF6\", \"polar\": {\"angularaxis\": {\"gridcolor\": \"white\", \"linecolor\": \"white\", \"ticks\": \"\"}, \"bgcolor\": \"#E5ECF6\", \"radialaxis\": {\"gridcolor\": \"white\", \"linecolor\": \"white\", \"ticks\": \"\"}}, \"scene\": {\"xaxis\": {\"backgroundcolor\": \"#E5ECF6\", \"gridcolor\": \"white\", \"gridwidth\": 2, \"linecolor\": \"white\", \"showbackground\": true, \"ticks\": \"\", \"zerolinecolor\": \"white\"}, \"yaxis\": {\"backgroundcolor\": \"#E5ECF6\", \"gridcolor\": \"white\", \"gridwidth\": 2, \"linecolor\": \"white\", \"showbackground\": true, \"ticks\": \"\", \"zerolinecolor\": \"white\"}, \"zaxis\": {\"backgroundcolor\": \"#E5ECF6\", \"gridcolor\": \"white\", \"gridwidth\": 2, \"linecolor\": \"white\", \"showbackground\": true, \"ticks\": \"\", \"zerolinecolor\": \"white\"}}, \"shapedefaults\": {\"line\": {\"color\": \"#2a3f5f\"}}, \"ternary\": {\"aaxis\": {\"gridcolor\": \"white\", \"linecolor\": \"white\", \"ticks\": \"\"}, \"baxis\": {\"gridcolor\": \"white\", \"linecolor\": \"white\", \"ticks\": \"\"}, \"bgcolor\": \"#E5ECF6\", \"caxis\": {\"gridcolor\": \"white\", \"linecolor\": \"white\", \"ticks\": \"\"}}, \"title\": {\"x\": 0.05}, \"xaxis\": {\"automargin\": true, \"gridcolor\": \"white\", \"linecolor\": \"white\", \"ticks\": \"\", \"title\": {\"standoff\": 15}, \"zerolinecolor\": \"white\", \"zerolinewidth\": 2}, \"yaxis\": {\"automargin\": true, \"gridcolor\": \"white\", \"linecolor\": \"white\", \"ticks\": \"\", \"title\": {\"standoff\": 15}, \"zerolinecolor\": \"white\", \"zerolinewidth\": 2}}}, \"xaxis\": {\"anchor\": \"y\", \"domain\": [0.0, 1.0], \"title\": {\"text\": \"time_stamp_key\"}}, \"yaxis\": {\"anchor\": \"x\", \"domain\": [0.0, 1.0], \"title\": {\"text\": \"value\"}}},\n",
       "                        {\"responsive\": true}\n",
       "                    ).then(function(){\n",
       "                            \n",
       "var gd = document.getElementById('e31879be-47bf-46bd-9ac1-6a15bdea8305');\n",
       "var x = new MutationObserver(function (mutations, observer) {{\n",
       "        var display = window.getComputedStyle(gd).display;\n",
       "        if (!display || display === 'none') {{\n",
       "            console.log([gd, 'removed!']);\n",
       "            Plotly.purge(gd);\n",
       "            observer.disconnect();\n",
       "        }}\n",
       "}});\n",
       "\n",
       "// Listen for the removal of the full notebook cells\n",
       "var notebookContainer = gd.closest('#notebook-container');\n",
       "if (notebookContainer) {{\n",
       "    x.observe(notebookContainer, {childList: true});\n",
       "}}\n",
       "\n",
       "// Listen for the clearing of the current output cell\n",
       "var outputEl = gd.closest('.output');\n",
       "if (outputEl) {{\n",
       "    x.observe(outputEl, {childList: true});\n",
       "}}\n",
       "\n",
       "                        })\n",
       "                };\n",
       "                });\n",
       "            </script>\n",
       "        </div>"
      ]
     },
     "metadata": {},
     "output_type": "display_data"
    }
   ],
   "source": [
    "fig = px.line(result, y=result.columns[0:2], x=result.index)\n",
    "fig.show()"
   ]
  },
  {
   "cell_type": "code",
   "execution_count": 347,
   "metadata": {},
   "outputs": [
    {
     "data": {
      "application/vnd.plotly.v1+json": {
       "config": {
        "plotlyServerURL": "https://plot.ly"
       },
       "data": [
        {
         "name": "real data",
         "type": "scatter",
         "x": [
          "2022-04-04 15:36",
          "2022-04-04 15:37",
          "2022-04-04 15:38",
          "2022-04-04 15:39",
          "2022-04-04 15:40",
          "2022-04-04 15:41",
          "2022-04-04 15:42",
          "2022-04-04 15:43",
          "2022-04-04 15:44",
          "2022-04-04 15:45",
          "2022-04-04 15:46",
          "2022-04-04 15:47",
          "2022-04-04 15:48",
          "2022-04-04 15:49"
         ],
         "xaxis": "x",
         "y": [
          -3.3794548456533846e-05,
          -0.00035244077305229826,
          -0.00024631255614482317,
          -0.00029468171958857425,
          0.00025611040774720095,
          0.0002898620739630875,
          -0.0005186423897032277,
          -0.0006359701298800369,
          0.0003578059724587135,
          4.646188795986994e-05,
          0.0007171956399869561,
          0.00027529848151153224,
          0.0006403152990028804,
          0.00023161818658756772
         ],
         "yaxis": "y"
        },
        {
         "name": "predictions",
         "type": "scatter",
         "x": [
          "2022-04-04 15:36",
          "2022-04-04 15:37",
          "2022-04-04 15:38",
          "2022-04-04 15:39",
          "2022-04-04 15:40",
          "2022-04-04 15:41",
          "2022-04-04 15:42",
          "2022-04-04 15:43",
          "2022-04-04 15:44",
          "2022-04-04 15:45",
          "2022-04-04 15:46",
          "2022-04-04 15:47",
          "2022-04-04 15:48",
          "2022-04-04 15:49"
         ],
         "xaxis": "x",
         "y": [
          -4.449427412281354e-05,
          -4.4299805651234416e-05,
          -2.7767997016182975e-05,
          -1.5178646548675461e-05,
          -3.4776310029078114e-05,
          -2.3220709834315284e-05,
          -2.6065601932758722e-05,
          -5.858775430832944e-05,
          -2.3220709834315284e-05,
          -2.9459016203467923e-05,
          -2.3220709834315284e-05,
          -2.9459016203467923e-05,
          -2.3220709834315284e-05,
          -2.9459016203467923e-05
         ],
         "yaxis": "y2"
        }
       ],
       "layout": {
        "template": {
         "data": {
          "bar": [
           {
            "error_x": {
             "color": "#2a3f5f"
            },
            "error_y": {
             "color": "#2a3f5f"
            },
            "marker": {
             "line": {
              "color": "#E5ECF6",
              "width": 0.5
             }
            },
            "type": "bar"
           }
          ],
          "barpolar": [
           {
            "marker": {
             "line": {
              "color": "#E5ECF6",
              "width": 0.5
             }
            },
            "type": "barpolar"
           }
          ],
          "carpet": [
           {
            "aaxis": {
             "endlinecolor": "#2a3f5f",
             "gridcolor": "white",
             "linecolor": "white",
             "minorgridcolor": "white",
             "startlinecolor": "#2a3f5f"
            },
            "baxis": {
             "endlinecolor": "#2a3f5f",
             "gridcolor": "white",
             "linecolor": "white",
             "minorgridcolor": "white",
             "startlinecolor": "#2a3f5f"
            },
            "type": "carpet"
           }
          ],
          "choropleth": [
           {
            "colorbar": {
             "outlinewidth": 0,
             "ticks": ""
            },
            "type": "choropleth"
           }
          ],
          "contour": [
           {
            "colorbar": {
             "outlinewidth": 0,
             "ticks": ""
            },
            "colorscale": [
             [
              0,
              "#0d0887"
             ],
             [
              0.1111111111111111,
              "#46039f"
             ],
             [
              0.2222222222222222,
              "#7201a8"
             ],
             [
              0.3333333333333333,
              "#9c179e"
             ],
             [
              0.4444444444444444,
              "#bd3786"
             ],
             [
              0.5555555555555556,
              "#d8576b"
             ],
             [
              0.6666666666666666,
              "#ed7953"
             ],
             [
              0.7777777777777778,
              "#fb9f3a"
             ],
             [
              0.8888888888888888,
              "#fdca26"
             ],
             [
              1,
              "#f0f921"
             ]
            ],
            "type": "contour"
           }
          ],
          "contourcarpet": [
           {
            "colorbar": {
             "outlinewidth": 0,
             "ticks": ""
            },
            "type": "contourcarpet"
           }
          ],
          "heatmap": [
           {
            "colorbar": {
             "outlinewidth": 0,
             "ticks": ""
            },
            "colorscale": [
             [
              0,
              "#0d0887"
             ],
             [
              0.1111111111111111,
              "#46039f"
             ],
             [
              0.2222222222222222,
              "#7201a8"
             ],
             [
              0.3333333333333333,
              "#9c179e"
             ],
             [
              0.4444444444444444,
              "#bd3786"
             ],
             [
              0.5555555555555556,
              "#d8576b"
             ],
             [
              0.6666666666666666,
              "#ed7953"
             ],
             [
              0.7777777777777778,
              "#fb9f3a"
             ],
             [
              0.8888888888888888,
              "#fdca26"
             ],
             [
              1,
              "#f0f921"
             ]
            ],
            "type": "heatmap"
           }
          ],
          "heatmapgl": [
           {
            "colorbar": {
             "outlinewidth": 0,
             "ticks": ""
            },
            "colorscale": [
             [
              0,
              "#0d0887"
             ],
             [
              0.1111111111111111,
              "#46039f"
             ],
             [
              0.2222222222222222,
              "#7201a8"
             ],
             [
              0.3333333333333333,
              "#9c179e"
             ],
             [
              0.4444444444444444,
              "#bd3786"
             ],
             [
              0.5555555555555556,
              "#d8576b"
             ],
             [
              0.6666666666666666,
              "#ed7953"
             ],
             [
              0.7777777777777778,
              "#fb9f3a"
             ],
             [
              0.8888888888888888,
              "#fdca26"
             ],
             [
              1,
              "#f0f921"
             ]
            ],
            "type": "heatmapgl"
           }
          ],
          "histogram": [
           {
            "marker": {
             "colorbar": {
              "outlinewidth": 0,
              "ticks": ""
             }
            },
            "type": "histogram"
           }
          ],
          "histogram2d": [
           {
            "colorbar": {
             "outlinewidth": 0,
             "ticks": ""
            },
            "colorscale": [
             [
              0,
              "#0d0887"
             ],
             [
              0.1111111111111111,
              "#46039f"
             ],
             [
              0.2222222222222222,
              "#7201a8"
             ],
             [
              0.3333333333333333,
              "#9c179e"
             ],
             [
              0.4444444444444444,
              "#bd3786"
             ],
             [
              0.5555555555555556,
              "#d8576b"
             ],
             [
              0.6666666666666666,
              "#ed7953"
             ],
             [
              0.7777777777777778,
              "#fb9f3a"
             ],
             [
              0.8888888888888888,
              "#fdca26"
             ],
             [
              1,
              "#f0f921"
             ]
            ],
            "type": "histogram2d"
           }
          ],
          "histogram2dcontour": [
           {
            "colorbar": {
             "outlinewidth": 0,
             "ticks": ""
            },
            "colorscale": [
             [
              0,
              "#0d0887"
             ],
             [
              0.1111111111111111,
              "#46039f"
             ],
             [
              0.2222222222222222,
              "#7201a8"
             ],
             [
              0.3333333333333333,
              "#9c179e"
             ],
             [
              0.4444444444444444,
              "#bd3786"
             ],
             [
              0.5555555555555556,
              "#d8576b"
             ],
             [
              0.6666666666666666,
              "#ed7953"
             ],
             [
              0.7777777777777778,
              "#fb9f3a"
             ],
             [
              0.8888888888888888,
              "#fdca26"
             ],
             [
              1,
              "#f0f921"
             ]
            ],
            "type": "histogram2dcontour"
           }
          ],
          "mesh3d": [
           {
            "colorbar": {
             "outlinewidth": 0,
             "ticks": ""
            },
            "type": "mesh3d"
           }
          ],
          "parcoords": [
           {
            "line": {
             "colorbar": {
              "outlinewidth": 0,
              "ticks": ""
             }
            },
            "type": "parcoords"
           }
          ],
          "pie": [
           {
            "automargin": true,
            "type": "pie"
           }
          ],
          "scatter": [
           {
            "marker": {
             "colorbar": {
              "outlinewidth": 0,
              "ticks": ""
             }
            },
            "type": "scatter"
           }
          ],
          "scatter3d": [
           {
            "line": {
             "colorbar": {
              "outlinewidth": 0,
              "ticks": ""
             }
            },
            "marker": {
             "colorbar": {
              "outlinewidth": 0,
              "ticks": ""
             }
            },
            "type": "scatter3d"
           }
          ],
          "scattercarpet": [
           {
            "marker": {
             "colorbar": {
              "outlinewidth": 0,
              "ticks": ""
             }
            },
            "type": "scattercarpet"
           }
          ],
          "scattergeo": [
           {
            "marker": {
             "colorbar": {
              "outlinewidth": 0,
              "ticks": ""
             }
            },
            "type": "scattergeo"
           }
          ],
          "scattergl": [
           {
            "marker": {
             "colorbar": {
              "outlinewidth": 0,
              "ticks": ""
             }
            },
            "type": "scattergl"
           }
          ],
          "scattermapbox": [
           {
            "marker": {
             "colorbar": {
              "outlinewidth": 0,
              "ticks": ""
             }
            },
            "type": "scattermapbox"
           }
          ],
          "scatterpolar": [
           {
            "marker": {
             "colorbar": {
              "outlinewidth": 0,
              "ticks": ""
             }
            },
            "type": "scatterpolar"
           }
          ],
          "scatterpolargl": [
           {
            "marker": {
             "colorbar": {
              "outlinewidth": 0,
              "ticks": ""
             }
            },
            "type": "scatterpolargl"
           }
          ],
          "scatterternary": [
           {
            "marker": {
             "colorbar": {
              "outlinewidth": 0,
              "ticks": ""
             }
            },
            "type": "scatterternary"
           }
          ],
          "surface": [
           {
            "colorbar": {
             "outlinewidth": 0,
             "ticks": ""
            },
            "colorscale": [
             [
              0,
              "#0d0887"
             ],
             [
              0.1111111111111111,
              "#46039f"
             ],
             [
              0.2222222222222222,
              "#7201a8"
             ],
             [
              0.3333333333333333,
              "#9c179e"
             ],
             [
              0.4444444444444444,
              "#bd3786"
             ],
             [
              0.5555555555555556,
              "#d8576b"
             ],
             [
              0.6666666666666666,
              "#ed7953"
             ],
             [
              0.7777777777777778,
              "#fb9f3a"
             ],
             [
              0.8888888888888888,
              "#fdca26"
             ],
             [
              1,
              "#f0f921"
             ]
            ],
            "type": "surface"
           }
          ],
          "table": [
           {
            "cells": {
             "fill": {
              "color": "#EBF0F8"
             },
             "line": {
              "color": "white"
             }
            },
            "header": {
             "fill": {
              "color": "#C8D4E3"
             },
             "line": {
              "color": "white"
             }
            },
            "type": "table"
           }
          ]
         },
         "layout": {
          "annotationdefaults": {
           "arrowcolor": "#2a3f5f",
           "arrowhead": 0,
           "arrowwidth": 1
          },
          "coloraxis": {
           "colorbar": {
            "outlinewidth": 0,
            "ticks": ""
           }
          },
          "colorscale": {
           "diverging": [
            [
             0,
             "#8e0152"
            ],
            [
             0.1,
             "#c51b7d"
            ],
            [
             0.2,
             "#de77ae"
            ],
            [
             0.3,
             "#f1b6da"
            ],
            [
             0.4,
             "#fde0ef"
            ],
            [
             0.5,
             "#f7f7f7"
            ],
            [
             0.6,
             "#e6f5d0"
            ],
            [
             0.7,
             "#b8e186"
            ],
            [
             0.8,
             "#7fbc41"
            ],
            [
             0.9,
             "#4d9221"
            ],
            [
             1,
             "#276419"
            ]
           ],
           "sequential": [
            [
             0,
             "#0d0887"
            ],
            [
             0.1111111111111111,
             "#46039f"
            ],
            [
             0.2222222222222222,
             "#7201a8"
            ],
            [
             0.3333333333333333,
             "#9c179e"
            ],
            [
             0.4444444444444444,
             "#bd3786"
            ],
            [
             0.5555555555555556,
             "#d8576b"
            ],
            [
             0.6666666666666666,
             "#ed7953"
            ],
            [
             0.7777777777777778,
             "#fb9f3a"
            ],
            [
             0.8888888888888888,
             "#fdca26"
            ],
            [
             1,
             "#f0f921"
            ]
           ],
           "sequentialminus": [
            [
             0,
             "#0d0887"
            ],
            [
             0.1111111111111111,
             "#46039f"
            ],
            [
             0.2222222222222222,
             "#7201a8"
            ],
            [
             0.3333333333333333,
             "#9c179e"
            ],
            [
             0.4444444444444444,
             "#bd3786"
            ],
            [
             0.5555555555555556,
             "#d8576b"
            ],
            [
             0.6666666666666666,
             "#ed7953"
            ],
            [
             0.7777777777777778,
             "#fb9f3a"
            ],
            [
             0.8888888888888888,
             "#fdca26"
            ],
            [
             1,
             "#f0f921"
            ]
           ]
          },
          "colorway": [
           "#636efa",
           "#EF553B",
           "#00cc96",
           "#ab63fa",
           "#FFA15A",
           "#19d3f3",
           "#FF6692",
           "#B6E880",
           "#FF97FF",
           "#FECB52"
          ],
          "font": {
           "color": "#2a3f5f"
          },
          "geo": {
           "bgcolor": "white",
           "lakecolor": "white",
           "landcolor": "#E5ECF6",
           "showlakes": true,
           "showland": true,
           "subunitcolor": "white"
          },
          "hoverlabel": {
           "align": "left"
          },
          "hovermode": "closest",
          "mapbox": {
           "style": "light"
          },
          "paper_bgcolor": "white",
          "plot_bgcolor": "#E5ECF6",
          "polar": {
           "angularaxis": {
            "gridcolor": "white",
            "linecolor": "white",
            "ticks": ""
           },
           "bgcolor": "#E5ECF6",
           "radialaxis": {
            "gridcolor": "white",
            "linecolor": "white",
            "ticks": ""
           }
          },
          "scene": {
           "xaxis": {
            "backgroundcolor": "#E5ECF6",
            "gridcolor": "white",
            "gridwidth": 2,
            "linecolor": "white",
            "showbackground": true,
            "ticks": "",
            "zerolinecolor": "white"
           },
           "yaxis": {
            "backgroundcolor": "#E5ECF6",
            "gridcolor": "white",
            "gridwidth": 2,
            "linecolor": "white",
            "showbackground": true,
            "ticks": "",
            "zerolinecolor": "white"
           },
           "zaxis": {
            "backgroundcolor": "#E5ECF6",
            "gridcolor": "white",
            "gridwidth": 2,
            "linecolor": "white",
            "showbackground": true,
            "ticks": "",
            "zerolinecolor": "white"
           }
          },
          "shapedefaults": {
           "line": {
            "color": "#2a3f5f"
           }
          },
          "ternary": {
           "aaxis": {
            "gridcolor": "white",
            "linecolor": "white",
            "ticks": ""
           },
           "baxis": {
            "gridcolor": "white",
            "linecolor": "white",
            "ticks": ""
           },
           "bgcolor": "#E5ECF6",
           "caxis": {
            "gridcolor": "white",
            "linecolor": "white",
            "ticks": ""
           }
          },
          "title": {
           "x": 0.05
          },
          "xaxis": {
           "automargin": true,
           "gridcolor": "white",
           "linecolor": "white",
           "ticks": "",
           "title": {
            "standoff": 15
           },
           "zerolinecolor": "white",
           "zerolinewidth": 2
          },
          "yaxis": {
           "automargin": true,
           "gridcolor": "white",
           "linecolor": "white",
           "ticks": "",
           "title": {
            "standoff": 15
           },
           "zerolinecolor": "white",
           "zerolinewidth": 2
          }
         }
        },
        "title": {
         "text": "BRK-A predictions"
        },
        "xaxis": {
         "anchor": "y",
         "domain": [
          0,
          0.94
         ],
         "title": {
          "text": "minutes"
         }
        },
        "yaxis": {
         "anchor": "x",
         "domain": [
          0,
          1
         ],
         "title": {
          "text": "<b>real data</b>"
         }
        },
        "yaxis2": {
         "anchor": "x",
         "overlaying": "y",
         "side": "right",
         "title": {
          "text": "<b>predictions</b>"
         }
        }
       }
      },
      "text/html": [
       "<div>\n",
       "        \n",
       "        \n",
       "            <div id=\"ad7b6099-080f-4295-ac75-970e0a449e66\" class=\"plotly-graph-div\" style=\"height:525px; width:100%;\"></div>\n",
       "            <script type=\"text/javascript\">\n",
       "                require([\"plotly\"], function(Plotly) {\n",
       "                    window.PLOTLYENV=window.PLOTLYENV || {};\n",
       "                    \n",
       "                if (document.getElementById(\"ad7b6099-080f-4295-ac75-970e0a449e66\")) {\n",
       "                    Plotly.newPlot(\n",
       "                        'ad7b6099-080f-4295-ac75-970e0a449e66',\n",
       "                        [{\"name\": \"real data\", \"type\": \"scatter\", \"x\": [\"2022-04-04 15:36\", \"2022-04-04 15:37\", \"2022-04-04 15:38\", \"2022-04-04 15:39\", \"2022-04-04 15:40\", \"2022-04-04 15:41\", \"2022-04-04 15:42\", \"2022-04-04 15:43\", \"2022-04-04 15:44\", \"2022-04-04 15:45\", \"2022-04-04 15:46\", \"2022-04-04 15:47\", \"2022-04-04 15:48\", \"2022-04-04 15:49\"], \"xaxis\": \"x\", \"y\": [-3.3794548456533846e-05, -0.00035244077305229826, -0.00024631255614482317, -0.00029468171958857425, 0.00025611040774720095, 0.0002898620739630875, -0.0005186423897032277, -0.0006359701298800369, 0.0003578059724587135, 4.646188795986994e-05, 0.0007171956399869561, 0.00027529848151153224, 0.0006403152990028804, 0.00023161818658756772], \"yaxis\": \"y\"}, {\"name\": \"predictions\", \"type\": \"scatter\", \"x\": [\"2022-04-04 15:36\", \"2022-04-04 15:37\", \"2022-04-04 15:38\", \"2022-04-04 15:39\", \"2022-04-04 15:40\", \"2022-04-04 15:41\", \"2022-04-04 15:42\", \"2022-04-04 15:43\", \"2022-04-04 15:44\", \"2022-04-04 15:45\", \"2022-04-04 15:46\", \"2022-04-04 15:47\", \"2022-04-04 15:48\", \"2022-04-04 15:49\"], \"xaxis\": \"x\", \"y\": [-4.449427412281354e-05, -4.4299805651234416e-05, -2.7767997016182975e-05, -1.5178646548675461e-05, -3.4776310029078114e-05, -2.3220709834315284e-05, -2.6065601932758722e-05, -5.858775430832944e-05, -2.3220709834315284e-05, -2.9459016203467923e-05, -2.3220709834315284e-05, -2.9459016203467923e-05, -2.3220709834315284e-05, -2.9459016203467923e-05], \"yaxis\": \"y2\"}],\n",
       "                        {\"template\": {\"data\": {\"bar\": [{\"error_x\": {\"color\": \"#2a3f5f\"}, \"error_y\": {\"color\": \"#2a3f5f\"}, \"marker\": {\"line\": {\"color\": \"#E5ECF6\", \"width\": 0.5}}, \"type\": \"bar\"}], \"barpolar\": [{\"marker\": {\"line\": {\"color\": \"#E5ECF6\", \"width\": 0.5}}, \"type\": \"barpolar\"}], \"carpet\": [{\"aaxis\": {\"endlinecolor\": \"#2a3f5f\", \"gridcolor\": \"white\", \"linecolor\": \"white\", \"minorgridcolor\": \"white\", \"startlinecolor\": \"#2a3f5f\"}, \"baxis\": {\"endlinecolor\": \"#2a3f5f\", \"gridcolor\": \"white\", \"linecolor\": \"white\", \"minorgridcolor\": \"white\", \"startlinecolor\": \"#2a3f5f\"}, \"type\": \"carpet\"}], \"choropleth\": [{\"colorbar\": {\"outlinewidth\": 0, \"ticks\": \"\"}, \"type\": \"choropleth\"}], \"contour\": [{\"colorbar\": {\"outlinewidth\": 0, \"ticks\": \"\"}, \"colorscale\": [[0.0, \"#0d0887\"], [0.1111111111111111, \"#46039f\"], [0.2222222222222222, \"#7201a8\"], [0.3333333333333333, \"#9c179e\"], [0.4444444444444444, \"#bd3786\"], [0.5555555555555556, \"#d8576b\"], [0.6666666666666666, \"#ed7953\"], [0.7777777777777778, \"#fb9f3a\"], [0.8888888888888888, \"#fdca26\"], [1.0, \"#f0f921\"]], \"type\": \"contour\"}], \"contourcarpet\": [{\"colorbar\": {\"outlinewidth\": 0, \"ticks\": \"\"}, \"type\": \"contourcarpet\"}], \"heatmap\": [{\"colorbar\": {\"outlinewidth\": 0, \"ticks\": \"\"}, \"colorscale\": [[0.0, \"#0d0887\"], [0.1111111111111111, \"#46039f\"], [0.2222222222222222, \"#7201a8\"], [0.3333333333333333, \"#9c179e\"], [0.4444444444444444, \"#bd3786\"], [0.5555555555555556, \"#d8576b\"], [0.6666666666666666, \"#ed7953\"], [0.7777777777777778, \"#fb9f3a\"], [0.8888888888888888, \"#fdca26\"], [1.0, \"#f0f921\"]], \"type\": \"heatmap\"}], \"heatmapgl\": [{\"colorbar\": {\"outlinewidth\": 0, \"ticks\": \"\"}, \"colorscale\": [[0.0, \"#0d0887\"], [0.1111111111111111, \"#46039f\"], [0.2222222222222222, \"#7201a8\"], [0.3333333333333333, \"#9c179e\"], [0.4444444444444444, \"#bd3786\"], [0.5555555555555556, \"#d8576b\"], [0.6666666666666666, \"#ed7953\"], [0.7777777777777778, \"#fb9f3a\"], [0.8888888888888888, \"#fdca26\"], [1.0, \"#f0f921\"]], \"type\": \"heatmapgl\"}], \"histogram\": [{\"marker\": {\"colorbar\": {\"outlinewidth\": 0, \"ticks\": \"\"}}, \"type\": \"histogram\"}], \"histogram2d\": [{\"colorbar\": {\"outlinewidth\": 0, \"ticks\": \"\"}, \"colorscale\": [[0.0, \"#0d0887\"], [0.1111111111111111, \"#46039f\"], [0.2222222222222222, \"#7201a8\"], [0.3333333333333333, \"#9c179e\"], [0.4444444444444444, \"#bd3786\"], [0.5555555555555556, \"#d8576b\"], [0.6666666666666666, \"#ed7953\"], [0.7777777777777778, \"#fb9f3a\"], [0.8888888888888888, \"#fdca26\"], [1.0, \"#f0f921\"]], \"type\": \"histogram2d\"}], \"histogram2dcontour\": [{\"colorbar\": {\"outlinewidth\": 0, \"ticks\": \"\"}, \"colorscale\": [[0.0, \"#0d0887\"], [0.1111111111111111, \"#46039f\"], [0.2222222222222222, \"#7201a8\"], [0.3333333333333333, \"#9c179e\"], [0.4444444444444444, \"#bd3786\"], [0.5555555555555556, \"#d8576b\"], [0.6666666666666666, \"#ed7953\"], [0.7777777777777778, \"#fb9f3a\"], [0.8888888888888888, \"#fdca26\"], [1.0, \"#f0f921\"]], \"type\": \"histogram2dcontour\"}], \"mesh3d\": [{\"colorbar\": {\"outlinewidth\": 0, \"ticks\": \"\"}, \"type\": \"mesh3d\"}], \"parcoords\": [{\"line\": {\"colorbar\": {\"outlinewidth\": 0, \"ticks\": \"\"}}, \"type\": \"parcoords\"}], \"pie\": [{\"automargin\": true, \"type\": \"pie\"}], \"scatter\": [{\"marker\": {\"colorbar\": {\"outlinewidth\": 0, \"ticks\": \"\"}}, \"type\": \"scatter\"}], \"scatter3d\": [{\"line\": {\"colorbar\": {\"outlinewidth\": 0, \"ticks\": \"\"}}, \"marker\": {\"colorbar\": {\"outlinewidth\": 0, \"ticks\": \"\"}}, \"type\": \"scatter3d\"}], \"scattercarpet\": [{\"marker\": {\"colorbar\": {\"outlinewidth\": 0, \"ticks\": \"\"}}, \"type\": \"scattercarpet\"}], \"scattergeo\": [{\"marker\": {\"colorbar\": {\"outlinewidth\": 0, \"ticks\": \"\"}}, \"type\": \"scattergeo\"}], \"scattergl\": [{\"marker\": {\"colorbar\": {\"outlinewidth\": 0, \"ticks\": \"\"}}, \"type\": \"scattergl\"}], \"scattermapbox\": [{\"marker\": {\"colorbar\": {\"outlinewidth\": 0, \"ticks\": \"\"}}, \"type\": \"scattermapbox\"}], \"scatterpolar\": [{\"marker\": {\"colorbar\": {\"outlinewidth\": 0, \"ticks\": \"\"}}, \"type\": \"scatterpolar\"}], \"scatterpolargl\": [{\"marker\": {\"colorbar\": {\"outlinewidth\": 0, \"ticks\": \"\"}}, \"type\": \"scatterpolargl\"}], \"scatterternary\": [{\"marker\": {\"colorbar\": {\"outlinewidth\": 0, \"ticks\": \"\"}}, \"type\": \"scatterternary\"}], \"surface\": [{\"colorbar\": {\"outlinewidth\": 0, \"ticks\": \"\"}, \"colorscale\": [[0.0, \"#0d0887\"], [0.1111111111111111, \"#46039f\"], [0.2222222222222222, \"#7201a8\"], [0.3333333333333333, \"#9c179e\"], [0.4444444444444444, \"#bd3786\"], [0.5555555555555556, \"#d8576b\"], [0.6666666666666666, \"#ed7953\"], [0.7777777777777778, \"#fb9f3a\"], [0.8888888888888888, \"#fdca26\"], [1.0, \"#f0f921\"]], \"type\": \"surface\"}], \"table\": [{\"cells\": {\"fill\": {\"color\": \"#EBF0F8\"}, \"line\": {\"color\": \"white\"}}, \"header\": {\"fill\": {\"color\": \"#C8D4E3\"}, \"line\": {\"color\": \"white\"}}, \"type\": \"table\"}]}, \"layout\": {\"annotationdefaults\": {\"arrowcolor\": \"#2a3f5f\", \"arrowhead\": 0, \"arrowwidth\": 1}, \"coloraxis\": {\"colorbar\": {\"outlinewidth\": 0, \"ticks\": \"\"}}, \"colorscale\": {\"diverging\": [[0, \"#8e0152\"], [0.1, \"#c51b7d\"], [0.2, \"#de77ae\"], [0.3, \"#f1b6da\"], [0.4, \"#fde0ef\"], [0.5, \"#f7f7f7\"], [0.6, \"#e6f5d0\"], [0.7, \"#b8e186\"], [0.8, \"#7fbc41\"], [0.9, \"#4d9221\"], [1, \"#276419\"]], \"sequential\": [[0.0, \"#0d0887\"], [0.1111111111111111, \"#46039f\"], [0.2222222222222222, \"#7201a8\"], [0.3333333333333333, \"#9c179e\"], [0.4444444444444444, \"#bd3786\"], [0.5555555555555556, \"#d8576b\"], [0.6666666666666666, \"#ed7953\"], [0.7777777777777778, \"#fb9f3a\"], [0.8888888888888888, \"#fdca26\"], [1.0, \"#f0f921\"]], \"sequentialminus\": [[0.0, \"#0d0887\"], [0.1111111111111111, \"#46039f\"], [0.2222222222222222, \"#7201a8\"], [0.3333333333333333, \"#9c179e\"], [0.4444444444444444, \"#bd3786\"], [0.5555555555555556, \"#d8576b\"], [0.6666666666666666, \"#ed7953\"], [0.7777777777777778, \"#fb9f3a\"], [0.8888888888888888, \"#fdca26\"], [1.0, \"#f0f921\"]]}, \"colorway\": [\"#636efa\", \"#EF553B\", \"#00cc96\", \"#ab63fa\", \"#FFA15A\", \"#19d3f3\", \"#FF6692\", \"#B6E880\", \"#FF97FF\", \"#FECB52\"], \"font\": {\"color\": \"#2a3f5f\"}, \"geo\": {\"bgcolor\": \"white\", \"lakecolor\": \"white\", \"landcolor\": \"#E5ECF6\", \"showlakes\": true, \"showland\": true, \"subunitcolor\": \"white\"}, \"hoverlabel\": {\"align\": \"left\"}, \"hovermode\": \"closest\", \"mapbox\": {\"style\": \"light\"}, \"paper_bgcolor\": \"white\", \"plot_bgcolor\": \"#E5ECF6\", \"polar\": {\"angularaxis\": {\"gridcolor\": \"white\", \"linecolor\": \"white\", \"ticks\": \"\"}, \"bgcolor\": \"#E5ECF6\", \"radialaxis\": {\"gridcolor\": \"white\", \"linecolor\": \"white\", \"ticks\": \"\"}}, \"scene\": {\"xaxis\": {\"backgroundcolor\": \"#E5ECF6\", \"gridcolor\": \"white\", \"gridwidth\": 2, \"linecolor\": \"white\", \"showbackground\": true, \"ticks\": \"\", \"zerolinecolor\": \"white\"}, \"yaxis\": {\"backgroundcolor\": \"#E5ECF6\", \"gridcolor\": \"white\", \"gridwidth\": 2, \"linecolor\": \"white\", \"showbackground\": true, \"ticks\": \"\", \"zerolinecolor\": \"white\"}, \"zaxis\": {\"backgroundcolor\": \"#E5ECF6\", \"gridcolor\": \"white\", \"gridwidth\": 2, \"linecolor\": \"white\", \"showbackground\": true, \"ticks\": \"\", \"zerolinecolor\": \"white\"}}, \"shapedefaults\": {\"line\": {\"color\": \"#2a3f5f\"}}, \"ternary\": {\"aaxis\": {\"gridcolor\": \"white\", \"linecolor\": \"white\", \"ticks\": \"\"}, \"baxis\": {\"gridcolor\": \"white\", \"linecolor\": \"white\", \"ticks\": \"\"}, \"bgcolor\": \"#E5ECF6\", \"caxis\": {\"gridcolor\": \"white\", \"linecolor\": \"white\", \"ticks\": \"\"}}, \"title\": {\"x\": 0.05}, \"xaxis\": {\"automargin\": true, \"gridcolor\": \"white\", \"linecolor\": \"white\", \"ticks\": \"\", \"title\": {\"standoff\": 15}, \"zerolinecolor\": \"white\", \"zerolinewidth\": 2}, \"yaxis\": {\"automargin\": true, \"gridcolor\": \"white\", \"linecolor\": \"white\", \"ticks\": \"\", \"title\": {\"standoff\": 15}, \"zerolinecolor\": \"white\", \"zerolinewidth\": 2}}}, \"title\": {\"text\": \"BRK-A predictions\"}, \"xaxis\": {\"anchor\": \"y\", \"domain\": [0.0, 0.94], \"title\": {\"text\": \"minutes\"}}, \"yaxis\": {\"anchor\": \"x\", \"domain\": [0.0, 1.0], \"title\": {\"text\": \"<b>real data</b>\"}}, \"yaxis2\": {\"anchor\": \"x\", \"overlaying\": \"y\", \"side\": \"right\", \"title\": {\"text\": \"<b>predictions</b>\"}}},\n",
       "                        {\"responsive\": true}\n",
       "                    ).then(function(){\n",
       "                            \n",
       "var gd = document.getElementById('ad7b6099-080f-4295-ac75-970e0a449e66');\n",
       "var x = new MutationObserver(function (mutations, observer) {{\n",
       "        var display = window.getComputedStyle(gd).display;\n",
       "        if (!display || display === 'none') {{\n",
       "            console.log([gd, 'removed!']);\n",
       "            Plotly.purge(gd);\n",
       "            observer.disconnect();\n",
       "        }}\n",
       "}});\n",
       "\n",
       "// Listen for the removal of the full notebook cells\n",
       "var notebookContainer = gd.closest('#notebook-container');\n",
       "if (notebookContainer) {{\n",
       "    x.observe(notebookContainer, {childList: true});\n",
       "}}\n",
       "\n",
       "// Listen for the clearing of the current output cell\n",
       "var outputEl = gd.closest('.output');\n",
       "if (outputEl) {{\n",
       "    x.observe(outputEl, {childList: true});\n",
       "}}\n",
       "\n",
       "                        })\n",
       "                };\n",
       "                });\n",
       "            </script>\n",
       "        </div>"
      ]
     },
     "metadata": {},
     "output_type": "display_data"
    }
   ],
   "source": [
    "fig = make_subplots(specs=[[{\"secondary_y\": True}]])\n",
    "\n",
    "fig.add_trace(\n",
    "    go.Scatter(y=result['Close'], x=result.index, name=\"real data\"),\n",
    "    secondary_y=False,\n",
    ")\n",
    "\n",
    "fig.add_trace(\n",
    "    go.Scatter(y=result['pred'], x=result.index, name=\"predictions\"),\n",
    "    secondary_y=True,\n",
    ")\n",
    "\n",
    "fig.update_layout(\n",
    "    title_text=\"BRK-A predictions\"\n",
    ")\n",
    "\n",
    "fig.update_xaxes(title_text=\"minutes\")\n",
    "\n",
    "fig.update_yaxes(title_text=\"<b>real data</b>\", secondary_y=False)\n",
    "fig.update_yaxes(title_text=\"<b>predictions</b>\", secondary_y=True)\n",
    "\n",
    "fig.show()"
   ]
  }
 ],
 "metadata": {
  "kernelspec": {
   "display_name": "Python 3",
   "language": "python",
   "name": "python3"
  },
  "language_info": {
   "codemirror_mode": {
    "name": "ipython",
    "version": 3
   },
   "file_extension": ".py",
   "mimetype": "text/x-python",
   "name": "python",
   "nbconvert_exporter": "python",
   "pygments_lexer": "ipython3",
   "version": "3.7.4"
  }
 },
 "nbformat": 4,
 "nbformat_minor": 2
}
